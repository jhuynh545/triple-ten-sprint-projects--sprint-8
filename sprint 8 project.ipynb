{
 "cells": [
  {
   "cell_type": "markdown",
   "metadata": {},
   "source": [
    "# BetaBank \n",
    "Beta Bank customers are leaving each month, little by little. The bankers have decided that it is easier to save existing customers rather than bringing in new ones. We are predicting whether or not a client will leave soon. Let's go!"
   ]
  },
  {
   "cell_type": "code",
   "execution_count": 1,
   "metadata": {},
   "outputs": [],
   "source": [
    "# Import \n",
    "import pandas as pd\n",
    "import numpy as np\n",
    "import matplotlib.pyplot as plt\n",
    "import seaborn as sns\n",
    "from sklearn.model_selection import train_test_split\n",
    "from sklearn.linear_model import LogisticRegression\n",
    "from sklearn.metrics import classification_report, confusion_matrix, accuracy_score, roc_auc_score, roc_curve, f1_score, make_scorer\n",
    "from sklearn.ensemble import RandomForestClassifier\n",
    "from sklearn.model_selection import GridSearchCV\n",
    "from sklearn.utils import resample\n",
    "from sklearn.preprocessing import StandardScaler\n",
    "from sklearn.tree import DecisionTreeClassifier"
   ]
  },
  {
   "cell_type": "code",
   "execution_count": 2,
   "metadata": {},
   "outputs": [],
   "source": [
    "beta_bank = pd.read_csv('/datasets/Churn.csv')"
   ]
  },
  {
   "cell_type": "code",
   "execution_count": 3,
   "metadata": {},
   "outputs": [
    {
     "name": "stdout",
     "output_type": "stream",
     "text": [
      "<class 'pandas.core.frame.DataFrame'>\n",
      "RangeIndex: 10000 entries, 0 to 9999\n",
      "Data columns (total 14 columns):\n",
      " #   Column           Non-Null Count  Dtype  \n",
      "---  ------           --------------  -----  \n",
      " 0   RowNumber        10000 non-null  int64  \n",
      " 1   CustomerId       10000 non-null  int64  \n",
      " 2   Surname          10000 non-null  object \n",
      " 3   CreditScore      10000 non-null  int64  \n",
      " 4   Geography        10000 non-null  object \n",
      " 5   Gender           10000 non-null  object \n",
      " 6   Age              10000 non-null  int64  \n",
      " 7   Tenure           9091 non-null   float64\n",
      " 8   Balance          10000 non-null  float64\n",
      " 9   NumOfProducts    10000 non-null  int64  \n",
      " 10  HasCrCard        10000 non-null  int64  \n",
      " 11  IsActiveMember   10000 non-null  int64  \n",
      " 12  EstimatedSalary  10000 non-null  float64\n",
      " 13  Exited           10000 non-null  int64  \n",
      "dtypes: float64(3), int64(8), object(3)\n",
      "memory usage: 1.1+ MB\n"
     ]
    }
   ],
   "source": [
    "beta_bank.info()"
   ]
  },
  {
   "cell_type": "code",
   "execution_count": 4,
   "metadata": {},
   "outputs": [
    {
     "data": {
      "text/html": [
       "<div>\n",
       "<style scoped>\n",
       "    .dataframe tbody tr th:only-of-type {\n",
       "        vertical-align: middle;\n",
       "    }\n",
       "\n",
       "    .dataframe tbody tr th {\n",
       "        vertical-align: top;\n",
       "    }\n",
       "\n",
       "    .dataframe thead th {\n",
       "        text-align: right;\n",
       "    }\n",
       "</style>\n",
       "<table border=\"1\" class=\"dataframe\">\n",
       "  <thead>\n",
       "    <tr style=\"text-align: right;\">\n",
       "      <th></th>\n",
       "      <th>RowNumber</th>\n",
       "      <th>CustomerId</th>\n",
       "      <th>Surname</th>\n",
       "      <th>CreditScore</th>\n",
       "      <th>Geography</th>\n",
       "      <th>Gender</th>\n",
       "      <th>Age</th>\n",
       "      <th>Tenure</th>\n",
       "      <th>Balance</th>\n",
       "      <th>NumOfProducts</th>\n",
       "      <th>HasCrCard</th>\n",
       "      <th>IsActiveMember</th>\n",
       "      <th>EstimatedSalary</th>\n",
       "      <th>Exited</th>\n",
       "    </tr>\n",
       "  </thead>\n",
       "  <tbody>\n",
       "    <tr>\n",
       "      <th>0</th>\n",
       "      <td>1</td>\n",
       "      <td>15634602</td>\n",
       "      <td>Hargrave</td>\n",
       "      <td>619</td>\n",
       "      <td>France</td>\n",
       "      <td>Female</td>\n",
       "      <td>42</td>\n",
       "      <td>2.0</td>\n",
       "      <td>0.00</td>\n",
       "      <td>1</td>\n",
       "      <td>1</td>\n",
       "      <td>1</td>\n",
       "      <td>101348.88</td>\n",
       "      <td>1</td>\n",
       "    </tr>\n",
       "    <tr>\n",
       "      <th>1</th>\n",
       "      <td>2</td>\n",
       "      <td>15647311</td>\n",
       "      <td>Hill</td>\n",
       "      <td>608</td>\n",
       "      <td>Spain</td>\n",
       "      <td>Female</td>\n",
       "      <td>41</td>\n",
       "      <td>1.0</td>\n",
       "      <td>83807.86</td>\n",
       "      <td>1</td>\n",
       "      <td>0</td>\n",
       "      <td>1</td>\n",
       "      <td>112542.58</td>\n",
       "      <td>0</td>\n",
       "    </tr>\n",
       "    <tr>\n",
       "      <th>2</th>\n",
       "      <td>3</td>\n",
       "      <td>15619304</td>\n",
       "      <td>Onio</td>\n",
       "      <td>502</td>\n",
       "      <td>France</td>\n",
       "      <td>Female</td>\n",
       "      <td>42</td>\n",
       "      <td>8.0</td>\n",
       "      <td>159660.80</td>\n",
       "      <td>3</td>\n",
       "      <td>1</td>\n",
       "      <td>0</td>\n",
       "      <td>113931.57</td>\n",
       "      <td>1</td>\n",
       "    </tr>\n",
       "    <tr>\n",
       "      <th>3</th>\n",
       "      <td>4</td>\n",
       "      <td>15701354</td>\n",
       "      <td>Boni</td>\n",
       "      <td>699</td>\n",
       "      <td>France</td>\n",
       "      <td>Female</td>\n",
       "      <td>39</td>\n",
       "      <td>1.0</td>\n",
       "      <td>0.00</td>\n",
       "      <td>2</td>\n",
       "      <td>0</td>\n",
       "      <td>0</td>\n",
       "      <td>93826.63</td>\n",
       "      <td>0</td>\n",
       "    </tr>\n",
       "    <tr>\n",
       "      <th>4</th>\n",
       "      <td>5</td>\n",
       "      <td>15737888</td>\n",
       "      <td>Mitchell</td>\n",
       "      <td>850</td>\n",
       "      <td>Spain</td>\n",
       "      <td>Female</td>\n",
       "      <td>43</td>\n",
       "      <td>2.0</td>\n",
       "      <td>125510.82</td>\n",
       "      <td>1</td>\n",
       "      <td>1</td>\n",
       "      <td>1</td>\n",
       "      <td>79084.10</td>\n",
       "      <td>0</td>\n",
       "    </tr>\n",
       "  </tbody>\n",
       "</table>\n",
       "</div>"
      ],
      "text/plain": [
       "   RowNumber  CustomerId   Surname  CreditScore Geography  Gender  Age  \\\n",
       "0          1    15634602  Hargrave          619    France  Female   42   \n",
       "1          2    15647311      Hill          608     Spain  Female   41   \n",
       "2          3    15619304      Onio          502    France  Female   42   \n",
       "3          4    15701354      Boni          699    France  Female   39   \n",
       "4          5    15737888  Mitchell          850     Spain  Female   43   \n",
       "\n",
       "   Tenure    Balance  NumOfProducts  HasCrCard  IsActiveMember  \\\n",
       "0     2.0       0.00              1          1               1   \n",
       "1     1.0   83807.86              1          0               1   \n",
       "2     8.0  159660.80              3          1               0   \n",
       "3     1.0       0.00              2          0               0   \n",
       "4     2.0  125510.82              1          1               1   \n",
       "\n",
       "   EstimatedSalary  Exited  \n",
       "0        101348.88       1  \n",
       "1        112542.58       0  \n",
       "2        113931.57       1  \n",
       "3         93826.63       0  \n",
       "4         79084.10       0  "
      ]
     },
     "execution_count": 4,
     "metadata": {},
     "output_type": "execute_result"
    }
   ],
   "source": [
    "beta_bank.head()"
   ]
  },
  {
   "cell_type": "code",
   "execution_count": 5,
   "metadata": {},
   "outputs": [
    {
     "data": {
      "text/html": [
       "<div>\n",
       "<style scoped>\n",
       "    .dataframe tbody tr th:only-of-type {\n",
       "        vertical-align: middle;\n",
       "    }\n",
       "\n",
       "    .dataframe tbody tr th {\n",
       "        vertical-align: top;\n",
       "    }\n",
       "\n",
       "    .dataframe thead th {\n",
       "        text-align: right;\n",
       "    }\n",
       "</style>\n",
       "<table border=\"1\" class=\"dataframe\">\n",
       "  <thead>\n",
       "    <tr style=\"text-align: right;\">\n",
       "      <th></th>\n",
       "      <th>RowNumber</th>\n",
       "      <th>CustomerId</th>\n",
       "      <th>Surname</th>\n",
       "      <th>CreditScore</th>\n",
       "      <th>Geography</th>\n",
       "      <th>Gender</th>\n",
       "      <th>Age</th>\n",
       "      <th>Tenure</th>\n",
       "      <th>Balance</th>\n",
       "      <th>NumOfProducts</th>\n",
       "      <th>HasCrCard</th>\n",
       "      <th>IsActiveMember</th>\n",
       "      <th>EstimatedSalary</th>\n",
       "      <th>Exited</th>\n",
       "    </tr>\n",
       "  </thead>\n",
       "  <tbody>\n",
       "    <tr>\n",
       "      <th>9995</th>\n",
       "      <td>9996</td>\n",
       "      <td>15606229</td>\n",
       "      <td>Obijiaku</td>\n",
       "      <td>771</td>\n",
       "      <td>France</td>\n",
       "      <td>Male</td>\n",
       "      <td>39</td>\n",
       "      <td>5.0</td>\n",
       "      <td>0.00</td>\n",
       "      <td>2</td>\n",
       "      <td>1</td>\n",
       "      <td>0</td>\n",
       "      <td>96270.64</td>\n",
       "      <td>0</td>\n",
       "    </tr>\n",
       "    <tr>\n",
       "      <th>9996</th>\n",
       "      <td>9997</td>\n",
       "      <td>15569892</td>\n",
       "      <td>Johnstone</td>\n",
       "      <td>516</td>\n",
       "      <td>France</td>\n",
       "      <td>Male</td>\n",
       "      <td>35</td>\n",
       "      <td>10.0</td>\n",
       "      <td>57369.61</td>\n",
       "      <td>1</td>\n",
       "      <td>1</td>\n",
       "      <td>1</td>\n",
       "      <td>101699.77</td>\n",
       "      <td>0</td>\n",
       "    </tr>\n",
       "    <tr>\n",
       "      <th>9997</th>\n",
       "      <td>9998</td>\n",
       "      <td>15584532</td>\n",
       "      <td>Liu</td>\n",
       "      <td>709</td>\n",
       "      <td>France</td>\n",
       "      <td>Female</td>\n",
       "      <td>36</td>\n",
       "      <td>7.0</td>\n",
       "      <td>0.00</td>\n",
       "      <td>1</td>\n",
       "      <td>0</td>\n",
       "      <td>1</td>\n",
       "      <td>42085.58</td>\n",
       "      <td>1</td>\n",
       "    </tr>\n",
       "    <tr>\n",
       "      <th>9998</th>\n",
       "      <td>9999</td>\n",
       "      <td>15682355</td>\n",
       "      <td>Sabbatini</td>\n",
       "      <td>772</td>\n",
       "      <td>Germany</td>\n",
       "      <td>Male</td>\n",
       "      <td>42</td>\n",
       "      <td>3.0</td>\n",
       "      <td>75075.31</td>\n",
       "      <td>2</td>\n",
       "      <td>1</td>\n",
       "      <td>0</td>\n",
       "      <td>92888.52</td>\n",
       "      <td>1</td>\n",
       "    </tr>\n",
       "    <tr>\n",
       "      <th>9999</th>\n",
       "      <td>10000</td>\n",
       "      <td>15628319</td>\n",
       "      <td>Walker</td>\n",
       "      <td>792</td>\n",
       "      <td>France</td>\n",
       "      <td>Female</td>\n",
       "      <td>28</td>\n",
       "      <td>NaN</td>\n",
       "      <td>130142.79</td>\n",
       "      <td>1</td>\n",
       "      <td>1</td>\n",
       "      <td>0</td>\n",
       "      <td>38190.78</td>\n",
       "      <td>0</td>\n",
       "    </tr>\n",
       "  </tbody>\n",
       "</table>\n",
       "</div>"
      ],
      "text/plain": [
       "      RowNumber  CustomerId    Surname  CreditScore Geography  Gender  Age  \\\n",
       "9995       9996    15606229   Obijiaku          771    France    Male   39   \n",
       "9996       9997    15569892  Johnstone          516    France    Male   35   \n",
       "9997       9998    15584532        Liu          709    France  Female   36   \n",
       "9998       9999    15682355  Sabbatini          772   Germany    Male   42   \n",
       "9999      10000    15628319     Walker          792    France  Female   28   \n",
       "\n",
       "      Tenure    Balance  NumOfProducts  HasCrCard  IsActiveMember  \\\n",
       "9995     5.0       0.00              2          1               0   \n",
       "9996    10.0   57369.61              1          1               1   \n",
       "9997     7.0       0.00              1          0               1   \n",
       "9998     3.0   75075.31              2          1               0   \n",
       "9999     NaN  130142.79              1          1               0   \n",
       "\n",
       "      EstimatedSalary  Exited  \n",
       "9995         96270.64       0  \n",
       "9996        101699.77       0  \n",
       "9997         42085.58       1  \n",
       "9998         92888.52       1  \n",
       "9999         38190.78       0  "
      ]
     },
     "execution_count": 5,
     "metadata": {},
     "output_type": "execute_result"
    }
   ],
   "source": [
    "beta_bank.tail()"
   ]
  },
  {
   "cell_type": "code",
   "execution_count": 6,
   "metadata": {},
   "outputs": [
    {
     "data": {
      "text/plain": [
       "RowNumber            0\n",
       "CustomerId           0\n",
       "Surname              0\n",
       "CreditScore          0\n",
       "Geography            0\n",
       "Gender               0\n",
       "Age                  0\n",
       "Tenure             909\n",
       "Balance              0\n",
       "NumOfProducts        0\n",
       "HasCrCard            0\n",
       "IsActiveMember       0\n",
       "EstimatedSalary      0\n",
       "Exited               0\n",
       "dtype: int64"
      ]
     },
     "execution_count": 6,
     "metadata": {},
     "output_type": "execute_result"
    }
   ],
   "source": [
    "beta_bank.isna().sum()"
   ]
  },
  {
   "cell_type": "code",
   "execution_count": 7,
   "metadata": {},
   "outputs": [
    {
     "data": {
      "text/plain": [
       "0"
      ]
     },
     "execution_count": 7,
     "metadata": {},
     "output_type": "execute_result"
    }
   ],
   "source": [
    "beta_bank.duplicated().sum()"
   ]
  },
  {
   "cell_type": "markdown",
   "metadata": {},
   "source": [
    "### Summary on dataframe\n",
    "- There are 10,000 clients.\n",
    "- The first 5 and last 5 rows have been displayed.\n",
    "- There are missing values in the Tenure column. We will take care of that farther down.\n",
    "- There are zero duplicated rows."
   ]
  },
  {
   "cell_type": "markdown",
   "metadata": {},
   "source": [
    "I did not find any duplicates in CustomerId"
   ]
  },
  {
   "cell_type": "code",
   "execution_count": 8,
   "metadata": {},
   "outputs": [
    {
     "name": "stdout",
     "output_type": "stream",
     "text": [
      "Number of duplicate CustomerId values: 0\n"
     ]
    }
   ],
   "source": [
    "num_duplicates = beta_bank['CustomerId'].duplicated().sum()\n",
    "print(f\"Number of duplicate CustomerId values: {num_duplicates}\")"
   ]
  },
  {
   "cell_type": "markdown",
   "metadata": {},
   "source": [
    "## Cleaning data\n"
   ]
  },
  {
   "cell_type": "code",
   "execution_count": 9,
   "metadata": {},
   "outputs": [
    {
     "data": {
      "text/plain": [
       "RowNumber          0\n",
       "CustomerId         0\n",
       "Surname            0\n",
       "CreditScore        0\n",
       "Geography          0\n",
       "Gender             0\n",
       "Age                0\n",
       "Tenure             0\n",
       "Balance            0\n",
       "NumOfProducts      0\n",
       "HasCrCard          0\n",
       "IsActiveMember     0\n",
       "EstimatedSalary    0\n",
       "Exited             0\n",
       "dtype: int64"
      ]
     },
     "metadata": {},
     "output_type": "display_data"
    }
   ],
   "source": [
    "# Drop rows where 'Tenure' column has NaN values\n",
    "beta_bank = beta_bank.dropna(subset=['Tenure'])\n",
    "display(beta_bank.isna().sum())"
   ]
  },
  {
   "cell_type": "code",
   "execution_count": 10,
   "metadata": {},
   "outputs": [
    {
     "data": {
      "text/plain": [
       "RowNumber             int64\n",
       "CustomerId            int64\n",
       "Surname              object\n",
       "CreditScore           int64\n",
       "Geography          category\n",
       "Gender             category\n",
       "Age                   int64\n",
       "Tenure                int64\n",
       "Balance             float64\n",
       "NumOfProducts         int64\n",
       "HasCrCard              bool\n",
       "IsActiveMember         bool\n",
       "EstimatedSalary     float64\n",
       "Exited                 bool\n",
       "dtype: object"
      ]
     },
     "metadata": {},
     "output_type": "display_data"
    }
   ],
   "source": [
    "# Change the datatypes to make sense\n",
    "\n",
    "# Convert Geography and Gender to categorical\n",
    "beta_bank['Geography'] = beta_bank['Geography'].astype('category')\n",
    "beta_bank['Gender'] = beta_bank['Gender'].astype('category')\n",
    "\n",
    "# Convert HasCrCard and IsActiveMember to boolean\n",
    "beta_bank['HasCrCard'] = beta_bank['HasCrCard'].astype(bool)\n",
    "beta_bank['IsActiveMember'] = beta_bank['IsActiveMember'].astype(bool)\n",
    "\n",
    "# Convert Exited to boolean\n",
    "beta_bank['Exited'] = beta_bank['Exited'].astype(bool)\n",
    "\n",
    "# Filling missing values with median and converting to int\n",
    "beta_bank['Tenure'] = beta_bank['Tenure'].fillna(beta_bank['Tenure'].median()).astype(int)  \n",
    "\n",
    "display(beta_bank.dtypes)"
   ]
  },
  {
   "cell_type": "markdown",
   "metadata": {},
   "source": [
    "- Rows that contained NaN values were dropped.\n",
    "- Datatypes were changed to better the process of testing."
   ]
  },
  {
   "cell_type": "markdown",
   "metadata": {},
   "source": [
    "## Examine the balance of classes. Train the model without taking into account the imbalance. Briefly describe your findings."
   ]
  },
  {
   "cell_type": "markdown",
   "metadata": {},
   "source": [
    "### Examine class balance"
   ]
  },
  {
   "cell_type": "code",
   "execution_count": 11,
   "metadata": {},
   "outputs": [
    {
     "name": "stdout",
     "output_type": "stream",
     "text": [
      "Class Balance:\n",
      " False    7237\n",
      "True     1854\n",
      "Name: Exited, dtype: int64\n",
      "Class Balance Percentage:\n",
      " False    79.606204\n",
      "True     20.393796\n",
      "Name: Exited, dtype: float64\n"
     ]
    }
   ],
   "source": [
    "# Check the distribution of the Exited column to understand the class balance\n",
    "class_balance = beta_bank['Exited'].value_counts()\n",
    "class_balance_percentage = beta_bank['Exited'].value_counts(normalize=True) * 100\n",
    "\n",
    "print(\"Class Balance:\\n\", class_balance)\n",
    "print(\"Class Balance Percentage:\\n\", class_balance_percentage)"
   ]
  },
  {
   "cell_type": "markdown",
   "metadata": {},
   "source": [
    "- 79.61% of people did not leave. \n",
    "- 20.39% of people did leave.\n",
    "- The dataset is imbalanced with a higher proportion of customers not exiting (79.61%) compared to those who did (20.39%)."
   ]
  },
  {
   "cell_type": "markdown",
   "metadata": {},
   "source": [
    "### Visuals of the distributions"
   ]
  },
  {
   "cell_type": "code",
   "execution_count": 12,
   "metadata": {},
   "outputs": [
    {
     "data": {
      "image/png": "[encoded data removed]",
      "text/plain": [
       "<Figure size 1500x500 with 3 Axes>"
      ]
     },
     "metadata": {},
     "output_type": "display_data"
    }
   ],
   "source": [
    "# Plot distributions\n",
    "plt.figure(figsize=(15, 5))\n",
    "\n",
    "# Balance\n",
    "plt.subplot(1, 3, 1)\n",
    "sns.histplot(beta_bank['Balance'], kde=True)\n",
    "plt.title('Distribution of Balance')\n",
    "plt.xlabel('Balance')\n",
    "plt.ylabel('Frequency')\n",
    "\n",
    "# Age\n",
    "plt.subplot(1, 3, 2)\n",
    "sns.histplot(beta_bank['Age'], kde=True)\n",
    "plt.title('Distribution of Age')\n",
    "plt.xlabel('Age')\n",
    "plt.ylabel('Frequency')\n",
    "\n",
    "# Estimated Salary\n",
    "plt.subplot(1, 3, 3)\n",
    "sns.histplot(beta_bank['EstimatedSalary'], kde=True)\n",
    "plt.title('Distribution of Estimated Salary')\n",
    "plt.xlabel('Estimated Salary')\n",
    "plt.ylabel('Frequency')\n",
    "\n",
    "plt.tight_layout()\n",
    "plt.show()"
   ]
  },
  {
   "cell_type": "code",
   "execution_count": 13,
   "metadata": {
    "scrolled": true
   },
   "outputs": [
    {
     "data": {
      "image/png": "[encoded data removed]",
      "text/plain": [
       "<Figure size 1500x500 with 3 Axes>"
      ]
     },
     "metadata": {},
     "output_type": "display_data"
    }
   ],
   "source": [
    "# Box plots\n",
    "plt.figure(figsize=(15, 5))\n",
    "\n",
    "# Balance\n",
    "plt.subplot(1, 3, 1)\n",
    "sns.boxplot(x=beta_bank['Balance'])\n",
    "plt.title('Box Plot of Balance')\n",
    "plt.xlabel('Balance')\n",
    "\n",
    "# Age\n",
    "plt.subplot(1, 3, 2)\n",
    "sns.boxplot(x=beta_bank['Age'])\n",
    "plt.title('Box Plot of Age')\n",
    "plt.xlabel('Age')\n",
    "\n",
    "# Estimated Salary\n",
    "plt.subplot(1, 3, 3)\n",
    "sns.boxplot(x=beta_bank['EstimatedSalary'])\n",
    "plt.title('Box Plot of Estimated Salary')\n",
    "plt.xlabel('Estimated Salary')\n",
    "\n",
    "plt.tight_layout()\n",
    "plt.show()"
   ]
  },
  {
   "cell_type": "code",
   "execution_count": 14,
   "metadata": {
    "scrolled": true
   },
   "outputs": [
    {
     "data": {
      "image/png": "[encoded data removed]",
      "text/plain": [
       "<Figure size 1500x500 with 3 Axes>"
      ]
     },
     "metadata": {},
     "output_type": "display_data"
    }
   ],
   "source": [
    "# Density plots\n",
    "plt.figure(figsize=(15, 5))\n",
    "\n",
    "# Balance\n",
    "plt.subplot(1, 3, 1)\n",
    "sns.kdeplot(beta_bank['Balance'], shade=True)\n",
    "plt.title('Density Plot of Balance')\n",
    "plt.xlabel('Balance')\n",
    "plt.ylabel('Density')\n",
    "\n",
    "# Age\n",
    "plt.subplot(1, 3, 2)\n",
    "sns.kdeplot(beta_bank['Age'], shade=True)\n",
    "plt.title('Density Plot of Age')\n",
    "plt.xlabel('Age')\n",
    "plt.ylabel('Density')\n",
    "\n",
    "# Estimated Salary\n",
    "plt.subplot(1, 3, 3)\n",
    "sns.kdeplot(beta_bank['EstimatedSalary'], shade=True)\n",
    "plt.title('Density Plot of Estimated Salary')\n",
    "plt.xlabel('Estimated Salary')\n",
    "plt.ylabel('Density')\n",
    "\n",
    "plt.tight_layout()\n",
    "plt.show()"
   ]
  },
  {
   "cell_type": "markdown",
   "metadata": {},
   "source": [
    "- The distribution of balance is more normal than not beside the outlier. \n",
    "- The distribution of age is skewed right also known as a positive skew.\n",
    "- The distribution for estimated salary ir very normal."
   ]
  },
  {
   "cell_type": "markdown",
   "metadata": {},
   "source": [
    "### Train the Model Without Accounting for Imbalance"
   ]
  },
  {
   "cell_type": "code",
   "execution_count": 15,
   "metadata": {},
   "outputs": [
    {
     "name": "stdout",
     "output_type": "stream",
     "text": [
      "Validation Set Confusion Matrix:\n",
      " [[1417   28]\n",
      " [ 357   17]]\n",
      "\n",
      "Validation Set Classification Report:\n",
      "               precision    recall  f1-score   support\n",
      "\n",
      "       False       0.80      0.98      0.88      1445\n",
      "        True       0.38      0.05      0.08       374\n",
      "\n",
      "    accuracy                           0.79      1819\n",
      "   macro avg       0.59      0.51      0.48      1819\n",
      "weighted avg       0.71      0.79      0.72      1819\n",
      "\n"
     ]
    }
   ],
   "source": [
    "# Prepare the features and target variable\n",
    "X = beta_bank.drop(columns=['Exited', 'Surname', 'RowNumber', 'CustomerId'])\n",
    "y = beta_bank['Exited']\n",
    "\n",
    "# Convert categorical variables to dummy variables\n",
    "X = pd.get_dummies(X, drop_first=True)\n",
    "\n",
    "# Split the data into training (80%) and validation (20%) sets\n",
    "X_train, X_val, y_train, y_val = train_test_split(X, y, test_size=0.2, random_state=42)\n",
    "\n",
    "# Initialize and train the model\n",
    "model = LogisticRegression(max_iter=1000)\n",
    "model.fit(X_train, y_train)\n",
    "\n",
    "# Make predictions\n",
    "y_val_pred = model.predict(X_val)\n",
    "\n",
    "# Evaluate the model on validation set\n",
    "print(\"Validation Set Confusion Matrix:\\n\", confusion_matrix(y_val, y_val_pred))\n",
    "print(\"\\nValidation Set Classification Report:\\n\", classification_report(y_val, y_val_pred))"
   ]
  },
  {
   "cell_type": "code",
   "execution_count": 16,
   "metadata": {},
   "outputs": [],
   "source": [
    "# Split into training + validation and test sets (80% training + validation, 20% test)\n",
    "train_valid, test = train_test_split(beta_bank, test_size=0.2, random_state=42, stratify=beta_bank['Exited'])\n",
    "\n",
    "# Split training + validation into training and validation sets (75% training, 25% validation)\n",
    "train, valid = train_test_split(train_valid, test_size=0.25, random_state=42, stratify=train_valid['Exited'])\n",
    "\n",
    "# Separate features and target for each split\n",
    "features_train = train.drop(['Exited'], axis=1)\n",
    "target_train = train['Exited']\n",
    "features_valid = valid.drop(['Exited'], axis=1)\n",
    "target_valid = valid['Exited']\n",
    "features_test = test.drop(['Exited'], axis=1)\n",
    "target_test = test['Exited']"
   ]
  },
  {
   "cell_type": "markdown",
   "metadata": {},
   "source": [
    "I added this above."
   ]
  },
  {
   "cell_type": "markdown",
   "metadata": {},
   "source": [
    "- Without addressing class imbalance, the model tends to perform well on the majority class (Class 0) but poorly on the minority class (Class 1). This indicates that while the overall accuracy might be acceptable, the model’s ability to correctly predict exited customers (Class 1) is limited. For better performance on the minority class, consider techniques like resampling (oversampling the minority class or undersampling the majority class), or using models and algorithms that handle class imbalance better.\n",
    "\n",
    "- This process ensures that you have 60% of the data for training, 20% for validation, and 20% for testing, adhering to the 3:1:1 proportion. By evaluating the model on both validation and test sets, you can get a better sense of its performance and generalization."
   ]
  },
  {
   "cell_type": "code",
   "execution_count": 17,
   "metadata": {},
   "outputs": [
    {
     "name": "stdout",
     "output_type": "stream",
     "text": [
      "Processed features_train shape: (5454, 2799)\n",
      "Processed features_valid shape: (1818, 2799)\n",
      "Processed features_test shape: (1819, 2799)\n",
      "target_train length: 5454\n",
      "target_valid length: 1818\n",
      "target_test length: 1819\n"
     ]
    }
   ],
   "source": [
    "# Combine all features for preprocessing\n",
    "all_features = pd.concat([features_train, features_valid, features_test], axis=0)\n",
    "all_features = pd.get_dummies(all_features, drop_first=True)\n",
    "\n",
    "# Split the combined features back into train, validation, and test sets\n",
    "features_train_processed = all_features.iloc[:features_train.shape[0]]\n",
    "features_valid_processed = all_features.iloc[features_train.shape[0]:features_train.shape[0] + features_valid.shape[0]]\n",
    "features_test_processed = all_features.iloc[features_train.shape[0] + features_valid.shape[0]:]\n",
    "\n",
    "# Normalize the feature values\n",
    "scaler = StandardScaler()\n",
    "features_train_processed = scaler.fit_transform(features_train_processed)\n",
    "features_valid_processed = scaler.transform(features_valid_processed)\n",
    "features_test_processed = scaler.transform(features_test_processed)\n",
    "\n",
    "# Check if lengths match after preprocessing\n",
    "print(f\"Processed features_train shape: {features_train_processed.shape}\")\n",
    "print(f\"Processed features_valid shape: {features_valid_processed.shape}\")\n",
    "print(f\"Processed features_test shape: {features_test_processed.shape}\")\n",
    "print(f\"target_train length: {len(target_train)}\")\n",
    "print(f\"target_valid length: {len(target_valid)}\")\n",
    "print(f\"target_test length: {len(target_test)}\")"
   ]
  },
  {
   "cell_type": "code",
   "execution_count": 18,
   "metadata": {},
   "outputs": [
    {
     "name": "stdout",
     "output_type": "stream",
     "text": [
      "Accuracy on Validation Set: 0.7667766776677668\n",
      "Confusion Matrix on Validation Set:\n",
      "[[1323  124]\n",
      " [ 300   71]]\n",
      "Classification Report on Validation Set:\n",
      "              precision    recall  f1-score   support\n",
      "\n",
      "       False       0.82      0.91      0.86      1447\n",
      "        True       0.36      0.19      0.25       371\n",
      "\n",
      "    accuracy                           0.77      1818\n",
      "   macro avg       0.59      0.55      0.56      1818\n",
      "weighted avg       0.72      0.77      0.74      1818\n",
      "\n",
      "F1 Score on Validation Set: 0.2508833922261484\n"
     ]
    }
   ],
   "source": [
    "# Train Logistic Regression on the training set\n",
    "log_reg = LogisticRegression(random_state=42)\n",
    "log_reg.fit(features_train_processed, target_train)\n",
    "\n",
    "# Predict on validation set\n",
    "y_pred_valid = log_reg.predict(features_valid_processed)\n",
    "\n",
    "# Evaluate on validation set\n",
    "accuracy_valid = accuracy_score(target_valid, y_pred_valid)\n",
    "conf_matrix_valid = confusion_matrix(target_valid, y_pred_valid)\n",
    "class_report_valid = classification_report(target_valid, y_pred_valid)\n",
    "f1_valid = f1_score(target_valid, y_pred_valid)\n",
    "\n",
    "# Print evaluation metrics on validation set\n",
    "print(f\"Accuracy on Validation Set: {accuracy_valid}\")\n",
    "print(f\"Confusion Matrix on Validation Set:\\n{conf_matrix_valid}\")\n",
    "print(f\"Classification Report on Validation Set:\\n{class_report_valid}\")\n",
    "print(f\"F1 Score on Validation Set: {f1_valid}\")"
   ]
  },
  {
   "cell_type": "code",
   "execution_count": 19,
   "metadata": {},
   "outputs": [
    {
     "name": "stdout",
     "output_type": "stream",
     "text": [
      "Accuracy on Test Set: 0.765805387575591\n",
      "Confusion Matrix on Test Set:\n",
      "[[1333  115]\n",
      " [ 311   60]]\n",
      "Classification Report on Test Set:\n",
      "              precision    recall  f1-score   support\n",
      "\n",
      "       False       0.81      0.92      0.86      1448\n",
      "        True       0.34      0.16      0.22       371\n",
      "\n",
      "    accuracy                           0.77      1819\n",
      "   macro avg       0.58      0.54      0.54      1819\n",
      "weighted avg       0.72      0.77      0.73      1819\n",
      "\n"
     ]
    }
   ],
   "source": [
    "# Predict on test set\n",
    "y_pred_test = log_reg.predict(features_test_processed)\n",
    "\n",
    "# Evaluate on test set\n",
    "accuracy_test = accuracy_score(target_test, y_pred_test)\n",
    "conf_matrix_test = confusion_matrix(target_test, y_pred_test)\n",
    "class_report_test = classification_report(target_test, y_pred_test)\n",
    "\n",
    "# Print evaluation metrics on test set\n",
    "print(f\"Accuracy on Test Set: {accuracy_test}\")\n",
    "print(f\"Confusion Matrix on Test Set:\\n{conf_matrix_test}\")\n",
    "print(f\"Classification Report on Test Set:\\n{class_report_test}\")"
   ]
  },
  {
   "cell_type": "code",
   "execution_count": 20,
   "metadata": {},
   "outputs": [
    {
     "name": "stdout",
     "output_type": "stream",
     "text": [
      "Accuracy on Validation Set: 0.8514851485148515\n",
      "Confusion Matrix on Validation Set:\n",
      "[[1424   23]\n",
      " [ 247  124]]\n",
      "Classification Report on Validation Set:\n",
      "              precision    recall  f1-score   support\n",
      "\n",
      "       False       0.85      0.98      0.91      1447\n",
      "        True       0.84      0.33      0.48       371\n",
      "\n",
      "    accuracy                           0.85      1818\n",
      "   macro avg       0.85      0.66      0.70      1818\n",
      "weighted avg       0.85      0.85      0.82      1818\n",
      "\n",
      "F1 Score on Validation Set: 0.4787644787644787\n"
     ]
    }
   ],
   "source": [
    "# Train Random Forest on the training set\n",
    "rf = RandomForestClassifier(random_state=42)\n",
    "rf.fit(features_train_processed, target_train)\n",
    "\n",
    "# Predict on validation set\n",
    "y_pred_valid = rf.predict(features_valid_processed)\n",
    "\n",
    "# Evaluate on validation set\n",
    "accuracy_valid = accuracy_score(target_valid, y_pred_valid)\n",
    "conf_matrix_valid = confusion_matrix(target_valid, y_pred_valid)\n",
    "class_report_valid = classification_report(target_valid, y_pred_valid)\n",
    "f1_valid = f1_score(target_valid, y_pred_valid)\n",
    "\n",
    "# Print evaluation metrics on validation set\n",
    "print(f\"Accuracy on Validation Set: {accuracy_valid}\")\n",
    "print(f\"Confusion Matrix on Validation Set:\\n{conf_matrix_valid}\")\n",
    "print(f\"Classification Report on Validation Set:\\n{class_report_valid}\")\n",
    "print(f\"F1 Score on Validation Set: {f1_valid}\")"
   ]
  },
  {
   "cell_type": "code",
   "execution_count": 21,
   "metadata": {},
   "outputs": [
    {
     "name": "stdout",
     "output_type": "stream",
     "text": [
      "Accuracy on Test Set: 0.8526663001649258\n",
      "Confusion Matrix on Test Set:\n",
      "[[1431   17]\n",
      " [ 251  120]]\n",
      "Classification Report on Test Set:\n",
      "              precision    recall  f1-score   support\n",
      "\n",
      "       False       0.85      0.99      0.91      1448\n",
      "        True       0.88      0.32      0.47       371\n",
      "\n",
      "    accuracy                           0.85      1819\n",
      "   macro avg       0.86      0.66      0.69      1819\n",
      "weighted avg       0.86      0.85      0.82      1819\n",
      "\n"
     ]
    }
   ],
   "source": [
    "# Predict on test set\n",
    "y_pred_test = rf.predict(features_test_processed)\n",
    "\n",
    "# Evaluate on test set\n",
    "accuracy_test = accuracy_score(target_test, y_pred_test)\n",
    "conf_matrix_test = confusion_matrix(target_test, y_pred_test)\n",
    "class_report_test = classification_report(target_test, y_pred_test)\n",
    "\n",
    "# Print evaluation metrics on test set\n",
    "print(f\"Accuracy on Test Set: {accuracy_test}\")\n",
    "print(f\"Confusion Matrix on Test Set:\\n{conf_matrix_test}\")\n",
    "print(f\"Classification Report on Test Set:\\n{class_report_test}\")"
   ]
  },
  {
   "cell_type": "code",
   "execution_count": 22,
   "metadata": {},
   "outputs": [],
   "source": [
    "# Separate the classes\n",
    "X_majority = features_train_processed[target_train == 0]\n",
    "y_majority = target_train[target_train == 0]\n",
    "X_minority = features_train_processed[target_train == 1]\n",
    "y_minority = target_train[target_train == 1]\n",
    "\n",
    "# Manual Oversampling: Repeat minority class examples\n",
    "X_minority_upsampled = resample(X_minority, replace=True, n_samples=len(X_majority), random_state=42)\n",
    "y_minority_upsampled = resample(y_minority, replace=True, n_samples=len(y_majority), random_state=42)\n",
    "\n",
    "# Combine majority and upsampled minority class\n",
    "X_train_balanced = np.vstack((X_majority, X_minority_upsampled))\n",
    "y_train_balanced = np.concatenate((y_majority, y_minority_upsampled))"
   ]
  },
  {
   "cell_type": "code",
   "execution_count": 23,
   "metadata": {},
   "outputs": [
    {
     "name": "stdout",
     "output_type": "stream",
     "text": [
      "Accuracy on Validation Set (Resample): 0.8173817381738174\n",
      "Confusion Matrix on Validation Set (Resample):\n",
      "[[1287  160]\n",
      " [ 172  199]]\n",
      "Classification Report on Validation Set (Resample):\n",
      "              precision    recall  f1-score   support\n",
      "\n",
      "       False       0.88      0.89      0.89      1447\n",
      "        True       0.55      0.54      0.55       371\n",
      "\n",
      "    accuracy                           0.82      1818\n",
      "   macro avg       0.72      0.71      0.72      1818\n",
      "weighted avg       0.82      0.82      0.82      1818\n",
      "\n",
      "F1 Score on Validation Set (Resample): 0.5452054794520548\n"
     ]
    }
   ],
   "source": [
    "# Train Decision Tree on the balanced training set\n",
    "dt_resample = DecisionTreeClassifier(random_state=42)\n",
    "dt_resample.fit(X_train_balanced, y_train_balanced)\n",
    "\n",
    "# Predict on validation set\n",
    "y_pred_valid_resample = dt_resample.predict(features_valid_processed)\n",
    "\n",
    "# Evaluate on validation set\n",
    "accuracy_valid_resample = accuracy_score(target_valid, y_pred_valid_resample)\n",
    "conf_matrix_valid_resample = confusion_matrix(target_valid, y_pred_valid_resample)\n",
    "class_report_valid_resample = classification_report(target_valid, y_pred_valid_resample)\n",
    "f1_valid_resample = f1_score(target_valid, y_pred_valid_resample)\n",
    "\n",
    "# Print evaluation metrics on validation set\n",
    "print(f\"Accuracy on Validation Set (Resample): {accuracy_valid_resample}\")\n",
    "print(f\"Confusion Matrix on Validation Set (Resample):\\n{conf_matrix_valid_resample}\")\n",
    "print(f\"Classification Report on Validation Set (Resample):\\n{class_report_valid_resample}\")\n",
    "print(f\"F1 Score on Validation Set (Resample): {f1_valid_resample}\")"
   ]
  },
  {
   "cell_type": "code",
   "execution_count": 24,
   "metadata": {},
   "outputs": [
    {
     "name": "stdout",
     "output_type": "stream",
     "text": [
      "Accuracy on Validation Set (Class Weight 'balanced'): 0.8206820682068207\n",
      "Confusion Matrix on Validation Set (Class Weight 'balanced'):\n",
      "[[1286  161]\n",
      " [ 165  206]]\n",
      "Classification Report on Validation Set (Class Weight 'balanced'):\n",
      "              precision    recall  f1-score   support\n",
      "\n",
      "       False       0.89      0.89      0.89      1447\n",
      "        True       0.56      0.56      0.56       371\n",
      "\n",
      "    accuracy                           0.82      1818\n",
      "   macro avg       0.72      0.72      0.72      1818\n",
      "weighted avg       0.82      0.82      0.82      1818\n",
      "\n",
      "F1 Score on Validation Set (Class Weight 'balanced'): 0.5582655826558266\n"
     ]
    }
   ],
   "source": [
    "# Train Decision Tree with class_weight='balanced' on the original training set\n",
    "dt_balanced = DecisionTreeClassifier(class_weight='balanced', random_state=42)\n",
    "dt_balanced.fit(features_train_processed, target_train)\n",
    "\n",
    "# Predict on validation set\n",
    "y_pred_valid_balanced = dt_balanced.predict(features_valid_processed)\n",
    "\n",
    "# Evaluate on validation set\n",
    "accuracy_valid_balanced = accuracy_score(target_valid, y_pred_valid_balanced)\n",
    "conf_matrix_valid_balanced = confusion_matrix(target_valid, y_pred_valid_balanced)\n",
    "class_report_valid_balanced = classification_report(target_valid, y_pred_valid_balanced)\n",
    "f1_valid_balanced = f1_score(target_valid, y_pred_valid_balanced)\n",
    "\n",
    "# Print evaluation metrics on validation set\n",
    "print(f\"Accuracy on Validation Set (Class Weight 'balanced'): {accuracy_valid_balanced}\")\n",
    "print(f\"Confusion Matrix on Validation Set (Class Weight 'balanced'):\\n{conf_matrix_valid_balanced}\")\n",
    "print(f\"Classification Report on Validation Set (Class Weight 'balanced'):\\n{class_report_valid_balanced}\")\n",
    "print(f\"F1 Score on Validation Set (Class Weight 'balanced'): {f1_valid_balanced}\")"
   ]
  },
  {
   "cell_type": "code",
   "execution_count": 25,
   "metadata": {},
   "outputs": [
    {
     "name": "stdout",
     "output_type": "stream",
     "text": [
      "Accuracy on Test Set (Resample): 0.8119846069268829\n",
      "Confusion Matrix on Test Set (Resample):\n",
      "[[1280  168]\n",
      " [ 174  197]]\n",
      "Classification Report on Test Set (Resample):\n",
      "              precision    recall  f1-score   support\n",
      "\n",
      "       False       0.88      0.88      0.88      1448\n",
      "        True       0.54      0.53      0.54       371\n",
      "\n",
      "    accuracy                           0.81      1819\n",
      "   macro avg       0.71      0.71      0.71      1819\n",
      "weighted avg       0.81      0.81      0.81      1819\n",
      "\n",
      "Accuracy on Test Set (Class Weight 'balanced'): 0.817482133040132\n",
      "Confusion Matrix on Test Set (Class Weight 'balanced'):\n",
      "[[1279  169]\n",
      " [ 163  208]]\n",
      "Classification Report on Test Set (Class Weight 'balanced'):\n",
      "              precision    recall  f1-score   support\n",
      "\n",
      "       False       0.89      0.88      0.89      1448\n",
      "        True       0.55      0.56      0.56       371\n",
      "\n",
      "    accuracy                           0.82      1819\n",
      "   macro avg       0.72      0.72      0.72      1819\n",
      "weighted avg       0.82      0.82      0.82      1819\n",
      "\n"
     ]
    }
   ],
   "source": [
    "# Resampling Method\n",
    "y_pred_test_resample = dt_resample.predict(features_test_processed)\n",
    "accuracy_test_resample = accuracy_score(target_test, y_pred_test_resample)\n",
    "conf_matrix_test_resample = confusion_matrix(target_test, y_pred_test_resample)\n",
    "class_report_test_resample = classification_report(target_test, y_pred_test_resample)\n",
    "\n",
    "print(f\"Accuracy on Test Set (Resample): {accuracy_test_resample}\")\n",
    "print(f\"Confusion Matrix on Test Set (Resample):\\n{conf_matrix_test_resample}\")\n",
    "print(f\"Classification Report on Test Set (Resample):\\n{class_report_test_resample}\")\n",
    "\n",
    "# Class Weight 'balanced' Method\n",
    "y_pred_test_balanced = dt_balanced.predict(features_test_processed)\n",
    "accuracy_test_balanced = accuracy_score(target_test, y_pred_test_balanced)\n",
    "conf_matrix_test_balanced = confusion_matrix(target_test, y_pred_test_balanced)\n",
    "class_report_test_balanced = classification_report(target_test, y_pred_test_balanced)\n",
    "\n",
    "print(f\"Accuracy on Test Set (Class Weight 'balanced'): {accuracy_test_balanced}\")\n",
    "print(f\"Confusion Matrix on Test Set (Class Weight 'balanced'):\\n{conf_matrix_test_balanced}\")\n",
    "print(f\"Classification Report on Test Set (Class Weight 'balanced'):\\n{class_report_test_balanced}\")"
   ]
  },
  {
   "cell_type": "markdown",
   "metadata": {},
   "source": [
    "- I removed the split dataframe code\n",
    "- I tuned forest model\n",
    "- I had help to handle the class imbalance. Is this right? nothing is populating."
   ]
  },
  {
   "cell_type": "markdown",
   "metadata": {},
   "source": [
    "- Oversampling: Increases the number of minority class instances, which may help the model learn better about the minority class.\n",
    "- Undersampling: Reduces the number of majority class instances to match the minority class, which can help balance the dataset but may result in loss of data.\n",
    "- RandomForestClassifier and LogisticRegression: Adjusting class weights allows the model to give more importance to the minority class during training, which can improve performance metrics for that class."
   ]
  },
  {
   "cell_type": "markdown",
   "metadata": {},
   "source": [
    "## Hyperparameter tuning with GridSearchCV"
   ]
  },
  {
   "cell_type": "code",
   "execution_count": 26,
   "metadata": {},
   "outputs": [],
   "source": [
    "# Define the parameter grid\n",
    "param_grid = {\n",
    "    'max_depth': [3, 5, 7, 10, None],\n",
    "    'min_samples_split': [2, 5, 10],\n",
    "    'min_samples_leaf': [1, 2, 4],\n",
    "    'max_features': [None, 'sqrt', 'log2']\n",
    "}"
   ]
  },
  {
   "cell_type": "code",
   "execution_count": 27,
   "metadata": {},
   "outputs": [
    {
     "name": "stdout",
     "output_type": "stream",
     "text": [
      "Fitting 3 folds for each of 135 candidates, totalling 405 fits\n",
      "[CV] END max_depth=3, max_features=None, min_samples_leaf=1, min_samples_split=2; total time=   0.4s\n",
      "[CV] END max_depth=3, max_features=None, min_samples_leaf=1, min_samples_split=2; total time=   0.4s\n",
      "[CV] END max_depth=3, max_features=None, min_samples_leaf=1, min_samples_split=2; total time=   0.4s\n",
      "[CV] END max_depth=3, max_features=None, min_samples_leaf=1, min_samples_split=5; total time=   0.4s\n",
      "[CV] END max_depth=3, max_features=None, min_samples_leaf=1, min_samples_split=5; total time=   0.5s\n",
      "[CV] END max_depth=3, max_features=None, min_samples_leaf=1, min_samples_split=5; total time=   0.4s\n",
      "[CV] END max_depth=3, max_features=None, min_samples_leaf=1, min_samples_split=10; total time=   0.4s\n",
      "[CV] END max_depth=3, max_features=None, min_samples_leaf=1, min_samples_split=10; total time=   0.4s\n",
      "[CV] END max_depth=3, max_features=None, min_samples_leaf=1, min_samples_split=10; total time=   0.4s\n",
      "[CV] END max_depth=3, max_features=None, min_samples_leaf=2, min_samples_split=2; total time=   0.4s\n",
      "[CV] END max_depth=3, max_features=None, min_samples_leaf=2, min_samples_split=2; total time=   0.4s\n",
      "[CV] END max_depth=3, max_features=None, min_samples_leaf=2, min_samples_split=2; total time=   0.4s\n",
      "[CV] END max_depth=3, max_features=None, min_samples_leaf=2, min_samples_split=5; total time=   0.5s\n",
      "[CV] END max_depth=3, max_features=None, min_samples_leaf=2, min_samples_split=5; total time=   0.5s\n",
      "[CV] END max_depth=3, max_features=None, min_samples_leaf=2, min_samples_split=5; total time=   0.4s\n",
      "[CV] END max_depth=3, max_features=None, min_samples_leaf=2, min_samples_split=10; total time=   0.4s\n",
      "[CV] END max_depth=3, max_features=None, min_samples_leaf=2, min_samples_split=10; total time=   0.4s\n",
      "[CV] END max_depth=3, max_features=None, min_samples_leaf=2, min_samples_split=10; total time=   0.4s\n",
      "[CV] END max_depth=3, max_features=None, min_samples_leaf=4, min_samples_split=2; total time=   0.4s\n",
      "[CV] END max_depth=3, max_features=None, min_samples_leaf=4, min_samples_split=2; total time=   0.4s\n",
      "[CV] END max_depth=3, max_features=None, min_samples_leaf=4, min_samples_split=2; total time=   0.4s\n",
      "[CV] END max_depth=3, max_features=None, min_samples_leaf=4, min_samples_split=5; total time=   0.4s\n",
      "[CV] END max_depth=3, max_features=None, min_samples_leaf=4, min_samples_split=5; total time=   0.4s\n",
      "[CV] END max_depth=3, max_features=None, min_samples_leaf=4, min_samples_split=5; total time=   0.4s\n",
      "[CV] END max_depth=3, max_features=None, min_samples_leaf=4, min_samples_split=10; total time=   0.4s\n",
      "[CV] END max_depth=3, max_features=None, min_samples_leaf=4, min_samples_split=10; total time=   0.4s\n",
      "[CV] END max_depth=3, max_features=None, min_samples_leaf=4, min_samples_split=10; total time=   0.4s\n",
      "[CV] END max_depth=3, max_features=sqrt, min_samples_leaf=1, min_samples_split=2; total time=   0.1s\n",
      "[CV] END max_depth=3, max_features=sqrt, min_samples_leaf=1, min_samples_split=2; total time=   0.1s\n",
      "[CV] END max_depth=3, max_features=sqrt, min_samples_leaf=1, min_samples_split=2; total time=   0.1s\n",
      "[CV] END max_depth=3, max_features=sqrt, min_samples_leaf=1, min_samples_split=5; total time=   0.1s\n",
      "[CV] END max_depth=3, max_features=sqrt, min_samples_leaf=1, min_samples_split=5; total time=   0.1s\n",
      "[CV] END max_depth=3, max_features=sqrt, min_samples_leaf=1, min_samples_split=5; total time=   0.1s\n",
      "[CV] END max_depth=3, max_features=sqrt, min_samples_leaf=1, min_samples_split=10; total time=   0.1s\n",
      "[CV] END max_depth=3, max_features=sqrt, min_samples_leaf=1, min_samples_split=10; total time=   0.1s\n",
      "[CV] END max_depth=3, max_features=sqrt, min_samples_leaf=1, min_samples_split=10; total time=   0.1s\n",
      "[CV] END max_depth=3, max_features=sqrt, min_samples_leaf=2, min_samples_split=2; total time=   0.1s\n",
      "[CV] END max_depth=3, max_features=sqrt, min_samples_leaf=2, min_samples_split=2; total time=   0.1s\n",
      "[CV] END max_depth=3, max_features=sqrt, min_samples_leaf=2, min_samples_split=2; total time=   0.1s\n",
      "[CV] END max_depth=3, max_features=sqrt, min_samples_leaf=2, min_samples_split=5; total time=   0.1s\n",
      "[CV] END max_depth=3, max_features=sqrt, min_samples_leaf=2, min_samples_split=5; total time=   0.1s\n",
      "[CV] END max_depth=3, max_features=sqrt, min_samples_leaf=2, min_samples_split=5; total time=   0.1s\n",
      "[CV] END max_depth=3, max_features=sqrt, min_samples_leaf=2, min_samples_split=10; total time=   0.1s\n",
      "[CV] END max_depth=3, max_features=sqrt, min_samples_leaf=2, min_samples_split=10; total time=   0.1s\n",
      "[CV] END max_depth=3, max_features=sqrt, min_samples_leaf=2, min_samples_split=10; total time=   0.1s\n",
      "[CV] END max_depth=3, max_features=sqrt, min_samples_leaf=4, min_samples_split=2; total time=   0.1s\n",
      "[CV] END max_depth=3, max_features=sqrt, min_samples_leaf=4, min_samples_split=2; total time=   0.1s\n",
      "[CV] END max_depth=3, max_features=sqrt, min_samples_leaf=4, min_samples_split=2; total time=   0.1s\n",
      "[CV] END max_depth=3, max_features=sqrt, min_samples_leaf=4, min_samples_split=5; total time=   0.1s\n",
      "[CV] END max_depth=3, max_features=sqrt, min_samples_leaf=4, min_samples_split=5; total time=   0.1s\n",
      "[CV] END max_depth=3, max_features=sqrt, min_samples_leaf=4, min_samples_split=5; total time=   0.1s\n",
      "[CV] END max_depth=3, max_features=sqrt, min_samples_leaf=4, min_samples_split=10; total time=   0.1s\n",
      "[CV] END max_depth=3, max_features=sqrt, min_samples_leaf=4, min_samples_split=10; total time=   0.1s\n",
      "[CV] END max_depth=3, max_features=sqrt, min_samples_leaf=4, min_samples_split=10; total time=   0.1s\n",
      "[CV] END max_depth=3, max_features=log2, min_samples_leaf=1, min_samples_split=2; total time=   0.1s\n",
      "[CV] END max_depth=3, max_features=log2, min_samples_leaf=1, min_samples_split=2; total time=   0.1s\n",
      "[CV] END max_depth=3, max_features=log2, min_samples_leaf=1, min_samples_split=2; total time=   0.1s\n",
      "[CV] END max_depth=3, max_features=log2, min_samples_leaf=1, min_samples_split=5; total time=   0.1s\n",
      "[CV] END max_depth=3, max_features=log2, min_samples_leaf=1, min_samples_split=5; total time=   0.1s\n",
      "[CV] END max_depth=3, max_features=log2, min_samples_leaf=1, min_samples_split=5; total time=   0.1s\n",
      "[CV] END max_depth=3, max_features=log2, min_samples_leaf=1, min_samples_split=10; total time=   0.1s\n",
      "[CV] END max_depth=3, max_features=log2, min_samples_leaf=1, min_samples_split=10; total time=   0.1s\n",
      "[CV] END max_depth=3, max_features=log2, min_samples_leaf=1, min_samples_split=10; total time=   0.1s\n",
      "[CV] END max_depth=3, max_features=log2, min_samples_leaf=2, min_samples_split=2; total time=   0.1s\n",
      "[CV] END max_depth=3, max_features=log2, min_samples_leaf=2, min_samples_split=2; total time=   0.1s\n",
      "[CV] END max_depth=3, max_features=log2, min_samples_leaf=2, min_samples_split=2; total time=   0.1s\n",
      "[CV] END max_depth=3, max_features=log2, min_samples_leaf=2, min_samples_split=5; total time=   0.1s\n",
      "[CV] END max_depth=3, max_features=log2, min_samples_leaf=2, min_samples_split=5; total time=   0.2s\n",
      "[CV] END max_depth=3, max_features=log2, min_samples_leaf=2, min_samples_split=5; total time=   0.1s\n",
      "[CV] END max_depth=3, max_features=log2, min_samples_leaf=2, min_samples_split=10; total time=   0.1s\n",
      "[CV] END max_depth=3, max_features=log2, min_samples_leaf=2, min_samples_split=10; total time=   0.1s\n",
      "[CV] END max_depth=3, max_features=log2, min_samples_leaf=2, min_samples_split=10; total time=   0.1s\n",
      "[CV] END max_depth=3, max_features=log2, min_samples_leaf=4, min_samples_split=2; total time=   0.1s\n",
      "[CV] END max_depth=3, max_features=log2, min_samples_leaf=4, min_samples_split=2; total time=   0.1s\n",
      "[CV] END max_depth=3, max_features=log2, min_samples_leaf=4, min_samples_split=2; total time=   0.1s\n",
      "[CV] END max_depth=3, max_features=log2, min_samples_leaf=4, min_samples_split=5; total time=   0.1s\n",
      "[CV] END max_depth=3, max_features=log2, min_samples_leaf=4, min_samples_split=5; total time=   0.1s\n",
      "[CV] END max_depth=3, max_features=log2, min_samples_leaf=4, min_samples_split=5; total time=   0.1s\n",
      "[CV] END max_depth=3, max_features=log2, min_samples_leaf=4, min_samples_split=10; total time=   0.1s\n",
      "[CV] END max_depth=3, max_features=log2, min_samples_leaf=4, min_samples_split=10; total time=   0.1s\n",
      "[CV] END max_depth=3, max_features=log2, min_samples_leaf=4, min_samples_split=10; total time=   0.1s\n"
     ]
    },
    {
     "name": "stdout",
     "output_type": "stream",
     "text": [
      "[CV] END max_depth=5, max_features=None, min_samples_leaf=1, min_samples_split=2; total time=   0.5s\n",
      "[CV] END max_depth=5, max_features=None, min_samples_leaf=1, min_samples_split=2; total time=   0.5s\n",
      "[CV] END max_depth=5, max_features=None, min_samples_leaf=1, min_samples_split=2; total time=   0.5s\n",
      "[CV] END max_depth=5, max_features=None, min_samples_leaf=1, min_samples_split=5; total time=   0.5s\n",
      "[CV] END max_depth=5, max_features=None, min_samples_leaf=1, min_samples_split=5; total time=   0.5s\n",
      "[CV] END max_depth=5, max_features=None, min_samples_leaf=1, min_samples_split=5; total time=   0.5s\n",
      "[CV] END max_depth=5, max_features=None, min_samples_leaf=1, min_samples_split=10; total time=   0.5s\n",
      "[CV] END max_depth=5, max_features=None, min_samples_leaf=1, min_samples_split=10; total time=   0.5s\n",
      "[CV] END max_depth=5, max_features=None, min_samples_leaf=1, min_samples_split=10; total time=   0.5s\n",
      "[CV] END max_depth=5, max_features=None, min_samples_leaf=2, min_samples_split=2; total time=   0.5s\n",
      "[CV] END max_depth=5, max_features=None, min_samples_leaf=2, min_samples_split=2; total time=   0.5s\n",
      "[CV] END max_depth=5, max_features=None, min_samples_leaf=2, min_samples_split=2; total time=   0.5s\n",
      "[CV] END max_depth=5, max_features=None, min_samples_leaf=2, min_samples_split=5; total time=   0.5s\n",
      "[CV] END max_depth=5, max_features=None, min_samples_leaf=2, min_samples_split=5; total time=   0.5s\n",
      "[CV] END max_depth=5, max_features=None, min_samples_leaf=2, min_samples_split=5; total time=   0.5s\n",
      "[CV] END max_depth=5, max_features=None, min_samples_leaf=2, min_samples_split=10; total time=   0.5s\n",
      "[CV] END max_depth=5, max_features=None, min_samples_leaf=2, min_samples_split=10; total time=   0.5s\n",
      "[CV] END max_depth=5, max_features=None, min_samples_leaf=2, min_samples_split=10; total time=   0.5s\n",
      "[CV] END max_depth=5, max_features=None, min_samples_leaf=4, min_samples_split=2; total time=   0.5s\n",
      "[CV] END max_depth=5, max_features=None, min_samples_leaf=4, min_samples_split=2; total time=   0.5s\n",
      "[CV] END max_depth=5, max_features=None, min_samples_leaf=4, min_samples_split=2; total time=   0.5s\n",
      "[CV] END max_depth=5, max_features=None, min_samples_leaf=4, min_samples_split=5; total time=   0.5s\n",
      "[CV] END max_depth=5, max_features=None, min_samples_leaf=4, min_samples_split=5; total time=   0.5s\n",
      "[CV] END max_depth=5, max_features=None, min_samples_leaf=4, min_samples_split=5; total time=   0.5s\n",
      "[CV] END max_depth=5, max_features=None, min_samples_leaf=4, min_samples_split=10; total time=   0.5s\n",
      "[CV] END max_depth=5, max_features=None, min_samples_leaf=4, min_samples_split=10; total time=   0.5s\n",
      "[CV] END max_depth=5, max_features=None, min_samples_leaf=4, min_samples_split=10; total time=   0.5s\n",
      "[CV] END max_depth=5, max_features=sqrt, min_samples_leaf=1, min_samples_split=2; total time=   0.1s\n",
      "[CV] END max_depth=5, max_features=sqrt, min_samples_leaf=1, min_samples_split=2; total time=   0.1s\n",
      "[CV] END max_depth=5, max_features=sqrt, min_samples_leaf=1, min_samples_split=2; total time=   0.1s\n",
      "[CV] END max_depth=5, max_features=sqrt, min_samples_leaf=1, min_samples_split=5; total time=   0.1s\n",
      "[CV] END max_depth=5, max_features=sqrt, min_samples_leaf=1, min_samples_split=5; total time=   0.1s\n",
      "[CV] END max_depth=5, max_features=sqrt, min_samples_leaf=1, min_samples_split=5; total time=   0.1s\n",
      "[CV] END max_depth=5, max_features=sqrt, min_samples_leaf=1, min_samples_split=10; total time=   0.1s\n",
      "[CV] END max_depth=5, max_features=sqrt, min_samples_leaf=1, min_samples_split=10; total time=   0.1s\n",
      "[CV] END max_depth=5, max_features=sqrt, min_samples_leaf=1, min_samples_split=10; total time=   0.1s\n",
      "[CV] END max_depth=5, max_features=sqrt, min_samples_leaf=2, min_samples_split=2; total time=   0.1s\n",
      "[CV] END max_depth=5, max_features=sqrt, min_samples_leaf=2, min_samples_split=2; total time=   0.1s\n",
      "[CV] END max_depth=5, max_features=sqrt, min_samples_leaf=2, min_samples_split=2; total time=   0.1s\n",
      "[CV] END max_depth=5, max_features=sqrt, min_samples_leaf=2, min_samples_split=5; total time=   0.1s\n",
      "[CV] END max_depth=5, max_features=sqrt, min_samples_leaf=2, min_samples_split=5; total time=   0.1s\n",
      "[CV] END max_depth=5, max_features=sqrt, min_samples_leaf=2, min_samples_split=5; total time=   0.1s\n",
      "[CV] END max_depth=5, max_features=sqrt, min_samples_leaf=2, min_samples_split=10; total time=   0.1s\n",
      "[CV] END max_depth=5, max_features=sqrt, min_samples_leaf=2, min_samples_split=10; total time=   0.1s\n",
      "[CV] END max_depth=5, max_features=sqrt, min_samples_leaf=2, min_samples_split=10; total time=   0.1s\n",
      "[CV] END max_depth=5, max_features=sqrt, min_samples_leaf=4, min_samples_split=2; total time=   0.1s\n",
      "[CV] END max_depth=5, max_features=sqrt, min_samples_leaf=4, min_samples_split=2; total time=   0.1s\n",
      "[CV] END max_depth=5, max_features=sqrt, min_samples_leaf=4, min_samples_split=2; total time=   0.1s\n",
      "[CV] END max_depth=5, max_features=sqrt, min_samples_leaf=4, min_samples_split=5; total time=   0.1s\n",
      "[CV] END max_depth=5, max_features=sqrt, min_samples_leaf=4, min_samples_split=5; total time=   0.1s\n",
      "[CV] END max_depth=5, max_features=sqrt, min_samples_leaf=4, min_samples_split=5; total time=   0.1s\n",
      "[CV] END max_depth=5, max_features=sqrt, min_samples_leaf=4, min_samples_split=10; total time=   0.1s\n",
      "[CV] END max_depth=5, max_features=sqrt, min_samples_leaf=4, min_samples_split=10; total time=   0.1s\n",
      "[CV] END max_depth=5, max_features=sqrt, min_samples_leaf=4, min_samples_split=10; total time=   0.1s\n",
      "[CV] END max_depth=5, max_features=log2, min_samples_leaf=1, min_samples_split=2; total time=   0.1s\n",
      "[CV] END max_depth=5, max_features=log2, min_samples_leaf=1, min_samples_split=2; total time=   0.1s\n",
      "[CV] END max_depth=5, max_features=log2, min_samples_leaf=1, min_samples_split=2; total time=   0.1s\n",
      "[CV] END max_depth=5, max_features=log2, min_samples_leaf=1, min_samples_split=5; total time=   0.1s\n",
      "[CV] END max_depth=5, max_features=log2, min_samples_leaf=1, min_samples_split=5; total time=   0.1s\n",
      "[CV] END max_depth=5, max_features=log2, min_samples_leaf=1, min_samples_split=5; total time=   0.1s\n",
      "[CV] END max_depth=5, max_features=log2, min_samples_leaf=1, min_samples_split=10; total time=   0.1s\n",
      "[CV] END max_depth=5, max_features=log2, min_samples_leaf=1, min_samples_split=10; total time=   0.1s\n",
      "[CV] END max_depth=5, max_features=log2, min_samples_leaf=1, min_samples_split=10; total time=   0.1s\n",
      "[CV] END max_depth=5, max_features=log2, min_samples_leaf=2, min_samples_split=2; total time=   0.1s\n",
      "[CV] END max_depth=5, max_features=log2, min_samples_leaf=2, min_samples_split=2; total time=   0.1s\n",
      "[CV] END max_depth=5, max_features=log2, min_samples_leaf=2, min_samples_split=2; total time=   0.1s\n",
      "[CV] END max_depth=5, max_features=log2, min_samples_leaf=2, min_samples_split=5; total time=   0.1s\n",
      "[CV] END max_depth=5, max_features=log2, min_samples_leaf=2, min_samples_split=5; total time=   0.1s\n",
      "[CV] END max_depth=5, max_features=log2, min_samples_leaf=2, min_samples_split=5; total time=   0.1s\n",
      "[CV] END max_depth=5, max_features=log2, min_samples_leaf=2, min_samples_split=10; total time=   0.1s\n",
      "[CV] END max_depth=5, max_features=log2, min_samples_leaf=2, min_samples_split=10; total time=   0.1s\n",
      "[CV] END max_depth=5, max_features=log2, min_samples_leaf=2, min_samples_split=10; total time=   0.1s\n",
      "[CV] END max_depth=5, max_features=log2, min_samples_leaf=4, min_samples_split=2; total time=   0.1s\n",
      "[CV] END max_depth=5, max_features=log2, min_samples_leaf=4, min_samples_split=2; total time=   0.1s\n",
      "[CV] END max_depth=5, max_features=log2, min_samples_leaf=4, min_samples_split=2; total time=   0.1s\n",
      "[CV] END max_depth=5, max_features=log2, min_samples_leaf=4, min_samples_split=5; total time=   0.1s\n",
      "[CV] END max_depth=5, max_features=log2, min_samples_leaf=4, min_samples_split=5; total time=   0.1s\n",
      "[CV] END max_depth=5, max_features=log2, min_samples_leaf=4, min_samples_split=5; total time=   0.1s\n",
      "[CV] END max_depth=5, max_features=log2, min_samples_leaf=4, min_samples_split=10; total time=   0.1s\n",
      "[CV] END max_depth=5, max_features=log2, min_samples_leaf=4, min_samples_split=10; total time=   0.1s\n",
      "[CV] END max_depth=5, max_features=log2, min_samples_leaf=4, min_samples_split=10; total time=   0.1s\n"
     ]
    },
    {
     "name": "stdout",
     "output_type": "stream",
     "text": [
      "[CV] END max_depth=7, max_features=None, min_samples_leaf=1, min_samples_split=2; total time=   0.5s\n",
      "[CV] END max_depth=7, max_features=None, min_samples_leaf=1, min_samples_split=2; total time=   0.5s\n",
      "[CV] END max_depth=7, max_features=None, min_samples_leaf=1, min_samples_split=2; total time=   0.5s\n",
      "[CV] END max_depth=7, max_features=None, min_samples_leaf=1, min_samples_split=5; total time=   0.5s\n",
      "[CV] END max_depth=7, max_features=None, min_samples_leaf=1, min_samples_split=5; total time=   0.5s\n",
      "[CV] END max_depth=7, max_features=None, min_samples_leaf=1, min_samples_split=5; total time=   0.5s\n",
      "[CV] END max_depth=7, max_features=None, min_samples_leaf=1, min_samples_split=10; total time=   0.6s\n",
      "[CV] END max_depth=7, max_features=None, min_samples_leaf=1, min_samples_split=10; total time=   0.6s\n",
      "[CV] END max_depth=7, max_features=None, min_samples_leaf=1, min_samples_split=10; total time=   0.5s\n",
      "[CV] END max_depth=7, max_features=None, min_samples_leaf=2, min_samples_split=2; total time=   0.5s\n",
      "[CV] END max_depth=7, max_features=None, min_samples_leaf=2, min_samples_split=2; total time=   0.6s\n",
      "[CV] END max_depth=7, max_features=None, min_samples_leaf=2, min_samples_split=2; total time=   0.5s\n",
      "[CV] END max_depth=7, max_features=None, min_samples_leaf=2, min_samples_split=5; total time=   0.5s\n",
      "[CV] END max_depth=7, max_features=None, min_samples_leaf=2, min_samples_split=5; total time=   0.5s\n",
      "[CV] END max_depth=7, max_features=None, min_samples_leaf=2, min_samples_split=5; total time=   0.5s\n",
      "[CV] END max_depth=7, max_features=None, min_samples_leaf=2, min_samples_split=10; total time=   0.5s\n",
      "[CV] END max_depth=7, max_features=None, min_samples_leaf=2, min_samples_split=10; total time=   0.5s\n",
      "[CV] END max_depth=7, max_features=None, min_samples_leaf=2, min_samples_split=10; total time=   0.5s\n",
      "[CV] END max_depth=7, max_features=None, min_samples_leaf=4, min_samples_split=2; total time=   0.6s\n",
      "[CV] END max_depth=7, max_features=None, min_samples_leaf=4, min_samples_split=2; total time=   0.5s\n",
      "[CV] END max_depth=7, max_features=None, min_samples_leaf=4, min_samples_split=2; total time=   0.5s\n",
      "[CV] END max_depth=7, max_features=None, min_samples_leaf=4, min_samples_split=5; total time=   0.5s\n",
      "[CV] END max_depth=7, max_features=None, min_samples_leaf=4, min_samples_split=5; total time=   0.5s\n",
      "[CV] END max_depth=7, max_features=None, min_samples_leaf=4, min_samples_split=5; total time=   0.5s\n",
      "[CV] END max_depth=7, max_features=None, min_samples_leaf=4, min_samples_split=10; total time=   0.5s\n",
      "[CV] END max_depth=7, max_features=None, min_samples_leaf=4, min_samples_split=10; total time=   0.5s\n",
      "[CV] END max_depth=7, max_features=None, min_samples_leaf=4, min_samples_split=10; total time=   0.5s\n",
      "[CV] END max_depth=7, max_features=sqrt, min_samples_leaf=1, min_samples_split=2; total time=   0.1s\n",
      "[CV] END max_depth=7, max_features=sqrt, min_samples_leaf=1, min_samples_split=2; total time=   0.1s\n",
      "[CV] END max_depth=7, max_features=sqrt, min_samples_leaf=1, min_samples_split=2; total time=   0.1s\n",
      "[CV] END max_depth=7, max_features=sqrt, min_samples_leaf=1, min_samples_split=5; total time=   0.1s\n",
      "[CV] END max_depth=7, max_features=sqrt, min_samples_leaf=1, min_samples_split=5; total time=   0.1s\n",
      "[CV] END max_depth=7, max_features=sqrt, min_samples_leaf=1, min_samples_split=5; total time=   0.1s\n",
      "[CV] END max_depth=7, max_features=sqrt, min_samples_leaf=1, min_samples_split=10; total time=   0.1s\n",
      "[CV] END max_depth=7, max_features=sqrt, min_samples_leaf=1, min_samples_split=10; total time=   0.1s\n",
      "[CV] END max_depth=7, max_features=sqrt, min_samples_leaf=1, min_samples_split=10; total time=   0.1s\n",
      "[CV] END max_depth=7, max_features=sqrt, min_samples_leaf=2, min_samples_split=2; total time=   0.1s\n",
      "[CV] END max_depth=7, max_features=sqrt, min_samples_leaf=2, min_samples_split=2; total time=   0.1s\n",
      "[CV] END max_depth=7, max_features=sqrt, min_samples_leaf=2, min_samples_split=2; total time=   0.1s\n",
      "[CV] END max_depth=7, max_features=sqrt, min_samples_leaf=2, min_samples_split=5; total time=   0.1s\n",
      "[CV] END max_depth=7, max_features=sqrt, min_samples_leaf=2, min_samples_split=5; total time=   0.1s\n",
      "[CV] END max_depth=7, max_features=sqrt, min_samples_leaf=2, min_samples_split=5; total time=   0.1s\n",
      "[CV] END max_depth=7, max_features=sqrt, min_samples_leaf=2, min_samples_split=10; total time=   0.1s\n",
      "[CV] END max_depth=7, max_features=sqrt, min_samples_leaf=2, min_samples_split=10; total time=   0.1s\n",
      "[CV] END max_depth=7, max_features=sqrt, min_samples_leaf=2, min_samples_split=10; total time=   0.1s\n",
      "[CV] END max_depth=7, max_features=sqrt, min_samples_leaf=4, min_samples_split=2; total time=   0.1s\n",
      "[CV] END max_depth=7, max_features=sqrt, min_samples_leaf=4, min_samples_split=2; total time=   0.1s\n",
      "[CV] END max_depth=7, max_features=sqrt, min_samples_leaf=4, min_samples_split=2; total time=   0.1s\n",
      "[CV] END max_depth=7, max_features=sqrt, min_samples_leaf=4, min_samples_split=5; total time=   0.1s\n",
      "[CV] END max_depth=7, max_features=sqrt, min_samples_leaf=4, min_samples_split=5; total time=   0.1s\n",
      "[CV] END max_depth=7, max_features=sqrt, min_samples_leaf=4, min_samples_split=5; total time=   0.1s\n",
      "[CV] END max_depth=7, max_features=sqrt, min_samples_leaf=4, min_samples_split=10; total time=   0.1s\n",
      "[CV] END max_depth=7, max_features=sqrt, min_samples_leaf=4, min_samples_split=10; total time=   0.1s\n",
      "[CV] END max_depth=7, max_features=sqrt, min_samples_leaf=4, min_samples_split=10; total time=   0.1s\n",
      "[CV] END max_depth=7, max_features=log2, min_samples_leaf=1, min_samples_split=2; total time=   0.1s\n",
      "[CV] END max_depth=7, max_features=log2, min_samples_leaf=1, min_samples_split=2; total time=   0.1s\n",
      "[CV] END max_depth=7, max_features=log2, min_samples_leaf=1, min_samples_split=2; total time=   0.1s\n",
      "[CV] END max_depth=7, max_features=log2, min_samples_leaf=1, min_samples_split=5; total time=   0.1s\n",
      "[CV] END max_depth=7, max_features=log2, min_samples_leaf=1, min_samples_split=5; total time=   0.1s\n",
      "[CV] END max_depth=7, max_features=log2, min_samples_leaf=1, min_samples_split=5; total time=   0.1s\n",
      "[CV] END max_depth=7, max_features=log2, min_samples_leaf=1, min_samples_split=10; total time=   0.1s\n",
      "[CV] END max_depth=7, max_features=log2, min_samples_leaf=1, min_samples_split=10; total time=   0.1s\n",
      "[CV] END max_depth=7, max_features=log2, min_samples_leaf=1, min_samples_split=10; total time=   0.1s\n",
      "[CV] END max_depth=7, max_features=log2, min_samples_leaf=2, min_samples_split=2; total time=   0.1s\n",
      "[CV] END max_depth=7, max_features=log2, min_samples_leaf=2, min_samples_split=2; total time=   0.1s\n",
      "[CV] END max_depth=7, max_features=log2, min_samples_leaf=2, min_samples_split=2; total time=   0.1s\n",
      "[CV] END max_depth=7, max_features=log2, min_samples_leaf=2, min_samples_split=5; total time=   0.1s\n",
      "[CV] END max_depth=7, max_features=log2, min_samples_leaf=2, min_samples_split=5; total time=   0.1s\n",
      "[CV] END max_depth=7, max_features=log2, min_samples_leaf=2, min_samples_split=5; total time=   0.1s\n",
      "[CV] END max_depth=7, max_features=log2, min_samples_leaf=2, min_samples_split=10; total time=   0.1s\n",
      "[CV] END max_depth=7, max_features=log2, min_samples_leaf=2, min_samples_split=10; total time=   0.1s\n",
      "[CV] END max_depth=7, max_features=log2, min_samples_leaf=2, min_samples_split=10; total time=   0.1s\n",
      "[CV] END max_depth=7, max_features=log2, min_samples_leaf=4, min_samples_split=2; total time=   0.1s\n",
      "[CV] END max_depth=7, max_features=log2, min_samples_leaf=4, min_samples_split=2; total time=   0.1s\n",
      "[CV] END max_depth=7, max_features=log2, min_samples_leaf=4, min_samples_split=2; total time=   0.1s\n",
      "[CV] END max_depth=7, max_features=log2, min_samples_leaf=4, min_samples_split=5; total time=   0.1s\n",
      "[CV] END max_depth=7, max_features=log2, min_samples_leaf=4, min_samples_split=5; total time=   0.1s\n",
      "[CV] END max_depth=7, max_features=log2, min_samples_leaf=4, min_samples_split=5; total time=   0.1s\n",
      "[CV] END max_depth=7, max_features=log2, min_samples_leaf=4, min_samples_split=10; total time=   0.1s\n",
      "[CV] END max_depth=7, max_features=log2, min_samples_leaf=4, min_samples_split=10; total time=   0.1s\n",
      "[CV] END max_depth=7, max_features=log2, min_samples_leaf=4, min_samples_split=10; total time=   0.1s\n"
     ]
    },
    {
     "name": "stdout",
     "output_type": "stream",
     "text": [
      "[CV] END max_depth=10, max_features=None, min_samples_leaf=1, min_samples_split=2; total time=   0.6s\n",
      "[CV] END max_depth=10, max_features=None, min_samples_leaf=1, min_samples_split=2; total time=   0.6s\n",
      "[CV] END max_depth=10, max_features=None, min_samples_leaf=1, min_samples_split=2; total time=   0.6s\n",
      "[CV] END max_depth=10, max_features=None, min_samples_leaf=1, min_samples_split=5; total time=   0.6s\n",
      "[CV] END max_depth=10, max_features=None, min_samples_leaf=1, min_samples_split=5; total time=   0.6s\n",
      "[CV] END max_depth=10, max_features=None, min_samples_leaf=1, min_samples_split=5; total time=   0.6s\n",
      "[CV] END max_depth=10, max_features=None, min_samples_leaf=1, min_samples_split=10; total time=   0.6s\n",
      "[CV] END max_depth=10, max_features=None, min_samples_leaf=1, min_samples_split=10; total time=   0.6s\n",
      "[CV] END max_depth=10, max_features=None, min_samples_leaf=1, min_samples_split=10; total time=   0.6s\n",
      "[CV] END max_depth=10, max_features=None, min_samples_leaf=2, min_samples_split=2; total time=   0.6s\n",
      "[CV] END max_depth=10, max_features=None, min_samples_leaf=2, min_samples_split=2; total time=   0.6s\n",
      "[CV] END max_depth=10, max_features=None, min_samples_leaf=2, min_samples_split=2; total time=   0.6s\n",
      "[CV] END max_depth=10, max_features=None, min_samples_leaf=2, min_samples_split=5; total time=   0.6s\n",
      "[CV] END max_depth=10, max_features=None, min_samples_leaf=2, min_samples_split=5; total time=   0.6s\n",
      "[CV] END max_depth=10, max_features=None, min_samples_leaf=2, min_samples_split=5; total time=   0.5s\n",
      "[CV] END max_depth=10, max_features=None, min_samples_leaf=2, min_samples_split=10; total time=   0.6s\n",
      "[CV] END max_depth=10, max_features=None, min_samples_leaf=2, min_samples_split=10; total time=   0.6s\n",
      "[CV] END max_depth=10, max_features=None, min_samples_leaf=2, min_samples_split=10; total time=   0.6s\n",
      "[CV] END max_depth=10, max_features=None, min_samples_leaf=4, min_samples_split=2; total time=   0.6s\n",
      "[CV] END max_depth=10, max_features=None, min_samples_leaf=4, min_samples_split=2; total time=   0.6s\n",
      "[CV] END max_depth=10, max_features=None, min_samples_leaf=4, min_samples_split=2; total time=   0.6s\n",
      "[CV] END max_depth=10, max_features=None, min_samples_leaf=4, min_samples_split=5; total time=   0.6s\n",
      "[CV] END max_depth=10, max_features=None, min_samples_leaf=4, min_samples_split=5; total time=   0.6s\n",
      "[CV] END max_depth=10, max_features=None, min_samples_leaf=4, min_samples_split=5; total time=   0.5s\n",
      "[CV] END max_depth=10, max_features=None, min_samples_leaf=4, min_samples_split=10; total time=   0.6s\n",
      "[CV] END max_depth=10, max_features=None, min_samples_leaf=4, min_samples_split=10; total time=   0.6s\n",
      "[CV] END max_depth=10, max_features=None, min_samples_leaf=4, min_samples_split=10; total time=   0.6s\n",
      "[CV] END max_depth=10, max_features=sqrt, min_samples_leaf=1, min_samples_split=2; total time=   0.1s\n",
      "[CV] END max_depth=10, max_features=sqrt, min_samples_leaf=1, min_samples_split=2; total time=   0.1s\n",
      "[CV] END max_depth=10, max_features=sqrt, min_samples_leaf=1, min_samples_split=2; total time=   0.1s\n",
      "[CV] END max_depth=10, max_features=sqrt, min_samples_leaf=1, min_samples_split=5; total time=   0.1s\n",
      "[CV] END max_depth=10, max_features=sqrt, min_samples_leaf=1, min_samples_split=5; total time=   0.1s\n",
      "[CV] END max_depth=10, max_features=sqrt, min_samples_leaf=1, min_samples_split=5; total time=   0.1s\n",
      "[CV] END max_depth=10, max_features=sqrt, min_samples_leaf=1, min_samples_split=10; total time=   0.1s\n",
      "[CV] END max_depth=10, max_features=sqrt, min_samples_leaf=1, min_samples_split=10; total time=   0.1s\n",
      "[CV] END max_depth=10, max_features=sqrt, min_samples_leaf=1, min_samples_split=10; total time=   0.1s\n",
      "[CV] END max_depth=10, max_features=sqrt, min_samples_leaf=2, min_samples_split=2; total time=   0.1s\n",
      "[CV] END max_depth=10, max_features=sqrt, min_samples_leaf=2, min_samples_split=2; total time=   0.1s\n",
      "[CV] END max_depth=10, max_features=sqrt, min_samples_leaf=2, min_samples_split=2; total time=   0.1s\n",
      "[CV] END max_depth=10, max_features=sqrt, min_samples_leaf=2, min_samples_split=5; total time=   0.1s\n",
      "[CV] END max_depth=10, max_features=sqrt, min_samples_leaf=2, min_samples_split=5; total time=   0.1s\n",
      "[CV] END max_depth=10, max_features=sqrt, min_samples_leaf=2, min_samples_split=5; total time=   0.1s\n",
      "[CV] END max_depth=10, max_features=sqrt, min_samples_leaf=2, min_samples_split=10; total time=   0.1s\n",
      "[CV] END max_depth=10, max_features=sqrt, min_samples_leaf=2, min_samples_split=10; total time=   0.1s\n",
      "[CV] END max_depth=10, max_features=sqrt, min_samples_leaf=2, min_samples_split=10; total time=   0.1s\n",
      "[CV] END max_depth=10, max_features=sqrt, min_samples_leaf=4, min_samples_split=2; total time=   0.1s\n",
      "[CV] END max_depth=10, max_features=sqrt, min_samples_leaf=4, min_samples_split=2; total time=   0.1s\n",
      "[CV] END max_depth=10, max_features=sqrt, min_samples_leaf=4, min_samples_split=2; total time=   0.1s\n",
      "[CV] END max_depth=10, max_features=sqrt, min_samples_leaf=4, min_samples_split=5; total time=   0.1s\n",
      "[CV] END max_depth=10, max_features=sqrt, min_samples_leaf=4, min_samples_split=5; total time=   0.1s\n",
      "[CV] END max_depth=10, max_features=sqrt, min_samples_leaf=4, min_samples_split=5; total time=   0.1s\n",
      "[CV] END max_depth=10, max_features=sqrt, min_samples_leaf=4, min_samples_split=10; total time=   0.1s\n",
      "[CV] END max_depth=10, max_features=sqrt, min_samples_leaf=4, min_samples_split=10; total time=   0.1s\n",
      "[CV] END max_depth=10, max_features=sqrt, min_samples_leaf=4, min_samples_split=10; total time=   0.1s\n",
      "[CV] END max_depth=10, max_features=log2, min_samples_leaf=1, min_samples_split=2; total time=   0.1s\n",
      "[CV] END max_depth=10, max_features=log2, min_samples_leaf=1, min_samples_split=2; total time=   0.1s\n",
      "[CV] END max_depth=10, max_features=log2, min_samples_leaf=1, min_samples_split=2; total time=   0.1s\n",
      "[CV] END max_depth=10, max_features=log2, min_samples_leaf=1, min_samples_split=5; total time=   0.1s\n",
      "[CV] END max_depth=10, max_features=log2, min_samples_leaf=1, min_samples_split=5; total time=   0.1s\n",
      "[CV] END max_depth=10, max_features=log2, min_samples_leaf=1, min_samples_split=5; total time=   0.1s\n",
      "[CV] END max_depth=10, max_features=log2, min_samples_leaf=1, min_samples_split=10; total time=   0.1s\n",
      "[CV] END max_depth=10, max_features=log2, min_samples_leaf=1, min_samples_split=10; total time=   0.1s\n",
      "[CV] END max_depth=10, max_features=log2, min_samples_leaf=1, min_samples_split=10; total time=   0.1s\n",
      "[CV] END max_depth=10, max_features=log2, min_samples_leaf=2, min_samples_split=2; total time=   0.1s\n",
      "[CV] END max_depth=10, max_features=log2, min_samples_leaf=2, min_samples_split=2; total time=   0.1s\n",
      "[CV] END max_depth=10, max_features=log2, min_samples_leaf=2, min_samples_split=2; total time=   0.1s\n",
      "[CV] END max_depth=10, max_features=log2, min_samples_leaf=2, min_samples_split=5; total time=   0.1s\n",
      "[CV] END max_depth=10, max_features=log2, min_samples_leaf=2, min_samples_split=5; total time=   0.1s\n",
      "[CV] END max_depth=10, max_features=log2, min_samples_leaf=2, min_samples_split=5; total time=   0.1s\n",
      "[CV] END max_depth=10, max_features=log2, min_samples_leaf=2, min_samples_split=10; total time=   0.1s\n",
      "[CV] END max_depth=10, max_features=log2, min_samples_leaf=2, min_samples_split=10; total time=   0.1s\n",
      "[CV] END max_depth=10, max_features=log2, min_samples_leaf=2, min_samples_split=10; total time=   0.1s\n",
      "[CV] END max_depth=10, max_features=log2, min_samples_leaf=4, min_samples_split=2; total time=   0.1s\n",
      "[CV] END max_depth=10, max_features=log2, min_samples_leaf=4, min_samples_split=2; total time=   0.1s\n",
      "[CV] END max_depth=10, max_features=log2, min_samples_leaf=4, min_samples_split=2; total time=   0.1s\n",
      "[CV] END max_depth=10, max_features=log2, min_samples_leaf=4, min_samples_split=5; total time=   0.1s\n",
      "[CV] END max_depth=10, max_features=log2, min_samples_leaf=4, min_samples_split=5; total time=   0.1s\n",
      "[CV] END max_depth=10, max_features=log2, min_samples_leaf=4, min_samples_split=5; total time=   0.1s\n",
      "[CV] END max_depth=10, max_features=log2, min_samples_leaf=4, min_samples_split=10; total time=   0.1s\n",
      "[CV] END max_depth=10, max_features=log2, min_samples_leaf=4, min_samples_split=10; total time=   0.1s\n",
      "[CV] END max_depth=10, max_features=log2, min_samples_leaf=4, min_samples_split=10; total time=   0.1s\n"
     ]
    },
    {
     "name": "stdout",
     "output_type": "stream",
     "text": [
      "[CV] END max_depth=None, max_features=None, min_samples_leaf=1, min_samples_split=2; total time=   0.7s\n",
      "[CV] END max_depth=None, max_features=None, min_samples_leaf=1, min_samples_split=2; total time=   0.9s\n",
      "[CV] END max_depth=None, max_features=None, min_samples_leaf=1, min_samples_split=2; total time=   0.7s\n",
      "[CV] END max_depth=None, max_features=None, min_samples_leaf=1, min_samples_split=5; total time=   0.7s\n",
      "[CV] END max_depth=None, max_features=None, min_samples_leaf=1, min_samples_split=5; total time=   0.9s\n",
      "[CV] END max_depth=None, max_features=None, min_samples_leaf=1, min_samples_split=5; total time=   0.7s\n",
      "[CV] END max_depth=None, max_features=None, min_samples_leaf=1, min_samples_split=10; total time=   0.7s\n",
      "[CV] END max_depth=None, max_features=None, min_samples_leaf=1, min_samples_split=10; total time=   0.9s\n",
      "[CV] END max_depth=None, max_features=None, min_samples_leaf=1, min_samples_split=10; total time=   0.7s\n",
      "[CV] END max_depth=None, max_features=None, min_samples_leaf=2, min_samples_split=2; total time=   0.7s\n",
      "[CV] END max_depth=None, max_features=None, min_samples_leaf=2, min_samples_split=2; total time=   0.9s\n",
      "[CV] END max_depth=None, max_features=None, min_samples_leaf=2, min_samples_split=2; total time=   0.6s\n",
      "[CV] END max_depth=None, max_features=None, min_samples_leaf=2, min_samples_split=5; total time=   0.6s\n",
      "[CV] END max_depth=None, max_features=None, min_samples_leaf=2, min_samples_split=5; total time=   0.9s\n",
      "[CV] END max_depth=None, max_features=None, min_samples_leaf=2, min_samples_split=5; total time=   0.6s\n",
      "[CV] END max_depth=None, max_features=None, min_samples_leaf=2, min_samples_split=10; total time=   0.7s\n",
      "[CV] END max_depth=None, max_features=None, min_samples_leaf=2, min_samples_split=10; total time=   0.8s\n",
      "[CV] END max_depth=None, max_features=None, min_samples_leaf=2, min_samples_split=10; total time=   0.6s\n",
      "[CV] END max_depth=None, max_features=None, min_samples_leaf=4, min_samples_split=2; total time=   0.6s\n",
      "[CV] END max_depth=None, max_features=None, min_samples_leaf=4, min_samples_split=2; total time=   0.6s\n",
      "[CV] END max_depth=None, max_features=None, min_samples_leaf=4, min_samples_split=2; total time=   0.6s\n",
      "[CV] END max_depth=None, max_features=None, min_samples_leaf=4, min_samples_split=5; total time=   0.6s\n",
      "[CV] END max_depth=None, max_features=None, min_samples_leaf=4, min_samples_split=5; total time=   0.6s\n",
      "[CV] END max_depth=None, max_features=None, min_samples_leaf=4, min_samples_split=5; total time=   0.6s\n",
      "[CV] END max_depth=None, max_features=None, min_samples_leaf=4, min_samples_split=10; total time=   0.6s\n",
      "[CV] END max_depth=None, max_features=None, min_samples_leaf=4, min_samples_split=10; total time=   0.6s\n",
      "[CV] END max_depth=None, max_features=None, min_samples_leaf=4, min_samples_split=10; total time=   0.6s\n",
      "[CV] END max_depth=None, max_features=sqrt, min_samples_leaf=1, min_samples_split=2; total time=   0.2s\n",
      "[CV] END max_depth=None, max_features=sqrt, min_samples_leaf=1, min_samples_split=2; total time=   0.2s\n",
      "[CV] END max_depth=None, max_features=sqrt, min_samples_leaf=1, min_samples_split=2; total time=   0.2s\n",
      "[CV] END max_depth=None, max_features=sqrt, min_samples_leaf=1, min_samples_split=5; total time=   0.2s\n",
      "[CV] END max_depth=None, max_features=sqrt, min_samples_leaf=1, min_samples_split=5; total time=   0.3s\n",
      "[CV] END max_depth=None, max_features=sqrt, min_samples_leaf=1, min_samples_split=5; total time=   0.2s\n",
      "[CV] END max_depth=None, max_features=sqrt, min_samples_leaf=1, min_samples_split=10; total time=   0.2s\n",
      "[CV] END max_depth=None, max_features=sqrt, min_samples_leaf=1, min_samples_split=10; total time=   0.2s\n",
      "[CV] END max_depth=None, max_features=sqrt, min_samples_leaf=1, min_samples_split=10; total time=   0.2s\n",
      "[CV] END max_depth=None, max_features=sqrt, min_samples_leaf=2, min_samples_split=2; total time=   0.2s\n",
      "[CV] END max_depth=None, max_features=sqrt, min_samples_leaf=2, min_samples_split=2; total time=   0.2s\n",
      "[CV] END max_depth=None, max_features=sqrt, min_samples_leaf=2, min_samples_split=2; total time=   0.2s\n",
      "[CV] END max_depth=None, max_features=sqrt, min_samples_leaf=2, min_samples_split=5; total time=   0.2s\n",
      "[CV] END max_depth=None, max_features=sqrt, min_samples_leaf=2, min_samples_split=5; total time=   0.2s\n",
      "[CV] END max_depth=None, max_features=sqrt, min_samples_leaf=2, min_samples_split=5; total time=   0.2s\n",
      "[CV] END max_depth=None, max_features=sqrt, min_samples_leaf=2, min_samples_split=10; total time=   0.2s\n",
      "[CV] END max_depth=None, max_features=sqrt, min_samples_leaf=2, min_samples_split=10; total time=   0.2s\n",
      "[CV] END max_depth=None, max_features=sqrt, min_samples_leaf=2, min_samples_split=10; total time=   0.2s\n",
      "[CV] END max_depth=None, max_features=sqrt, min_samples_leaf=4, min_samples_split=2; total time=   0.1s\n",
      "[CV] END max_depth=None, max_features=sqrt, min_samples_leaf=4, min_samples_split=2; total time=   0.1s\n",
      "[CV] END max_depth=None, max_features=sqrt, min_samples_leaf=4, min_samples_split=2; total time=   0.1s\n",
      "[CV] END max_depth=None, max_features=sqrt, min_samples_leaf=4, min_samples_split=5; total time=   0.1s\n",
      "[CV] END max_depth=None, max_features=sqrt, min_samples_leaf=4, min_samples_split=5; total time=   0.1s\n",
      "[CV] END max_depth=None, max_features=sqrt, min_samples_leaf=4, min_samples_split=5; total time=   0.1s\n",
      "[CV] END max_depth=None, max_features=sqrt, min_samples_leaf=4, min_samples_split=10; total time=   0.2s\n",
      "[CV] END max_depth=None, max_features=sqrt, min_samples_leaf=4, min_samples_split=10; total time=   0.1s\n",
      "[CV] END max_depth=None, max_features=sqrt, min_samples_leaf=4, min_samples_split=10; total time=   0.1s\n",
      "[CV] END max_depth=None, max_features=log2, min_samples_leaf=1, min_samples_split=2; total time=   0.2s\n",
      "[CV] END max_depth=None, max_features=log2, min_samples_leaf=1, min_samples_split=2; total time=   0.2s\n",
      "[CV] END max_depth=None, max_features=log2, min_samples_leaf=1, min_samples_split=2; total time=   0.2s\n",
      "[CV] END max_depth=None, max_features=log2, min_samples_leaf=1, min_samples_split=5; total time=   0.2s\n",
      "[CV] END max_depth=None, max_features=log2, min_samples_leaf=1, min_samples_split=5; total time=   0.2s\n",
      "[CV] END max_depth=None, max_features=log2, min_samples_leaf=1, min_samples_split=5; total time=   0.2s\n",
      "[CV] END max_depth=None, max_features=log2, min_samples_leaf=1, min_samples_split=10; total time=   0.2s\n",
      "[CV] END max_depth=None, max_features=log2, min_samples_leaf=1, min_samples_split=10; total time=   0.2s\n",
      "[CV] END max_depth=None, max_features=log2, min_samples_leaf=1, min_samples_split=10; total time=   0.2s\n",
      "[CV] END max_depth=None, max_features=log2, min_samples_leaf=2, min_samples_split=2; total time=   0.1s\n",
      "[CV] END max_depth=None, max_features=log2, min_samples_leaf=2, min_samples_split=2; total time=   0.1s\n",
      "[CV] END max_depth=None, max_features=log2, min_samples_leaf=2, min_samples_split=2; total time=   0.1s\n",
      "[CV] END max_depth=None, max_features=log2, min_samples_leaf=2, min_samples_split=5; total time=   0.1s\n",
      "[CV] END max_depth=None, max_features=log2, min_samples_leaf=2, min_samples_split=5; total time=   0.1s\n",
      "[CV] END max_depth=None, max_features=log2, min_samples_leaf=2, min_samples_split=5; total time=   0.1s\n",
      "[CV] END max_depth=None, max_features=log2, min_samples_leaf=2, min_samples_split=10; total time=   0.1s\n",
      "[CV] END max_depth=None, max_features=log2, min_samples_leaf=2, min_samples_split=10; total time=   0.1s\n",
      "[CV] END max_depth=None, max_features=log2, min_samples_leaf=2, min_samples_split=10; total time=   0.1s\n",
      "[CV] END max_depth=None, max_features=log2, min_samples_leaf=4, min_samples_split=2; total time=   0.1s\n",
      "[CV] END max_depth=None, max_features=log2, min_samples_leaf=4, min_samples_split=2; total time=   0.1s\n",
      "[CV] END max_depth=None, max_features=log2, min_samples_leaf=4, min_samples_split=2; total time=   0.1s\n",
      "[CV] END max_depth=None, max_features=log2, min_samples_leaf=4, min_samples_split=5; total time=   0.1s\n",
      "[CV] END max_depth=None, max_features=log2, min_samples_leaf=4, min_samples_split=5; total time=   0.1s\n",
      "[CV] END max_depth=None, max_features=log2, min_samples_leaf=4, min_samples_split=5; total time=   0.1s\n",
      "[CV] END max_depth=None, max_features=log2, min_samples_leaf=4, min_samples_split=10; total time=   0.1s\n",
      "[CV] END max_depth=None, max_features=log2, min_samples_leaf=4, min_samples_split=10; total time=   0.1s\n"
     ]
    },
    {
     "name": "stdout",
     "output_type": "stream",
     "text": [
      "[CV] END max_depth=None, max_features=log2, min_samples_leaf=4, min_samples_split=10; total time=   0.1s\n",
      "Best parameters for resample: {'max_depth': None, 'max_features': None, 'min_samples_leaf': 1, 'min_samples_split': 2}\n",
      "F1 Score on Validation Set (Resample) with tuning: 0.5452054794520548\n"
     ]
    }
   ],
   "source": [
    "# Initialize the model\n",
    "dt_resample = DecisionTreeClassifier(random_state=42)\n",
    "\n",
    "# Initialize GridSearchCV\n",
    "grid_search_resample = GridSearchCV(estimator=dt_resample, param_grid=param_grid, \n",
    "                                    scoring=make_scorer(f1_score), cv=3, n_jobs=-1, verbose=2)\n",
    "\n",
    "# Fit the grid search to the data\n",
    "grid_search_resample.fit(X_train_balanced, y_train_balanced)\n",
    "\n",
    "# Get the best parameters\n",
    "best_params_resample = grid_search_resample.best_params_\n",
    "print(f\"Best parameters for resample: {best_params_resample}\")\n",
    "\n",
    "# Train the model with the best parameters\n",
    "best_dt_resample = grid_search_resample.best_estimator_\n",
    "\n",
    "# Predict on validation set\n",
    "y_pred_valid_resample = best_dt_resample.predict(features_valid_processed)\n",
    "\n",
    "# Evaluate on validation set\n",
    "f1_valid_resample = f1_score(target_valid, y_pred_valid_resample)\n",
    "print(f\"F1 Score on Validation Set (Resample) with tuning: {f1_valid_resample}\")"
   ]
  },
  {
   "cell_type": "code",
   "execution_count": 28,
   "metadata": {},
   "outputs": [
    {
     "name": "stdout",
     "output_type": "stream",
     "text": [
      "Fitting 3 folds for each of 270 candidates, totalling 810 fits\n",
      "[CV] END class_weight=None, max_depth=3, max_features=None, min_samples_leaf=1, min_samples_split=2; total time=   0.3s\n",
      "[CV] END class_weight=None, max_depth=3, max_features=None, min_samples_leaf=1, min_samples_split=2; total time=   0.3s\n",
      "[CV] END class_weight=None, max_depth=3, max_features=None, min_samples_leaf=1, min_samples_split=2; total time=   0.3s\n",
      "[CV] END class_weight=None, max_depth=3, max_features=None, min_samples_leaf=1, min_samples_split=5; total time=   0.3s\n",
      "[CV] END class_weight=None, max_depth=3, max_features=None, min_samples_leaf=1, min_samples_split=5; total time=   0.3s\n",
      "[CV] END class_weight=None, max_depth=3, max_features=None, min_samples_leaf=1, min_samples_split=5; total time=   0.3s\n",
      "[CV] END class_weight=None, max_depth=3, max_features=None, min_samples_leaf=1, min_samples_split=10; total time=   0.3s\n",
      "[CV] END class_weight=None, max_depth=3, max_features=None, min_samples_leaf=1, min_samples_split=10; total time=   0.3s\n",
      "[CV] END class_weight=None, max_depth=3, max_features=None, min_samples_leaf=1, min_samples_split=10; total time=   0.3s\n",
      "[CV] END class_weight=None, max_depth=3, max_features=None, min_samples_leaf=2, min_samples_split=2; total time=   0.3s\n",
      "[CV] END class_weight=None, max_depth=3, max_features=None, min_samples_leaf=2, min_samples_split=2; total time=   0.3s\n",
      "[CV] END class_weight=None, max_depth=3, max_features=None, min_samples_leaf=2, min_samples_split=2; total time=   0.3s\n",
      "[CV] END class_weight=None, max_depth=3, max_features=None, min_samples_leaf=2, min_samples_split=5; total time=   0.3s\n",
      "[CV] END class_weight=None, max_depth=3, max_features=None, min_samples_leaf=2, min_samples_split=5; total time=   0.3s\n",
      "[CV] END class_weight=None, max_depth=3, max_features=None, min_samples_leaf=2, min_samples_split=5; total time=   0.3s\n",
      "[CV] END class_weight=None, max_depth=3, max_features=None, min_samples_leaf=2, min_samples_split=10; total time=   0.3s\n",
      "[CV] END class_weight=None, max_depth=3, max_features=None, min_samples_leaf=2, min_samples_split=10; total time=   0.3s\n",
      "[CV] END class_weight=None, max_depth=3, max_features=None, min_samples_leaf=2, min_samples_split=10; total time=   0.3s\n",
      "[CV] END class_weight=None, max_depth=3, max_features=None, min_samples_leaf=4, min_samples_split=2; total time=   0.3s\n",
      "[CV] END class_weight=None, max_depth=3, max_features=None, min_samples_leaf=4, min_samples_split=2; total time=   0.3s\n",
      "[CV] END class_weight=None, max_depth=3, max_features=None, min_samples_leaf=4, min_samples_split=2; total time=   0.3s\n",
      "[CV] END class_weight=None, max_depth=3, max_features=None, min_samples_leaf=4, min_samples_split=5; total time=   0.3s\n",
      "[CV] END class_weight=None, max_depth=3, max_features=None, min_samples_leaf=4, min_samples_split=5; total time=   0.3s\n",
      "[CV] END class_weight=None, max_depth=3, max_features=None, min_samples_leaf=4, min_samples_split=5; total time=   0.3s\n",
      "[CV] END class_weight=None, max_depth=3, max_features=None, min_samples_leaf=4, min_samples_split=10; total time=   0.3s\n",
      "[CV] END class_weight=None, max_depth=3, max_features=None, min_samples_leaf=4, min_samples_split=10; total time=   0.3s\n",
      "[CV] END class_weight=None, max_depth=3, max_features=None, min_samples_leaf=4, min_samples_split=10; total time=   0.3s\n",
      "[CV] END class_weight=None, max_depth=3, max_features=sqrt, min_samples_leaf=1, min_samples_split=2; total time=   0.1s\n",
      "[CV] END class_weight=None, max_depth=3, max_features=sqrt, min_samples_leaf=1, min_samples_split=2; total time=   0.1s\n",
      "[CV] END class_weight=None, max_depth=3, max_features=sqrt, min_samples_leaf=1, min_samples_split=2; total time=   0.1s\n",
      "[CV] END class_weight=None, max_depth=3, max_features=sqrt, min_samples_leaf=1, min_samples_split=5; total time=   0.1s\n",
      "[CV] END class_weight=None, max_depth=3, max_features=sqrt, min_samples_leaf=1, min_samples_split=5; total time=   0.1s\n",
      "[CV] END class_weight=None, max_depth=3, max_features=sqrt, min_samples_leaf=1, min_samples_split=5; total time=   0.1s\n",
      "[CV] END class_weight=None, max_depth=3, max_features=sqrt, min_samples_leaf=1, min_samples_split=10; total time=   0.1s\n",
      "[CV] END class_weight=None, max_depth=3, max_features=sqrt, min_samples_leaf=1, min_samples_split=10; total time=   0.1s\n",
      "[CV] END class_weight=None, max_depth=3, max_features=sqrt, min_samples_leaf=1, min_samples_split=10; total time=   0.1s\n",
      "[CV] END class_weight=None, max_depth=3, max_features=sqrt, min_samples_leaf=2, min_samples_split=2; total time=   0.1s\n",
      "[CV] END class_weight=None, max_depth=3, max_features=sqrt, min_samples_leaf=2, min_samples_split=2; total time=   0.1s\n",
      "[CV] END class_weight=None, max_depth=3, max_features=sqrt, min_samples_leaf=2, min_samples_split=2; total time=   0.1s\n",
      "[CV] END class_weight=None, max_depth=3, max_features=sqrt, min_samples_leaf=2, min_samples_split=5; total time=   0.1s\n",
      "[CV] END class_weight=None, max_depth=3, max_features=sqrt, min_samples_leaf=2, min_samples_split=5; total time=   0.1s\n",
      "[CV] END class_weight=None, max_depth=3, max_features=sqrt, min_samples_leaf=2, min_samples_split=5; total time=   0.1s\n",
      "[CV] END class_weight=None, max_depth=3, max_features=sqrt, min_samples_leaf=2, min_samples_split=10; total time=   0.1s\n",
      "[CV] END class_weight=None, max_depth=3, max_features=sqrt, min_samples_leaf=2, min_samples_split=10; total time=   0.1s\n",
      "[CV] END class_weight=None, max_depth=3, max_features=sqrt, min_samples_leaf=2, min_samples_split=10; total time=   0.1s\n",
      "[CV] END class_weight=None, max_depth=3, max_features=sqrt, min_samples_leaf=4, min_samples_split=2; total time=   0.1s\n",
      "[CV] END class_weight=None, max_depth=3, max_features=sqrt, min_samples_leaf=4, min_samples_split=2; total time=   0.1s\n",
      "[CV] END class_weight=None, max_depth=3, max_features=sqrt, min_samples_leaf=4, min_samples_split=2; total time=   0.1s\n",
      "[CV] END class_weight=None, max_depth=3, max_features=sqrt, min_samples_leaf=4, min_samples_split=5; total time=   0.1s\n",
      "[CV] END class_weight=None, max_depth=3, max_features=sqrt, min_samples_leaf=4, min_samples_split=5; total time=   0.1s\n",
      "[CV] END class_weight=None, max_depth=3, max_features=sqrt, min_samples_leaf=4, min_samples_split=5; total time=   0.1s\n",
      "[CV] END class_weight=None, max_depth=3, max_features=sqrt, min_samples_leaf=4, min_samples_split=10; total time=   0.1s\n",
      "[CV] END class_weight=None, max_depth=3, max_features=sqrt, min_samples_leaf=4, min_samples_split=10; total time=   0.1s\n",
      "[CV] END class_weight=None, max_depth=3, max_features=sqrt, min_samples_leaf=4, min_samples_split=10; total time=   0.1s\n",
      "[CV] END class_weight=None, max_depth=3, max_features=log2, min_samples_leaf=1, min_samples_split=2; total time=   0.1s\n",
      "[CV] END class_weight=None, max_depth=3, max_features=log2, min_samples_leaf=1, min_samples_split=2; total time=   0.1s\n",
      "[CV] END class_weight=None, max_depth=3, max_features=log2, min_samples_leaf=1, min_samples_split=2; total time=   0.1s\n",
      "[CV] END class_weight=None, max_depth=3, max_features=log2, min_samples_leaf=1, min_samples_split=5; total time=   0.1s\n",
      "[CV] END class_weight=None, max_depth=3, max_features=log2, min_samples_leaf=1, min_samples_split=5; total time=   0.1s\n",
      "[CV] END class_weight=None, max_depth=3, max_features=log2, min_samples_leaf=1, min_samples_split=5; total time=   0.1s\n",
      "[CV] END class_weight=None, max_depth=3, max_features=log2, min_samples_leaf=1, min_samples_split=10; total time=   0.1s\n",
      "[CV] END class_weight=None, max_depth=3, max_features=log2, min_samples_leaf=1, min_samples_split=10; total time=   0.1s\n",
      "[CV] END class_weight=None, max_depth=3, max_features=log2, min_samples_leaf=1, min_samples_split=10; total time=   0.1s\n",
      "[CV] END class_weight=None, max_depth=3, max_features=log2, min_samples_leaf=2, min_samples_split=2; total time=   0.1s\n",
      "[CV] END class_weight=None, max_depth=3, max_features=log2, min_samples_leaf=2, min_samples_split=2; total time=   0.1s\n",
      "[CV] END class_weight=None, max_depth=3, max_features=log2, min_samples_leaf=2, min_samples_split=2; total time=   0.1s\n",
      "[CV] END class_weight=None, max_depth=3, max_features=log2, min_samples_leaf=2, min_samples_split=5; total time=   0.1s\n",
      "[CV] END class_weight=None, max_depth=3, max_features=log2, min_samples_leaf=2, min_samples_split=5; total time=   0.1s\n"
     ]
    },
    {
     "name": "stdout",
     "output_type": "stream",
     "text": [
      "[CV] END class_weight=None, max_depth=3, max_features=log2, min_samples_leaf=2, min_samples_split=5; total time=   0.1s\n",
      "[CV] END class_weight=None, max_depth=3, max_features=log2, min_samples_leaf=2, min_samples_split=10; total time=   0.1s\n",
      "[CV] END class_weight=None, max_depth=3, max_features=log2, min_samples_leaf=2, min_samples_split=10; total time=   0.1s\n",
      "[CV] END class_weight=None, max_depth=3, max_features=log2, min_samples_leaf=2, min_samples_split=10; total time=   0.1s\n",
      "[CV] END class_weight=None, max_depth=3, max_features=log2, min_samples_leaf=4, min_samples_split=2; total time=   0.1s\n",
      "[CV] END class_weight=None, max_depth=3, max_features=log2, min_samples_leaf=4, min_samples_split=2; total time=   0.1s\n",
      "[CV] END class_weight=None, max_depth=3, max_features=log2, min_samples_leaf=4, min_samples_split=2; total time=   0.1s\n",
      "[CV] END class_weight=None, max_depth=3, max_features=log2, min_samples_leaf=4, min_samples_split=5; total time=   0.1s\n",
      "[CV] END class_weight=None, max_depth=3, max_features=log2, min_samples_leaf=4, min_samples_split=5; total time=   0.1s\n",
      "[CV] END class_weight=None, max_depth=3, max_features=log2, min_samples_leaf=4, min_samples_split=5; total time=   0.1s\n",
      "[CV] END class_weight=None, max_depth=3, max_features=log2, min_samples_leaf=4, min_samples_split=10; total time=   0.1s\n",
      "[CV] END class_weight=None, max_depth=3, max_features=log2, min_samples_leaf=4, min_samples_split=10; total time=   0.1s\n",
      "[CV] END class_weight=None, max_depth=3, max_features=log2, min_samples_leaf=4, min_samples_split=10; total time=   0.1s\n",
      "[CV] END class_weight=None, max_depth=5, max_features=None, min_samples_leaf=1, min_samples_split=2; total time=   0.3s\n",
      "[CV] END class_weight=None, max_depth=5, max_features=None, min_samples_leaf=1, min_samples_split=2; total time=   0.4s\n",
      "[CV] END class_weight=None, max_depth=5, max_features=None, min_samples_leaf=1, min_samples_split=2; total time=   0.4s\n",
      "[CV] END class_weight=None, max_depth=5, max_features=None, min_samples_leaf=1, min_samples_split=5; total time=   0.4s\n",
      "[CV] END class_weight=None, max_depth=5, max_features=None, min_samples_leaf=1, min_samples_split=5; total time=   0.4s\n",
      "[CV] END class_weight=None, max_depth=5, max_features=None, min_samples_leaf=1, min_samples_split=5; total time=   0.4s\n",
      "[CV] END class_weight=None, max_depth=5, max_features=None, min_samples_leaf=1, min_samples_split=10; total time=   0.4s\n",
      "[CV] END class_weight=None, max_depth=5, max_features=None, min_samples_leaf=1, min_samples_split=10; total time=   0.4s\n",
      "[CV] END class_weight=None, max_depth=5, max_features=None, min_samples_leaf=1, min_samples_split=10; total time=   0.4s\n",
      "[CV] END class_weight=None, max_depth=5, max_features=None, min_samples_leaf=2, min_samples_split=2; total time=   0.4s\n",
      "[CV] END class_weight=None, max_depth=5, max_features=None, min_samples_leaf=2, min_samples_split=2; total time=   0.4s\n",
      "[CV] END class_weight=None, max_depth=5, max_features=None, min_samples_leaf=2, min_samples_split=2; total time=   0.3s\n",
      "[CV] END class_weight=None, max_depth=5, max_features=None, min_samples_leaf=2, min_samples_split=5; total time=   0.3s\n",
      "[CV] END class_weight=None, max_depth=5, max_features=None, min_samples_leaf=2, min_samples_split=5; total time=   0.3s\n",
      "[CV] END class_weight=None, max_depth=5, max_features=None, min_samples_leaf=2, min_samples_split=5; total time=   0.3s\n",
      "[CV] END class_weight=None, max_depth=5, max_features=None, min_samples_leaf=2, min_samples_split=10; total time=   0.4s\n",
      "[CV] END class_weight=None, max_depth=5, max_features=None, min_samples_leaf=2, min_samples_split=10; total time=   0.4s\n",
      "[CV] END class_weight=None, max_depth=5, max_features=None, min_samples_leaf=2, min_samples_split=10; total time=   0.4s\n",
      "[CV] END class_weight=None, max_depth=5, max_features=None, min_samples_leaf=4, min_samples_split=2; total time=   0.4s\n",
      "[CV] END class_weight=None, max_depth=5, max_features=None, min_samples_leaf=4, min_samples_split=2; total time=   0.4s\n",
      "[CV] END class_weight=None, max_depth=5, max_features=None, min_samples_leaf=4, min_samples_split=2; total time=   0.3s\n",
      "[CV] END class_weight=None, max_depth=5, max_features=None, min_samples_leaf=4, min_samples_split=5; total time=   0.4s\n",
      "[CV] END class_weight=None, max_depth=5, max_features=None, min_samples_leaf=4, min_samples_split=5; total time=   0.4s\n",
      "[CV] END class_weight=None, max_depth=5, max_features=None, min_samples_leaf=4, min_samples_split=5; total time=   0.3s\n",
      "[CV] END class_weight=None, max_depth=5, max_features=None, min_samples_leaf=4, min_samples_split=10; total time=   0.3s\n",
      "[CV] END class_weight=None, max_depth=5, max_features=None, min_samples_leaf=4, min_samples_split=10; total time=   0.3s\n",
      "[CV] END class_weight=None, max_depth=5, max_features=None, min_samples_leaf=4, min_samples_split=10; total time=   0.3s\n",
      "[CV] END class_weight=None, max_depth=5, max_features=sqrt, min_samples_leaf=1, min_samples_split=2; total time=   0.1s\n",
      "[CV] END class_weight=None, max_depth=5, max_features=sqrt, min_samples_leaf=1, min_samples_split=2; total time=   0.1s\n",
      "[CV] END class_weight=None, max_depth=5, max_features=sqrt, min_samples_leaf=1, min_samples_split=2; total time=   0.1s\n",
      "[CV] END class_weight=None, max_depth=5, max_features=sqrt, min_samples_leaf=1, min_samples_split=5; total time=   0.1s\n",
      "[CV] END class_weight=None, max_depth=5, max_features=sqrt, min_samples_leaf=1, min_samples_split=5; total time=   0.1s\n",
      "[CV] END class_weight=None, max_depth=5, max_features=sqrt, min_samples_leaf=1, min_samples_split=5; total time=   0.1s\n",
      "[CV] END class_weight=None, max_depth=5, max_features=sqrt, min_samples_leaf=1, min_samples_split=10; total time=   0.1s\n",
      "[CV] END class_weight=None, max_depth=5, max_features=sqrt, min_samples_leaf=1, min_samples_split=10; total time=   0.1s\n",
      "[CV] END class_weight=None, max_depth=5, max_features=sqrt, min_samples_leaf=1, min_samples_split=10; total time=   0.1s\n",
      "[CV] END class_weight=None, max_depth=5, max_features=sqrt, min_samples_leaf=2, min_samples_split=2; total time=   0.1s\n",
      "[CV] END class_weight=None, max_depth=5, max_features=sqrt, min_samples_leaf=2, min_samples_split=2; total time=   0.1s\n",
      "[CV] END class_weight=None, max_depth=5, max_features=sqrt, min_samples_leaf=2, min_samples_split=2; total time=   0.1s\n",
      "[CV] END class_weight=None, max_depth=5, max_features=sqrt, min_samples_leaf=2, min_samples_split=5; total time=   0.1s\n",
      "[CV] END class_weight=None, max_depth=5, max_features=sqrt, min_samples_leaf=2, min_samples_split=5; total time=   0.1s\n",
      "[CV] END class_weight=None, max_depth=5, max_features=sqrt, min_samples_leaf=2, min_samples_split=5; total time=   0.1s\n",
      "[CV] END class_weight=None, max_depth=5, max_features=sqrt, min_samples_leaf=2, min_samples_split=10; total time=   0.1s\n",
      "[CV] END class_weight=None, max_depth=5, max_features=sqrt, min_samples_leaf=2, min_samples_split=10; total time=   0.1s\n",
      "[CV] END class_weight=None, max_depth=5, max_features=sqrt, min_samples_leaf=2, min_samples_split=10; total time=   0.1s\n",
      "[CV] END class_weight=None, max_depth=5, max_features=sqrt, min_samples_leaf=4, min_samples_split=2; total time=   0.1s\n",
      "[CV] END class_weight=None, max_depth=5, max_features=sqrt, min_samples_leaf=4, min_samples_split=2; total time=   0.1s\n",
      "[CV] END class_weight=None, max_depth=5, max_features=sqrt, min_samples_leaf=4, min_samples_split=2; total time=   0.1s\n",
      "[CV] END class_weight=None, max_depth=5, max_features=sqrt, min_samples_leaf=4, min_samples_split=5; total time=   0.1s\n",
      "[CV] END class_weight=None, max_depth=5, max_features=sqrt, min_samples_leaf=4, min_samples_split=5; total time=   0.1s\n",
      "[CV] END class_weight=None, max_depth=5, max_features=sqrt, min_samples_leaf=4, min_samples_split=5; total time=   0.1s\n",
      "[CV] END class_weight=None, max_depth=5, max_features=sqrt, min_samples_leaf=4, min_samples_split=10; total time=   0.1s\n",
      "[CV] END class_weight=None, max_depth=5, max_features=sqrt, min_samples_leaf=4, min_samples_split=10; total time=   0.1s\n",
      "[CV] END class_weight=None, max_depth=5, max_features=sqrt, min_samples_leaf=4, min_samples_split=10; total time=   0.1s\n",
      "[CV] END class_weight=None, max_depth=5, max_features=log2, min_samples_leaf=1, min_samples_split=2; total time=   0.1s\n",
      "[CV] END class_weight=None, max_depth=5, max_features=log2, min_samples_leaf=1, min_samples_split=2; total time=   0.1s\n",
      "[CV] END class_weight=None, max_depth=5, max_features=log2, min_samples_leaf=1, min_samples_split=2; total time=   0.1s\n",
      "[CV] END class_weight=None, max_depth=5, max_features=log2, min_samples_leaf=1, min_samples_split=5; total time=   0.1s\n"
     ]
    },
    {
     "name": "stdout",
     "output_type": "stream",
     "text": [
      "[CV] END class_weight=None, max_depth=5, max_features=log2, min_samples_leaf=1, min_samples_split=5; total time=   0.1s\n",
      "[CV] END class_weight=None, max_depth=5, max_features=log2, min_samples_leaf=1, min_samples_split=5; total time=   0.1s\n",
      "[CV] END class_weight=None, max_depth=5, max_features=log2, min_samples_leaf=1, min_samples_split=10; total time=   0.1s\n",
      "[CV] END class_weight=None, max_depth=5, max_features=log2, min_samples_leaf=1, min_samples_split=10; total time=   0.1s\n",
      "[CV] END class_weight=None, max_depth=5, max_features=log2, min_samples_leaf=1, min_samples_split=10; total time=   0.1s\n",
      "[CV] END class_weight=None, max_depth=5, max_features=log2, min_samples_leaf=2, min_samples_split=2; total time=   0.1s\n",
      "[CV] END class_weight=None, max_depth=5, max_features=log2, min_samples_leaf=2, min_samples_split=2; total time=   0.1s\n",
      "[CV] END class_weight=None, max_depth=5, max_features=log2, min_samples_leaf=2, min_samples_split=2; total time=   0.1s\n",
      "[CV] END class_weight=None, max_depth=5, max_features=log2, min_samples_leaf=2, min_samples_split=5; total time=   0.1s\n",
      "[CV] END class_weight=None, max_depth=5, max_features=log2, min_samples_leaf=2, min_samples_split=5; total time=   0.1s\n",
      "[CV] END class_weight=None, max_depth=5, max_features=log2, min_samples_leaf=2, min_samples_split=5; total time=   0.1s\n",
      "[CV] END class_weight=None, max_depth=5, max_features=log2, min_samples_leaf=2, min_samples_split=10; total time=   0.1s\n",
      "[CV] END class_weight=None, max_depth=5, max_features=log2, min_samples_leaf=2, min_samples_split=10; total time=   0.1s\n",
      "[CV] END class_weight=None, max_depth=5, max_features=log2, min_samples_leaf=2, min_samples_split=10; total time=   0.1s\n",
      "[CV] END class_weight=None, max_depth=5, max_features=log2, min_samples_leaf=4, min_samples_split=2; total time=   0.1s\n",
      "[CV] END class_weight=None, max_depth=5, max_features=log2, min_samples_leaf=4, min_samples_split=2; total time=   0.1s\n",
      "[CV] END class_weight=None, max_depth=5, max_features=log2, min_samples_leaf=4, min_samples_split=2; total time=   0.1s\n",
      "[CV] END class_weight=None, max_depth=5, max_features=log2, min_samples_leaf=4, min_samples_split=5; total time=   0.1s\n",
      "[CV] END class_weight=None, max_depth=5, max_features=log2, min_samples_leaf=4, min_samples_split=5; total time=   0.1s\n",
      "[CV] END class_weight=None, max_depth=5, max_features=log2, min_samples_leaf=4, min_samples_split=5; total time=   0.1s\n",
      "[CV] END class_weight=None, max_depth=5, max_features=log2, min_samples_leaf=4, min_samples_split=10; total time=   0.1s\n",
      "[CV] END class_weight=None, max_depth=5, max_features=log2, min_samples_leaf=4, min_samples_split=10; total time=   0.1s\n",
      "[CV] END class_weight=None, max_depth=5, max_features=log2, min_samples_leaf=4, min_samples_split=10; total time=   0.1s\n",
      "[CV] END class_weight=None, max_depth=7, max_features=None, min_samples_leaf=1, min_samples_split=2; total time=   0.4s\n",
      "[CV] END class_weight=None, max_depth=7, max_features=None, min_samples_leaf=1, min_samples_split=2; total time=   0.5s\n",
      "[CV] END class_weight=None, max_depth=7, max_features=None, min_samples_leaf=1, min_samples_split=2; total time=   0.4s\n",
      "[CV] END class_weight=None, max_depth=7, max_features=None, min_samples_leaf=1, min_samples_split=5; total time=   0.4s\n",
      "[CV] END class_weight=None, max_depth=7, max_features=None, min_samples_leaf=1, min_samples_split=5; total time=   0.4s\n",
      "[CV] END class_weight=None, max_depth=7, max_features=None, min_samples_leaf=1, min_samples_split=5; total time=   0.4s\n",
      "[CV] END class_weight=None, max_depth=7, max_features=None, min_samples_leaf=1, min_samples_split=10; total time=   0.4s\n",
      "[CV] END class_weight=None, max_depth=7, max_features=None, min_samples_leaf=1, min_samples_split=10; total time=   0.4s\n",
      "[CV] END class_weight=None, max_depth=7, max_features=None, min_samples_leaf=1, min_samples_split=10; total time=   0.4s\n",
      "[CV] END class_weight=None, max_depth=7, max_features=None, min_samples_leaf=2, min_samples_split=2; total time=   0.4s\n",
      "[CV] END class_weight=None, max_depth=7, max_features=None, min_samples_leaf=2, min_samples_split=2; total time=   0.4s\n",
      "[CV] END class_weight=None, max_depth=7, max_features=None, min_samples_leaf=2, min_samples_split=2; total time=   0.4s\n",
      "[CV] END class_weight=None, max_depth=7, max_features=None, min_samples_leaf=2, min_samples_split=5; total time=   0.4s\n",
      "[CV] END class_weight=None, max_depth=7, max_features=None, min_samples_leaf=2, min_samples_split=5; total time=   0.4s\n",
      "[CV] END class_weight=None, max_depth=7, max_features=None, min_samples_leaf=2, min_samples_split=5; total time=   0.4s\n",
      "[CV] END class_weight=None, max_depth=7, max_features=None, min_samples_leaf=2, min_samples_split=10; total time=   0.4s\n",
      "[CV] END class_weight=None, max_depth=7, max_features=None, min_samples_leaf=2, min_samples_split=10; total time=   0.4s\n",
      "[CV] END class_weight=None, max_depth=7, max_features=None, min_samples_leaf=2, min_samples_split=10; total time=   0.4s\n",
      "[CV] END class_weight=None, max_depth=7, max_features=None, min_samples_leaf=4, min_samples_split=2; total time=   0.4s\n",
      "[CV] END class_weight=None, max_depth=7, max_features=None, min_samples_leaf=4, min_samples_split=2; total time=   0.4s\n",
      "[CV] END class_weight=None, max_depth=7, max_features=None, min_samples_leaf=4, min_samples_split=2; total time=   0.4s\n",
      "[CV] END class_weight=None, max_depth=7, max_features=None, min_samples_leaf=4, min_samples_split=5; total time=   0.4s\n",
      "[CV] END class_weight=None, max_depth=7, max_features=None, min_samples_leaf=4, min_samples_split=5; total time=   0.4s\n",
      "[CV] END class_weight=None, max_depth=7, max_features=None, min_samples_leaf=4, min_samples_split=5; total time=   0.4s\n",
      "[CV] END class_weight=None, max_depth=7, max_features=None, min_samples_leaf=4, min_samples_split=10; total time=   0.4s\n",
      "[CV] END class_weight=None, max_depth=7, max_features=None, min_samples_leaf=4, min_samples_split=10; total time=   0.4s\n",
      "[CV] END class_weight=None, max_depth=7, max_features=None, min_samples_leaf=4, min_samples_split=10; total time=   0.4s\n",
      "[CV] END class_weight=None, max_depth=7, max_features=sqrt, min_samples_leaf=1, min_samples_split=2; total time=   0.1s\n",
      "[CV] END class_weight=None, max_depth=7, max_features=sqrt, min_samples_leaf=1, min_samples_split=2; total time=   0.1s\n",
      "[CV] END class_weight=None, max_depth=7, max_features=sqrt, min_samples_leaf=1, min_samples_split=2; total time=   0.1s\n",
      "[CV] END class_weight=None, max_depth=7, max_features=sqrt, min_samples_leaf=1, min_samples_split=5; total time=   0.1s\n",
      "[CV] END class_weight=None, max_depth=7, max_features=sqrt, min_samples_leaf=1, min_samples_split=5; total time=   0.1s\n",
      "[CV] END class_weight=None, max_depth=7, max_features=sqrt, min_samples_leaf=1, min_samples_split=5; total time=   0.1s\n",
      "[CV] END class_weight=None, max_depth=7, max_features=sqrt, min_samples_leaf=1, min_samples_split=10; total time=   0.1s\n",
      "[CV] END class_weight=None, max_depth=7, max_features=sqrt, min_samples_leaf=1, min_samples_split=10; total time=   0.1s\n",
      "[CV] END class_weight=None, max_depth=7, max_features=sqrt, min_samples_leaf=1, min_samples_split=10; total time=   0.1s\n",
      "[CV] END class_weight=None, max_depth=7, max_features=sqrt, min_samples_leaf=2, min_samples_split=2; total time=   0.1s\n",
      "[CV] END class_weight=None, max_depth=7, max_features=sqrt, min_samples_leaf=2, min_samples_split=2; total time=   0.1s\n",
      "[CV] END class_weight=None, max_depth=7, max_features=sqrt, min_samples_leaf=2, min_samples_split=2; total time=   0.1s\n",
      "[CV] END class_weight=None, max_depth=7, max_features=sqrt, min_samples_leaf=2, min_samples_split=5; total time=   0.1s\n",
      "[CV] END class_weight=None, max_depth=7, max_features=sqrt, min_samples_leaf=2, min_samples_split=5; total time=   0.1s\n",
      "[CV] END class_weight=None, max_depth=7, max_features=sqrt, min_samples_leaf=2, min_samples_split=5; total time=   0.1s\n",
      "[CV] END class_weight=None, max_depth=7, max_features=sqrt, min_samples_leaf=2, min_samples_split=10; total time=   0.1s\n",
      "[CV] END class_weight=None, max_depth=7, max_features=sqrt, min_samples_leaf=2, min_samples_split=10; total time=   0.1s\n",
      "[CV] END class_weight=None, max_depth=7, max_features=sqrt, min_samples_leaf=2, min_samples_split=10; total time=   0.1s\n",
      "[CV] END class_weight=None, max_depth=7, max_features=sqrt, min_samples_leaf=4, min_samples_split=2; total time=   0.1s\n"
     ]
    },
    {
     "name": "stdout",
     "output_type": "stream",
     "text": [
      "[CV] END class_weight=None, max_depth=7, max_features=sqrt, min_samples_leaf=4, min_samples_split=2; total time=   0.1s\n",
      "[CV] END class_weight=None, max_depth=7, max_features=sqrt, min_samples_leaf=4, min_samples_split=2; total time=   0.1s\n",
      "[CV] END class_weight=None, max_depth=7, max_features=sqrt, min_samples_leaf=4, min_samples_split=5; total time=   0.1s\n",
      "[CV] END class_weight=None, max_depth=7, max_features=sqrt, min_samples_leaf=4, min_samples_split=5; total time=   0.1s\n",
      "[CV] END class_weight=None, max_depth=7, max_features=sqrt, min_samples_leaf=4, min_samples_split=5; total time=   0.1s\n",
      "[CV] END class_weight=None, max_depth=7, max_features=sqrt, min_samples_leaf=4, min_samples_split=10; total time=   0.1s\n",
      "[CV] END class_weight=None, max_depth=7, max_features=sqrt, min_samples_leaf=4, min_samples_split=10; total time=   0.1s\n",
      "[CV] END class_weight=None, max_depth=7, max_features=sqrt, min_samples_leaf=4, min_samples_split=10; total time=   0.1s\n",
      "[CV] END class_weight=None, max_depth=7, max_features=log2, min_samples_leaf=1, min_samples_split=2; total time=   0.1s\n",
      "[CV] END class_weight=None, max_depth=7, max_features=log2, min_samples_leaf=1, min_samples_split=2; total time=   0.1s\n",
      "[CV] END class_weight=None, max_depth=7, max_features=log2, min_samples_leaf=1, min_samples_split=2; total time=   0.1s\n",
      "[CV] END class_weight=None, max_depth=7, max_features=log2, min_samples_leaf=1, min_samples_split=5; total time=   0.1s\n",
      "[CV] END class_weight=None, max_depth=7, max_features=log2, min_samples_leaf=1, min_samples_split=5; total time=   0.1s\n",
      "[CV] END class_weight=None, max_depth=7, max_features=log2, min_samples_leaf=1, min_samples_split=5; total time=   0.1s\n",
      "[CV] END class_weight=None, max_depth=7, max_features=log2, min_samples_leaf=1, min_samples_split=10; total time=   0.1s\n",
      "[CV] END class_weight=None, max_depth=7, max_features=log2, min_samples_leaf=1, min_samples_split=10; total time=   0.1s\n",
      "[CV] END class_weight=None, max_depth=7, max_features=log2, min_samples_leaf=1, min_samples_split=10; total time=   0.1s\n",
      "[CV] END class_weight=None, max_depth=7, max_features=log2, min_samples_leaf=2, min_samples_split=2; total time=   0.1s\n",
      "[CV] END class_weight=None, max_depth=7, max_features=log2, min_samples_leaf=2, min_samples_split=2; total time=   0.1s\n",
      "[CV] END class_weight=None, max_depth=7, max_features=log2, min_samples_leaf=2, min_samples_split=2; total time=   0.1s\n",
      "[CV] END class_weight=None, max_depth=7, max_features=log2, min_samples_leaf=2, min_samples_split=5; total time=   0.1s\n",
      "[CV] END class_weight=None, max_depth=7, max_features=log2, min_samples_leaf=2, min_samples_split=5; total time=   0.1s\n",
      "[CV] END class_weight=None, max_depth=7, max_features=log2, min_samples_leaf=2, min_samples_split=5; total time=   0.1s\n",
      "[CV] END class_weight=None, max_depth=7, max_features=log2, min_samples_leaf=2, min_samples_split=10; total time=   0.1s\n",
      "[CV] END class_weight=None, max_depth=7, max_features=log2, min_samples_leaf=2, min_samples_split=10; total time=   0.1s\n",
      "[CV] END class_weight=None, max_depth=7, max_features=log2, min_samples_leaf=2, min_samples_split=10; total time=   0.1s\n",
      "[CV] END class_weight=None, max_depth=7, max_features=log2, min_samples_leaf=4, min_samples_split=2; total time=   0.1s\n",
      "[CV] END class_weight=None, max_depth=7, max_features=log2, min_samples_leaf=4, min_samples_split=2; total time=   0.1s\n",
      "[CV] END class_weight=None, max_depth=7, max_features=log2, min_samples_leaf=4, min_samples_split=2; total time=   0.1s\n",
      "[CV] END class_weight=None, max_depth=7, max_features=log2, min_samples_leaf=4, min_samples_split=5; total time=   0.1s\n",
      "[CV] END class_weight=None, max_depth=7, max_features=log2, min_samples_leaf=4, min_samples_split=5; total time=   0.1s\n",
      "[CV] END class_weight=None, max_depth=7, max_features=log2, min_samples_leaf=4, min_samples_split=5; total time=   0.1s\n",
      "[CV] END class_weight=None, max_depth=7, max_features=log2, min_samples_leaf=4, min_samples_split=10; total time=   0.1s\n",
      "[CV] END class_weight=None, max_depth=7, max_features=log2, min_samples_leaf=4, min_samples_split=10; total time=   0.1s\n",
      "[CV] END class_weight=None, max_depth=7, max_features=log2, min_samples_leaf=4, min_samples_split=10; total time=   0.1s\n",
      "[CV] END class_weight=None, max_depth=10, max_features=None, min_samples_leaf=1, min_samples_split=2; total time=   0.4s\n",
      "[CV] END class_weight=None, max_depth=10, max_features=None, min_samples_leaf=1, min_samples_split=2; total time=   0.4s\n",
      "[CV] END class_weight=None, max_depth=10, max_features=None, min_samples_leaf=1, min_samples_split=2; total time=   0.4s\n",
      "[CV] END class_weight=None, max_depth=10, max_features=None, min_samples_leaf=1, min_samples_split=5; total time=   0.4s\n",
      "[CV] END class_weight=None, max_depth=10, max_features=None, min_samples_leaf=1, min_samples_split=5; total time=   0.4s\n",
      "[CV] END class_weight=None, max_depth=10, max_features=None, min_samples_leaf=1, min_samples_split=5; total time=   0.4s\n",
      "[CV] END class_weight=None, max_depth=10, max_features=None, min_samples_leaf=1, min_samples_split=10; total time=   0.4s\n",
      "[CV] END class_weight=None, max_depth=10, max_features=None, min_samples_leaf=1, min_samples_split=10; total time=   0.4s\n",
      "[CV] END class_weight=None, max_depth=10, max_features=None, min_samples_leaf=1, min_samples_split=10; total time=   0.4s\n",
      "[CV] END class_weight=None, max_depth=10, max_features=None, min_samples_leaf=2, min_samples_split=2; total time=   0.4s\n",
      "[CV] END class_weight=None, max_depth=10, max_features=None, min_samples_leaf=2, min_samples_split=2; total time=   0.4s\n",
      "[CV] END class_weight=None, max_depth=10, max_features=None, min_samples_leaf=2, min_samples_split=2; total time=   0.4s\n",
      "[CV] END class_weight=None, max_depth=10, max_features=None, min_samples_leaf=2, min_samples_split=5; total time=   0.4s\n",
      "[CV] END class_weight=None, max_depth=10, max_features=None, min_samples_leaf=2, min_samples_split=5; total time=   0.4s\n",
      "[CV] END class_weight=None, max_depth=10, max_features=None, min_samples_leaf=2, min_samples_split=5; total time=   0.4s\n",
      "[CV] END class_weight=None, max_depth=10, max_features=None, min_samples_leaf=2, min_samples_split=10; total time=   0.4s\n",
      "[CV] END class_weight=None, max_depth=10, max_features=None, min_samples_leaf=2, min_samples_split=10; total time=   0.4s\n",
      "[CV] END class_weight=None, max_depth=10, max_features=None, min_samples_leaf=2, min_samples_split=10; total time=   0.4s\n",
      "[CV] END class_weight=None, max_depth=10, max_features=None, min_samples_leaf=4, min_samples_split=2; total time=   0.4s\n",
      "[CV] END class_weight=None, max_depth=10, max_features=None, min_samples_leaf=4, min_samples_split=2; total time=   0.4s\n",
      "[CV] END class_weight=None, max_depth=10, max_features=None, min_samples_leaf=4, min_samples_split=2; total time=   0.4s\n",
      "[CV] END class_weight=None, max_depth=10, max_features=None, min_samples_leaf=4, min_samples_split=5; total time=   0.4s\n",
      "[CV] END class_weight=None, max_depth=10, max_features=None, min_samples_leaf=4, min_samples_split=5; total time=   0.4s\n",
      "[CV] END class_weight=None, max_depth=10, max_features=None, min_samples_leaf=4, min_samples_split=5; total time=   0.4s\n",
      "[CV] END class_weight=None, max_depth=10, max_features=None, min_samples_leaf=4, min_samples_split=10; total time=   0.4s\n",
      "[CV] END class_weight=None, max_depth=10, max_features=None, min_samples_leaf=4, min_samples_split=10; total time=   0.4s\n",
      "[CV] END class_weight=None, max_depth=10, max_features=None, min_samples_leaf=4, min_samples_split=10; total time=   0.4s\n",
      "[CV] END class_weight=None, max_depth=10, max_features=sqrt, min_samples_leaf=1, min_samples_split=2; total time=   0.1s\n",
      "[CV] END class_weight=None, max_depth=10, max_features=sqrt, min_samples_leaf=1, min_samples_split=2; total time=   0.1s\n",
      "[CV] END class_weight=None, max_depth=10, max_features=sqrt, min_samples_leaf=1, min_samples_split=2; total time=   0.1s\n",
      "[CV] END class_weight=None, max_depth=10, max_features=sqrt, min_samples_leaf=1, min_samples_split=5; total time=   0.1s\n",
      "[CV] END class_weight=None, max_depth=10, max_features=sqrt, min_samples_leaf=1, min_samples_split=5; total time=   0.1s\n",
      "[CV] END class_weight=None, max_depth=10, max_features=sqrt, min_samples_leaf=1, min_samples_split=5; total time=   0.1s\n",
      "[CV] END class_weight=None, max_depth=10, max_features=sqrt, min_samples_leaf=1, min_samples_split=10; total time=   0.1s\n"
     ]
    },
    {
     "name": "stdout",
     "output_type": "stream",
     "text": [
      "[CV] END class_weight=None, max_depth=10, max_features=sqrt, min_samples_leaf=1, min_samples_split=10; total time=   0.1s\n",
      "[CV] END class_weight=None, max_depth=10, max_features=sqrt, min_samples_leaf=1, min_samples_split=10; total time=   0.1s\n",
      "[CV] END class_weight=None, max_depth=10, max_features=sqrt, min_samples_leaf=2, min_samples_split=2; total time=   0.1s\n",
      "[CV] END class_weight=None, max_depth=10, max_features=sqrt, min_samples_leaf=2, min_samples_split=2; total time=   0.1s\n",
      "[CV] END class_weight=None, max_depth=10, max_features=sqrt, min_samples_leaf=2, min_samples_split=2; total time=   0.1s\n",
      "[CV] END class_weight=None, max_depth=10, max_features=sqrt, min_samples_leaf=2, min_samples_split=5; total time=   0.1s\n",
      "[CV] END class_weight=None, max_depth=10, max_features=sqrt, min_samples_leaf=2, min_samples_split=5; total time=   0.2s\n",
      "[CV] END class_weight=None, max_depth=10, max_features=sqrt, min_samples_leaf=2, min_samples_split=5; total time=   0.2s\n",
      "[CV] END class_weight=None, max_depth=10, max_features=sqrt, min_samples_leaf=2, min_samples_split=10; total time=   0.1s\n",
      "[CV] END class_weight=None, max_depth=10, max_features=sqrt, min_samples_leaf=2, min_samples_split=10; total time=   0.1s\n",
      "[CV] END class_weight=None, max_depth=10, max_features=sqrt, min_samples_leaf=2, min_samples_split=10; total time=   0.1s\n",
      "[CV] END class_weight=None, max_depth=10, max_features=sqrt, min_samples_leaf=4, min_samples_split=2; total time=   0.1s\n",
      "[CV] END class_weight=None, max_depth=10, max_features=sqrt, min_samples_leaf=4, min_samples_split=2; total time=   0.1s\n",
      "[CV] END class_weight=None, max_depth=10, max_features=sqrt, min_samples_leaf=4, min_samples_split=2; total time=   0.1s\n",
      "[CV] END class_weight=None, max_depth=10, max_features=sqrt, min_samples_leaf=4, min_samples_split=5; total time=   0.1s\n",
      "[CV] END class_weight=None, max_depth=10, max_features=sqrt, min_samples_leaf=4, min_samples_split=5; total time=   0.1s\n",
      "[CV] END class_weight=None, max_depth=10, max_features=sqrt, min_samples_leaf=4, min_samples_split=5; total time=   0.1s\n",
      "[CV] END class_weight=None, max_depth=10, max_features=sqrt, min_samples_leaf=4, min_samples_split=10; total time=   0.1s\n",
      "[CV] END class_weight=None, max_depth=10, max_features=sqrt, min_samples_leaf=4, min_samples_split=10; total time=   0.1s\n",
      "[CV] END class_weight=None, max_depth=10, max_features=sqrt, min_samples_leaf=4, min_samples_split=10; total time=   0.1s\n",
      "[CV] END class_weight=None, max_depth=10, max_features=log2, min_samples_leaf=1, min_samples_split=2; total time=   0.1s\n",
      "[CV] END class_weight=None, max_depth=10, max_features=log2, min_samples_leaf=1, min_samples_split=2; total time=   0.1s\n",
      "[CV] END class_weight=None, max_depth=10, max_features=log2, min_samples_leaf=1, min_samples_split=2; total time=   0.1s\n",
      "[CV] END class_weight=None, max_depth=10, max_features=log2, min_samples_leaf=1, min_samples_split=5; total time=   0.1s\n",
      "[CV] END class_weight=None, max_depth=10, max_features=log2, min_samples_leaf=1, min_samples_split=5; total time=   0.1s\n",
      "[CV] END class_weight=None, max_depth=10, max_features=log2, min_samples_leaf=1, min_samples_split=5; total time=   0.1s\n",
      "[CV] END class_weight=None, max_depth=10, max_features=log2, min_samples_leaf=1, min_samples_split=10; total time=   0.1s\n",
      "[CV] END class_weight=None, max_depth=10, max_features=log2, min_samples_leaf=1, min_samples_split=10; total time=   0.1s\n",
      "[CV] END class_weight=None, max_depth=10, max_features=log2, min_samples_leaf=1, min_samples_split=10; total time=   0.1s\n",
      "[CV] END class_weight=None, max_depth=10, max_features=log2, min_samples_leaf=2, min_samples_split=2; total time=   0.1s\n",
      "[CV] END class_weight=None, max_depth=10, max_features=log2, min_samples_leaf=2, min_samples_split=2; total time=   0.1s\n",
      "[CV] END class_weight=None, max_depth=10, max_features=log2, min_samples_leaf=2, min_samples_split=2; total time=   0.1s\n",
      "[CV] END class_weight=None, max_depth=10, max_features=log2, min_samples_leaf=2, min_samples_split=5; total time=   0.1s\n",
      "[CV] END class_weight=None, max_depth=10, max_features=log2, min_samples_leaf=2, min_samples_split=5; total time=   0.1s\n",
      "[CV] END class_weight=None, max_depth=10, max_features=log2, min_samples_leaf=2, min_samples_split=5; total time=   0.1s\n",
      "[CV] END class_weight=None, max_depth=10, max_features=log2, min_samples_leaf=2, min_samples_split=10; total time=   0.1s\n",
      "[CV] END class_weight=None, max_depth=10, max_features=log2, min_samples_leaf=2, min_samples_split=10; total time=   0.1s\n",
      "[CV] END class_weight=None, max_depth=10, max_features=log2, min_samples_leaf=2, min_samples_split=10; total time=   0.1s\n",
      "[CV] END class_weight=None, max_depth=10, max_features=log2, min_samples_leaf=4, min_samples_split=2; total time=   0.1s\n",
      "[CV] END class_weight=None, max_depth=10, max_features=log2, min_samples_leaf=4, min_samples_split=2; total time=   0.1s\n",
      "[CV] END class_weight=None, max_depth=10, max_features=log2, min_samples_leaf=4, min_samples_split=2; total time=   0.1s\n",
      "[CV] END class_weight=None, max_depth=10, max_features=log2, min_samples_leaf=4, min_samples_split=5; total time=   0.1s\n",
      "[CV] END class_weight=None, max_depth=10, max_features=log2, min_samples_leaf=4, min_samples_split=5; total time=   0.1s\n",
      "[CV] END class_weight=None, max_depth=10, max_features=log2, min_samples_leaf=4, min_samples_split=5; total time=   0.1s\n",
      "[CV] END class_weight=None, max_depth=10, max_features=log2, min_samples_leaf=4, min_samples_split=10; total time=   0.1s\n",
      "[CV] END class_weight=None, max_depth=10, max_features=log2, min_samples_leaf=4, min_samples_split=10; total time=   0.1s\n",
      "[CV] END class_weight=None, max_depth=10, max_features=log2, min_samples_leaf=4, min_samples_split=10; total time=   0.1s\n",
      "[CV] END class_weight=None, max_depth=None, max_features=None, min_samples_leaf=1, min_samples_split=2; total time=   0.9s\n",
      "[CV] END class_weight=None, max_depth=None, max_features=None, min_samples_leaf=1, min_samples_split=2; total time=   0.6s\n",
      "[CV] END class_weight=None, max_depth=None, max_features=None, min_samples_leaf=1, min_samples_split=2; total time=   0.9s\n",
      "[CV] END class_weight=None, max_depth=None, max_features=None, min_samples_leaf=1, min_samples_split=5; total time=   0.9s\n",
      "[CV] END class_weight=None, max_depth=None, max_features=None, min_samples_leaf=1, min_samples_split=5; total time=   0.6s\n",
      "[CV] END class_weight=None, max_depth=None, max_features=None, min_samples_leaf=1, min_samples_split=5; total time=   1.0s\n",
      "[CV] END class_weight=None, max_depth=None, max_features=None, min_samples_leaf=1, min_samples_split=10; total time=   0.9s\n",
      "[CV] END class_weight=None, max_depth=None, max_features=None, min_samples_leaf=1, min_samples_split=10; total time=   0.6s\n",
      "[CV] END class_weight=None, max_depth=None, max_features=None, min_samples_leaf=1, min_samples_split=10; total time=   0.9s\n",
      "[CV] END class_weight=None, max_depth=None, max_features=None, min_samples_leaf=2, min_samples_split=2; total time=   0.5s\n",
      "[CV] END class_weight=None, max_depth=None, max_features=None, min_samples_leaf=2, min_samples_split=2; total time=   0.5s\n",
      "[CV] END class_weight=None, max_depth=None, max_features=None, min_samples_leaf=2, min_samples_split=2; total time=   0.5s\n",
      "[CV] END class_weight=None, max_depth=None, max_features=None, min_samples_leaf=2, min_samples_split=5; total time=   0.5s\n",
      "[CV] END class_weight=None, max_depth=None, max_features=None, min_samples_leaf=2, min_samples_split=5; total time=   0.5s\n",
      "[CV] END class_weight=None, max_depth=None, max_features=None, min_samples_leaf=2, min_samples_split=5; total time=   0.5s\n",
      "[CV] END class_weight=None, max_depth=None, max_features=None, min_samples_leaf=2, min_samples_split=10; total time=   0.5s\n",
      "[CV] END class_weight=None, max_depth=None, max_features=None, min_samples_leaf=2, min_samples_split=10; total time=   0.6s\n",
      "[CV] END class_weight=None, max_depth=None, max_features=None, min_samples_leaf=2, min_samples_split=10; total time=   0.5s\n",
      "[CV] END class_weight=None, max_depth=None, max_features=None, min_samples_leaf=4, min_samples_split=2; total time=   0.4s\n",
      "[CV] END class_weight=None, max_depth=None, max_features=None, min_samples_leaf=4, min_samples_split=2; total time=   0.4s\n",
      "[CV] END class_weight=None, max_depth=None, max_features=None, min_samples_leaf=4, min_samples_split=2; total time=   0.4s\n"
     ]
    },
    {
     "name": "stdout",
     "output_type": "stream",
     "text": [
      "[CV] END class_weight=None, max_depth=None, max_features=None, min_samples_leaf=4, min_samples_split=5; total time=   0.4s\n",
      "[CV] END class_weight=None, max_depth=None, max_features=None, min_samples_leaf=4, min_samples_split=5; total time=   0.4s\n",
      "[CV] END class_weight=None, max_depth=None, max_features=None, min_samples_leaf=4, min_samples_split=5; total time=   0.4s\n",
      "[CV] END class_weight=None, max_depth=None, max_features=None, min_samples_leaf=4, min_samples_split=10; total time=   0.4s\n",
      "[CV] END class_weight=None, max_depth=None, max_features=None, min_samples_leaf=4, min_samples_split=10; total time=   0.4s\n",
      "[CV] END class_weight=None, max_depth=None, max_features=None, min_samples_leaf=4, min_samples_split=10; total time=   0.4s\n",
      "[CV] END class_weight=None, max_depth=None, max_features=sqrt, min_samples_leaf=1, min_samples_split=2; total time=   0.2s\n",
      "[CV] END class_weight=None, max_depth=None, max_features=sqrt, min_samples_leaf=1, min_samples_split=2; total time=   0.2s\n",
      "[CV] END class_weight=None, max_depth=None, max_features=sqrt, min_samples_leaf=1, min_samples_split=2; total time=   0.2s\n",
      "[CV] END class_weight=None, max_depth=None, max_features=sqrt, min_samples_leaf=1, min_samples_split=5; total time=   0.2s\n",
      "[CV] END class_weight=None, max_depth=None, max_features=sqrt, min_samples_leaf=1, min_samples_split=5; total time=   0.2s\n",
      "[CV] END class_weight=None, max_depth=None, max_features=sqrt, min_samples_leaf=1, min_samples_split=5; total time=   0.2s\n",
      "[CV] END class_weight=None, max_depth=None, max_features=sqrt, min_samples_leaf=1, min_samples_split=10; total time=   0.2s\n",
      "[CV] END class_weight=None, max_depth=None, max_features=sqrt, min_samples_leaf=1, min_samples_split=10; total time=   0.2s\n",
      "[CV] END class_weight=None, max_depth=None, max_features=sqrt, min_samples_leaf=1, min_samples_split=10; total time=   0.2s\n",
      "[CV] END class_weight=None, max_depth=None, max_features=sqrt, min_samples_leaf=2, min_samples_split=2; total time=   0.1s\n",
      "[CV] END class_weight=None, max_depth=None, max_features=sqrt, min_samples_leaf=2, min_samples_split=2; total time=   0.1s\n",
      "[CV] END class_weight=None, max_depth=None, max_features=sqrt, min_samples_leaf=2, min_samples_split=2; total time=   0.1s\n",
      "[CV] END class_weight=None, max_depth=None, max_features=sqrt, min_samples_leaf=2, min_samples_split=5; total time=   0.1s\n",
      "[CV] END class_weight=None, max_depth=None, max_features=sqrt, min_samples_leaf=2, min_samples_split=5; total time=   0.1s\n",
      "[CV] END class_weight=None, max_depth=None, max_features=sqrt, min_samples_leaf=2, min_samples_split=5; total time=   0.1s\n",
      "[CV] END class_weight=None, max_depth=None, max_features=sqrt, min_samples_leaf=2, min_samples_split=10; total time=   0.1s\n",
      "[CV] END class_weight=None, max_depth=None, max_features=sqrt, min_samples_leaf=2, min_samples_split=10; total time=   0.1s\n",
      "[CV] END class_weight=None, max_depth=None, max_features=sqrt, min_samples_leaf=2, min_samples_split=10; total time=   0.1s\n",
      "[CV] END class_weight=None, max_depth=None, max_features=sqrt, min_samples_leaf=4, min_samples_split=2; total time=   0.1s\n",
      "[CV] END class_weight=None, max_depth=None, max_features=sqrt, min_samples_leaf=4, min_samples_split=2; total time=   0.1s\n",
      "[CV] END class_weight=None, max_depth=None, max_features=sqrt, min_samples_leaf=4, min_samples_split=2; total time=   0.1s\n",
      "[CV] END class_weight=None, max_depth=None, max_features=sqrt, min_samples_leaf=4, min_samples_split=5; total time=   0.1s\n",
      "[CV] END class_weight=None, max_depth=None, max_features=sqrt, min_samples_leaf=4, min_samples_split=5; total time=   0.1s\n",
      "[CV] END class_weight=None, max_depth=None, max_features=sqrt, min_samples_leaf=4, min_samples_split=5; total time=   0.1s\n",
      "[CV] END class_weight=None, max_depth=None, max_features=sqrt, min_samples_leaf=4, min_samples_split=10; total time=   0.1s\n",
      "[CV] END class_weight=None, max_depth=None, max_features=sqrt, min_samples_leaf=4, min_samples_split=10; total time=   0.1s\n",
      "[CV] END class_weight=None, max_depth=None, max_features=sqrt, min_samples_leaf=4, min_samples_split=10; total time=   0.1s\n",
      "[CV] END class_weight=None, max_depth=None, max_features=log2, min_samples_leaf=1, min_samples_split=2; total time=   0.2s\n",
      "[CV] END class_weight=None, max_depth=None, max_features=log2, min_samples_leaf=1, min_samples_split=2; total time=   0.1s\n",
      "[CV] END class_weight=None, max_depth=None, max_features=log2, min_samples_leaf=1, min_samples_split=2; total time=   0.2s\n",
      "[CV] END class_weight=None, max_depth=None, max_features=log2, min_samples_leaf=1, min_samples_split=5; total time=   0.2s\n",
      "[CV] END class_weight=None, max_depth=None, max_features=log2, min_samples_leaf=1, min_samples_split=5; total time=   0.2s\n",
      "[CV] END class_weight=None, max_depth=None, max_features=log2, min_samples_leaf=1, min_samples_split=5; total time=   0.1s\n",
      "[CV] END class_weight=None, max_depth=None, max_features=log2, min_samples_leaf=1, min_samples_split=10; total time=   0.2s\n",
      "[CV] END class_weight=None, max_depth=None, max_features=log2, min_samples_leaf=1, min_samples_split=10; total time=   0.1s\n",
      "[CV] END class_weight=None, max_depth=None, max_features=log2, min_samples_leaf=1, min_samples_split=10; total time=   0.1s\n",
      "[CV] END class_weight=None, max_depth=None, max_features=log2, min_samples_leaf=2, min_samples_split=2; total time=   0.1s\n",
      "[CV] END class_weight=None, max_depth=None, max_features=log2, min_samples_leaf=2, min_samples_split=2; total time=   0.1s\n",
      "[CV] END class_weight=None, max_depth=None, max_features=log2, min_samples_leaf=2, min_samples_split=2; total time=   0.1s\n",
      "[CV] END class_weight=None, max_depth=None, max_features=log2, min_samples_leaf=2, min_samples_split=5; total time=   0.1s\n",
      "[CV] END class_weight=None, max_depth=None, max_features=log2, min_samples_leaf=2, min_samples_split=5; total time=   0.1s\n",
      "[CV] END class_weight=None, max_depth=None, max_features=log2, min_samples_leaf=2, min_samples_split=5; total time=   0.1s\n",
      "[CV] END class_weight=None, max_depth=None, max_features=log2, min_samples_leaf=2, min_samples_split=10; total time=   0.1s\n",
      "[CV] END class_weight=None, max_depth=None, max_features=log2, min_samples_leaf=2, min_samples_split=10; total time=   0.1s\n",
      "[CV] END class_weight=None, max_depth=None, max_features=log2, min_samples_leaf=2, min_samples_split=10; total time=   0.1s\n",
      "[CV] END class_weight=None, max_depth=None, max_features=log2, min_samples_leaf=4, min_samples_split=2; total time=   0.1s\n",
      "[CV] END class_weight=None, max_depth=None, max_features=log2, min_samples_leaf=4, min_samples_split=2; total time=   0.1s\n",
      "[CV] END class_weight=None, max_depth=None, max_features=log2, min_samples_leaf=4, min_samples_split=2; total time=   0.1s\n",
      "[CV] END class_weight=None, max_depth=None, max_features=log2, min_samples_leaf=4, min_samples_split=5; total time=   0.1s\n",
      "[CV] END class_weight=None, max_depth=None, max_features=log2, min_samples_leaf=4, min_samples_split=5; total time=   0.1s\n",
      "[CV] END class_weight=None, max_depth=None, max_features=log2, min_samples_leaf=4, min_samples_split=5; total time=   0.1s\n",
      "[CV] END class_weight=None, max_depth=None, max_features=log2, min_samples_leaf=4, min_samples_split=10; total time=   0.1s\n",
      "[CV] END class_weight=None, max_depth=None, max_features=log2, min_samples_leaf=4, min_samples_split=10; total time=   0.1s\n",
      "[CV] END class_weight=None, max_depth=None, max_features=log2, min_samples_leaf=4, min_samples_split=10; total time=   0.1s\n",
      "[CV] END class_weight=balanced, max_depth=3, max_features=None, min_samples_leaf=1, min_samples_split=2; total time=   0.3s\n",
      "[CV] END class_weight=balanced, max_depth=3, max_features=None, min_samples_leaf=1, min_samples_split=2; total time=   0.3s\n",
      "[CV] END class_weight=balanced, max_depth=3, max_features=None, min_samples_leaf=1, min_samples_split=2; total time=   0.3s\n",
      "[CV] END class_weight=balanced, max_depth=3, max_features=None, min_samples_leaf=1, min_samples_split=5; total time=   0.3s\n",
      "[CV] END class_weight=balanced, max_depth=3, max_features=None, min_samples_leaf=1, min_samples_split=5; total time=   0.3s\n",
      "[CV] END class_weight=balanced, max_depth=3, max_features=None, min_samples_leaf=1, min_samples_split=5; total time=   0.3s\n",
      "[CV] END class_weight=balanced, max_depth=3, max_features=None, min_samples_leaf=1, min_samples_split=10; total time=   0.3s\n"
     ]
    },
    {
     "name": "stdout",
     "output_type": "stream",
     "text": [
      "[CV] END class_weight=balanced, max_depth=3, max_features=None, min_samples_leaf=1, min_samples_split=10; total time=   0.3s\n",
      "[CV] END class_weight=balanced, max_depth=3, max_features=None, min_samples_leaf=1, min_samples_split=10; total time=   0.3s\n",
      "[CV] END class_weight=balanced, max_depth=3, max_features=None, min_samples_leaf=2, min_samples_split=2; total time=   0.3s\n",
      "[CV] END class_weight=balanced, max_depth=3, max_features=None, min_samples_leaf=2, min_samples_split=2; total time=   0.3s\n",
      "[CV] END class_weight=balanced, max_depth=3, max_features=None, min_samples_leaf=2, min_samples_split=2; total time=   0.3s\n",
      "[CV] END class_weight=balanced, max_depth=3, max_features=None, min_samples_leaf=2, min_samples_split=5; total time=   0.3s\n",
      "[CV] END class_weight=balanced, max_depth=3, max_features=None, min_samples_leaf=2, min_samples_split=5; total time=   0.3s\n",
      "[CV] END class_weight=balanced, max_depth=3, max_features=None, min_samples_leaf=2, min_samples_split=5; total time=   0.3s\n",
      "[CV] END class_weight=balanced, max_depth=3, max_features=None, min_samples_leaf=2, min_samples_split=10; total time=   0.3s\n",
      "[CV] END class_weight=balanced, max_depth=3, max_features=None, min_samples_leaf=2, min_samples_split=10; total time=   0.3s\n",
      "[CV] END class_weight=balanced, max_depth=3, max_features=None, min_samples_leaf=2, min_samples_split=10; total time=   0.3s\n",
      "[CV] END class_weight=balanced, max_depth=3, max_features=None, min_samples_leaf=4, min_samples_split=2; total time=   0.3s\n",
      "[CV] END class_weight=balanced, max_depth=3, max_features=None, min_samples_leaf=4, min_samples_split=2; total time=   0.3s\n",
      "[CV] END class_weight=balanced, max_depth=3, max_features=None, min_samples_leaf=4, min_samples_split=2; total time=   0.3s\n",
      "[CV] END class_weight=balanced, max_depth=3, max_features=None, min_samples_leaf=4, min_samples_split=5; total time=   0.3s\n",
      "[CV] END class_weight=balanced, max_depth=3, max_features=None, min_samples_leaf=4, min_samples_split=5; total time=   0.3s\n",
      "[CV] END class_weight=balanced, max_depth=3, max_features=None, min_samples_leaf=4, min_samples_split=5; total time=   0.3s\n",
      "[CV] END class_weight=balanced, max_depth=3, max_features=None, min_samples_leaf=4, min_samples_split=10; total time=   0.3s\n",
      "[CV] END class_weight=balanced, max_depth=3, max_features=None, min_samples_leaf=4, min_samples_split=10; total time=   0.3s\n",
      "[CV] END class_weight=balanced, max_depth=3, max_features=None, min_samples_leaf=4, min_samples_split=10; total time=   0.3s\n",
      "[CV] END class_weight=balanced, max_depth=3, max_features=sqrt, min_samples_leaf=1, min_samples_split=2; total time=   0.1s\n",
      "[CV] END class_weight=balanced, max_depth=3, max_features=sqrt, min_samples_leaf=1, min_samples_split=2; total time=   0.1s\n",
      "[CV] END class_weight=balanced, max_depth=3, max_features=sqrt, min_samples_leaf=1, min_samples_split=2; total time=   0.1s\n",
      "[CV] END class_weight=balanced, max_depth=3, max_features=sqrt, min_samples_leaf=1, min_samples_split=5; total time=   0.1s\n",
      "[CV] END class_weight=balanced, max_depth=3, max_features=sqrt, min_samples_leaf=1, min_samples_split=5; total time=   0.1s\n",
      "[CV] END class_weight=balanced, max_depth=3, max_features=sqrt, min_samples_leaf=1, min_samples_split=5; total time=   0.1s\n",
      "[CV] END class_weight=balanced, max_depth=3, max_features=sqrt, min_samples_leaf=1, min_samples_split=10; total time=   0.1s\n",
      "[CV] END class_weight=balanced, max_depth=3, max_features=sqrt, min_samples_leaf=1, min_samples_split=10; total time=   0.1s\n",
      "[CV] END class_weight=balanced, max_depth=3, max_features=sqrt, min_samples_leaf=1, min_samples_split=10; total time=   0.1s\n",
      "[CV] END class_weight=balanced, max_depth=3, max_features=sqrt, min_samples_leaf=2, min_samples_split=2; total time=   0.1s\n",
      "[CV] END class_weight=balanced, max_depth=3, max_features=sqrt, min_samples_leaf=2, min_samples_split=2; total time=   0.1s\n",
      "[CV] END class_weight=balanced, max_depth=3, max_features=sqrt, min_samples_leaf=2, min_samples_split=2; total time=   0.1s\n",
      "[CV] END class_weight=balanced, max_depth=3, max_features=sqrt, min_samples_leaf=2, min_samples_split=5; total time=   0.1s\n",
      "[CV] END class_weight=balanced, max_depth=3, max_features=sqrt, min_samples_leaf=2, min_samples_split=5; total time=   0.1s\n",
      "[CV] END class_weight=balanced, max_depth=3, max_features=sqrt, min_samples_leaf=2, min_samples_split=5; total time=   0.1s\n",
      "[CV] END class_weight=balanced, max_depth=3, max_features=sqrt, min_samples_leaf=2, min_samples_split=10; total time=   0.1s\n",
      "[CV] END class_weight=balanced, max_depth=3, max_features=sqrt, min_samples_leaf=2, min_samples_split=10; total time=   0.1s\n",
      "[CV] END class_weight=balanced, max_depth=3, max_features=sqrt, min_samples_leaf=2, min_samples_split=10; total time=   0.1s\n",
      "[CV] END class_weight=balanced, max_depth=3, max_features=sqrt, min_samples_leaf=4, min_samples_split=2; total time=   0.1s\n",
      "[CV] END class_weight=balanced, max_depth=3, max_features=sqrt, min_samples_leaf=4, min_samples_split=2; total time=   0.1s\n",
      "[CV] END class_weight=balanced, max_depth=3, max_features=sqrt, min_samples_leaf=4, min_samples_split=2; total time=   0.1s\n",
      "[CV] END class_weight=balanced, max_depth=3, max_features=sqrt, min_samples_leaf=4, min_samples_split=5; total time=   0.1s\n",
      "[CV] END class_weight=balanced, max_depth=3, max_features=sqrt, min_samples_leaf=4, min_samples_split=5; total time=   0.1s\n",
      "[CV] END class_weight=balanced, max_depth=3, max_features=sqrt, min_samples_leaf=4, min_samples_split=5; total time=   0.1s\n",
      "[CV] END class_weight=balanced, max_depth=3, max_features=sqrt, min_samples_leaf=4, min_samples_split=10; total time=   0.1s\n",
      "[CV] END class_weight=balanced, max_depth=3, max_features=sqrt, min_samples_leaf=4, min_samples_split=10; total time=   0.1s\n",
      "[CV] END class_weight=balanced, max_depth=3, max_features=sqrt, min_samples_leaf=4, min_samples_split=10; total time=   0.1s\n",
      "[CV] END class_weight=balanced, max_depth=3, max_features=log2, min_samples_leaf=1, min_samples_split=2; total time=   0.1s\n",
      "[CV] END class_weight=balanced, max_depth=3, max_features=log2, min_samples_leaf=1, min_samples_split=2; total time=   0.1s\n",
      "[CV] END class_weight=balanced, max_depth=3, max_features=log2, min_samples_leaf=1, min_samples_split=2; total time=   0.1s\n",
      "[CV] END class_weight=balanced, max_depth=3, max_features=log2, min_samples_leaf=1, min_samples_split=5; total time=   0.1s\n",
      "[CV] END class_weight=balanced, max_depth=3, max_features=log2, min_samples_leaf=1, min_samples_split=5; total time=   0.1s\n",
      "[CV] END class_weight=balanced, max_depth=3, max_features=log2, min_samples_leaf=1, min_samples_split=5; total time=   0.1s\n",
      "[CV] END class_weight=balanced, max_depth=3, max_features=log2, min_samples_leaf=1, min_samples_split=10; total time=   0.1s\n",
      "[CV] END class_weight=balanced, max_depth=3, max_features=log2, min_samples_leaf=1, min_samples_split=10; total time=   0.1s\n",
      "[CV] END class_weight=balanced, max_depth=3, max_features=log2, min_samples_leaf=1, min_samples_split=10; total time=   0.1s\n",
      "[CV] END class_weight=balanced, max_depth=3, max_features=log2, min_samples_leaf=2, min_samples_split=2; total time=   0.1s\n",
      "[CV] END class_weight=balanced, max_depth=3, max_features=log2, min_samples_leaf=2, min_samples_split=2; total time=   0.1s\n",
      "[CV] END class_weight=balanced, max_depth=3, max_features=log2, min_samples_leaf=2, min_samples_split=2; total time=   0.1s\n",
      "[CV] END class_weight=balanced, max_depth=3, max_features=log2, min_samples_leaf=2, min_samples_split=5; total time=   0.1s\n",
      "[CV] END class_weight=balanced, max_depth=3, max_features=log2, min_samples_leaf=2, min_samples_split=5; total time=   0.1s\n",
      "[CV] END class_weight=balanced, max_depth=3, max_features=log2, min_samples_leaf=2, min_samples_split=5; total time=   0.1s\n",
      "[CV] END class_weight=balanced, max_depth=3, max_features=log2, min_samples_leaf=2, min_samples_split=10; total time=   0.1s\n",
      "[CV] END class_weight=balanced, max_depth=3, max_features=log2, min_samples_leaf=2, min_samples_split=10; total time=   0.1s\n",
      "[CV] END class_weight=balanced, max_depth=3, max_features=log2, min_samples_leaf=2, min_samples_split=10; total time=   0.1s\n",
      "[CV] END class_weight=balanced, max_depth=3, max_features=log2, min_samples_leaf=4, min_samples_split=2; total time=   0.1s\n",
      "[CV] END class_weight=balanced, max_depth=3, max_features=log2, min_samples_leaf=4, min_samples_split=2; total time=   0.1s\n"
     ]
    },
    {
     "name": "stdout",
     "output_type": "stream",
     "text": [
      "[CV] END class_weight=balanced, max_depth=3, max_features=log2, min_samples_leaf=4, min_samples_split=2; total time=   0.1s\n",
      "[CV] END class_weight=balanced, max_depth=3, max_features=log2, min_samples_leaf=4, min_samples_split=5; total time=   0.1s\n",
      "[CV] END class_weight=balanced, max_depth=3, max_features=log2, min_samples_leaf=4, min_samples_split=5; total time=   0.1s\n",
      "[CV] END class_weight=balanced, max_depth=3, max_features=log2, min_samples_leaf=4, min_samples_split=5; total time=   0.1s\n",
      "[CV] END class_weight=balanced, max_depth=3, max_features=log2, min_samples_leaf=4, min_samples_split=10; total time=   0.1s\n",
      "[CV] END class_weight=balanced, max_depth=3, max_features=log2, min_samples_leaf=4, min_samples_split=10; total time=   0.1s\n",
      "[CV] END class_weight=balanced, max_depth=3, max_features=log2, min_samples_leaf=4, min_samples_split=10; total time=   0.1s\n",
      "[CV] END class_weight=balanced, max_depth=5, max_features=None, min_samples_leaf=1, min_samples_split=2; total time=   0.3s\n",
      "[CV] END class_weight=balanced, max_depth=5, max_features=None, min_samples_leaf=1, min_samples_split=2; total time=   0.4s\n",
      "[CV] END class_weight=balanced, max_depth=5, max_features=None, min_samples_leaf=1, min_samples_split=2; total time=   0.3s\n",
      "[CV] END class_weight=balanced, max_depth=5, max_features=None, min_samples_leaf=1, min_samples_split=5; total time=   0.3s\n",
      "[CV] END class_weight=balanced, max_depth=5, max_features=None, min_samples_leaf=1, min_samples_split=5; total time=   0.4s\n",
      "[CV] END class_weight=balanced, max_depth=5, max_features=None, min_samples_leaf=1, min_samples_split=5; total time=   0.3s\n",
      "[CV] END class_weight=balanced, max_depth=5, max_features=None, min_samples_leaf=1, min_samples_split=10; total time=   0.4s\n",
      "[CV] END class_weight=balanced, max_depth=5, max_features=None, min_samples_leaf=1, min_samples_split=10; total time=   0.4s\n",
      "[CV] END class_weight=balanced, max_depth=5, max_features=None, min_samples_leaf=1, min_samples_split=10; total time=   0.3s\n",
      "[CV] END class_weight=balanced, max_depth=5, max_features=None, min_samples_leaf=2, min_samples_split=2; total time=   0.3s\n",
      "[CV] END class_weight=balanced, max_depth=5, max_features=None, min_samples_leaf=2, min_samples_split=2; total time=   0.4s\n",
      "[CV] END class_weight=balanced, max_depth=5, max_features=None, min_samples_leaf=2, min_samples_split=2; total time=   0.3s\n",
      "[CV] END class_weight=balanced, max_depth=5, max_features=None, min_samples_leaf=2, min_samples_split=5; total time=   0.3s\n",
      "[CV] END class_weight=balanced, max_depth=5, max_features=None, min_samples_leaf=2, min_samples_split=5; total time=   0.4s\n",
      "[CV] END class_weight=balanced, max_depth=5, max_features=None, min_samples_leaf=2, min_samples_split=5; total time=   0.3s\n",
      "[CV] END class_weight=balanced, max_depth=5, max_features=None, min_samples_leaf=2, min_samples_split=10; total time=   0.3s\n",
      "[CV] END class_weight=balanced, max_depth=5, max_features=None, min_samples_leaf=2, min_samples_split=10; total time=   0.4s\n",
      "[CV] END class_weight=balanced, max_depth=5, max_features=None, min_samples_leaf=2, min_samples_split=10; total time=   0.3s\n",
      "[CV] END class_weight=balanced, max_depth=5, max_features=None, min_samples_leaf=4, min_samples_split=2; total time=   0.3s\n",
      "[CV] END class_weight=balanced, max_depth=5, max_features=None, min_samples_leaf=4, min_samples_split=2; total time=   0.3s\n",
      "[CV] END class_weight=balanced, max_depth=5, max_features=None, min_samples_leaf=4, min_samples_split=2; total time=   0.3s\n",
      "[CV] END class_weight=balanced, max_depth=5, max_features=None, min_samples_leaf=4, min_samples_split=5; total time=   0.3s\n",
      "[CV] END class_weight=balanced, max_depth=5, max_features=None, min_samples_leaf=4, min_samples_split=5; total time=   0.3s\n",
      "[CV] END class_weight=balanced, max_depth=5, max_features=None, min_samples_leaf=4, min_samples_split=5; total time=   0.3s\n",
      "[CV] END class_weight=balanced, max_depth=5, max_features=None, min_samples_leaf=4, min_samples_split=10; total time=   0.3s\n",
      "[CV] END class_weight=balanced, max_depth=5, max_features=None, min_samples_leaf=4, min_samples_split=10; total time=   0.4s\n",
      "[CV] END class_weight=balanced, max_depth=5, max_features=None, min_samples_leaf=4, min_samples_split=10; total time=   0.3s\n",
      "[CV] END class_weight=balanced, max_depth=5, max_features=sqrt, min_samples_leaf=1, min_samples_split=2; total time=   0.1s\n",
      "[CV] END class_weight=balanced, max_depth=5, max_features=sqrt, min_samples_leaf=1, min_samples_split=2; total time=   0.1s\n",
      "[CV] END class_weight=balanced, max_depth=5, max_features=sqrt, min_samples_leaf=1, min_samples_split=2; total time=   0.1s\n",
      "[CV] END class_weight=balanced, max_depth=5, max_features=sqrt, min_samples_leaf=1, min_samples_split=5; total time=   0.1s\n",
      "[CV] END class_weight=balanced, max_depth=5, max_features=sqrt, min_samples_leaf=1, min_samples_split=5; total time=   0.1s\n",
      "[CV] END class_weight=balanced, max_depth=5, max_features=sqrt, min_samples_leaf=1, min_samples_split=5; total time=   0.1s\n",
      "[CV] END class_weight=balanced, max_depth=5, max_features=sqrt, min_samples_leaf=1, min_samples_split=10; total time=   0.1s\n",
      "[CV] END class_weight=balanced, max_depth=5, max_features=sqrt, min_samples_leaf=1, min_samples_split=10; total time=   0.1s\n",
      "[CV] END class_weight=balanced, max_depth=5, max_features=sqrt, min_samples_leaf=1, min_samples_split=10; total time=   0.1s\n",
      "[CV] END class_weight=balanced, max_depth=5, max_features=sqrt, min_samples_leaf=2, min_samples_split=2; total time=   0.1s\n",
      "[CV] END class_weight=balanced, max_depth=5, max_features=sqrt, min_samples_leaf=2, min_samples_split=2; total time=   0.1s\n",
      "[CV] END class_weight=balanced, max_depth=5, max_features=sqrt, min_samples_leaf=2, min_samples_split=2; total time=   0.1s\n",
      "[CV] END class_weight=balanced, max_depth=5, max_features=sqrt, min_samples_leaf=2, min_samples_split=5; total time=   0.1s\n",
      "[CV] END class_weight=balanced, max_depth=5, max_features=sqrt, min_samples_leaf=2, min_samples_split=5; total time=   0.1s\n",
      "[CV] END class_weight=balanced, max_depth=5, max_features=sqrt, min_samples_leaf=2, min_samples_split=5; total time=   0.1s\n",
      "[CV] END class_weight=balanced, max_depth=5, max_features=sqrt, min_samples_leaf=2, min_samples_split=10; total time=   0.1s\n",
      "[CV] END class_weight=balanced, max_depth=5, max_features=sqrt, min_samples_leaf=2, min_samples_split=10; total time=   0.1s\n",
      "[CV] END class_weight=balanced, max_depth=5, max_features=sqrt, min_samples_leaf=2, min_samples_split=10; total time=   0.1s\n",
      "[CV] END class_weight=balanced, max_depth=5, max_features=sqrt, min_samples_leaf=4, min_samples_split=2; total time=   0.1s\n",
      "[CV] END class_weight=balanced, max_depth=5, max_features=sqrt, min_samples_leaf=4, min_samples_split=2; total time=   0.1s\n",
      "[CV] END class_weight=balanced, max_depth=5, max_features=sqrt, min_samples_leaf=4, min_samples_split=2; total time=   0.1s\n",
      "[CV] END class_weight=balanced, max_depth=5, max_features=sqrt, min_samples_leaf=4, min_samples_split=5; total time=   0.1s\n",
      "[CV] END class_weight=balanced, max_depth=5, max_features=sqrt, min_samples_leaf=4, min_samples_split=5; total time=   0.1s\n",
      "[CV] END class_weight=balanced, max_depth=5, max_features=sqrt, min_samples_leaf=4, min_samples_split=5; total time=   0.1s\n",
      "[CV] END class_weight=balanced, max_depth=5, max_features=sqrt, min_samples_leaf=4, min_samples_split=10; total time=   0.1s\n",
      "[CV] END class_weight=balanced, max_depth=5, max_features=sqrt, min_samples_leaf=4, min_samples_split=10; total time=   0.1s\n",
      "[CV] END class_weight=balanced, max_depth=5, max_features=sqrt, min_samples_leaf=4, min_samples_split=10; total time=   0.1s\n",
      "[CV] END class_weight=balanced, max_depth=5, max_features=log2, min_samples_leaf=1, min_samples_split=2; total time=   0.1s\n",
      "[CV] END class_weight=balanced, max_depth=5, max_features=log2, min_samples_leaf=1, min_samples_split=2; total time=   0.1s\n",
      "[CV] END class_weight=balanced, max_depth=5, max_features=log2, min_samples_leaf=1, min_samples_split=2; total time=   0.1s\n",
      "[CV] END class_weight=balanced, max_depth=5, max_features=log2, min_samples_leaf=1, min_samples_split=5; total time=   0.1s\n",
      "[CV] END class_weight=balanced, max_depth=5, max_features=log2, min_samples_leaf=1, min_samples_split=5; total time=   0.1s\n"
     ]
    },
    {
     "name": "stdout",
     "output_type": "stream",
     "text": [
      "[CV] END class_weight=balanced, max_depth=5, max_features=log2, min_samples_leaf=1, min_samples_split=5; total time=   0.1s\n",
      "[CV] END class_weight=balanced, max_depth=5, max_features=log2, min_samples_leaf=1, min_samples_split=10; total time=   0.1s\n",
      "[CV] END class_weight=balanced, max_depth=5, max_features=log2, min_samples_leaf=1, min_samples_split=10; total time=   0.1s\n",
      "[CV] END class_weight=balanced, max_depth=5, max_features=log2, min_samples_leaf=1, min_samples_split=10; total time=   0.1s\n",
      "[CV] END class_weight=balanced, max_depth=5, max_features=log2, min_samples_leaf=2, min_samples_split=2; total time=   0.1s\n",
      "[CV] END class_weight=balanced, max_depth=5, max_features=log2, min_samples_leaf=2, min_samples_split=2; total time=   0.1s\n",
      "[CV] END class_weight=balanced, max_depth=5, max_features=log2, min_samples_leaf=2, min_samples_split=2; total time=   0.1s\n",
      "[CV] END class_weight=balanced, max_depth=5, max_features=log2, min_samples_leaf=2, min_samples_split=5; total time=   0.1s\n",
      "[CV] END class_weight=balanced, max_depth=5, max_features=log2, min_samples_leaf=2, min_samples_split=5; total time=   0.1s\n",
      "[CV] END class_weight=balanced, max_depth=5, max_features=log2, min_samples_leaf=2, min_samples_split=5; total time=   0.1s\n",
      "[CV] END class_weight=balanced, max_depth=5, max_features=log2, min_samples_leaf=2, min_samples_split=10; total time=   0.1s\n",
      "[CV] END class_weight=balanced, max_depth=5, max_features=log2, min_samples_leaf=2, min_samples_split=10; total time=   0.1s\n",
      "[CV] END class_weight=balanced, max_depth=5, max_features=log2, min_samples_leaf=2, min_samples_split=10; total time=   0.1s\n",
      "[CV] END class_weight=balanced, max_depth=5, max_features=log2, min_samples_leaf=4, min_samples_split=2; total time=   0.1s\n",
      "[CV] END class_weight=balanced, max_depth=5, max_features=log2, min_samples_leaf=4, min_samples_split=2; total time=   0.1s\n",
      "[CV] END class_weight=balanced, max_depth=5, max_features=log2, min_samples_leaf=4, min_samples_split=2; total time=   0.1s\n",
      "[CV] END class_weight=balanced, max_depth=5, max_features=log2, min_samples_leaf=4, min_samples_split=5; total time=   0.1s\n",
      "[CV] END class_weight=balanced, max_depth=5, max_features=log2, min_samples_leaf=4, min_samples_split=5; total time=   0.1s\n",
      "[CV] END class_weight=balanced, max_depth=5, max_features=log2, min_samples_leaf=4, min_samples_split=5; total time=   0.1s\n",
      "[CV] END class_weight=balanced, max_depth=5, max_features=log2, min_samples_leaf=4, min_samples_split=10; total time=   0.1s\n",
      "[CV] END class_weight=balanced, max_depth=5, max_features=log2, min_samples_leaf=4, min_samples_split=10; total time=   0.1s\n",
      "[CV] END class_weight=balanced, max_depth=5, max_features=log2, min_samples_leaf=4, min_samples_split=10; total time=   0.1s\n",
      "[CV] END class_weight=balanced, max_depth=7, max_features=None, min_samples_leaf=1, min_samples_split=2; total time=   0.4s\n",
      "[CV] END class_weight=balanced, max_depth=7, max_features=None, min_samples_leaf=1, min_samples_split=2; total time=   0.4s\n",
      "[CV] END class_weight=balanced, max_depth=7, max_features=None, min_samples_leaf=1, min_samples_split=2; total time=   0.4s\n",
      "[CV] END class_weight=balanced, max_depth=7, max_features=None, min_samples_leaf=1, min_samples_split=5; total time=   0.4s\n",
      "[CV] END class_weight=balanced, max_depth=7, max_features=None, min_samples_leaf=1, min_samples_split=5; total time=   0.4s\n",
      "[CV] END class_weight=balanced, max_depth=7, max_features=None, min_samples_leaf=1, min_samples_split=5; total time=   0.4s\n",
      "[CV] END class_weight=balanced, max_depth=7, max_features=None, min_samples_leaf=1, min_samples_split=10; total time=   0.4s\n",
      "[CV] END class_weight=balanced, max_depth=7, max_features=None, min_samples_leaf=1, min_samples_split=10; total time=   0.4s\n",
      "[CV] END class_weight=balanced, max_depth=7, max_features=None, min_samples_leaf=1, min_samples_split=10; total time=   0.4s\n",
      "[CV] END class_weight=balanced, max_depth=7, max_features=None, min_samples_leaf=2, min_samples_split=2; total time=   0.4s\n",
      "[CV] END class_weight=balanced, max_depth=7, max_features=None, min_samples_leaf=2, min_samples_split=2; total time=   0.4s\n",
      "[CV] END class_weight=balanced, max_depth=7, max_features=None, min_samples_leaf=2, min_samples_split=2; total time=   0.4s\n",
      "[CV] END class_weight=balanced, max_depth=7, max_features=None, min_samples_leaf=2, min_samples_split=5; total time=   0.4s\n",
      "[CV] END class_weight=balanced, max_depth=7, max_features=None, min_samples_leaf=2, min_samples_split=5; total time=   0.4s\n",
      "[CV] END class_weight=balanced, max_depth=7, max_features=None, min_samples_leaf=2, min_samples_split=5; total time=   0.4s\n",
      "[CV] END class_weight=balanced, max_depth=7, max_features=None, min_samples_leaf=2, min_samples_split=10; total time=   0.4s\n",
      "[CV] END class_weight=balanced, max_depth=7, max_features=None, min_samples_leaf=2, min_samples_split=10; total time=   0.4s\n",
      "[CV] END class_weight=balanced, max_depth=7, max_features=None, min_samples_leaf=2, min_samples_split=10; total time=   0.4s\n",
      "[CV] END class_weight=balanced, max_depth=7, max_features=None, min_samples_leaf=4, min_samples_split=2; total time=   0.4s\n",
      "[CV] END class_weight=balanced, max_depth=7, max_features=None, min_samples_leaf=4, min_samples_split=2; total time=   0.4s\n",
      "[CV] END class_weight=balanced, max_depth=7, max_features=None, min_samples_leaf=4, min_samples_split=2; total time=   0.4s\n",
      "[CV] END class_weight=balanced, max_depth=7, max_features=None, min_samples_leaf=4, min_samples_split=5; total time=   0.4s\n",
      "[CV] END class_weight=balanced, max_depth=7, max_features=None, min_samples_leaf=4, min_samples_split=5; total time=   0.4s\n",
      "[CV] END class_weight=balanced, max_depth=7, max_features=None, min_samples_leaf=4, min_samples_split=5; total time=   0.4s\n",
      "[CV] END class_weight=balanced, max_depth=7, max_features=None, min_samples_leaf=4, min_samples_split=10; total time=   0.4s\n",
      "[CV] END class_weight=balanced, max_depth=7, max_features=None, min_samples_leaf=4, min_samples_split=10; total time=   0.4s\n",
      "[CV] END class_weight=balanced, max_depth=7, max_features=None, min_samples_leaf=4, min_samples_split=10; total time=   0.4s\n",
      "[CV] END class_weight=balanced, max_depth=7, max_features=sqrt, min_samples_leaf=1, min_samples_split=2; total time=   0.1s\n",
      "[CV] END class_weight=balanced, max_depth=7, max_features=sqrt, min_samples_leaf=1, min_samples_split=2; total time=   0.1s\n",
      "[CV] END class_weight=balanced, max_depth=7, max_features=sqrt, min_samples_leaf=1, min_samples_split=2; total time=   0.1s\n",
      "[CV] END class_weight=balanced, max_depth=7, max_features=sqrt, min_samples_leaf=1, min_samples_split=5; total time=   0.1s\n",
      "[CV] END class_weight=balanced, max_depth=7, max_features=sqrt, min_samples_leaf=1, min_samples_split=5; total time=   0.1s\n",
      "[CV] END class_weight=balanced, max_depth=7, max_features=sqrt, min_samples_leaf=1, min_samples_split=5; total time=   0.1s\n",
      "[CV] END class_weight=balanced, max_depth=7, max_features=sqrt, min_samples_leaf=1, min_samples_split=10; total time=   0.1s\n",
      "[CV] END class_weight=balanced, max_depth=7, max_features=sqrt, min_samples_leaf=1, min_samples_split=10; total time=   0.1s\n",
      "[CV] END class_weight=balanced, max_depth=7, max_features=sqrt, min_samples_leaf=1, min_samples_split=10; total time=   0.1s\n",
      "[CV] END class_weight=balanced, max_depth=7, max_features=sqrt, min_samples_leaf=2, min_samples_split=2; total time=   0.1s\n",
      "[CV] END class_weight=balanced, max_depth=7, max_features=sqrt, min_samples_leaf=2, min_samples_split=2; total time=   0.1s\n",
      "[CV] END class_weight=balanced, max_depth=7, max_features=sqrt, min_samples_leaf=2, min_samples_split=2; total time=   0.1s\n",
      "[CV] END class_weight=balanced, max_depth=7, max_features=sqrt, min_samples_leaf=2, min_samples_split=5; total time=   0.1s\n",
      "[CV] END class_weight=balanced, max_depth=7, max_features=sqrt, min_samples_leaf=2, min_samples_split=5; total time=   0.1s\n",
      "[CV] END class_weight=balanced, max_depth=7, max_features=sqrt, min_samples_leaf=2, min_samples_split=5; total time=   0.1s\n",
      "[CV] END class_weight=balanced, max_depth=7, max_features=sqrt, min_samples_leaf=2, min_samples_split=10; total time=   0.1s\n",
      "[CV] END class_weight=balanced, max_depth=7, max_features=sqrt, min_samples_leaf=2, min_samples_split=10; total time=   0.1s\n"
     ]
    },
    {
     "name": "stdout",
     "output_type": "stream",
     "text": [
      "[CV] END class_weight=balanced, max_depth=7, max_features=sqrt, min_samples_leaf=2, min_samples_split=10; total time=   0.1s\n",
      "[CV] END class_weight=balanced, max_depth=7, max_features=sqrt, min_samples_leaf=4, min_samples_split=2; total time=   0.1s\n",
      "[CV] END class_weight=balanced, max_depth=7, max_features=sqrt, min_samples_leaf=4, min_samples_split=2; total time=   0.1s\n",
      "[CV] END class_weight=balanced, max_depth=7, max_features=sqrt, min_samples_leaf=4, min_samples_split=2; total time=   0.1s\n",
      "[CV] END class_weight=balanced, max_depth=7, max_features=sqrt, min_samples_leaf=4, min_samples_split=5; total time=   0.1s\n",
      "[CV] END class_weight=balanced, max_depth=7, max_features=sqrt, min_samples_leaf=4, min_samples_split=5; total time=   0.1s\n",
      "[CV] END class_weight=balanced, max_depth=7, max_features=sqrt, min_samples_leaf=4, min_samples_split=5; total time=   0.1s\n",
      "[CV] END class_weight=balanced, max_depth=7, max_features=sqrt, min_samples_leaf=4, min_samples_split=10; total time=   0.1s\n",
      "[CV] END class_weight=balanced, max_depth=7, max_features=sqrt, min_samples_leaf=4, min_samples_split=10; total time=   0.1s\n",
      "[CV] END class_weight=balanced, max_depth=7, max_features=sqrt, min_samples_leaf=4, min_samples_split=10; total time=   0.1s\n",
      "[CV] END class_weight=balanced, max_depth=7, max_features=log2, min_samples_leaf=1, min_samples_split=2; total time=   0.1s\n",
      "[CV] END class_weight=balanced, max_depth=7, max_features=log2, min_samples_leaf=1, min_samples_split=2; total time=   0.1s\n",
      "[CV] END class_weight=balanced, max_depth=7, max_features=log2, min_samples_leaf=1, min_samples_split=2; total time=   0.1s\n",
      "[CV] END class_weight=balanced, max_depth=7, max_features=log2, min_samples_leaf=1, min_samples_split=5; total time=   0.1s\n",
      "[CV] END class_weight=balanced, max_depth=7, max_features=log2, min_samples_leaf=1, min_samples_split=5; total time=   0.1s\n",
      "[CV] END class_weight=balanced, max_depth=7, max_features=log2, min_samples_leaf=1, min_samples_split=5; total time=   0.1s\n",
      "[CV] END class_weight=balanced, max_depth=7, max_features=log2, min_samples_leaf=1, min_samples_split=10; total time=   0.1s\n",
      "[CV] END class_weight=balanced, max_depth=7, max_features=log2, min_samples_leaf=1, min_samples_split=10; total time=   0.1s\n",
      "[CV] END class_weight=balanced, max_depth=7, max_features=log2, min_samples_leaf=1, min_samples_split=10; total time=   0.1s\n",
      "[CV] END class_weight=balanced, max_depth=7, max_features=log2, min_samples_leaf=2, min_samples_split=2; total time=   0.1s\n",
      "[CV] END class_weight=balanced, max_depth=7, max_features=log2, min_samples_leaf=2, min_samples_split=2; total time=   0.1s\n",
      "[CV] END class_weight=balanced, max_depth=7, max_features=log2, min_samples_leaf=2, min_samples_split=2; total time=   0.1s\n",
      "[CV] END class_weight=balanced, max_depth=7, max_features=log2, min_samples_leaf=2, min_samples_split=5; total time=   0.1s\n",
      "[CV] END class_weight=balanced, max_depth=7, max_features=log2, min_samples_leaf=2, min_samples_split=5; total time=   0.1s\n",
      "[CV] END class_weight=balanced, max_depth=7, max_features=log2, min_samples_leaf=2, min_samples_split=5; total time=   0.1s\n",
      "[CV] END class_weight=balanced, max_depth=7, max_features=log2, min_samples_leaf=2, min_samples_split=10; total time=   0.1s\n",
      "[CV] END class_weight=balanced, max_depth=7, max_features=log2, min_samples_leaf=2, min_samples_split=10; total time=   0.1s\n",
      "[CV] END class_weight=balanced, max_depth=7, max_features=log2, min_samples_leaf=2, min_samples_split=10; total time=   0.1s\n",
      "[CV] END class_weight=balanced, max_depth=7, max_features=log2, min_samples_leaf=4, min_samples_split=2; total time=   0.1s\n",
      "[CV] END class_weight=balanced, max_depth=7, max_features=log2, min_samples_leaf=4, min_samples_split=2; total time=   0.1s\n",
      "[CV] END class_weight=balanced, max_depth=7, max_features=log2, min_samples_leaf=4, min_samples_split=2; total time=   0.1s\n",
      "[CV] END class_weight=balanced, max_depth=7, max_features=log2, min_samples_leaf=4, min_samples_split=5; total time=   0.1s\n",
      "[CV] END class_weight=balanced, max_depth=7, max_features=log2, min_samples_leaf=4, min_samples_split=5; total time=   0.1s\n",
      "[CV] END class_weight=balanced, max_depth=7, max_features=log2, min_samples_leaf=4, min_samples_split=5; total time=   0.1s\n",
      "[CV] END class_weight=balanced, max_depth=7, max_features=log2, min_samples_leaf=4, min_samples_split=10; total time=   0.1s\n",
      "[CV] END class_weight=balanced, max_depth=7, max_features=log2, min_samples_leaf=4, min_samples_split=10; total time=   0.1s\n",
      "[CV] END class_weight=balanced, max_depth=7, max_features=log2, min_samples_leaf=4, min_samples_split=10; total time=   0.1s\n",
      "[CV] END class_weight=balanced, max_depth=10, max_features=None, min_samples_leaf=1, min_samples_split=2; total time=   0.4s\n",
      "[CV] END class_weight=balanced, max_depth=10, max_features=None, min_samples_leaf=1, min_samples_split=2; total time=   0.4s\n",
      "[CV] END class_weight=balanced, max_depth=10, max_features=None, min_samples_leaf=1, min_samples_split=2; total time=   0.4s\n",
      "[CV] END class_weight=balanced, max_depth=10, max_features=None, min_samples_leaf=1, min_samples_split=5; total time=   0.4s\n",
      "[CV] END class_weight=balanced, max_depth=10, max_features=None, min_samples_leaf=1, min_samples_split=5; total time=   0.4s\n",
      "[CV] END class_weight=balanced, max_depth=10, max_features=None, min_samples_leaf=1, min_samples_split=5; total time=   0.4s\n",
      "[CV] END class_weight=balanced, max_depth=10, max_features=None, min_samples_leaf=1, min_samples_split=10; total time=   0.4s\n",
      "[CV] END class_weight=balanced, max_depth=10, max_features=None, min_samples_leaf=1, min_samples_split=10; total time=   0.4s\n",
      "[CV] END class_weight=balanced, max_depth=10, max_features=None, min_samples_leaf=1, min_samples_split=10; total time=   0.4s\n",
      "[CV] END class_weight=balanced, max_depth=10, max_features=None, min_samples_leaf=2, min_samples_split=2; total time=   0.4s\n",
      "[CV] END class_weight=balanced, max_depth=10, max_features=None, min_samples_leaf=2, min_samples_split=2; total time=   0.4s\n",
      "[CV] END class_weight=balanced, max_depth=10, max_features=None, min_samples_leaf=2, min_samples_split=2; total time=   0.4s\n",
      "[CV] END class_weight=balanced, max_depth=10, max_features=None, min_samples_leaf=2, min_samples_split=5; total time=   0.4s\n",
      "[CV] END class_weight=balanced, max_depth=10, max_features=None, min_samples_leaf=2, min_samples_split=5; total time=   0.4s\n",
      "[CV] END class_weight=balanced, max_depth=10, max_features=None, min_samples_leaf=2, min_samples_split=5; total time=   0.4s\n",
      "[CV] END class_weight=balanced, max_depth=10, max_features=None, min_samples_leaf=2, min_samples_split=10; total time=   0.4s\n",
      "[CV] END class_weight=balanced, max_depth=10, max_features=None, min_samples_leaf=2, min_samples_split=10; total time=   0.4s\n",
      "[CV] END class_weight=balanced, max_depth=10, max_features=None, min_samples_leaf=2, min_samples_split=10; total time=   0.4s\n",
      "[CV] END class_weight=balanced, max_depth=10, max_features=None, min_samples_leaf=4, min_samples_split=2; total time=   0.4s\n",
      "[CV] END class_weight=balanced, max_depth=10, max_features=None, min_samples_leaf=4, min_samples_split=2; total time=   0.4s\n",
      "[CV] END class_weight=balanced, max_depth=10, max_features=None, min_samples_leaf=4, min_samples_split=2; total time=   0.4s\n",
      "[CV] END class_weight=balanced, max_depth=10, max_features=None, min_samples_leaf=4, min_samples_split=5; total time=   0.4s\n",
      "[CV] END class_weight=balanced, max_depth=10, max_features=None, min_samples_leaf=4, min_samples_split=5; total time=   0.4s\n",
      "[CV] END class_weight=balanced, max_depth=10, max_features=None, min_samples_leaf=4, min_samples_split=5; total time=   0.4s\n",
      "[CV] END class_weight=balanced, max_depth=10, max_features=None, min_samples_leaf=4, min_samples_split=10; total time=   0.4s\n",
      "[CV] END class_weight=balanced, max_depth=10, max_features=None, min_samples_leaf=4, min_samples_split=10; total time=   0.4s\n",
      "[CV] END class_weight=balanced, max_depth=10, max_features=None, min_samples_leaf=4, min_samples_split=10; total time=   0.4s\n",
      "[CV] END class_weight=balanced, max_depth=10, max_features=sqrt, min_samples_leaf=1, min_samples_split=2; total time=   0.1s\n",
      "[CV] END class_weight=balanced, max_depth=10, max_features=sqrt, min_samples_leaf=1, min_samples_split=2; total time=   0.1s\n",
      "[CV] END class_weight=balanced, max_depth=10, max_features=sqrt, min_samples_leaf=1, min_samples_split=2; total time=   0.1s\n"
     ]
    },
    {
     "name": "stdout",
     "output_type": "stream",
     "text": [
      "[CV] END class_weight=balanced, max_depth=10, max_features=sqrt, min_samples_leaf=1, min_samples_split=5; total time=   0.1s\n",
      "[CV] END class_weight=balanced, max_depth=10, max_features=sqrt, min_samples_leaf=1, min_samples_split=5; total time=   0.1s\n",
      "[CV] END class_weight=balanced, max_depth=10, max_features=sqrt, min_samples_leaf=1, min_samples_split=5; total time=   0.1s\n",
      "[CV] END class_weight=balanced, max_depth=10, max_features=sqrt, min_samples_leaf=1, min_samples_split=10; total time=   0.1s\n",
      "[CV] END class_weight=balanced, max_depth=10, max_features=sqrt, min_samples_leaf=1, min_samples_split=10; total time=   0.1s\n",
      "[CV] END class_weight=balanced, max_depth=10, max_features=sqrt, min_samples_leaf=1, min_samples_split=10; total time=   0.1s\n",
      "[CV] END class_weight=balanced, max_depth=10, max_features=sqrt, min_samples_leaf=2, min_samples_split=2; total time=   0.1s\n",
      "[CV] END class_weight=balanced, max_depth=10, max_features=sqrt, min_samples_leaf=2, min_samples_split=2; total time=   0.1s\n",
      "[CV] END class_weight=balanced, max_depth=10, max_features=sqrt, min_samples_leaf=2, min_samples_split=2; total time=   0.1s\n",
      "[CV] END class_weight=balanced, max_depth=10, max_features=sqrt, min_samples_leaf=2, min_samples_split=5; total time=   0.1s\n",
      "[CV] END class_weight=balanced, max_depth=10, max_features=sqrt, min_samples_leaf=2, min_samples_split=5; total time=   0.1s\n",
      "[CV] END class_weight=balanced, max_depth=10, max_features=sqrt, min_samples_leaf=2, min_samples_split=5; total time=   0.1s\n",
      "[CV] END class_weight=balanced, max_depth=10, max_features=sqrt, min_samples_leaf=2, min_samples_split=10; total time=   0.1s\n",
      "[CV] END class_weight=balanced, max_depth=10, max_features=sqrt, min_samples_leaf=2, min_samples_split=10; total time=   0.1s\n",
      "[CV] END class_weight=balanced, max_depth=10, max_features=sqrt, min_samples_leaf=2, min_samples_split=10; total time=   0.1s\n",
      "[CV] END class_weight=balanced, max_depth=10, max_features=sqrt, min_samples_leaf=4, min_samples_split=2; total time=   0.1s\n",
      "[CV] END class_weight=balanced, max_depth=10, max_features=sqrt, min_samples_leaf=4, min_samples_split=2; total time=   0.1s\n",
      "[CV] END class_weight=balanced, max_depth=10, max_features=sqrt, min_samples_leaf=4, min_samples_split=2; total time=   0.1s\n",
      "[CV] END class_weight=balanced, max_depth=10, max_features=sqrt, min_samples_leaf=4, min_samples_split=5; total time=   0.1s\n",
      "[CV] END class_weight=balanced, max_depth=10, max_features=sqrt, min_samples_leaf=4, min_samples_split=5; total time=   0.1s\n",
      "[CV] END class_weight=balanced, max_depth=10, max_features=sqrt, min_samples_leaf=4, min_samples_split=5; total time=   0.1s\n",
      "[CV] END class_weight=balanced, max_depth=10, max_features=sqrt, min_samples_leaf=4, min_samples_split=10; total time=   0.1s\n",
      "[CV] END class_weight=balanced, max_depth=10, max_features=sqrt, min_samples_leaf=4, min_samples_split=10; total time=   0.1s\n",
      "[CV] END class_weight=balanced, max_depth=10, max_features=sqrt, min_samples_leaf=4, min_samples_split=10; total time=   0.1s\n",
      "[CV] END class_weight=balanced, max_depth=10, max_features=log2, min_samples_leaf=1, min_samples_split=2; total time=   0.1s\n",
      "[CV] END class_weight=balanced, max_depth=10, max_features=log2, min_samples_leaf=1, min_samples_split=2; total time=   0.1s\n",
      "[CV] END class_weight=balanced, max_depth=10, max_features=log2, min_samples_leaf=1, min_samples_split=2; total time=   0.1s\n",
      "[CV] END class_weight=balanced, max_depth=10, max_features=log2, min_samples_leaf=1, min_samples_split=5; total time=   0.1s\n",
      "[CV] END class_weight=balanced, max_depth=10, max_features=log2, min_samples_leaf=1, min_samples_split=5; total time=   0.1s\n",
      "[CV] END class_weight=balanced, max_depth=10, max_features=log2, min_samples_leaf=1, min_samples_split=5; total time=   0.1s\n",
      "[CV] END class_weight=balanced, max_depth=10, max_features=log2, min_samples_leaf=1, min_samples_split=10; total time=   0.1s\n",
      "[CV] END class_weight=balanced, max_depth=10, max_features=log2, min_samples_leaf=1, min_samples_split=10; total time=   0.1s\n",
      "[CV] END class_weight=balanced, max_depth=10, max_features=log2, min_samples_leaf=1, min_samples_split=10; total time=   0.1s\n",
      "[CV] END class_weight=balanced, max_depth=10, max_features=log2, min_samples_leaf=2, min_samples_split=2; total time=   0.1s\n",
      "[CV] END class_weight=balanced, max_depth=10, max_features=log2, min_samples_leaf=2, min_samples_split=2; total time=   0.1s\n",
      "[CV] END class_weight=balanced, max_depth=10, max_features=log2, min_samples_leaf=2, min_samples_split=2; total time=   0.1s\n",
      "[CV] END class_weight=balanced, max_depth=10, max_features=log2, min_samples_leaf=2, min_samples_split=5; total time=   0.1s\n",
      "[CV] END class_weight=balanced, max_depth=10, max_features=log2, min_samples_leaf=2, min_samples_split=5; total time=   0.1s\n",
      "[CV] END class_weight=balanced, max_depth=10, max_features=log2, min_samples_leaf=2, min_samples_split=5; total time=   0.1s\n",
      "[CV] END class_weight=balanced, max_depth=10, max_features=log2, min_samples_leaf=2, min_samples_split=10; total time=   0.1s\n",
      "[CV] END class_weight=balanced, max_depth=10, max_features=log2, min_samples_leaf=2, min_samples_split=10; total time=   0.1s\n",
      "[CV] END class_weight=balanced, max_depth=10, max_features=log2, min_samples_leaf=2, min_samples_split=10; total time=   0.1s\n",
      "[CV] END class_weight=balanced, max_depth=10, max_features=log2, min_samples_leaf=4, min_samples_split=2; total time=   0.1s\n",
      "[CV] END class_weight=balanced, max_depth=10, max_features=log2, min_samples_leaf=4, min_samples_split=2; total time=   0.1s\n",
      "[CV] END class_weight=balanced, max_depth=10, max_features=log2, min_samples_leaf=4, min_samples_split=2; total time=   0.1s\n",
      "[CV] END class_weight=balanced, max_depth=10, max_features=log2, min_samples_leaf=4, min_samples_split=5; total time=   0.1s\n",
      "[CV] END class_weight=balanced, max_depth=10, max_features=log2, min_samples_leaf=4, min_samples_split=5; total time=   0.1s\n",
      "[CV] END class_weight=balanced, max_depth=10, max_features=log2, min_samples_leaf=4, min_samples_split=5; total time=   0.1s\n",
      "[CV] END class_weight=balanced, max_depth=10, max_features=log2, min_samples_leaf=4, min_samples_split=10; total time=   0.1s\n",
      "[CV] END class_weight=balanced, max_depth=10, max_features=log2, min_samples_leaf=4, min_samples_split=10; total time=   0.1s\n",
      "[CV] END class_weight=balanced, max_depth=10, max_features=log2, min_samples_leaf=4, min_samples_split=10; total time=   0.1s\n",
      "[CV] END class_weight=balanced, max_depth=None, max_features=None, min_samples_leaf=1, min_samples_split=2; total time=   0.4s\n",
      "[CV] END class_weight=balanced, max_depth=None, max_features=None, min_samples_leaf=1, min_samples_split=2; total time=   0.4s\n",
      "[CV] END class_weight=balanced, max_depth=None, max_features=None, min_samples_leaf=1, min_samples_split=2; total time=   0.4s\n",
      "[CV] END class_weight=balanced, max_depth=None, max_features=None, min_samples_leaf=1, min_samples_split=5; total time=   0.4s\n",
      "[CV] END class_weight=balanced, max_depth=None, max_features=None, min_samples_leaf=1, min_samples_split=5; total time=   0.4s\n",
      "[CV] END class_weight=balanced, max_depth=None, max_features=None, min_samples_leaf=1, min_samples_split=5; total time=   0.4s\n",
      "[CV] END class_weight=balanced, max_depth=None, max_features=None, min_samples_leaf=1, min_samples_split=10; total time=   0.4s\n",
      "[CV] END class_weight=balanced, max_depth=None, max_features=None, min_samples_leaf=1, min_samples_split=10; total time=   0.4s\n",
      "[CV] END class_weight=balanced, max_depth=None, max_features=None, min_samples_leaf=1, min_samples_split=10; total time=   0.4s\n",
      "[CV] END class_weight=balanced, max_depth=None, max_features=None, min_samples_leaf=2, min_samples_split=2; total time=   0.4s\n",
      "[CV] END class_weight=balanced, max_depth=None, max_features=None, min_samples_leaf=2, min_samples_split=2; total time=   0.4s\n",
      "[CV] END class_weight=balanced, max_depth=None, max_features=None, min_samples_leaf=2, min_samples_split=2; total time=   0.4s\n",
      "[CV] END class_weight=balanced, max_depth=None, max_features=None, min_samples_leaf=2, min_samples_split=5; total time=   0.4s\n",
      "[CV] END class_weight=balanced, max_depth=None, max_features=None, min_samples_leaf=2, min_samples_split=5; total time=   0.4s\n",
      "[CV] END class_weight=balanced, max_depth=None, max_features=None, min_samples_leaf=2, min_samples_split=5; total time=   0.4s\n"
     ]
    },
    {
     "name": "stdout",
     "output_type": "stream",
     "text": [
      "[CV] END class_weight=balanced, max_depth=None, max_features=None, min_samples_leaf=2, min_samples_split=10; total time=   0.4s\n",
      "[CV] END class_weight=balanced, max_depth=None, max_features=None, min_samples_leaf=2, min_samples_split=10; total time=   0.4s\n",
      "[CV] END class_weight=balanced, max_depth=None, max_features=None, min_samples_leaf=2, min_samples_split=10; total time=   0.4s\n",
      "[CV] END class_weight=balanced, max_depth=None, max_features=None, min_samples_leaf=4, min_samples_split=2; total time=   0.4s\n",
      "[CV] END class_weight=balanced, max_depth=None, max_features=None, min_samples_leaf=4, min_samples_split=2; total time=   0.4s\n",
      "[CV] END class_weight=balanced, max_depth=None, max_features=None, min_samples_leaf=4, min_samples_split=2; total time=   0.4s\n",
      "[CV] END class_weight=balanced, max_depth=None, max_features=None, min_samples_leaf=4, min_samples_split=5; total time=   0.4s\n",
      "[CV] END class_weight=balanced, max_depth=None, max_features=None, min_samples_leaf=4, min_samples_split=5; total time=   0.4s\n",
      "[CV] END class_weight=balanced, max_depth=None, max_features=None, min_samples_leaf=4, min_samples_split=5; total time=   0.4s\n",
      "[CV] END class_weight=balanced, max_depth=None, max_features=None, min_samples_leaf=4, min_samples_split=10; total time=   0.4s\n",
      "[CV] END class_weight=balanced, max_depth=None, max_features=None, min_samples_leaf=4, min_samples_split=10; total time=   0.4s\n",
      "[CV] END class_weight=balanced, max_depth=None, max_features=None, min_samples_leaf=4, min_samples_split=10; total time=   0.4s\n",
      "[CV] END class_weight=balanced, max_depth=None, max_features=sqrt, min_samples_leaf=1, min_samples_split=2; total time=   0.2s\n",
      "[CV] END class_weight=balanced, max_depth=None, max_features=sqrt, min_samples_leaf=1, min_samples_split=2; total time=   0.1s\n",
      "[CV] END class_weight=balanced, max_depth=None, max_features=sqrt, min_samples_leaf=1, min_samples_split=2; total time=   0.1s\n",
      "[CV] END class_weight=balanced, max_depth=None, max_features=sqrt, min_samples_leaf=1, min_samples_split=5; total time=   0.2s\n",
      "[CV] END class_weight=balanced, max_depth=None, max_features=sqrt, min_samples_leaf=1, min_samples_split=5; total time=   0.1s\n",
      "[CV] END class_weight=balanced, max_depth=None, max_features=sqrt, min_samples_leaf=1, min_samples_split=5; total time=   0.2s\n",
      "[CV] END class_weight=balanced, max_depth=None, max_features=sqrt, min_samples_leaf=1, min_samples_split=10; total time=   0.2s\n",
      "[CV] END class_weight=balanced, max_depth=None, max_features=sqrt, min_samples_leaf=1, min_samples_split=10; total time=   0.1s\n",
      "[CV] END class_weight=balanced, max_depth=None, max_features=sqrt, min_samples_leaf=1, min_samples_split=10; total time=   0.2s\n",
      "[CV] END class_weight=balanced, max_depth=None, max_features=sqrt, min_samples_leaf=2, min_samples_split=2; total time=   0.1s\n",
      "[CV] END class_weight=balanced, max_depth=None, max_features=sqrt, min_samples_leaf=2, min_samples_split=2; total time=   0.1s\n",
      "[CV] END class_weight=balanced, max_depth=None, max_features=sqrt, min_samples_leaf=2, min_samples_split=2; total time=   0.1s\n",
      "[CV] END class_weight=balanced, max_depth=None, max_features=sqrt, min_samples_leaf=2, min_samples_split=5; total time=   0.1s\n",
      "[CV] END class_weight=balanced, max_depth=None, max_features=sqrt, min_samples_leaf=2, min_samples_split=5; total time=   0.1s\n",
      "[CV] END class_weight=balanced, max_depth=None, max_features=sqrt, min_samples_leaf=2, min_samples_split=5; total time=   0.1s\n",
      "[CV] END class_weight=balanced, max_depth=None, max_features=sqrt, min_samples_leaf=2, min_samples_split=10; total time=   0.1s\n",
      "[CV] END class_weight=balanced, max_depth=None, max_features=sqrt, min_samples_leaf=2, min_samples_split=10; total time=   0.1s\n",
      "[CV] END class_weight=balanced, max_depth=None, max_features=sqrt, min_samples_leaf=2, min_samples_split=10; total time=   0.1s\n",
      "[CV] END class_weight=balanced, max_depth=None, max_features=sqrt, min_samples_leaf=4, min_samples_split=2; total time=   0.1s\n",
      "[CV] END class_weight=balanced, max_depth=None, max_features=sqrt, min_samples_leaf=4, min_samples_split=2; total time=   0.1s\n",
      "[CV] END class_weight=balanced, max_depth=None, max_features=sqrt, min_samples_leaf=4, min_samples_split=2; total time=   0.1s\n",
      "[CV] END class_weight=balanced, max_depth=None, max_features=sqrt, min_samples_leaf=4, min_samples_split=5; total time=   0.1s\n",
      "[CV] END class_weight=balanced, max_depth=None, max_features=sqrt, min_samples_leaf=4, min_samples_split=5; total time=   0.1s\n",
      "[CV] END class_weight=balanced, max_depth=None, max_features=sqrt, min_samples_leaf=4, min_samples_split=5; total time=   0.1s\n",
      "[CV] END class_weight=balanced, max_depth=None, max_features=sqrt, min_samples_leaf=4, min_samples_split=10; total time=   0.1s\n",
      "[CV] END class_weight=balanced, max_depth=None, max_features=sqrt, min_samples_leaf=4, min_samples_split=10; total time=   0.1s\n",
      "[CV] END class_weight=balanced, max_depth=None, max_features=sqrt, min_samples_leaf=4, min_samples_split=10; total time=   0.1s\n",
      "[CV] END class_weight=balanced, max_depth=None, max_features=log2, min_samples_leaf=1, min_samples_split=2; total time=   0.2s\n",
      "[CV] END class_weight=balanced, max_depth=None, max_features=log2, min_samples_leaf=1, min_samples_split=2; total time=   0.1s\n",
      "[CV] END class_weight=balanced, max_depth=None, max_features=log2, min_samples_leaf=1, min_samples_split=2; total time=   0.2s\n",
      "[CV] END class_weight=balanced, max_depth=None, max_features=log2, min_samples_leaf=1, min_samples_split=5; total time=   0.1s\n",
      "[CV] END class_weight=balanced, max_depth=None, max_features=log2, min_samples_leaf=1, min_samples_split=5; total time=   0.2s\n",
      "[CV] END class_weight=balanced, max_depth=None, max_features=log2, min_samples_leaf=1, min_samples_split=5; total time=   0.1s\n",
      "[CV] END class_weight=balanced, max_depth=None, max_features=log2, min_samples_leaf=1, min_samples_split=10; total time=   0.1s\n",
      "[CV] END class_weight=balanced, max_depth=None, max_features=log2, min_samples_leaf=1, min_samples_split=10; total time=   0.2s\n",
      "[CV] END class_weight=balanced, max_depth=None, max_features=log2, min_samples_leaf=1, min_samples_split=10; total time=   0.3s\n",
      "[CV] END class_weight=balanced, max_depth=None, max_features=log2, min_samples_leaf=2, min_samples_split=2; total time=   0.1s\n",
      "[CV] END class_weight=balanced, max_depth=None, max_features=log2, min_samples_leaf=2, min_samples_split=2; total time=   0.1s\n",
      "[CV] END class_weight=balanced, max_depth=None, max_features=log2, min_samples_leaf=2, min_samples_split=2; total time=   0.1s\n",
      "[CV] END class_weight=balanced, max_depth=None, max_features=log2, min_samples_leaf=2, min_samples_split=5; total time=   0.1s\n",
      "[CV] END class_weight=balanced, max_depth=None, max_features=log2, min_samples_leaf=2, min_samples_split=5; total time=   0.1s\n",
      "[CV] END class_weight=balanced, max_depth=None, max_features=log2, min_samples_leaf=2, min_samples_split=5; total time=   0.1s\n",
      "[CV] END class_weight=balanced, max_depth=None, max_features=log2, min_samples_leaf=2, min_samples_split=10; total time=   0.1s\n",
      "[CV] END class_weight=balanced, max_depth=None, max_features=log2, min_samples_leaf=2, min_samples_split=10; total time=   0.1s\n",
      "[CV] END class_weight=balanced, max_depth=None, max_features=log2, min_samples_leaf=2, min_samples_split=10; total time=   0.1s\n",
      "[CV] END class_weight=balanced, max_depth=None, max_features=log2, min_samples_leaf=4, min_samples_split=2; total time=   0.1s\n",
      "[CV] END class_weight=balanced, max_depth=None, max_features=log2, min_samples_leaf=4, min_samples_split=2; total time=   0.1s\n",
      "[CV] END class_weight=balanced, max_depth=None, max_features=log2, min_samples_leaf=4, min_samples_split=2; total time=   0.1s\n",
      "[CV] END class_weight=balanced, max_depth=None, max_features=log2, min_samples_leaf=4, min_samples_split=5; total time=   0.1s\n",
      "[CV] END class_weight=balanced, max_depth=None, max_features=log2, min_samples_leaf=4, min_samples_split=5; total time=   0.1s\n",
      "[CV] END class_weight=balanced, max_depth=None, max_features=log2, min_samples_leaf=4, min_samples_split=5; total time=   0.1s\n",
      "[CV] END class_weight=balanced, max_depth=None, max_features=log2, min_samples_leaf=4, min_samples_split=10; total time=   0.1s\n",
      "[CV] END class_weight=balanced, max_depth=None, max_features=log2, min_samples_leaf=4, min_samples_split=10; total time=   0.1s\n",
      "[CV] END class_weight=balanced, max_depth=None, max_features=log2, min_samples_leaf=4, min_samples_split=10; total time=   0.1s\n"
     ]
    },
    {
     "name": "stdout",
     "output_type": "stream",
     "text": [
      "Best parameters for class_weight='balanced': {'class_weight': 'balanced', 'max_depth': 5, 'max_features': None, 'min_samples_leaf': 4, 'min_samples_split': 2}\n",
      "F1 Score on Validation Set (Class Weight 'balanced') with tuning: 0.5752032520325203\n"
     ]
    }
   ],
   "source": [
    "# Add 'class_weight' to the parameter grid\n",
    "param_grid_with_class_weight = param_grid.copy()\n",
    "param_grid_with_class_weight['class_weight'] = [None, 'balanced']\n",
    "\n",
    "# Initialize the model\n",
    "dt_balanced = DecisionTreeClassifier(random_state=42)\n",
    "\n",
    "# Initialize GridSearchCV\n",
    "grid_search_balanced = GridSearchCV(estimator=dt_balanced, param_grid=param_grid_with_class_weight, \n",
    "                                    scoring=make_scorer(f1_score), cv=3, n_jobs=-1, verbose=2)\n",
    "\n",
    "# Fit the grid search to the data\n",
    "grid_search_balanced.fit(features_train_processed, target_train)\n",
    "\n",
    "# Get the best parameters\n",
    "best_params_balanced = grid_search_balanced.best_params_\n",
    "print(f\"Best parameters for class_weight='balanced': {best_params_balanced}\")\n",
    "\n",
    "# Train the model with the best parameters\n",
    "best_dt_balanced = grid_search_balanced.best_estimator_\n",
    "\n",
    "# Predict on validation set\n",
    "y_pred_valid_balanced = best_dt_balanced.predict(features_valid_processed)\n",
    "\n",
    "# Evaluate on validation set\n",
    "f1_valid_balanced = f1_score(target_valid, y_pred_valid_balanced)\n",
    "print(f\"F1 Score on Validation Set (Class Weight 'balanced') with tuning: {f1_valid_balanced}\")"
   ]
  },
  {
   "cell_type": "code",
   "execution_count": 31,
   "metadata": {},
   "outputs": [
    {
     "name": "stdout",
     "output_type": "stream",
     "text": [
      "F1 Score on Validation Set (Resample) with tuning: 0.5452054794520548\n",
      "F1 Score on Validation Set (Class Weight 'balanced') with tuning: 0.5752032520325203\n",
      "Selected model: Class Weight 'balanced' with F1 Score 0.5752032520325203\n",
      "Accuracy on Test Set: 0.7647058823529411\n",
      "Confusion Matrix on Test Set:\n",
      "[[1116  332]\n",
      " [  96  275]]\n",
      "Classification Report on Test Set:\n",
      "              precision    recall  f1-score   support\n",
      "\n",
      "       False       0.92      0.77      0.84      1448\n",
      "        True       0.45      0.74      0.56       371\n",
      "\n",
      "    accuracy                           0.76      1819\n",
      "   macro avg       0.69      0.76      0.70      1819\n",
      "weighted avg       0.83      0.76      0.78      1819\n",
      "\n",
      "F1 Score on Test Set: 0.5623721881390594\n"
     ]
    }
   ],
   "source": [
    "# Compare F1 scores\n",
    "print(f\"F1 Score on Validation Set (Resample) with tuning: {f1_valid_resample}\")\n",
    "print(f\"F1 Score on Validation Set (Class Weight 'balanced') with tuning: {f1_valid_balanced}\")\n",
    "\n",
    "# Select the best model based on F1 score\n",
    "if f1_valid_resample > f1_valid_balanced:\n",
    "    best_model = best_dt_resample\n",
    "    print(f\"Selected model: Resample with F1 Score {f1_valid_resample}\")\n",
    "else:\n",
    "    best_model = best_dt_balanced\n",
    "    print(f\"Selected model: Class Weight 'balanced' with F1 Score {f1_valid_balanced}\")\n",
    "\n",
    "# Final evaluation on the test set\n",
    "y_pred_test = best_model.predict(features_test_processed)\n",
    "\n",
    "# Evaluate on the test set\n",
    "accuracy_test = accuracy_score(target_test, y_pred_test)\n",
    "conf_matrix_test = confusion_matrix(target_test, y_pred_test)\n",
    "class_report_test = classification_report(target_test, y_pred_test)\n",
    "f1_test = f1_score(target_test, y_pred_test)\n",
    "\n",
    "print(f\"Accuracy on Test Set: {accuracy_test}\")\n",
    "print(f\"Confusion Matrix on Test Set:\\n{conf_matrix_test}\")\n",
    "print(f\"Classification Report on Test Set:\\n{class_report_test}\")\n",
    "print(f\"F1 Score on Test Set: {f1_test}\")"
   ]
  },
  {
   "cell_type": "markdown",
   "metadata": {},
   "source": [
    "## Measure the AUC-ROC metric and compare it with the F1."
   ]
  },
  {
   "cell_type": "markdown",
   "metadata": {},
   "source": [
    "### Calculate AUC-ROC"
   ]
  },
  {
   "cell_type": "code",
   "execution_count": 31,
   "metadata": {},
   "outputs": [
    {
     "name": "stdout",
     "output_type": "stream",
     "text": [
      "AUC-ROC on Validation Set (Resample): 0.7129072698044284\n"
     ]
    },
    {
     "data": {
      "image/png": "[encoded data removed]",
      "text/plain": [
       "<Figure size 640x480 with 1 Axes>"
      ]
     },
     "metadata": {},
     "output_type": "display_data"
    }
   ],
   "source": [
    "# Predict probabilities on validation set\n",
    "y_pred_prob_valid_resample = best_dt_resample.predict_proba(features_valid_processed)[:, 1]\n",
    "\n",
    "# Calculate AUC-ROC\n",
    "auc_roc_valid_resample = roc_auc_score(target_valid, y_pred_prob_valid_resample)\n",
    "\n",
    "# Calculate ROC curve\n",
    "fpr_resample, tpr_resample, _ = roc_curve(target_valid, y_pred_prob_valid_resample)\n",
    "\n",
    "print(f\"AUC-ROC on Validation Set (Resample): {auc_roc_valid_resample}\")\n",
    "\n",
    "# Plot ROC curve\n",
    "plt.figure()\n",
    "plt.plot(fpr_resample, tpr_resample, label='Resample (AUC = %0.2f)' % auc_roc_valid_resample)\n",
    "plt.plot([0, 1], [0, 1], 'k--')  # Diagonal line\n",
    "plt.xlim([0.0, 1.0])\n",
    "plt.ylim([0.0, 1.05])\n",
    "plt.xlabel('False Positive Rate')\n",
    "plt.ylabel('True Positive Rate')\n",
    "plt.title('Receiver Operating Characteristic (ROC) Curve - Resample')\n",
    "plt.legend(loc=\"lower right\")\n",
    "plt.show()"
   ]
  },
  {
   "cell_type": "code",
   "execution_count": 32,
   "metadata": {},
   "outputs": [
    {
     "name": "stdout",
     "output_type": "stream",
     "text": [
      "AUC-ROC on Validation Set (Class Weight 'balanced'): 0.8359027041727751\n"
     ]
    },
    {
     "data": {
      "image/png": "[encoded data removed]",
      "text/plain": [
       "<Figure size 640x480 with 1 Axes>"
      ]
     },
     "metadata": {},
     "output_type": "display_data"
    }
   ],
   "source": [
    "# Predict probabilities on validation set\n",
    "y_pred_prob_valid_balanced = best_dt_balanced.predict_proba(features_valid_processed)[:, 1]\n",
    "\n",
    "# Calculate AUC-ROC\n",
    "auc_roc_valid_balanced = roc_auc_score(target_valid, y_pred_prob_valid_balanced)\n",
    "\n",
    "# Calculate ROC curve\n",
    "fpr_balanced, tpr_balanced, _ = roc_curve(target_valid, y_pred_prob_valid_balanced)\n",
    "\n",
    "print(f\"AUC-ROC on Validation Set (Class Weight 'balanced'): {auc_roc_valid_balanced}\")\n",
    "\n",
    "# Plot ROC curve\n",
    "plt.figure()\n",
    "plt.plot(fpr_balanced, tpr_balanced, label='Class Weight (AUC = %0.2f)' % auc_roc_valid_balanced)\n",
    "plt.plot([0, 1], [0, 1], 'k--')  # Diagonal line\n",
    "plt.xlim([0.0, 1.0])\n",
    "plt.ylim([0.0, 1.05])\n",
    "plt.xlabel('False Positive Rate')\n",
    "plt.ylabel('True Positive Rate')\n",
    "plt.title('Receiver Operating Characteristic (ROC) Curve - Class Weight')\n",
    "plt.legend(loc=\"lower right\")\n",
    "plt.show()"
   ]
  },
  {
   "cell_type": "code",
   "execution_count": 33,
   "metadata": {},
   "outputs": [
    {
     "name": "stdout",
     "output_type": "stream",
     "text": [
      "F1 Score on Validation Set (Resample) with tuning: 0.5452054794520548\n",
      "AUC-ROC on Validation Set (Resample): 0.7129072698044284\n",
      "F1 Score on Validation Set (Class Weight 'balanced') with tuning: 0.5752032520325203\n",
      "AUC-ROC on Validation Set (Class Weight 'balanced'): 0.8359027041727751\n",
      "Selected model: Class Weight 'balanced' with F1 Score 0.5752032520325203\n",
      "Accuracy on Test Set: 0.7647058823529411\n",
      "Confusion Matrix on Test Set:\n",
      "[[1116  332]\n",
      " [  96  275]]\n",
      "Classification Report on Test Set:\n",
      "              precision    recall  f1-score   support\n",
      "\n",
      "       False       0.92      0.77      0.84      1448\n",
      "        True       0.45      0.74      0.56       371\n",
      "\n",
      "    accuracy                           0.76      1819\n",
      "   macro avg       0.69      0.76      0.70      1819\n",
      "weighted avg       0.83      0.76      0.78      1819\n",
      "\n",
      "F1 Score on Test Set: 0.5623721881390594\n",
      "AUC-ROC on Test Set: 0.8250947491474439\n"
     ]
    },
    {
     "data": {
      "image/png": "[encoded data removed]",
      "text/plain": [
       "<Figure size 640x480 with 1 Axes>"
      ]
     },
     "metadata": {},
     "output_type": "display_data"
    }
   ],
   "source": [
    "# Print F1 scores and AUC-ROC scores for both methods\n",
    "print(f\"F1 Score on Validation Set (Resample) with tuning: {f1_valid_resample}\")\n",
    "print(f\"AUC-ROC on Validation Set (Resample): {auc_roc_valid_resample}\")\n",
    "print(f\"F1 Score on Validation Set (Class Weight 'balanced') with tuning: {f1_valid_balanced}\")\n",
    "print(f\"AUC-ROC on Validation Set (Class Weight 'balanced'): {auc_roc_valid_balanced}\")\n",
    "\n",
    "# Select the best model based on F1 score\n",
    "if f1_valid_resample > f1_valid_balanced:\n",
    "    best_model = best_dt_resample\n",
    "    print(f\"Selected model: Resample with F1 Score {f1_valid_resample}\")\n",
    "else:\n",
    "    best_model = best_dt_balanced\n",
    "    print(f\"Selected model: Class Weight 'balanced' with F1 Score {f1_valid_balanced}\")\n",
    "\n",
    "# Final evaluation on the test set\n",
    "y_pred_test = best_model.predict(features_test_processed)\n",
    "\n",
    "# Evaluate on the test set\n",
    "accuracy_test = accuracy_score(target_test, y_pred_test)\n",
    "conf_matrix_test = confusion_matrix(target_test, y_pred_test)\n",
    "class_report_test = classification_report(target_test, y_pred_test)\n",
    "f1_test = f1_score(target_test, y_pred_test)\n",
    "auc_roc_test = roc_auc_score(target_test, best_model.predict_proba(features_test_processed)[:, 1])\n",
    "\n",
    "print(f\"Accuracy on Test Set: {accuracy_test}\")\n",
    "print(f\"Confusion Matrix on Test Set:\\n{conf_matrix_test}\")\n",
    "print(f\"Classification Report on Test Set:\\n{class_report_test}\")\n",
    "print(f\"F1 Score on Test Set: {f1_test}\")\n",
    "print(f\"AUC-ROC on Test Set: {auc_roc_test}\")\n",
    "\n",
    "# Plot ROC curve for the best model\n",
    "fpr, tpr, _ = roc_curve(target_test, best_model.predict_proba(features_test_processed)[:, 1])\n",
    "plt.figure()\n",
    "plt.plot(fpr, tpr, label='Best Model (AUC = %0.2f)' % auc_roc_test)\n",
    "plt.plot([0, 1], [0, 1], 'k--')\n",
    "plt.xlim([0.0, 1.0])\n",
    "plt.ylim([0.0, 1.05])\n",
    "plt.xlabel('False Positive Rate')\n",
    "plt.ylabel('True Positive Rate')\n",
    "plt.title('Receiver Operating Characteristic (ROC) Curve - Best Model')\n",
    "plt.legend(loc=\"lower right\")\n",
    "plt.show()"
   ]
  },
  {
   "cell_type": "markdown",
   "metadata": {},
   "source": [
    "- AUC-ROC: Provides an aggregate measure of performance across all classification thresholds. A higher AUC indicates better model performance in distinguishing between classes.\n",
    "- F1-Score: Balances precision and recall, particularly important when the classes are imbalanced. A higher F1-score indicates a better balance between precision and recall."
   ]
  },
  {
   "cell_type": "markdown",
   "metadata": {},
   "source": [
    "## Conclusion\n",
    "- RandomForest: May show better overall performance, especially in balancing precision and recall for the minority class.\n",
    "- LogisticRegression: While it might be simpler, it may have lower recall for the minority class.\n",
    "- DecisionTree: Accuracy is better than logistic regression but not better than random forest.\n",
    "- RandomForest has a higher AUC-ROC, indicating it better distinguishes between classes.\n",
    "- RandomForest also has a higher F1-score, showing better balance between precision and recall for the minority class.\n",
    "\n",
    "- Overall, Random Forest is the best model."
   ]
  }
 ],
 "metadata": {
  "ExecuteTimeLog": [
   {
    "duration": 312,
    "start_time": "2024-07-27T17:05:06.373Z"
   },
   {
    "duration": 433,
    "start_time": "2024-07-27T17:06:09.575Z"
   },
   {
    "duration": 41,
    "start_time": "2024-07-27T17:06:10.292Z"
   },
   {
    "duration": 21,
    "start_time": "2024-07-27T17:06:18.659Z"
   },
   {
    "duration": 55,
    "start_time": "2024-07-27T17:06:45.192Z"
   },
   {
    "duration": 18,
    "start_time": "2024-07-27T17:06:53.249Z"
   },
   {
    "duration": 14,
    "start_time": "2024-07-27T17:07:17.504Z"
   },
   {
    "duration": 20,
    "start_time": "2024-07-27T17:07:33.127Z"
   },
   {
    "duration": 17,
    "start_time": "2024-07-27T17:07:42.188Z"
   },
   {
    "duration": 12,
    "start_time": "2024-07-27T17:08:01.855Z"
   },
   {
    "duration": 17,
    "start_time": "2024-07-27T17:08:30.107Z"
   },
   {
    "duration": 11,
    "start_time": "2024-07-27T17:08:52.825Z"
   },
   {
    "duration": 310,
    "start_time": "2024-07-28T18:12:57.363Z"
   },
   {
    "duration": 21,
    "start_time": "2024-07-28T18:13:20.244Z"
   },
   {
    "duration": 473,
    "start_time": "2024-07-28T18:13:30.798Z"
   },
   {
    "duration": 40,
    "start_time": "2024-07-28T18:13:31.274Z"
   },
   {
    "duration": 18,
    "start_time": "2024-07-28T18:13:31.317Z"
   },
   {
    "duration": 24,
    "start_time": "2024-07-28T18:13:31.339Z"
   },
   {
    "duration": 46,
    "start_time": "2024-07-28T18:13:31.366Z"
   },
   {
    "duration": 11,
    "start_time": "2024-07-28T18:13:31.415Z"
   },
   {
    "duration": 362,
    "start_time": "2024-07-28T18:13:31.428Z"
   },
   {
    "duration": 0,
    "start_time": "2024-07-28T18:13:31.793Z"
   },
   {
    "duration": 14,
    "start_time": "2024-07-28T18:14:10.981Z"
   },
   {
    "duration": 15,
    "start_time": "2024-07-28T18:14:13.949Z"
   },
   {
    "duration": 10,
    "start_time": "2024-07-28T18:17:24.747Z"
   },
   {
    "duration": 15,
    "start_time": "2024-07-28T18:17:38.278Z"
   },
   {
    "duration": 13,
    "start_time": "2024-07-28T18:17:49.150Z"
   },
   {
    "duration": 12,
    "start_time": "2024-07-28T18:18:30.986Z"
   },
   {
    "duration": 16,
    "start_time": "2024-07-28T18:22:11.702Z"
   },
   {
    "duration": 9,
    "start_time": "2024-07-28T18:25:07.199Z"
   },
   {
    "duration": 4,
    "start_time": "2024-07-28T18:28:05.832Z"
   },
   {
    "duration": 1159,
    "start_time": "2024-07-28T18:30:46.170Z"
   },
   {
    "duration": 25,
    "start_time": "2024-07-28T18:30:47.332Z"
   },
   {
    "duration": 19,
    "start_time": "2024-07-28T18:30:47.360Z"
   },
   {
    "duration": 44,
    "start_time": "2024-07-28T18:30:47.382Z"
   },
   {
    "duration": 17,
    "start_time": "2024-07-28T18:30:47.429Z"
   },
   {
    "duration": 10,
    "start_time": "2024-07-28T18:30:47.450Z"
   },
   {
    "duration": 48,
    "start_time": "2024-07-28T18:30:47.463Z"
   },
   {
    "duration": 17,
    "start_time": "2024-07-28T18:30:47.514Z"
   },
   {
    "duration": 20,
    "start_time": "2024-07-28T18:30:47.535Z"
   },
   {
    "duration": 53,
    "start_time": "2024-07-28T18:30:47.560Z"
   },
   {
    "duration": 207,
    "start_time": "2024-07-28T18:30:47.616Z"
   },
   {
    "duration": 0,
    "start_time": "2024-07-28T18:30:47.825Z"
   },
   {
    "duration": 22,
    "start_time": "2024-07-28T18:32:50.520Z"
   },
   {
    "duration": 1130,
    "start_time": "2024-07-28T18:32:55.654Z"
   },
   {
    "duration": 36,
    "start_time": "2024-07-28T18:32:56.787Z"
   },
   {
    "duration": 19,
    "start_time": "2024-07-28T18:32:56.827Z"
   },
   {
    "duration": 23,
    "start_time": "2024-07-28T18:32:56.850Z"
   },
   {
    "duration": 43,
    "start_time": "2024-07-28T18:32:56.876Z"
   },
   {
    "duration": 11,
    "start_time": "2024-07-28T18:32:56.922Z"
   },
   {
    "duration": 15,
    "start_time": "2024-07-28T18:32:56.937Z"
   },
   {
    "duration": 52,
    "start_time": "2024-07-28T18:32:56.955Z"
   },
   {
    "duration": 19,
    "start_time": "2024-07-28T18:32:57.010Z"
   },
   {
    "duration": 10,
    "start_time": "2024-07-28T18:32:57.033Z"
   },
   {
    "duration": 21,
    "start_time": "2024-07-28T18:32:57.046Z"
   },
   {
    "duration": 253,
    "start_time": "2024-07-28T18:32:57.069Z"
   },
   {
    "duration": 409,
    "start_time": "2024-07-28T18:38:50.967Z"
   },
   {
    "duration": 1159,
    "start_time": "2024-07-28T18:38:56.759Z"
   },
   {
    "duration": 29,
    "start_time": "2024-07-28T18:38:57.921Z"
   },
   {
    "duration": 16,
    "start_time": "2024-07-28T18:38:57.953Z"
   },
   {
    "duration": 46,
    "start_time": "2024-07-28T18:38:57.974Z"
   },
   {
    "duration": 18,
    "start_time": "2024-07-28T18:38:58.023Z"
   },
   {
    "duration": 10,
    "start_time": "2024-07-28T18:38:58.045Z"
   },
   {
    "duration": 56,
    "start_time": "2024-07-28T18:38:58.058Z"
   },
   {
    "duration": 18,
    "start_time": "2024-07-28T18:38:58.117Z"
   },
   {
    "duration": 18,
    "start_time": "2024-07-28T18:38:58.138Z"
   },
   {
    "duration": 45,
    "start_time": "2024-07-28T18:38:58.162Z"
   },
   {
    "duration": 22,
    "start_time": "2024-07-28T18:38:58.210Z"
   },
   {
    "duration": 278,
    "start_time": "2024-07-28T18:38:58.235Z"
   },
   {
    "duration": 158,
    "start_time": "2024-07-28T18:38:58.516Z"
   },
   {
    "duration": 4930,
    "start_time": "2024-07-28T18:41:03.339Z"
   },
   {
    "duration": 34,
    "start_time": "2024-07-28T18:41:08.272Z"
   },
   {
    "duration": 20,
    "start_time": "2024-07-28T18:41:08.309Z"
   },
   {
    "duration": 21,
    "start_time": "2024-07-28T18:41:08.334Z"
   },
   {
    "duration": 48,
    "start_time": "2024-07-28T18:41:08.358Z"
   },
   {
    "duration": 13,
    "start_time": "2024-07-28T18:41:08.410Z"
   },
   {
    "duration": 15,
    "start_time": "2024-07-28T18:41:08.427Z"
   },
   {
    "duration": 15,
    "start_time": "2024-07-28T18:41:08.445Z"
   },
   {
    "duration": 60,
    "start_time": "2024-07-28T18:41:08.463Z"
   },
   {
    "duration": 10,
    "start_time": "2024-07-28T18:41:08.528Z"
   },
   {
    "duration": 21,
    "start_time": "2024-07-28T18:41:08.542Z"
   },
   {
    "duration": 341,
    "start_time": "2024-07-28T18:41:08.566Z"
   },
   {
    "duration": 158,
    "start_time": "2024-07-28T18:41:08.910Z"
   },
   {
    "duration": 45,
    "start_time": "2024-07-28T18:41:09.070Z"
   },
   {
    "duration": 2954,
    "start_time": "2024-07-28T18:41:09.117Z"
   },
   {
    "duration": 11,
    "start_time": "2024-07-29T01:01:19.978Z"
   },
   {
    "duration": 309,
    "start_time": "2024-07-29T01:01:26.684Z"
   },
   {
    "duration": 22,
    "start_time": "2024-07-29T01:01:38.867Z"
   },
   {
    "duration": 4883,
    "start_time": "2024-07-29T01:02:25.201Z"
   },
   {
    "duration": 29,
    "start_time": "2024-07-29T01:02:30.088Z"
   },
   {
    "duration": 22,
    "start_time": "2024-07-29T01:02:30.120Z"
   },
   {
    "duration": 21,
    "start_time": "2024-07-29T01:02:30.147Z"
   },
   {
    "duration": 18,
    "start_time": "2024-07-29T01:02:30.171Z"
   },
   {
    "duration": 45,
    "start_time": "2024-07-29T01:02:30.193Z"
   },
   {
    "duration": 15,
    "start_time": "2024-07-29T01:02:30.241Z"
   },
   {
    "duration": 15,
    "start_time": "2024-07-29T01:02:30.258Z"
   },
   {
    "duration": 61,
    "start_time": "2024-07-29T01:02:30.276Z"
   },
   {
    "duration": 10,
    "start_time": "2024-07-29T01:02:30.341Z"
   },
   {
    "duration": 11,
    "start_time": "2024-07-29T01:02:47.284Z"
   },
   {
    "duration": 9,
    "start_time": "2024-07-29T01:05:03.633Z"
   },
   {
    "duration": 240,
    "start_time": "2024-07-29T01:05:08.396Z"
   },
   {
    "duration": 486,
    "start_time": "2024-07-29T01:13:25.126Z"
   },
   {
    "duration": 1853,
    "start_time": "2024-07-29T01:13:31.274Z"
   },
   {
    "duration": 0,
    "start_time": "2024-07-29T01:13:33.133Z"
   },
   {
    "duration": 0,
    "start_time": "2024-07-29T01:13:33.135Z"
   },
   {
    "duration": 0,
    "start_time": "2024-07-29T01:13:33.137Z"
   },
   {
    "duration": 0,
    "start_time": "2024-07-29T01:13:33.139Z"
   },
   {
    "duration": 0,
    "start_time": "2024-07-29T01:13:33.141Z"
   },
   {
    "duration": 0,
    "start_time": "2024-07-29T01:13:33.143Z"
   },
   {
    "duration": 0,
    "start_time": "2024-07-29T01:13:33.144Z"
   },
   {
    "duration": 0,
    "start_time": "2024-07-29T01:13:33.146Z"
   },
   {
    "duration": 0,
    "start_time": "2024-07-29T01:13:33.148Z"
   },
   {
    "duration": 0,
    "start_time": "2024-07-29T01:13:33.150Z"
   },
   {
    "duration": 0,
    "start_time": "2024-07-29T01:13:33.151Z"
   },
   {
    "duration": 0,
    "start_time": "2024-07-29T01:13:33.153Z"
   },
   {
    "duration": 14,
    "start_time": "2024-07-29T01:15:44.065Z"
   },
   {
    "duration": 24,
    "start_time": "2024-07-29T01:15:46.676Z"
   },
   {
    "duration": 1404,
    "start_time": "2024-07-29T01:15:52.857Z"
   },
   {
    "duration": 24,
    "start_time": "2024-07-29T01:15:54.265Z"
   },
   {
    "duration": 17,
    "start_time": "2024-07-29T01:15:54.292Z"
   },
   {
    "duration": 38,
    "start_time": "2024-07-29T01:15:54.313Z"
   },
   {
    "duration": 98,
    "start_time": "2024-07-29T01:15:54.354Z"
   },
   {
    "duration": 10,
    "start_time": "2024-07-29T01:15:54.456Z"
   },
   {
    "duration": 15,
    "start_time": "2024-07-29T01:15:54.469Z"
   },
   {
    "duration": 53,
    "start_time": "2024-07-29T01:15:54.487Z"
   },
   {
    "duration": 18,
    "start_time": "2024-07-29T01:15:54.543Z"
   },
   {
    "duration": 9,
    "start_time": "2024-07-29T01:15:54.565Z"
   },
   {
    "duration": 270,
    "start_time": "2024-07-29T01:15:54.577Z"
   },
   {
    "duration": 534,
    "start_time": "2024-07-29T01:15:54.849Z"
   },
   {
    "duration": 0,
    "start_time": "2024-07-29T01:15:55.387Z"
   },
   {
    "duration": 41,
    "start_time": "2024-07-29T01:17:46.065Z"
   },
   {
    "duration": 1441,
    "start_time": "2024-07-29T01:17:53.160Z"
   },
   {
    "duration": 33,
    "start_time": "2024-07-29T01:17:54.605Z"
   },
   {
    "duration": 17,
    "start_time": "2024-07-29T01:17:54.641Z"
   },
   {
    "duration": 23,
    "start_time": "2024-07-29T01:17:54.660Z"
   },
   {
    "duration": 103,
    "start_time": "2024-07-29T01:17:54.687Z"
   },
   {
    "duration": 11,
    "start_time": "2024-07-29T01:17:54.793Z"
   },
   {
    "duration": 39,
    "start_time": "2024-07-29T01:17:54.807Z"
   },
   {
    "duration": 14,
    "start_time": "2024-07-29T01:17:54.849Z"
   },
   {
    "duration": 18,
    "start_time": "2024-07-29T01:17:54.866Z"
   },
   {
    "duration": 47,
    "start_time": "2024-07-29T01:17:54.887Z"
   },
   {
    "duration": 296,
    "start_time": "2024-07-29T01:17:54.937Z"
   },
   {
    "duration": 96,
    "start_time": "2024-07-29T01:17:55.237Z"
   },
   {
    "duration": 432,
    "start_time": "2024-07-29T01:17:55.336Z"
   },
   {
    "duration": 17,
    "start_time": "2024-07-29T01:19:48.406Z"
   },
   {
    "duration": 1345,
    "start_time": "2024-07-29T01:20:27.483Z"
   },
   {
    "duration": 25,
    "start_time": "2024-07-29T01:20:28.831Z"
   },
   {
    "duration": 18,
    "start_time": "2024-07-29T01:20:28.859Z"
   },
   {
    "duration": 52,
    "start_time": "2024-07-29T01:20:28.881Z"
   },
   {
    "duration": 79,
    "start_time": "2024-07-29T01:20:28.936Z"
   },
   {
    "duration": 11,
    "start_time": "2024-07-29T01:20:29.034Z"
   },
   {
    "duration": 15,
    "start_time": "2024-07-29T01:20:29.048Z"
   },
   {
    "duration": 14,
    "start_time": "2024-07-29T01:20:29.067Z"
   },
   {
    "duration": 54,
    "start_time": "2024-07-29T01:20:29.084Z"
   },
   {
    "duration": 9,
    "start_time": "2024-07-29T01:20:29.144Z"
   },
   {
    "duration": 280,
    "start_time": "2024-07-29T01:20:29.156Z"
   },
   {
    "duration": 90,
    "start_time": "2024-07-29T01:20:29.444Z"
   },
   {
    "duration": 12,
    "start_time": "2024-07-29T01:20:29.537Z"
   },
   {
    "duration": 1494,
    "start_time": "2024-07-29T01:23:28.046Z"
   },
   {
    "duration": 1406,
    "start_time": "2024-07-29T01:24:54.427Z"
   },
   {
    "duration": 24,
    "start_time": "2024-07-29T01:24:55.836Z"
   },
   {
    "duration": 17,
    "start_time": "2024-07-29T01:24:55.863Z"
   },
   {
    "duration": 51,
    "start_time": "2024-07-29T01:24:55.884Z"
   },
   {
    "duration": 95,
    "start_time": "2024-07-29T01:24:55.938Z"
   },
   {
    "duration": 10,
    "start_time": "2024-07-29T01:24:56.035Z"
   },
   {
    "duration": 14,
    "start_time": "2024-07-29T01:24:56.048Z"
   },
   {
    "duration": 14,
    "start_time": "2024-07-29T01:24:56.065Z"
   },
   {
    "duration": 56,
    "start_time": "2024-07-29T01:24:56.084Z"
   },
   {
    "duration": 10,
    "start_time": "2024-07-29T01:24:56.145Z"
   },
   {
    "duration": 287,
    "start_time": "2024-07-29T01:24:56.158Z"
   },
   {
    "duration": 88,
    "start_time": "2024-07-29T01:24:56.448Z"
   },
   {
    "duration": 10,
    "start_time": "2024-07-29T01:24:56.539Z"
   },
   {
    "duration": 1488,
    "start_time": "2024-07-29T01:24:56.552Z"
   },
   {
    "duration": 419,
    "start_time": "2024-07-29T01:29:32.806Z"
   },
   {
    "duration": 1426,
    "start_time": "2024-07-29T01:29:56.423Z"
   },
   {
    "duration": 25,
    "start_time": "2024-07-29T01:29:57.852Z"
   },
   {
    "duration": 17,
    "start_time": "2024-07-29T01:29:57.880Z"
   },
   {
    "duration": 47,
    "start_time": "2024-07-29T01:29:57.900Z"
   },
   {
    "duration": 90,
    "start_time": "2024-07-29T01:29:57.952Z"
   },
   {
    "duration": 11,
    "start_time": "2024-07-29T01:29:58.045Z"
   },
   {
    "duration": 15,
    "start_time": "2024-07-29T01:29:58.059Z"
   },
   {
    "duration": 14,
    "start_time": "2024-07-29T01:29:58.077Z"
   },
   {
    "duration": 17,
    "start_time": "2024-07-29T01:29:58.134Z"
   },
   {
    "duration": 10,
    "start_time": "2024-07-29T01:29:58.154Z"
   },
   {
    "duration": 275,
    "start_time": "2024-07-29T01:29:58.168Z"
   },
   {
    "duration": 90,
    "start_time": "2024-07-29T01:29:58.446Z"
   },
   {
    "duration": 10,
    "start_time": "2024-07-29T01:29:58.539Z"
   },
   {
    "duration": 1486,
    "start_time": "2024-07-29T01:29:58.554Z"
   },
   {
    "duration": 490,
    "start_time": "2024-07-29T01:30:00.043Z"
   },
   {
    "duration": 17,
    "start_time": "2024-07-29T01:30:21.800Z"
   },
   {
    "duration": 1380,
    "start_time": "2024-07-29T01:34:20.598Z"
   },
   {
    "duration": 25,
    "start_time": "2024-07-29T01:34:21.981Z"
   },
   {
    "duration": 34,
    "start_time": "2024-07-29T01:34:22.008Z"
   },
   {
    "duration": 22,
    "start_time": "2024-07-29T01:34:22.045Z"
   },
   {
    "duration": 95,
    "start_time": "2024-07-29T01:34:22.071Z"
   },
   {
    "duration": 10,
    "start_time": "2024-07-29T01:34:22.170Z"
   },
   {
    "duration": 16,
    "start_time": "2024-07-29T01:34:22.183Z"
   },
   {
    "duration": 48,
    "start_time": "2024-07-29T01:34:22.201Z"
   },
   {
    "duration": 19,
    "start_time": "2024-07-29T01:34:22.252Z"
   },
   {
    "duration": 10,
    "start_time": "2024-07-29T01:34:22.274Z"
   },
   {
    "duration": 348,
    "start_time": "2024-07-29T01:34:22.287Z"
   },
   {
    "duration": 17,
    "start_time": "2024-07-29T01:34:22.638Z"
   },
   {
    "duration": 12,
    "start_time": "2024-07-29T01:34:22.733Z"
   },
   {
    "duration": 1491,
    "start_time": "2024-07-29T01:34:22.750Z"
   },
   {
    "duration": 1598,
    "start_time": "2024-07-29T01:46:41.943Z"
   },
   {
    "duration": 31,
    "start_time": "2024-07-29T01:46:43.546Z"
   },
   {
    "duration": 24,
    "start_time": "2024-07-29T01:46:43.582Z"
   },
   {
    "duration": 30,
    "start_time": "2024-07-29T01:46:43.635Z"
   },
   {
    "duration": 102,
    "start_time": "2024-07-29T01:46:43.668Z"
   },
   {
    "duration": 12,
    "start_time": "2024-07-29T01:46:43.774Z"
   },
   {
    "duration": 47,
    "start_time": "2024-07-29T01:46:43.788Z"
   },
   {
    "duration": 18,
    "start_time": "2024-07-29T01:46:43.839Z"
   },
   {
    "duration": 23,
    "start_time": "2024-07-29T01:46:43.860Z"
   },
   {
    "duration": 44,
    "start_time": "2024-07-29T01:46:43.889Z"
   },
   {
    "duration": 296,
    "start_time": "2024-07-29T01:46:43.937Z"
   },
   {
    "duration": 17,
    "start_time": "2024-07-29T01:46:44.236Z"
   },
   {
    "duration": 11,
    "start_time": "2024-07-29T01:46:44.334Z"
   },
   {
    "duration": 1792,
    "start_time": "2024-07-29T01:46:44.347Z"
   },
   {
    "duration": 153,
    "start_time": "2024-07-29T01:46:46.142Z"
   },
   {
    "duration": 391,
    "start_time": "2024-07-29T01:46:46.334Z"
   },
   {
    "duration": 105,
    "start_time": "2024-07-29T01:46:46.728Z"
   },
   {
    "duration": 11,
    "start_time": "2024-07-29T01:53:39.840Z"
   },
   {
    "duration": 14,
    "start_time": "2024-07-29T01:53:44.823Z"
   },
   {
    "duration": 311,
    "start_time": "2024-07-30T20:01:07.235Z"
   },
   {
    "duration": 5057,
    "start_time": "2024-07-30T20:01:13.719Z"
   },
   {
    "duration": 40,
    "start_time": "2024-07-30T20:01:18.780Z"
   },
   {
    "duration": 18,
    "start_time": "2024-07-30T20:01:18.823Z"
   },
   {
    "duration": 22,
    "start_time": "2024-07-30T20:01:18.846Z"
   },
   {
    "duration": 52,
    "start_time": "2024-07-30T20:01:18.871Z"
   },
   {
    "duration": 11,
    "start_time": "2024-07-30T20:01:18.926Z"
   },
   {
    "duration": 15,
    "start_time": "2024-07-30T20:01:18.940Z"
   },
   {
    "duration": 446,
    "start_time": "2024-07-30T20:01:18.958Z"
   },
   {
    "duration": 0,
    "start_time": "2024-07-30T20:01:19.408Z"
   },
   {
    "duration": 0,
    "start_time": "2024-07-30T20:01:19.423Z"
   },
   {
    "duration": 0,
    "start_time": "2024-07-30T20:01:19.424Z"
   },
   {
    "duration": 0,
    "start_time": "2024-07-30T20:01:19.426Z"
   },
   {
    "duration": 0,
    "start_time": "2024-07-30T20:01:19.428Z"
   },
   {
    "duration": 0,
    "start_time": "2024-07-30T20:01:19.430Z"
   },
   {
    "duration": 0,
    "start_time": "2024-07-30T20:01:19.432Z"
   },
   {
    "duration": 0,
    "start_time": "2024-07-30T20:01:19.434Z"
   },
   {
    "duration": 0,
    "start_time": "2024-07-30T20:01:19.436Z"
   },
   {
    "duration": 0,
    "start_time": "2024-07-30T20:01:19.438Z"
   },
   {
    "duration": 7,
    "start_time": "2024-07-30T20:05:01.793Z"
   },
   {
    "duration": 6,
    "start_time": "2024-07-30T20:05:11.719Z"
   },
   {
    "duration": 9,
    "start_time": "2024-07-30T20:05:22.649Z"
   },
   {
    "duration": 17,
    "start_time": "2024-07-30T20:05:51.518Z"
   },
   {
    "duration": 12,
    "start_time": "2024-07-30T20:06:49.872Z"
   },
   {
    "duration": 12,
    "start_time": "2024-07-30T20:10:41.355Z"
   },
   {
    "duration": 188,
    "start_time": "2024-07-30T20:16:43.168Z"
   },
   {
    "duration": 183,
    "start_time": "2024-07-30T20:17:22.861Z"
   },
   {
    "duration": 1522,
    "start_time": "2024-07-30T20:17:42.877Z"
   },
   {
    "duration": 178,
    "start_time": "2024-07-30T20:18:42.809Z"
   },
   {
    "duration": 571,
    "start_time": "2024-07-30T20:19:00.153Z"
   },
   {
    "duration": 1128,
    "start_time": "2024-07-30T20:19:49.968Z"
   },
   {
    "duration": 663,
    "start_time": "2024-07-30T20:23:07.646Z"
   },
   {
    "duration": 447,
    "start_time": "2024-07-30T20:49:20.856Z"
   },
   {
    "duration": 1591,
    "start_time": "2024-07-30T20:49:45.496Z"
   },
   {
    "duration": 33,
    "start_time": "2024-07-30T20:49:47.090Z"
   },
   {
    "duration": 17,
    "start_time": "2024-07-30T20:49:47.126Z"
   },
   {
    "duration": 23,
    "start_time": "2024-07-30T20:49:47.146Z"
   },
   {
    "duration": 17,
    "start_time": "2024-07-30T20:49:47.173Z"
   },
   {
    "duration": 11,
    "start_time": "2024-07-30T20:49:47.223Z"
   },
   {
    "duration": 17,
    "start_time": "2024-07-30T20:49:47.237Z"
   },
   {
    "duration": 15,
    "start_time": "2024-07-30T20:49:47.257Z"
   },
   {
    "duration": 59,
    "start_time": "2024-07-30T20:49:47.276Z"
   },
   {
    "duration": 10,
    "start_time": "2024-07-30T20:49:47.341Z"
   },
   {
    "duration": 1514,
    "start_time": "2024-07-30T20:49:47.353Z"
   },
   {
    "duration": 546,
    "start_time": "2024-07-30T20:49:48.870Z"
   },
   {
    "duration": 1178,
    "start_time": "2024-07-30T20:49:49.419Z"
   },
   {
    "duration": 321,
    "start_time": "2024-07-30T20:49:50.603Z"
   },
   {
    "duration": 17,
    "start_time": "2024-07-30T20:49:50.929Z"
   },
   {
    "duration": 11,
    "start_time": "2024-07-30T20:49:50.949Z"
   },
   {
    "duration": 964,
    "start_time": "2024-07-30T20:49:50.963Z"
   },
   {
    "duration": 150,
    "start_time": "2024-07-30T20:49:51.930Z"
   },
   {
    "duration": 395,
    "start_time": "2024-07-30T20:49:52.083Z"
   },
   {
    "duration": 86,
    "start_time": "2024-07-30T20:49:52.481Z"
   },
   {
    "duration": 1551,
    "start_time": "2024-07-30T21:22:42.341Z"
   },
   {
    "duration": 33,
    "start_time": "2024-07-30T21:22:43.895Z"
   },
   {
    "duration": 18,
    "start_time": "2024-07-30T21:22:43.931Z"
   },
   {
    "duration": 22,
    "start_time": "2024-07-30T21:22:43.953Z"
   },
   {
    "duration": 47,
    "start_time": "2024-07-30T21:22:43.977Z"
   },
   {
    "duration": 10,
    "start_time": "2024-07-30T21:22:44.027Z"
   },
   {
    "duration": 17,
    "start_time": "2024-07-30T21:22:44.039Z"
   },
   {
    "duration": 17,
    "start_time": "2024-07-30T21:22:44.058Z"
   },
   {
    "duration": 57,
    "start_time": "2024-07-30T21:22:44.078Z"
   },
   {
    "duration": 10,
    "start_time": "2024-07-30T21:22:44.140Z"
   },
   {
    "duration": 1535,
    "start_time": "2024-07-30T21:22:44.152Z"
   },
   {
    "duration": 575,
    "start_time": "2024-07-30T21:22:45.690Z"
   },
   {
    "duration": 1115,
    "start_time": "2024-07-30T21:22:46.270Z"
   },
   {
    "duration": 335,
    "start_time": "2024-07-30T21:22:47.389Z"
   },
   {
    "duration": 17,
    "start_time": "2024-07-30T21:22:47.727Z"
   },
   {
    "duration": 12,
    "start_time": "2024-07-30T21:22:47.747Z"
   },
   {
    "duration": 1380,
    "start_time": "2024-07-30T21:22:47.762Z"
   },
   {
    "duration": 0,
    "start_time": "2024-07-30T21:22:49.144Z"
   },
   {
    "duration": 0,
    "start_time": "2024-07-30T21:22:49.147Z"
   },
   {
    "duration": 0,
    "start_time": "2024-07-30T21:22:49.149Z"
   },
   {
    "duration": 0,
    "start_time": "2024-07-30T21:22:49.151Z"
   },
   {
    "duration": 0,
    "start_time": "2024-07-30T21:22:49.153Z"
   },
   {
    "duration": 1615,
    "start_time": "2024-07-30T21:23:45.596Z"
   },
   {
    "duration": 24,
    "start_time": "2024-07-30T21:23:47.215Z"
   },
   {
    "duration": 19,
    "start_time": "2024-07-30T21:23:47.241Z"
   },
   {
    "duration": 22,
    "start_time": "2024-07-30T21:23:47.263Z"
   },
   {
    "duration": 20,
    "start_time": "2024-07-30T21:23:47.325Z"
   },
   {
    "duration": 10,
    "start_time": "2024-07-30T21:23:47.348Z"
   },
   {
    "duration": 28,
    "start_time": "2024-07-30T21:23:47.361Z"
   },
   {
    "duration": 43,
    "start_time": "2024-07-30T21:23:47.392Z"
   },
   {
    "duration": 17,
    "start_time": "2024-07-30T21:23:47.438Z"
   },
   {
    "duration": 10,
    "start_time": "2024-07-30T21:23:47.458Z"
   },
   {
    "duration": 1504,
    "start_time": "2024-07-30T21:23:47.471Z"
   },
   {
    "duration": 545,
    "start_time": "2024-07-30T21:23:48.978Z"
   },
   {
    "duration": 1166,
    "start_time": "2024-07-30T21:23:49.526Z"
   },
   {
    "duration": 247,
    "start_time": "2024-07-30T21:23:50.698Z"
   },
   {
    "duration": 1353,
    "start_time": "2024-07-30T21:23:51.023Z"
   },
   {
    "duration": 0,
    "start_time": "2024-07-30T21:23:52.378Z"
   },
   {
    "duration": 0,
    "start_time": "2024-07-30T21:23:52.380Z"
   },
   {
    "duration": 0,
    "start_time": "2024-07-30T21:23:52.383Z"
   },
   {
    "duration": 0,
    "start_time": "2024-07-30T21:23:52.386Z"
   },
   {
    "duration": 0,
    "start_time": "2024-07-30T21:23:52.388Z"
   },
   {
    "duration": 126,
    "start_time": "2024-07-30T21:30:17.715Z"
   },
   {
    "duration": 1624,
    "start_time": "2024-07-30T21:34:58.602Z"
   },
   {
    "duration": 26,
    "start_time": "2024-07-30T21:35:00.230Z"
   },
   {
    "duration": 18,
    "start_time": "2024-07-30T21:35:00.259Z"
   },
   {
    "duration": 53,
    "start_time": "2024-07-30T21:35:00.282Z"
   },
   {
    "duration": 18,
    "start_time": "2024-07-30T21:35:00.339Z"
   },
   {
    "duration": 12,
    "start_time": "2024-07-30T21:35:00.360Z"
   },
   {
    "duration": 47,
    "start_time": "2024-07-30T21:35:00.375Z"
   },
   {
    "duration": 17,
    "start_time": "2024-07-30T21:35:00.425Z"
   },
   {
    "duration": 18,
    "start_time": "2024-07-30T21:35:00.444Z"
   },
   {
    "duration": 9,
    "start_time": "2024-07-30T21:35:00.467Z"
   },
   {
    "duration": 1512,
    "start_time": "2024-07-30T21:35:00.479Z"
   },
   {
    "duration": 557,
    "start_time": "2024-07-30T21:35:01.995Z"
   },
   {
    "duration": 1130,
    "start_time": "2024-07-30T21:35:02.556Z"
   },
   {
    "duration": 444,
    "start_time": "2024-07-30T21:35:03.689Z"
   },
   {
    "duration": 698,
    "start_time": "2024-07-30T21:35:04.136Z"
   },
   {
    "duration": 0,
    "start_time": "2024-07-30T21:35:04.837Z"
   },
   {
    "duration": 0,
    "start_time": "2024-07-30T21:35:04.840Z"
   },
   {
    "duration": 0,
    "start_time": "2024-07-30T21:35:04.841Z"
   },
   {
    "duration": 0,
    "start_time": "2024-07-30T21:35:04.843Z"
   },
   {
    "duration": 0,
    "start_time": "2024-07-30T21:35:04.845Z"
   },
   {
    "duration": 1533,
    "start_time": "2024-07-30T21:41:16.670Z"
   },
   {
    "duration": 28,
    "start_time": "2024-07-30T21:41:18.207Z"
   },
   {
    "duration": 17,
    "start_time": "2024-07-30T21:41:18.238Z"
   },
   {
    "duration": 21,
    "start_time": "2024-07-30T21:41:18.260Z"
   },
   {
    "duration": 47,
    "start_time": "2024-07-30T21:41:18.283Z"
   },
   {
    "duration": 10,
    "start_time": "2024-07-30T21:41:18.333Z"
   },
   {
    "duration": 19,
    "start_time": "2024-07-30T21:41:18.346Z"
   },
   {
    "duration": 17,
    "start_time": "2024-07-30T21:41:18.367Z"
   },
   {
    "duration": 52,
    "start_time": "2024-07-30T21:41:18.386Z"
   },
   {
    "duration": 10,
    "start_time": "2024-07-30T21:41:18.443Z"
   },
   {
    "duration": 1554,
    "start_time": "2024-07-30T21:41:18.457Z"
   },
   {
    "duration": 601,
    "start_time": "2024-07-30T21:41:20.015Z"
   },
   {
    "duration": 1175,
    "start_time": "2024-07-30T21:41:20.623Z"
   },
   {
    "duration": 244,
    "start_time": "2024-07-30T21:41:21.800Z"
   },
   {
    "duration": 1353,
    "start_time": "2024-07-30T21:41:22.122Z"
   },
   {
    "duration": 0,
    "start_time": "2024-07-30T21:41:23.479Z"
   },
   {
    "duration": 0,
    "start_time": "2024-07-30T21:41:23.481Z"
   },
   {
    "duration": 0,
    "start_time": "2024-07-30T21:41:23.484Z"
   },
   {
    "duration": 0,
    "start_time": "2024-07-30T21:41:23.486Z"
   },
   {
    "duration": 0,
    "start_time": "2024-07-30T21:41:23.488Z"
   },
   {
    "duration": 0,
    "start_time": "2024-07-30T21:41:23.490Z"
   },
   {
    "duration": 5321,
    "start_time": "2024-07-31T04:23:29.573Z"
   },
   {
    "duration": 36,
    "start_time": "2024-07-31T04:23:34.898Z"
   },
   {
    "duration": 18,
    "start_time": "2024-07-31T04:23:34.936Z"
   },
   {
    "duration": 21,
    "start_time": "2024-07-31T04:23:34.957Z"
   },
   {
    "duration": 40,
    "start_time": "2024-07-31T04:23:34.982Z"
   },
   {
    "duration": 10,
    "start_time": "2024-07-31T04:23:35.026Z"
   },
   {
    "duration": 14,
    "start_time": "2024-07-31T04:23:35.039Z"
   },
   {
    "duration": 15,
    "start_time": "2024-07-31T04:23:35.057Z"
   },
   {
    "duration": 60,
    "start_time": "2024-07-31T04:23:35.075Z"
   },
   {
    "duration": 10,
    "start_time": "2024-07-31T04:23:35.138Z"
   },
   {
    "duration": 1647,
    "start_time": "2024-07-31T04:23:35.151Z"
   },
   {
    "duration": 580,
    "start_time": "2024-07-31T04:23:36.800Z"
   },
   {
    "duration": 1208,
    "start_time": "2024-07-31T04:23:37.383Z"
   },
   {
    "duration": 329,
    "start_time": "2024-07-31T04:23:38.598Z"
   },
   {
    "duration": 1380,
    "start_time": "2024-07-31T04:23:38.930Z"
   },
   {
    "duration": 0,
    "start_time": "2024-07-31T04:23:40.312Z"
   },
   {
    "duration": 0,
    "start_time": "2024-07-31T04:23:40.314Z"
   },
   {
    "duration": 0,
    "start_time": "2024-07-31T04:23:40.323Z"
   },
   {
    "duration": 0,
    "start_time": "2024-07-31T04:23:40.326Z"
   },
   {
    "duration": 0,
    "start_time": "2024-07-31T04:23:40.327Z"
   },
   {
    "duration": 0,
    "start_time": "2024-07-31T04:23:40.329Z"
   },
   {
    "duration": 0,
    "start_time": "2024-07-31T04:23:40.331Z"
   },
   {
    "duration": 0,
    "start_time": "2024-07-31T04:23:40.335Z"
   },
   {
    "duration": 0,
    "start_time": "2024-07-31T04:23:40.337Z"
   },
   {
    "duration": 0,
    "start_time": "2024-07-31T04:23:40.340Z"
   },
   {
    "duration": 0,
    "start_time": "2024-07-31T04:23:40.341Z"
   },
   {
    "duration": 1,
    "start_time": "2024-07-31T04:23:40.342Z"
   },
   {
    "duration": 25,
    "start_time": "2024-07-31T04:26:36.625Z"
   },
   {
    "duration": 23,
    "start_time": "2024-07-31T04:26:55.032Z"
   },
   {
    "duration": 24,
    "start_time": "2024-07-31T04:27:07.150Z"
   },
   {
    "duration": 24,
    "start_time": "2024-07-31T04:27:22.295Z"
   },
   {
    "duration": 352,
    "start_time": "2024-07-31T15:39:46.873Z"
   },
   {
    "duration": 5392,
    "start_time": "2024-07-31T15:39:52.510Z"
   },
   {
    "duration": 44,
    "start_time": "2024-07-31T15:39:57.906Z"
   },
   {
    "duration": 23,
    "start_time": "2024-07-31T15:39:57.954Z"
   },
   {
    "duration": 21,
    "start_time": "2024-07-31T15:39:57.982Z"
   },
   {
    "duration": 17,
    "start_time": "2024-07-31T15:39:58.032Z"
   },
   {
    "duration": 16,
    "start_time": "2024-07-31T15:39:58.052Z"
   },
   {
    "duration": 14,
    "start_time": "2024-07-31T15:39:58.071Z"
   },
   {
    "duration": 47,
    "start_time": "2024-07-31T15:39:58.088Z"
   },
   {
    "duration": 18,
    "start_time": "2024-07-31T15:39:58.138Z"
   },
   {
    "duration": 10,
    "start_time": "2024-07-31T15:39:58.158Z"
   },
   {
    "duration": 1528,
    "start_time": "2024-07-31T15:39:58.171Z"
   },
   {
    "duration": 556,
    "start_time": "2024-07-31T15:39:59.702Z"
   },
   {
    "duration": 1146,
    "start_time": "2024-07-31T15:40:00.262Z"
   },
   {
    "duration": 236,
    "start_time": "2024-07-31T15:40:01.416Z"
   },
   {
    "duration": 23,
    "start_time": "2024-07-31T15:40:01.732Z"
   },
   {
    "duration": 7,
    "start_time": "2024-07-31T15:40:01.759Z"
   },
   {
    "duration": 1547,
    "start_time": "2024-07-31T15:42:38.095Z"
   },
   {
    "duration": 25,
    "start_time": "2024-07-31T15:42:39.645Z"
   },
   {
    "duration": 17,
    "start_time": "2024-07-31T15:42:39.673Z"
   },
   {
    "duration": 49,
    "start_time": "2024-07-31T15:42:39.695Z"
   },
   {
    "duration": 16,
    "start_time": "2024-07-31T15:42:39.749Z"
   },
   {
    "duration": 11,
    "start_time": "2024-07-31T15:42:39.768Z"
   },
   {
    "duration": 49,
    "start_time": "2024-07-31T15:42:39.782Z"
   },
   {
    "duration": 16,
    "start_time": "2024-07-31T15:42:39.834Z"
   },
   {
    "duration": 17,
    "start_time": "2024-07-31T15:42:39.853Z"
   },
   {
    "duration": 10,
    "start_time": "2024-07-31T15:42:39.875Z"
   },
   {
    "duration": 1503,
    "start_time": "2024-07-31T15:42:39.888Z"
   },
   {
    "duration": 568,
    "start_time": "2024-07-31T15:42:41.394Z"
   },
   {
    "duration": 1239,
    "start_time": "2024-07-31T15:42:41.965Z"
   },
   {
    "duration": 327,
    "start_time": "2024-07-31T15:42:43.207Z"
   },
   {
    "duration": 4,
    "start_time": "2024-07-31T15:42:43.536Z"
   },
   {
    "duration": 1587,
    "start_time": "2024-07-31T15:43:01.950Z"
   },
   {
    "duration": 24,
    "start_time": "2024-07-31T15:43:03.541Z"
   },
   {
    "duration": 17,
    "start_time": "2024-07-31T15:43:03.568Z"
   },
   {
    "duration": 50,
    "start_time": "2024-07-31T15:43:03.590Z"
   },
   {
    "duration": 17,
    "start_time": "2024-07-31T15:43:03.643Z"
   },
   {
    "duration": 12,
    "start_time": "2024-07-31T15:43:03.662Z"
   },
   {
    "duration": 54,
    "start_time": "2024-07-31T15:43:03.676Z"
   },
   {
    "duration": 15,
    "start_time": "2024-07-31T15:43:03.733Z"
   },
   {
    "duration": 18,
    "start_time": "2024-07-31T15:43:03.751Z"
   },
   {
    "duration": 9,
    "start_time": "2024-07-31T15:43:03.774Z"
   },
   {
    "duration": 1497,
    "start_time": "2024-07-31T15:43:03.786Z"
   },
   {
    "duration": 559,
    "start_time": "2024-07-31T15:43:05.287Z"
   },
   {
    "duration": 1161,
    "start_time": "2024-07-31T15:43:05.849Z"
   },
   {
    "duration": 240,
    "start_time": "2024-07-31T15:43:07.013Z"
   },
   {
    "duration": 374,
    "start_time": "2024-07-31T15:43:07.256Z"
   },
   {
    "duration": 6,
    "start_time": "2024-07-31T15:43:07.633Z"
   },
   {
    "duration": 349500,
    "start_time": "2024-07-31T15:43:07.643Z"
   },
   {
    "duration": 0,
    "start_time": "2024-07-31T15:48:57.146Z"
   },
   {
    "duration": 0,
    "start_time": "2024-07-31T15:48:57.149Z"
   },
   {
    "duration": 0,
    "start_time": "2024-07-31T15:48:57.151Z"
   },
   {
    "duration": 0,
    "start_time": "2024-07-31T15:48:57.153Z"
   },
   {
    "duration": 0,
    "start_time": "2024-07-31T15:48:57.156Z"
   },
   {
    "duration": 0,
    "start_time": "2024-07-31T15:48:57.158Z"
   },
   {
    "duration": 0,
    "start_time": "2024-07-31T15:48:57.161Z"
   },
   {
    "duration": 0,
    "start_time": "2024-07-31T15:48:57.163Z"
   },
   {
    "duration": 0,
    "start_time": "2024-07-31T15:48:57.165Z"
   },
   {
    "duration": 0,
    "start_time": "2024-07-31T15:48:57.167Z"
   },
   {
    "duration": 1513,
    "start_time": "2024-07-31T15:49:53.376Z"
   },
   {
    "duration": 24,
    "start_time": "2024-07-31T15:49:54.892Z"
   },
   {
    "duration": 26,
    "start_time": "2024-07-31T15:49:54.919Z"
   },
   {
    "duration": 21,
    "start_time": "2024-07-31T15:49:54.948Z"
   },
   {
    "duration": 16,
    "start_time": "2024-07-31T15:49:54.976Z"
   },
   {
    "duration": 9,
    "start_time": "2024-07-31T15:49:55.030Z"
   },
   {
    "duration": 18,
    "start_time": "2024-07-31T15:49:55.042Z"
   },
   {
    "duration": 15,
    "start_time": "2024-07-31T15:49:55.064Z"
   },
   {
    "duration": 54,
    "start_time": "2024-07-31T15:49:55.082Z"
   },
   {
    "duration": 11,
    "start_time": "2024-07-31T15:49:55.139Z"
   },
   {
    "duration": 1510,
    "start_time": "2024-07-31T15:49:55.153Z"
   },
   {
    "duration": 602,
    "start_time": "2024-07-31T15:49:56.666Z"
   },
   {
    "duration": 1124,
    "start_time": "2024-07-31T15:49:57.271Z"
   },
   {
    "duration": 249,
    "start_time": "2024-07-31T15:49:58.401Z"
   },
   {
    "duration": 97,
    "start_time": "2024-07-31T15:49:58.653Z"
   },
   {
    "duration": 6022,
    "start_time": "2024-07-31T15:49:58.831Z"
   },
   {
    "duration": 0,
    "start_time": "2024-07-31T15:50:04.856Z"
   },
   {
    "duration": 0,
    "start_time": "2024-07-31T15:50:04.858Z"
   },
   {
    "duration": 0,
    "start_time": "2024-07-31T15:50:04.859Z"
   },
   {
    "duration": 0,
    "start_time": "2024-07-31T15:50:04.861Z"
   },
   {
    "duration": 0,
    "start_time": "2024-07-31T15:50:04.863Z"
   },
   {
    "duration": 0,
    "start_time": "2024-07-31T15:50:04.865Z"
   },
   {
    "duration": 0,
    "start_time": "2024-07-31T15:50:04.866Z"
   },
   {
    "duration": 0,
    "start_time": "2024-07-31T15:50:04.869Z"
   },
   {
    "duration": 0,
    "start_time": "2024-07-31T15:50:04.871Z"
   },
   {
    "duration": 0,
    "start_time": "2024-07-31T15:50:04.873Z"
   },
   {
    "duration": 1587,
    "start_time": "2024-07-31T16:05:02.113Z"
   },
   {
    "duration": 33,
    "start_time": "2024-07-31T16:05:03.703Z"
   },
   {
    "duration": 18,
    "start_time": "2024-07-31T16:05:03.738Z"
   },
   {
    "duration": 22,
    "start_time": "2024-07-31T16:05:03.761Z"
   },
   {
    "duration": 47,
    "start_time": "2024-07-31T16:05:03.785Z"
   },
   {
    "duration": 15,
    "start_time": "2024-07-31T16:05:03.835Z"
   },
   {
    "duration": 16,
    "start_time": "2024-07-31T16:05:03.854Z"
   },
   {
    "duration": 16,
    "start_time": "2024-07-31T16:05:03.872Z"
   },
   {
    "duration": 48,
    "start_time": "2024-07-31T16:05:03.893Z"
   },
   {
    "duration": 9,
    "start_time": "2024-07-31T16:05:03.947Z"
   },
   {
    "duration": 1536,
    "start_time": "2024-07-31T16:05:03.959Z"
   },
   {
    "duration": 585,
    "start_time": "2024-07-31T16:05:05.498Z"
   },
   {
    "duration": 1236,
    "start_time": "2024-07-31T16:05:06.085Z"
   },
   {
    "duration": 307,
    "start_time": "2024-07-31T16:05:07.332Z"
   },
   {
    "duration": 95,
    "start_time": "2024-07-31T16:05:07.642Z"
   },
   {
    "duration": 5,
    "start_time": "2024-07-31T16:05:07.740Z"
   },
   {
    "duration": 7230,
    "start_time": "2024-07-31T16:05:07.749Z"
   },
   {
    "duration": 1604,
    "start_time": "2024-07-31T16:09:51.696Z"
   },
   {
    "duration": 32,
    "start_time": "2024-07-31T16:09:53.303Z"
   },
   {
    "duration": 18,
    "start_time": "2024-07-31T16:09:53.338Z"
   },
   {
    "duration": 21,
    "start_time": "2024-07-31T16:09:53.360Z"
   },
   {
    "duration": 47,
    "start_time": "2024-07-31T16:09:53.385Z"
   },
   {
    "duration": 11,
    "start_time": "2024-07-31T16:09:53.435Z"
   },
   {
    "duration": 15,
    "start_time": "2024-07-31T16:09:53.451Z"
   },
   {
    "duration": 14,
    "start_time": "2024-07-31T16:09:53.469Z"
   },
   {
    "duration": 57,
    "start_time": "2024-07-31T16:09:53.486Z"
   },
   {
    "duration": 10,
    "start_time": "2024-07-31T16:09:53.546Z"
   },
   {
    "duration": 1545,
    "start_time": "2024-07-31T16:09:53.558Z"
   },
   {
    "duration": 581,
    "start_time": "2024-07-31T16:09:55.106Z"
   },
   {
    "duration": 1236,
    "start_time": "2024-07-31T16:09:55.690Z"
   },
   {
    "duration": 395,
    "start_time": "2024-07-31T16:09:56.936Z"
   },
   {
    "duration": 101,
    "start_time": "2024-07-31T16:09:57.334Z"
   },
   {
    "duration": 5,
    "start_time": "2024-07-31T16:09:57.438Z"
   },
   {
    "duration": 6596,
    "start_time": "2024-07-31T16:09:57.447Z"
   },
   {
    "duration": 1552,
    "start_time": "2024-07-31T16:13:19.828Z"
   },
   {
    "duration": 25,
    "start_time": "2024-07-31T16:13:21.384Z"
   },
   {
    "duration": 31,
    "start_time": "2024-07-31T16:13:21.411Z"
   },
   {
    "duration": 22,
    "start_time": "2024-07-31T16:13:21.446Z"
   },
   {
    "duration": 18,
    "start_time": "2024-07-31T16:13:21.471Z"
   },
   {
    "duration": 46,
    "start_time": "2024-07-31T16:13:21.492Z"
   },
   {
    "duration": 16,
    "start_time": "2024-07-31T16:13:21.541Z"
   },
   {
    "duration": 16,
    "start_time": "2024-07-31T16:13:21.559Z"
   },
   {
    "duration": 59,
    "start_time": "2024-07-31T16:13:21.578Z"
   },
   {
    "duration": 9,
    "start_time": "2024-07-31T16:13:21.643Z"
   },
   {
    "duration": 1468,
    "start_time": "2024-07-31T16:13:21.655Z"
   },
   {
    "duration": 573,
    "start_time": "2024-07-31T16:13:23.126Z"
   },
   {
    "duration": 1189,
    "start_time": "2024-07-31T16:13:23.703Z"
   },
   {
    "duration": 254,
    "start_time": "2024-07-31T16:13:24.895Z"
   },
   {
    "duration": 96,
    "start_time": "2024-07-31T16:13:25.152Z"
   },
   {
    "duration": 80,
    "start_time": "2024-07-31T16:13:25.251Z"
   },
   {
    "duration": 6398,
    "start_time": "2024-07-31T16:13:25.334Z"
   },
   {
    "duration": 100,
    "start_time": "2024-07-31T16:13:31.738Z"
   },
   {
    "duration": 364,
    "start_time": "2024-07-31T16:13:31.841Z"
   },
   {
    "duration": 305,
    "start_time": "2024-07-31T18:35:02.046Z"
   },
   {
    "duration": 5220,
    "start_time": "2024-07-31T18:35:07.660Z"
   },
   {
    "duration": 31,
    "start_time": "2024-07-31T18:35:12.884Z"
   },
   {
    "duration": 18,
    "start_time": "2024-07-31T18:35:12.918Z"
   },
   {
    "duration": 22,
    "start_time": "2024-07-31T18:35:12.940Z"
   },
   {
    "duration": 52,
    "start_time": "2024-07-31T18:35:12.966Z"
   },
   {
    "duration": 10,
    "start_time": "2024-07-31T18:35:13.021Z"
   },
   {
    "duration": 18,
    "start_time": "2024-07-31T18:35:13.034Z"
   },
   {
    "duration": 9,
    "start_time": "2024-07-31T18:35:13.054Z"
   },
   {
    "duration": 52,
    "start_time": "2024-07-31T18:35:13.066Z"
   },
   {
    "duration": 18,
    "start_time": "2024-07-31T18:35:13.121Z"
   },
   {
    "duration": 10,
    "start_time": "2024-07-31T18:35:13.142Z"
   },
   {
    "duration": 1650,
    "start_time": "2024-07-31T18:35:13.157Z"
   },
   {
    "duration": 578,
    "start_time": "2024-07-31T18:35:14.810Z"
   },
   {
    "duration": 1183,
    "start_time": "2024-07-31T18:35:15.393Z"
   },
   {
    "duration": 240,
    "start_time": "2024-07-31T18:35:16.578Z"
   },
   {
    "duration": 101,
    "start_time": "2024-07-31T18:35:16.820Z"
   },
   {
    "duration": 5,
    "start_time": "2024-07-31T18:35:16.923Z"
   },
   {
    "duration": 6294,
    "start_time": "2024-07-31T18:35:16.932Z"
   },
   {
    "duration": 95,
    "start_time": "2024-07-31T18:35:23.229Z"
   },
   {
    "duration": 361,
    "start_time": "2024-07-31T18:35:23.330Z"
   },
   {
    "duration": 1561,
    "start_time": "2024-07-31T18:39:19.753Z"
   },
   {
    "duration": 25,
    "start_time": "2024-07-31T18:39:21.318Z"
   },
   {
    "duration": 18,
    "start_time": "2024-07-31T18:39:21.346Z"
   },
   {
    "duration": 50,
    "start_time": "2024-07-31T18:39:21.369Z"
   },
   {
    "duration": 17,
    "start_time": "2024-07-31T18:39:21.422Z"
   },
   {
    "duration": 12,
    "start_time": "2024-07-31T18:39:21.442Z"
   },
   {
    "duration": 53,
    "start_time": "2024-07-31T18:39:21.457Z"
   },
   {
    "duration": 10,
    "start_time": "2024-07-31T18:39:21.513Z"
   },
   {
    "duration": 17,
    "start_time": "2024-07-31T18:39:21.526Z"
   },
   {
    "duration": 16,
    "start_time": "2024-07-31T18:39:21.548Z"
   },
   {
    "duration": 46,
    "start_time": "2024-07-31T18:39:21.567Z"
   },
   {
    "duration": 1447,
    "start_time": "2024-07-31T18:39:21.616Z"
   },
   {
    "duration": 550,
    "start_time": "2024-07-31T18:39:23.066Z"
   },
   {
    "duration": 1176,
    "start_time": "2024-07-31T18:39:23.619Z"
   },
   {
    "duration": 230,
    "start_time": "2024-07-31T18:39:24.798Z"
   },
   {
    "duration": 98,
    "start_time": "2024-07-31T18:39:25.031Z"
   },
   {
    "duration": 77,
    "start_time": "2024-07-31T18:39:25.132Z"
   },
   {
    "duration": 7193,
    "start_time": "2024-07-31T18:39:25.213Z"
   },
   {
    "duration": 96,
    "start_time": "2024-07-31T18:39:32.409Z"
   },
   {
    "duration": 284,
    "start_time": "2024-07-31T18:39:32.513Z"
   },
   {
    "duration": 1591,
    "start_time": "2024-07-31T18:56:12.919Z"
   },
   {
    "duration": 27,
    "start_time": "2024-07-31T18:56:14.513Z"
   },
   {
    "duration": 17,
    "start_time": "2024-07-31T18:56:14.543Z"
   },
   {
    "duration": 44,
    "start_time": "2024-07-31T18:56:14.563Z"
   },
   {
    "duration": 18,
    "start_time": "2024-07-31T18:56:14.611Z"
   },
   {
    "duration": 12,
    "start_time": "2024-07-31T18:56:14.632Z"
   },
   {
    "duration": 16,
    "start_time": "2024-07-31T18:56:14.647Z"
   },
   {
    "duration": 47,
    "start_time": "2024-07-31T18:56:14.665Z"
   },
   {
    "duration": 16,
    "start_time": "2024-07-31T18:56:14.716Z"
   },
   {
    "duration": 17,
    "start_time": "2024-07-31T18:56:14.735Z"
   },
   {
    "duration": 52,
    "start_time": "2024-07-31T18:56:14.754Z"
   },
   {
    "duration": 1484,
    "start_time": "2024-07-31T18:56:14.809Z"
   },
   {
    "duration": 603,
    "start_time": "2024-07-31T18:56:16.295Z"
   },
   {
    "duration": 1167,
    "start_time": "2024-07-31T18:56:16.908Z"
   },
   {
    "duration": 334,
    "start_time": "2024-07-31T18:56:18.078Z"
   },
   {
    "duration": 98,
    "start_time": "2024-07-31T18:56:18.415Z"
   },
   {
    "duration": 4,
    "start_time": "2024-07-31T18:56:18.518Z"
   },
   {
    "duration": 6282,
    "start_time": "2024-07-31T18:56:18.525Z"
   },
   {
    "duration": 586,
    "start_time": "2024-07-31T18:56:24.810Z"
   },
   {
    "duration": 0,
    "start_time": "2024-07-31T18:56:25.407Z"
   },
   {
    "duration": 0,
    "start_time": "2024-07-31T18:56:25.410Z"
   },
   {
    "duration": 1608,
    "start_time": "2024-07-31T18:57:48.616Z"
   },
   {
    "duration": 25,
    "start_time": "2024-07-31T18:57:50.227Z"
   },
   {
    "duration": 18,
    "start_time": "2024-07-31T18:57:50.255Z"
   },
   {
    "duration": 45,
    "start_time": "2024-07-31T18:57:50.277Z"
   },
   {
    "duration": 18,
    "start_time": "2024-07-31T18:57:50.324Z"
   },
   {
    "duration": 11,
    "start_time": "2024-07-31T18:57:50.345Z"
   },
   {
    "duration": 52,
    "start_time": "2024-07-31T18:57:50.359Z"
   },
   {
    "duration": 9,
    "start_time": "2024-07-31T18:57:50.414Z"
   },
   {
    "duration": 15,
    "start_time": "2024-07-31T18:57:50.426Z"
   },
   {
    "duration": 17,
    "start_time": "2024-07-31T18:57:50.446Z"
   },
   {
    "duration": 12,
    "start_time": "2024-07-31T18:57:50.506Z"
   },
   {
    "duration": 1442,
    "start_time": "2024-07-31T18:57:50.521Z"
   },
   {
    "duration": 564,
    "start_time": "2024-07-31T18:57:51.966Z"
   },
   {
    "duration": 1134,
    "start_time": "2024-07-31T18:57:52.532Z"
   },
   {
    "duration": 253,
    "start_time": "2024-07-31T18:57:53.669Z"
   },
   {
    "duration": 91,
    "start_time": "2024-07-31T18:57:53.925Z"
   },
   {
    "duration": 4,
    "start_time": "2024-07-31T18:57:54.018Z"
   },
   {
    "duration": 6282,
    "start_time": "2024-07-31T18:57:54.026Z"
   },
   {
    "duration": 97,
    "start_time": "2024-07-31T18:58:00.314Z"
   },
   {
    "duration": 96,
    "start_time": "2024-07-31T18:58:00.414Z"
   },
   {
    "duration": 275,
    "start_time": "2024-07-31T18:58:00.518Z"
   },
   {
    "duration": 1579,
    "start_time": "2024-07-31T19:03:28.679Z"
   },
   {
    "duration": 24,
    "start_time": "2024-07-31T19:03:30.263Z"
   },
   {
    "duration": 28,
    "start_time": "2024-07-31T19:03:30.289Z"
   },
   {
    "duration": 21,
    "start_time": "2024-07-31T19:03:30.321Z"
   },
   {
    "duration": 18,
    "start_time": "2024-07-31T19:03:30.345Z"
   },
   {
    "duration": 43,
    "start_time": "2024-07-31T19:03:30.366Z"
   },
   {
    "duration": 16,
    "start_time": "2024-07-31T19:03:30.412Z"
   },
   {
    "duration": 9,
    "start_time": "2024-07-31T19:03:30.432Z"
   },
   {
    "duration": 14,
    "start_time": "2024-07-31T19:03:30.444Z"
   },
   {
    "duration": 27,
    "start_time": "2024-07-31T19:03:30.506Z"
   },
   {
    "duration": 14,
    "start_time": "2024-07-31T19:03:30.535Z"
   },
   {
    "duration": 1549,
    "start_time": "2024-07-31T19:03:30.552Z"
   },
   {
    "duration": 597,
    "start_time": "2024-07-31T19:03:32.104Z"
   },
   {
    "duration": 1180,
    "start_time": "2024-07-31T19:03:32.704Z"
   },
   {
    "duration": 319,
    "start_time": "2024-07-31T19:03:33.887Z"
   },
   {
    "duration": 97,
    "start_time": "2024-07-31T19:03:34.209Z"
   },
   {
    "duration": 4,
    "start_time": "2024-07-31T19:03:34.309Z"
   },
   {
    "duration": 6292,
    "start_time": "2024-07-31T19:03:34.316Z"
   },
   {
    "duration": 96,
    "start_time": "2024-07-31T19:03:40.611Z"
   },
   {
    "duration": 98,
    "start_time": "2024-07-31T19:03:40.710Z"
   },
   {
    "duration": 282,
    "start_time": "2024-07-31T19:03:40.811Z"
   },
   {
    "duration": 1510,
    "start_time": "2024-07-31T19:04:52.961Z"
   },
   {
    "duration": 23,
    "start_time": "2024-07-31T19:04:54.475Z"
   },
   {
    "duration": 19,
    "start_time": "2024-07-31T19:04:54.507Z"
   },
   {
    "duration": 21,
    "start_time": "2024-07-31T19:04:54.531Z"
   },
   {
    "duration": 54,
    "start_time": "2024-07-31T19:04:54.555Z"
   },
   {
    "duration": 14,
    "start_time": "2024-07-31T19:04:54.612Z"
   },
   {
    "duration": 20,
    "start_time": "2024-07-31T19:04:54.629Z"
   },
   {
    "duration": 9,
    "start_time": "2024-07-31T19:04:54.652Z"
   },
   {
    "duration": 51,
    "start_time": "2024-07-31T19:04:54.665Z"
   },
   {
    "duration": 18,
    "start_time": "2024-07-31T19:04:54.721Z"
   },
   {
    "duration": 9,
    "start_time": "2024-07-31T19:04:54.742Z"
   },
   {
    "duration": 1513,
    "start_time": "2024-07-31T19:04:54.754Z"
   },
   {
    "duration": 544,
    "start_time": "2024-07-31T19:04:56.270Z"
   },
   {
    "duration": 1158,
    "start_time": "2024-07-31T19:04:56.817Z"
   },
   {
    "duration": 331,
    "start_time": "2024-07-31T19:04:57.978Z"
   },
   {
    "duration": 98,
    "start_time": "2024-07-31T19:04:58.312Z"
   },
   {
    "duration": 4,
    "start_time": "2024-07-31T19:04:58.415Z"
   },
   {
    "duration": 6190,
    "start_time": "2024-07-31T19:04:58.422Z"
   },
   {
    "duration": 97,
    "start_time": "2024-07-31T19:05:04.615Z"
   },
   {
    "duration": 603,
    "start_time": "2024-07-31T19:05:04.714Z"
   },
   {
    "duration": 0,
    "start_time": "2024-07-31T19:05:05.321Z"
   },
   {
    "duration": 0,
    "start_time": "2024-07-31T19:05:05.323Z"
   },
   {
    "duration": 1630,
    "start_time": "2024-07-31T19:08:14.043Z"
   },
   {
    "duration": 35,
    "start_time": "2024-07-31T19:08:15.677Z"
   },
   {
    "duration": 18,
    "start_time": "2024-07-31T19:08:15.718Z"
   },
   {
    "duration": 22,
    "start_time": "2024-07-31T19:08:15.739Z"
   },
   {
    "duration": 46,
    "start_time": "2024-07-31T19:08:15.766Z"
   },
   {
    "duration": 10,
    "start_time": "2024-07-31T19:08:15.815Z"
   },
   {
    "duration": 17,
    "start_time": "2024-07-31T19:08:15.828Z"
   },
   {
    "duration": 8,
    "start_time": "2024-07-31T19:08:15.848Z"
   },
   {
    "duration": 56,
    "start_time": "2024-07-31T19:08:15.859Z"
   },
   {
    "duration": 18,
    "start_time": "2024-07-31T19:08:15.918Z"
   },
   {
    "duration": 10,
    "start_time": "2024-07-31T19:08:15.940Z"
   },
   {
    "duration": 1526,
    "start_time": "2024-07-31T19:08:15.953Z"
   },
   {
    "duration": 598,
    "start_time": "2024-07-31T19:08:17.482Z"
   },
   {
    "duration": 1369,
    "start_time": "2024-07-31T19:08:18.086Z"
   },
   {
    "duration": 267,
    "start_time": "2024-07-31T19:08:19.459Z"
   },
   {
    "duration": 97,
    "start_time": "2024-07-31T19:08:19.729Z"
   },
   {
    "duration": 82,
    "start_time": "2024-07-31T19:08:19.828Z"
   },
   {
    "duration": 6700,
    "start_time": "2024-07-31T19:08:19.914Z"
   },
   {
    "duration": 98,
    "start_time": "2024-07-31T19:08:26.620Z"
   },
   {
    "duration": 8,
    "start_time": "2024-07-31T19:08:26.722Z"
   },
   {
    "duration": 578,
    "start_time": "2024-07-31T19:08:26.808Z"
   },
   {
    "duration": 0,
    "start_time": "2024-07-31T19:08:27.389Z"
   },
   {
    "duration": 0,
    "start_time": "2024-07-31T19:08:27.391Z"
   },
   {
    "duration": 0,
    "start_time": "2024-07-31T19:08:27.392Z"
   },
   {
    "duration": 46,
    "start_time": "2024-07-31T19:09:26.099Z"
   },
   {
    "duration": 43,
    "start_time": "2024-07-31T19:09:38.457Z"
   },
   {
    "duration": 1548,
    "start_time": "2024-07-31T19:09:52.030Z"
   },
   {
    "duration": 28,
    "start_time": "2024-07-31T19:09:53.583Z"
   },
   {
    "duration": 17,
    "start_time": "2024-07-31T19:09:53.614Z"
   },
   {
    "duration": 22,
    "start_time": "2024-07-31T19:09:53.634Z"
   },
   {
    "duration": 47,
    "start_time": "2024-07-31T19:09:53.661Z"
   },
   {
    "duration": 11,
    "start_time": "2024-07-31T19:09:53.711Z"
   },
   {
    "duration": 16,
    "start_time": "2024-07-31T19:09:53.725Z"
   },
   {
    "duration": 9,
    "start_time": "2024-07-31T19:09:53.744Z"
   },
   {
    "duration": 55,
    "start_time": "2024-07-31T19:09:53.755Z"
   },
   {
    "duration": 18,
    "start_time": "2024-07-31T19:09:53.813Z"
   },
   {
    "duration": 10,
    "start_time": "2024-07-31T19:09:53.834Z"
   },
   {
    "duration": 1544,
    "start_time": "2024-07-31T19:09:53.847Z"
   },
   {
    "duration": 589,
    "start_time": "2024-07-31T19:09:55.393Z"
   },
   {
    "duration": 1189,
    "start_time": "2024-07-31T19:09:55.988Z"
   },
   {
    "duration": 238,
    "start_time": "2024-07-31T19:09:57.180Z"
   },
   {
    "duration": 103,
    "start_time": "2024-07-31T19:09:57.421Z"
   },
   {
    "duration": 5,
    "start_time": "2024-07-31T19:09:57.528Z"
   },
   {
    "duration": 7002,
    "start_time": "2024-07-31T19:09:57.607Z"
   },
   {
    "duration": 107,
    "start_time": "2024-07-31T19:10:04.611Z"
   },
   {
    "duration": 89,
    "start_time": "2024-07-31T19:10:04.721Z"
   },
   {
    "duration": 1019,
    "start_time": "2024-07-31T19:10:04.814Z"
   },
   {
    "duration": 0,
    "start_time": "2024-07-31T19:10:05.836Z"
   },
   {
    "duration": 0,
    "start_time": "2024-07-31T19:10:05.838Z"
   },
   {
    "duration": 0,
    "start_time": "2024-07-31T19:10:05.840Z"
   },
   {
    "duration": 235,
    "start_time": "2024-07-31T19:10:56.131Z"
   },
   {
    "duration": 1567,
    "start_time": "2024-07-31T19:11:02.886Z"
   },
   {
    "duration": 25,
    "start_time": "2024-07-31T19:11:04.456Z"
   },
   {
    "duration": 29,
    "start_time": "2024-07-31T19:11:04.484Z"
   },
   {
    "duration": 26,
    "start_time": "2024-07-31T19:11:04.518Z"
   },
   {
    "duration": 17,
    "start_time": "2024-07-31T19:11:04.547Z"
   },
   {
    "duration": 44,
    "start_time": "2024-07-31T19:11:04.567Z"
   },
   {
    "duration": 18,
    "start_time": "2024-07-31T19:11:04.614Z"
   },
   {
    "duration": 8,
    "start_time": "2024-07-31T19:11:04.636Z"
   },
   {
    "duration": 59,
    "start_time": "2024-07-31T19:11:04.647Z"
   },
   {
    "duration": 18,
    "start_time": "2024-07-31T19:11:04.712Z"
   },
   {
    "duration": 12,
    "start_time": "2024-07-31T19:11:04.733Z"
   },
   {
    "duration": 1524,
    "start_time": "2024-07-31T19:11:04.747Z"
   },
   {
    "duration": 619,
    "start_time": "2024-07-31T19:11:06.273Z"
   },
   {
    "duration": 1188,
    "start_time": "2024-07-31T19:11:06.895Z"
   },
   {
    "duration": 252,
    "start_time": "2024-07-31T19:11:08.086Z"
   },
   {
    "duration": 26,
    "start_time": "2024-07-31T19:11:08.407Z"
   },
   {
    "duration": 4,
    "start_time": "2024-07-31T19:11:08.509Z"
   },
   {
    "duration": 6191,
    "start_time": "2024-07-31T19:11:08.516Z"
   },
   {
    "duration": 97,
    "start_time": "2024-07-31T19:11:14.710Z"
   },
   {
    "duration": 8,
    "start_time": "2024-07-31T19:11:14.809Z"
   },
   {
    "duration": 795,
    "start_time": "2024-07-31T19:11:14.820Z"
   },
   {
    "duration": 0,
    "start_time": "2024-07-31T19:11:15.618Z"
   },
   {
    "duration": 0,
    "start_time": "2024-07-31T19:11:15.621Z"
   },
   {
    "duration": 0,
    "start_time": "2024-07-31T19:11:15.622Z"
   },
   {
    "duration": 42,
    "start_time": "2024-07-31T19:12:05.134Z"
   },
   {
    "duration": 1579,
    "start_time": "2024-07-31T19:13:28.820Z"
   },
   {
    "duration": 24,
    "start_time": "2024-07-31T19:13:30.405Z"
   },
   {
    "duration": 18,
    "start_time": "2024-07-31T19:13:30.432Z"
   },
   {
    "duration": 22,
    "start_time": "2024-07-31T19:13:30.453Z"
   },
   {
    "duration": 20,
    "start_time": "2024-07-31T19:13:30.507Z"
   },
   {
    "duration": 11,
    "start_time": "2024-07-31T19:13:30.534Z"
   },
   {
    "duration": 18,
    "start_time": "2024-07-31T19:13:30.549Z"
   },
   {
    "duration": 42,
    "start_time": "2024-07-31T19:13:30.570Z"
   },
   {
    "duration": 15,
    "start_time": "2024-07-31T19:13:30.615Z"
   },
   {
    "duration": 19,
    "start_time": "2024-07-31T19:13:30.632Z"
   },
   {
    "duration": 54,
    "start_time": "2024-07-31T19:13:30.654Z"
   },
   {
    "duration": 1448,
    "start_time": "2024-07-31T19:13:30.711Z"
   },
   {
    "duration": 544,
    "start_time": "2024-07-31T19:13:32.162Z"
   },
   {
    "duration": 1154,
    "start_time": "2024-07-31T19:13:32.712Z"
   },
   {
    "duration": 256,
    "start_time": "2024-07-31T19:13:33.869Z"
   },
   {
    "duration": 97,
    "start_time": "2024-07-31T19:13:34.128Z"
   },
   {
    "duration": 80,
    "start_time": "2024-07-31T19:13:34.228Z"
   },
   {
    "duration": 6302,
    "start_time": "2024-07-31T19:13:34.311Z"
   },
   {
    "duration": 101,
    "start_time": "2024-07-31T19:13:40.615Z"
   },
   {
    "duration": 8,
    "start_time": "2024-07-31T19:13:40.719Z"
   },
   {
    "duration": 595,
    "start_time": "2024-07-31T19:13:40.730Z"
   },
   {
    "duration": 0,
    "start_time": "2024-07-31T19:13:41.328Z"
   },
   {
    "duration": 0,
    "start_time": "2024-07-31T19:13:41.331Z"
   },
   {
    "duration": 0,
    "start_time": "2024-07-31T19:13:41.333Z"
   },
   {
    "duration": 1543,
    "start_time": "2024-07-31T19:14:13.758Z"
   },
   {
    "duration": 24,
    "start_time": "2024-07-31T19:14:15.304Z"
   },
   {
    "duration": 17,
    "start_time": "2024-07-31T19:14:15.331Z"
   },
   {
    "duration": 22,
    "start_time": "2024-07-31T19:14:15.351Z"
   },
   {
    "duration": 17,
    "start_time": "2024-07-31T19:14:15.407Z"
   },
   {
    "duration": 10,
    "start_time": "2024-07-31T19:14:15.427Z"
   },
   {
    "duration": 15,
    "start_time": "2024-07-31T19:14:15.442Z"
   },
   {
    "duration": 48,
    "start_time": "2024-07-31T19:14:15.460Z"
   },
   {
    "duration": 30,
    "start_time": "2024-07-31T19:14:15.511Z"
   },
   {
    "duration": 25,
    "start_time": "2024-07-31T19:14:15.548Z"
   },
   {
    "duration": 31,
    "start_time": "2024-07-31T19:14:15.576Z"
   },
   {
    "duration": 1472,
    "start_time": "2024-07-31T19:14:15.611Z"
   },
   {
    "duration": 580,
    "start_time": "2024-07-31T19:14:17.088Z"
   },
   {
    "duration": 1219,
    "start_time": "2024-07-31T19:14:17.672Z"
   },
   {
    "duration": 313,
    "start_time": "2024-07-31T19:14:18.894Z"
   },
   {
    "duration": 99,
    "start_time": "2024-07-31T19:14:19.211Z"
   },
   {
    "duration": 5,
    "start_time": "2024-07-31T19:14:19.313Z"
   },
   {
    "duration": 6185,
    "start_time": "2024-07-31T19:14:19.321Z"
   },
   {
    "duration": 98,
    "start_time": "2024-07-31T19:14:25.509Z"
   },
   {
    "duration": 8,
    "start_time": "2024-07-31T19:14:25.610Z"
   },
   {
    "duration": 787,
    "start_time": "2024-07-31T19:14:25.626Z"
   },
   {
    "duration": 1,
    "start_time": "2024-07-31T19:14:26.415Z"
   },
   {
    "duration": 0,
    "start_time": "2024-07-31T19:14:26.417Z"
   },
   {
    "duration": 0,
    "start_time": "2024-07-31T19:14:26.420Z"
   },
   {
    "duration": 1614,
    "start_time": "2024-07-31T19:19:57.737Z"
   },
   {
    "duration": 25,
    "start_time": "2024-07-31T19:19:59.354Z"
   },
   {
    "duration": 30,
    "start_time": "2024-07-31T19:19:59.382Z"
   },
   {
    "duration": 22,
    "start_time": "2024-07-31T19:19:59.414Z"
   },
   {
    "duration": 18,
    "start_time": "2024-07-31T19:19:59.440Z"
   },
   {
    "duration": 48,
    "start_time": "2024-07-31T19:19:59.461Z"
   },
   {
    "duration": 17,
    "start_time": "2024-07-31T19:19:59.512Z"
   },
   {
    "duration": 9,
    "start_time": "2024-07-31T19:19:59.532Z"
   },
   {
    "duration": 15,
    "start_time": "2024-07-31T19:19:59.544Z"
   },
   {
    "duration": 57,
    "start_time": "2024-07-31T19:19:59.562Z"
   },
   {
    "duration": 9,
    "start_time": "2024-07-31T19:19:59.622Z"
   },
   {
    "duration": 1536,
    "start_time": "2024-07-31T19:19:59.635Z"
   },
   {
    "duration": 557,
    "start_time": "2024-07-31T19:20:01.174Z"
   },
   {
    "duration": 1137,
    "start_time": "2024-07-31T19:20:01.737Z"
   },
   {
    "duration": 329,
    "start_time": "2024-07-31T19:20:02.878Z"
   },
   {
    "duration": 100,
    "start_time": "2024-07-31T19:20:03.209Z"
   },
   {
    "duration": 5,
    "start_time": "2024-07-31T19:20:03.311Z"
   },
   {
    "duration": 6211,
    "start_time": "2024-07-31T19:20:03.319Z"
   },
   {
    "duration": 99,
    "start_time": "2024-07-31T19:20:09.607Z"
   },
   {
    "duration": 1232,
    "start_time": "2024-07-31T19:20:09.709Z"
   },
   {
    "duration": 1,
    "start_time": "2024-07-31T19:20:10.944Z"
   },
   {
    "duration": 0,
    "start_time": "2024-07-31T19:20:10.947Z"
   },
   {
    "duration": 0,
    "start_time": "2024-07-31T19:20:10.948Z"
   },
   {
    "duration": 0,
    "start_time": "2024-07-31T19:20:10.951Z"
   },
   {
    "duration": 1559,
    "start_time": "2024-07-31T19:24:32.114Z"
   },
   {
    "duration": 33,
    "start_time": "2024-07-31T19:24:33.677Z"
   },
   {
    "duration": 18,
    "start_time": "2024-07-31T19:24:33.712Z"
   },
   {
    "duration": 21,
    "start_time": "2024-07-31T19:24:33.735Z"
   },
   {
    "duration": 46,
    "start_time": "2024-07-31T19:24:33.760Z"
   },
   {
    "duration": 11,
    "start_time": "2024-07-31T19:24:33.809Z"
   },
   {
    "duration": 16,
    "start_time": "2024-07-31T19:24:33.823Z"
   },
   {
    "duration": 8,
    "start_time": "2024-07-31T19:24:33.842Z"
   },
   {
    "duration": 57,
    "start_time": "2024-07-31T19:24:33.853Z"
   },
   {
    "duration": 18,
    "start_time": "2024-07-31T19:24:33.915Z"
   },
   {
    "duration": 9,
    "start_time": "2024-07-31T19:24:33.936Z"
   },
   {
    "duration": 1535,
    "start_time": "2024-07-31T19:24:33.948Z"
   },
   {
    "duration": 577,
    "start_time": "2024-07-31T19:24:35.486Z"
   },
   {
    "duration": 1213,
    "start_time": "2024-07-31T19:24:36.067Z"
   },
   {
    "duration": 242,
    "start_time": "2024-07-31T19:24:37.283Z"
   },
   {
    "duration": 96,
    "start_time": "2024-07-31T19:24:37.528Z"
   },
   {
    "duration": 82,
    "start_time": "2024-07-31T19:24:37.627Z"
   },
   {
    "duration": 6219,
    "start_time": "2024-07-31T19:24:37.711Z"
   },
   {
    "duration": 103,
    "start_time": "2024-07-31T19:24:44.008Z"
   },
   {
    "duration": 10,
    "start_time": "2024-07-31T19:24:44.114Z"
   },
   {
    "duration": 1524,
    "start_time": "2024-07-31T19:25:03.747Z"
   },
   {
    "duration": 30,
    "start_time": "2024-07-31T19:25:05.276Z"
   },
   {
    "duration": 18,
    "start_time": "2024-07-31T19:25:05.308Z"
   },
   {
    "duration": 23,
    "start_time": "2024-07-31T19:25:05.329Z"
   },
   {
    "duration": 17,
    "start_time": "2024-07-31T19:25:05.357Z"
   },
   {
    "duration": 11,
    "start_time": "2024-07-31T19:25:05.407Z"
   },
   {
    "duration": 16,
    "start_time": "2024-07-31T19:25:05.421Z"
   },
   {
    "duration": 8,
    "start_time": "2024-07-31T19:25:05.439Z"
   },
   {
    "duration": 59,
    "start_time": "2024-07-31T19:25:05.450Z"
   },
   {
    "duration": 18,
    "start_time": "2024-07-31T19:25:05.512Z"
   },
   {
    "duration": 10,
    "start_time": "2024-07-31T19:25:05.533Z"
   },
   {
    "duration": 1636,
    "start_time": "2024-07-31T19:25:05.547Z"
   },
   {
    "duration": 582,
    "start_time": "2024-07-31T19:25:07.186Z"
   },
   {
    "duration": 1235,
    "start_time": "2024-07-31T19:25:07.776Z"
   },
   {
    "duration": 305,
    "start_time": "2024-07-31T19:25:09.015Z"
   },
   {
    "duration": 103,
    "start_time": "2024-07-31T19:25:09.324Z"
   },
   {
    "duration": 77,
    "start_time": "2024-07-31T19:25:09.431Z"
   },
   {
    "duration": 6298,
    "start_time": "2024-07-31T19:25:09.511Z"
   },
   {
    "duration": 104,
    "start_time": "2024-07-31T19:25:15.817Z"
   },
   {
    "duration": 84,
    "start_time": "2024-07-31T19:25:15.929Z"
   },
   {
    "duration": 1567,
    "start_time": "2024-07-31T19:30:31.213Z"
   },
   {
    "duration": 29,
    "start_time": "2024-07-31T19:30:32.784Z"
   },
   {
    "duration": 17,
    "start_time": "2024-07-31T19:30:32.816Z"
   },
   {
    "duration": 22,
    "start_time": "2024-07-31T19:30:32.837Z"
   },
   {
    "duration": 47,
    "start_time": "2024-07-31T19:30:32.862Z"
   },
   {
    "duration": 10,
    "start_time": "2024-07-31T19:30:32.912Z"
   },
   {
    "duration": 17,
    "start_time": "2024-07-31T19:30:32.925Z"
   },
   {
    "duration": 9,
    "start_time": "2024-07-31T19:30:32.945Z"
   },
   {
    "duration": 59,
    "start_time": "2024-07-31T19:30:32.956Z"
   },
   {
    "duration": 18,
    "start_time": "2024-07-31T19:30:33.020Z"
   },
   {
    "duration": 10,
    "start_time": "2024-07-31T19:30:33.040Z"
   },
   {
    "duration": 1502,
    "start_time": "2024-07-31T19:30:33.053Z"
   },
   {
    "duration": 552,
    "start_time": "2024-07-31T19:30:34.558Z"
   },
   {
    "duration": 1158,
    "start_time": "2024-07-31T19:30:35.113Z"
   },
   {
    "duration": 250,
    "start_time": "2024-07-31T19:30:36.274Z"
   },
   {
    "duration": 96,
    "start_time": "2024-07-31T19:30:36.527Z"
   },
   {
    "duration": 79,
    "start_time": "2024-07-31T19:30:36.627Z"
   },
   {
    "duration": 6920,
    "start_time": "2024-07-31T19:30:36.709Z"
   },
   {
    "duration": 95,
    "start_time": "2024-07-31T19:30:43.631Z"
   },
   {
    "duration": 82,
    "start_time": "2024-07-31T19:30:43.729Z"
   },
   {
    "duration": 1519,
    "start_time": "2024-07-31T19:36:40.562Z"
   },
   {
    "duration": 29,
    "start_time": "2024-07-31T19:36:42.085Z"
   },
   {
    "duration": 19,
    "start_time": "2024-07-31T19:36:42.116Z"
   },
   {
    "duration": 23,
    "start_time": "2024-07-31T19:36:42.140Z"
   },
   {
    "duration": 46,
    "start_time": "2024-07-31T19:36:42.166Z"
   },
   {
    "duration": 12,
    "start_time": "2024-07-31T19:36:42.215Z"
   },
   {
    "duration": 16,
    "start_time": "2024-07-31T19:36:42.230Z"
   },
   {
    "duration": 8,
    "start_time": "2024-07-31T19:36:42.249Z"
   },
   {
    "duration": 59,
    "start_time": "2024-07-31T19:36:42.260Z"
   },
   {
    "duration": 19,
    "start_time": "2024-07-31T19:36:42.324Z"
   },
   {
    "duration": 10,
    "start_time": "2024-07-31T19:36:42.346Z"
   },
   {
    "duration": 1513,
    "start_time": "2024-07-31T19:36:42.359Z"
   },
   {
    "duration": 559,
    "start_time": "2024-07-31T19:36:43.875Z"
   },
   {
    "duration": 1120,
    "start_time": "2024-07-31T19:36:44.436Z"
   },
   {
    "duration": 264,
    "start_time": "2024-07-31T19:36:45.560Z"
   },
   {
    "duration": 98,
    "start_time": "2024-07-31T19:36:45.827Z"
   },
   {
    "duration": 79,
    "start_time": "2024-07-31T19:36:45.928Z"
   },
   {
    "duration": 6215,
    "start_time": "2024-07-31T19:36:46.011Z"
   },
   {
    "duration": 96,
    "start_time": "2024-07-31T19:36:52.229Z"
   },
   {
    "duration": 83,
    "start_time": "2024-07-31T19:36:52.328Z"
   },
   {
    "duration": 1621,
    "start_time": "2024-07-31T19:44:15.358Z"
   },
   {
    "duration": 29,
    "start_time": "2024-07-31T19:44:16.983Z"
   },
   {
    "duration": 18,
    "start_time": "2024-07-31T19:44:17.015Z"
   },
   {
    "duration": 23,
    "start_time": "2024-07-31T19:44:17.037Z"
   },
   {
    "duration": 49,
    "start_time": "2024-07-31T19:44:17.063Z"
   },
   {
    "duration": 11,
    "start_time": "2024-07-31T19:44:17.116Z"
   },
   {
    "duration": 16,
    "start_time": "2024-07-31T19:44:17.130Z"
   },
   {
    "duration": 9,
    "start_time": "2024-07-31T19:44:17.150Z"
   },
   {
    "duration": 16,
    "start_time": "2024-07-31T19:44:17.206Z"
   },
   {
    "duration": 18,
    "start_time": "2024-07-31T19:44:17.227Z"
   },
   {
    "duration": 10,
    "start_time": "2024-07-31T19:44:17.248Z"
   },
   {
    "duration": 1538,
    "start_time": "2024-07-31T19:44:17.261Z"
   },
   {
    "duration": 612,
    "start_time": "2024-07-31T19:44:18.802Z"
   },
   {
    "duration": 1178,
    "start_time": "2024-07-31T19:44:19.416Z"
   },
   {
    "duration": 232,
    "start_time": "2024-07-31T19:44:20.597Z"
   },
   {
    "duration": 100,
    "start_time": "2024-07-31T19:44:20.907Z"
   },
   {
    "duration": 4,
    "start_time": "2024-07-31T19:44:21.011Z"
   },
   {
    "duration": 6191,
    "start_time": "2024-07-31T19:44:21.019Z"
   },
   {
    "duration": 102,
    "start_time": "2024-07-31T19:44:27.212Z"
   },
   {
    "duration": 88,
    "start_time": "2024-07-31T19:44:27.320Z"
   },
   {
    "duration": 1577,
    "start_time": "2024-07-31T19:45:42.794Z"
   },
   {
    "duration": 39,
    "start_time": "2024-07-31T19:45:44.375Z"
   },
   {
    "duration": 20,
    "start_time": "2024-07-31T19:45:44.416Z"
   },
   {
    "duration": 30,
    "start_time": "2024-07-31T19:45:44.439Z"
   },
   {
    "duration": 42,
    "start_time": "2024-07-31T19:45:44.473Z"
   },
   {
    "duration": 13,
    "start_time": "2024-07-31T19:45:44.519Z"
   },
   {
    "duration": 19,
    "start_time": "2024-07-31T19:45:44.535Z"
   },
   {
    "duration": 49,
    "start_time": "2024-07-31T19:45:44.558Z"
   },
   {
    "duration": 15,
    "start_time": "2024-07-31T19:45:44.610Z"
   },
   {
    "duration": 17,
    "start_time": "2024-07-31T19:45:44.628Z"
   },
   {
    "duration": 10,
    "start_time": "2024-07-31T19:45:44.648Z"
   },
   {
    "duration": 1474,
    "start_time": "2024-07-31T19:45:44.705Z"
   },
   {
    "duration": 632,
    "start_time": "2024-07-31T19:45:46.181Z"
   },
   {
    "duration": 1165,
    "start_time": "2024-07-31T19:45:46.818Z"
   },
   {
    "duration": 331,
    "start_time": "2024-07-31T19:45:47.986Z"
   },
   {
    "duration": 97,
    "start_time": "2024-07-31T19:45:48.320Z"
   },
   {
    "duration": 4,
    "start_time": "2024-07-31T19:45:48.420Z"
   },
   {
    "duration": 6298,
    "start_time": "2024-07-31T19:45:48.427Z"
   },
   {
    "duration": 99,
    "start_time": "2024-07-31T19:45:54.728Z"
   },
   {
    "duration": 81,
    "start_time": "2024-07-31T19:45:54.830Z"
   },
   {
    "duration": 1535,
    "start_time": "2024-07-31T19:51:54.538Z"
   },
   {
    "duration": 33,
    "start_time": "2024-07-31T19:51:56.077Z"
   },
   {
    "duration": 18,
    "start_time": "2024-07-31T19:51:56.112Z"
   },
   {
    "duration": 22,
    "start_time": "2024-07-31T19:51:56.133Z"
   },
   {
    "duration": 48,
    "start_time": "2024-07-31T19:51:56.160Z"
   },
   {
    "duration": 10,
    "start_time": "2024-07-31T19:51:56.211Z"
   },
   {
    "duration": 16,
    "start_time": "2024-07-31T19:51:56.223Z"
   },
   {
    "duration": 9,
    "start_time": "2024-07-31T19:51:56.242Z"
   },
   {
    "duration": 57,
    "start_time": "2024-07-31T19:51:56.254Z"
   },
   {
    "duration": 21,
    "start_time": "2024-07-31T19:51:56.314Z"
   },
   {
    "duration": 10,
    "start_time": "2024-07-31T19:51:56.338Z"
   },
   {
    "duration": 1544,
    "start_time": "2024-07-31T19:51:56.351Z"
   },
   {
    "duration": 631,
    "start_time": "2024-07-31T19:51:57.898Z"
   },
   {
    "duration": 1134,
    "start_time": "2024-07-31T19:51:58.536Z"
   },
   {
    "duration": 332,
    "start_time": "2024-07-31T19:51:59.673Z"
   },
   {
    "duration": 97,
    "start_time": "2024-07-31T19:52:00.009Z"
   },
   {
    "duration": 5,
    "start_time": "2024-07-31T19:52:00.109Z"
   },
   {
    "duration": 6194,
    "start_time": "2024-07-31T19:52:00.117Z"
   },
   {
    "duration": 97,
    "start_time": "2024-07-31T19:52:06.314Z"
   },
   {
    "duration": 10,
    "start_time": "2024-07-31T19:52:06.414Z"
   },
   {
    "duration": 1580,
    "start_time": "2024-07-31T19:53:39.113Z"
   },
   {
    "duration": 26,
    "start_time": "2024-07-31T19:53:40.696Z"
   },
   {
    "duration": 18,
    "start_time": "2024-07-31T19:53:40.725Z"
   },
   {
    "duration": 21,
    "start_time": "2024-07-31T19:53:40.747Z"
   },
   {
    "duration": 46,
    "start_time": "2024-07-31T19:53:40.771Z"
   },
   {
    "duration": 10,
    "start_time": "2024-07-31T19:53:40.820Z"
   },
   {
    "duration": 16,
    "start_time": "2024-07-31T19:53:40.834Z"
   },
   {
    "duration": 8,
    "start_time": "2024-07-31T19:53:40.853Z"
   },
   {
    "duration": 14,
    "start_time": "2024-07-31T19:53:40.906Z"
   },
   {
    "duration": 17,
    "start_time": "2024-07-31T19:53:40.927Z"
   },
   {
    "duration": 10,
    "start_time": "2024-07-31T19:53:40.947Z"
   },
   {
    "duration": 1515,
    "start_time": "2024-07-31T19:53:40.960Z"
   },
   {
    "duration": 564,
    "start_time": "2024-07-31T19:53:42.478Z"
   },
   {
    "duration": 1125,
    "start_time": "2024-07-31T19:53:43.046Z"
   },
   {
    "duration": 247,
    "start_time": "2024-07-31T19:53:44.174Z"
   },
   {
    "duration": 91,
    "start_time": "2024-07-31T19:53:44.424Z"
   },
   {
    "duration": 8,
    "start_time": "2024-07-31T19:53:44.518Z"
   },
   {
    "duration": 6183,
    "start_time": "2024-07-31T19:53:44.530Z"
   },
   {
    "duration": 96,
    "start_time": "2024-07-31T19:53:50.716Z"
   },
   {
    "duration": 10,
    "start_time": "2024-07-31T19:53:50.814Z"
   },
   {
    "duration": 1605,
    "start_time": "2024-07-31T19:59:40.362Z"
   },
   {
    "duration": 24,
    "start_time": "2024-07-31T19:59:41.971Z"
   },
   {
    "duration": 18,
    "start_time": "2024-07-31T19:59:42.009Z"
   },
   {
    "duration": 21,
    "start_time": "2024-07-31T19:59:42.031Z"
   },
   {
    "duration": 17,
    "start_time": "2024-07-31T19:59:42.056Z"
   },
   {
    "duration": 11,
    "start_time": "2024-07-31T19:59:42.106Z"
   },
   {
    "duration": 16,
    "start_time": "2024-07-31T19:59:42.120Z"
   },
   {
    "duration": 8,
    "start_time": "2024-07-31T19:59:42.139Z"
   },
   {
    "duration": 55,
    "start_time": "2024-07-31T19:59:42.151Z"
   },
   {
    "duration": 17,
    "start_time": "2024-07-31T19:59:42.212Z"
   },
   {
    "duration": 12,
    "start_time": "2024-07-31T19:59:42.232Z"
   },
   {
    "duration": 1528,
    "start_time": "2024-07-31T19:59:42.247Z"
   },
   {
    "duration": 568,
    "start_time": "2024-07-31T19:59:43.778Z"
   },
   {
    "duration": 1221,
    "start_time": "2024-07-31T19:59:44.349Z"
   },
   {
    "duration": 332,
    "start_time": "2024-07-31T19:59:45.573Z"
   },
   {
    "duration": 100,
    "start_time": "2024-07-31T19:59:45.908Z"
   },
   {
    "duration": 4,
    "start_time": "2024-07-31T19:59:46.011Z"
   },
   {
    "duration": 6304,
    "start_time": "2024-07-31T19:59:46.018Z"
   },
   {
    "duration": 182,
    "start_time": "2024-07-31T19:59:52.324Z"
   },
   {
    "duration": 11,
    "start_time": "2024-07-31T19:59:52.515Z"
   },
   {
    "duration": 1592,
    "start_time": "2024-07-31T20:01:10.025Z"
   },
   {
    "duration": 24,
    "start_time": "2024-07-31T20:01:11.620Z"
   },
   {
    "duration": 18,
    "start_time": "2024-07-31T20:01:11.647Z"
   },
   {
    "duration": 47,
    "start_time": "2024-07-31T20:01:11.668Z"
   },
   {
    "duration": 17,
    "start_time": "2024-07-31T20:01:11.721Z"
   },
   {
    "duration": 11,
    "start_time": "2024-07-31T20:01:11.741Z"
   },
   {
    "duration": 53,
    "start_time": "2024-07-31T20:01:11.754Z"
   },
   {
    "duration": 9,
    "start_time": "2024-07-31T20:01:11.810Z"
   },
   {
    "duration": 14,
    "start_time": "2024-07-31T20:01:11.822Z"
   },
   {
    "duration": 19,
    "start_time": "2024-07-31T20:01:11.839Z"
   },
   {
    "duration": 50,
    "start_time": "2024-07-31T20:01:11.861Z"
   },
   {
    "duration": 1470,
    "start_time": "2024-07-31T20:01:11.913Z"
   },
   {
    "duration": 598,
    "start_time": "2024-07-31T20:01:13.386Z"
   },
   {
    "duration": 1178,
    "start_time": "2024-07-31T20:01:13.990Z"
   },
   {
    "duration": 252,
    "start_time": "2024-07-31T20:01:15.172Z"
   },
   {
    "duration": 105,
    "start_time": "2024-07-31T20:01:15.428Z"
   },
   {
    "duration": 4,
    "start_time": "2024-07-31T20:01:15.610Z"
   },
   {
    "duration": 6209,
    "start_time": "2024-07-31T20:01:15.618Z"
   },
   {
    "duration": 24,
    "start_time": "2024-07-31T20:01:21.905Z"
   },
   {
    "duration": 12,
    "start_time": "2024-07-31T20:01:22.006Z"
   },
   {
    "duration": 1516,
    "start_time": "2024-07-31T20:09:11.064Z"
   },
   {
    "duration": 28,
    "start_time": "2024-07-31T20:09:12.584Z"
   },
   {
    "duration": 18,
    "start_time": "2024-07-31T20:09:12.614Z"
   },
   {
    "duration": 22,
    "start_time": "2024-07-31T20:09:12.635Z"
   },
   {
    "duration": 48,
    "start_time": "2024-07-31T20:09:12.659Z"
   },
   {
    "duration": 10,
    "start_time": "2024-07-31T20:09:12.711Z"
   },
   {
    "duration": 16,
    "start_time": "2024-07-31T20:09:12.723Z"
   },
   {
    "duration": 9,
    "start_time": "2024-07-31T20:09:12.742Z"
   },
   {
    "duration": 58,
    "start_time": "2024-07-31T20:09:12.754Z"
   },
   {
    "duration": 17,
    "start_time": "2024-07-31T20:09:12.818Z"
   },
   {
    "duration": 11,
    "start_time": "2024-07-31T20:09:12.837Z"
   },
   {
    "duration": 1524,
    "start_time": "2024-07-31T20:09:12.851Z"
   },
   {
    "duration": 619,
    "start_time": "2024-07-31T20:09:14.378Z"
   },
   {
    "duration": 1175,
    "start_time": "2024-07-31T20:09:15.000Z"
   },
   {
    "duration": 241,
    "start_time": "2024-07-31T20:09:16.178Z"
   },
   {
    "duration": 95,
    "start_time": "2024-07-31T20:09:16.422Z"
   },
   {
    "duration": 4,
    "start_time": "2024-07-31T20:09:16.520Z"
   },
   {
    "duration": 6299,
    "start_time": "2024-07-31T20:09:16.527Z"
   },
   {
    "duration": 96,
    "start_time": "2024-07-31T20:09:22.829Z"
   },
   {
    "duration": 82,
    "start_time": "2024-07-31T20:09:22.928Z"
   },
   {
    "duration": 1624,
    "start_time": "2024-07-31T20:10:17.292Z"
   },
   {
    "duration": 26,
    "start_time": "2024-07-31T20:10:18.920Z"
   },
   {
    "duration": 18,
    "start_time": "2024-07-31T20:10:18.949Z"
   },
   {
    "duration": 48,
    "start_time": "2024-07-31T20:10:18.970Z"
   },
   {
    "duration": 21,
    "start_time": "2024-07-31T20:10:19.022Z"
   },
   {
    "duration": 12,
    "start_time": "2024-07-31T20:10:19.046Z"
   },
   {
    "duration": 45,
    "start_time": "2024-07-31T20:10:19.063Z"
   },
   {
    "duration": 9,
    "start_time": "2024-07-31T20:10:19.111Z"
   },
   {
    "duration": 16,
    "start_time": "2024-07-31T20:10:19.123Z"
   },
   {
    "duration": 17,
    "start_time": "2024-07-31T20:10:19.144Z"
   },
   {
    "duration": 9,
    "start_time": "2024-07-31T20:10:19.205Z"
   },
   {
    "duration": 1469,
    "start_time": "2024-07-31T20:10:19.218Z"
   },
   {
    "duration": 594,
    "start_time": "2024-07-31T20:10:20.690Z"
   },
   {
    "duration": 1185,
    "start_time": "2024-07-31T20:10:21.287Z"
   },
   {
    "duration": 246,
    "start_time": "2024-07-31T20:10:22.476Z"
   },
   {
    "duration": 96,
    "start_time": "2024-07-31T20:10:22.725Z"
   },
   {
    "duration": 4,
    "start_time": "2024-07-31T20:10:22.824Z"
   },
   {
    "duration": 6302,
    "start_time": "2024-07-31T20:10:22.907Z"
   },
   {
    "duration": 102,
    "start_time": "2024-07-31T20:10:29.212Z"
   },
   {
    "duration": 87,
    "start_time": "2024-07-31T20:10:29.319Z"
   },
   {
    "duration": 1666,
    "start_time": "2024-07-31T20:14:58.202Z"
   },
   {
    "duration": 25,
    "start_time": "2024-07-31T20:14:59.871Z"
   },
   {
    "duration": 18,
    "start_time": "2024-07-31T20:14:59.905Z"
   },
   {
    "duration": 24,
    "start_time": "2024-07-31T20:14:59.927Z"
   },
   {
    "duration": 17,
    "start_time": "2024-07-31T20:14:59.954Z"
   },
   {
    "duration": 11,
    "start_time": "2024-07-31T20:15:00.007Z"
   },
   {
    "duration": 17,
    "start_time": "2024-07-31T20:15:00.021Z"
   },
   {
    "duration": 8,
    "start_time": "2024-07-31T20:15:00.041Z"
   },
   {
    "duration": 54,
    "start_time": "2024-07-31T20:15:00.053Z"
   },
   {
    "duration": 18,
    "start_time": "2024-07-31T20:15:00.115Z"
   },
   {
    "duration": 11,
    "start_time": "2024-07-31T20:15:00.136Z"
   },
   {
    "duration": 1521,
    "start_time": "2024-07-31T20:15:00.150Z"
   },
   {
    "duration": 604,
    "start_time": "2024-07-31T20:15:01.673Z"
   },
   {
    "duration": 1199,
    "start_time": "2024-07-31T20:15:02.280Z"
   },
   {
    "duration": 242,
    "start_time": "2024-07-31T20:15:03.482Z"
   },
   {
    "duration": 96,
    "start_time": "2024-07-31T20:15:03.728Z"
   },
   {
    "duration": 4,
    "start_time": "2024-07-31T20:15:03.828Z"
   },
   {
    "duration": 6314,
    "start_time": "2024-07-31T20:15:03.909Z"
   },
   {
    "duration": 100,
    "start_time": "2024-07-31T20:15:10.226Z"
   },
   {
    "duration": 83,
    "start_time": "2024-07-31T20:15:10.329Z"
   },
   {
    "duration": 5804,
    "start_time": "2024-08-01T04:45:06.905Z"
   },
   {
    "duration": 37,
    "start_time": "2024-08-01T04:45:12.713Z"
   },
   {
    "duration": 19,
    "start_time": "2024-08-01T04:45:12.753Z"
   },
   {
    "duration": 47,
    "start_time": "2024-08-01T04:45:12.775Z"
   },
   {
    "duration": 18,
    "start_time": "2024-08-01T04:45:12.827Z"
   },
   {
    "duration": 11,
    "start_time": "2024-08-01T04:45:12.848Z"
   },
   {
    "duration": 52,
    "start_time": "2024-08-01T04:45:12.862Z"
   },
   {
    "duration": 10,
    "start_time": "2024-08-01T04:45:12.917Z"
   },
   {
    "duration": 15,
    "start_time": "2024-08-01T04:45:12.930Z"
   },
   {
    "duration": 19,
    "start_time": "2024-08-01T04:45:12.948Z"
   },
   {
    "duration": 10,
    "start_time": "2024-08-01T04:45:13.010Z"
   },
   {
    "duration": 1702,
    "start_time": "2024-08-01T04:45:13.025Z"
   },
   {
    "duration": 588,
    "start_time": "2024-08-01T04:45:14.730Z"
   },
   {
    "duration": 1159,
    "start_time": "2024-08-01T04:45:15.323Z"
   },
   {
    "duration": 246,
    "start_time": "2024-08-01T04:45:16.486Z"
   },
   {
    "duration": 99,
    "start_time": "2024-08-01T04:45:16.810Z"
   },
   {
    "duration": 5,
    "start_time": "2024-08-01T04:45:16.911Z"
   },
   {
    "duration": 5172,
    "start_time": "2024-08-01T15:41:47.310Z"
   },
   {
    "duration": 43,
    "start_time": "2024-08-01T15:41:52.485Z"
   },
   {
    "duration": 18,
    "start_time": "2024-08-01T15:41:52.531Z"
   },
   {
    "duration": 23,
    "start_time": "2024-08-01T15:41:52.553Z"
   },
   {
    "duration": 49,
    "start_time": "2024-08-01T15:41:52.579Z"
   },
   {
    "duration": 11,
    "start_time": "2024-08-01T15:41:52.631Z"
   },
   {
    "duration": 17,
    "start_time": "2024-08-01T15:41:52.646Z"
   },
   {
    "duration": 52,
    "start_time": "2024-08-01T15:41:52.666Z"
   },
   {
    "duration": 15,
    "start_time": "2024-08-01T15:41:52.722Z"
   },
   {
    "duration": 17,
    "start_time": "2024-08-01T15:41:52.743Z"
   },
   {
    "duration": 51,
    "start_time": "2024-08-01T15:41:52.763Z"
   },
   {
    "duration": 1556,
    "start_time": "2024-08-01T15:41:52.817Z"
   },
   {
    "duration": 562,
    "start_time": "2024-08-01T15:41:54.377Z"
   },
   {
    "duration": 1130,
    "start_time": "2024-08-01T15:41:54.942Z"
   },
   {
    "duration": 249,
    "start_time": "2024-08-01T15:41:56.075Z"
   },
   {
    "duration": 570,
    "start_time": "2024-08-01T15:41:56.327Z"
   },
   {
    "duration": 0,
    "start_time": "2024-08-01T15:41:56.900Z"
   },
   {
    "duration": 0,
    "start_time": "2024-08-01T15:41:56.902Z"
   },
   {
    "duration": 0,
    "start_time": "2024-08-01T15:41:56.913Z"
   },
   {
    "duration": 0,
    "start_time": "2024-08-01T15:41:56.916Z"
   },
   {
    "duration": 0,
    "start_time": "2024-08-01T15:41:56.918Z"
   },
   {
    "duration": 0,
    "start_time": "2024-08-01T15:41:56.920Z"
   },
   {
    "duration": 0,
    "start_time": "2024-08-01T15:41:56.923Z"
   },
   {
    "duration": 0,
    "start_time": "2024-08-01T15:41:56.926Z"
   },
   {
    "duration": 0,
    "start_time": "2024-08-01T15:41:56.929Z"
   },
   {
    "duration": 1619,
    "start_time": "2024-08-01T15:42:32.225Z"
   },
   {
    "duration": 25,
    "start_time": "2024-08-01T15:42:33.847Z"
   },
   {
    "duration": 19,
    "start_time": "2024-08-01T15:42:33.874Z"
   },
   {
    "duration": 25,
    "start_time": "2024-08-01T15:42:33.914Z"
   },
   {
    "duration": 17,
    "start_time": "2024-08-01T15:42:33.942Z"
   },
   {
    "duration": 10,
    "start_time": "2024-08-01T15:42:33.963Z"
   },
   {
    "duration": 51,
    "start_time": "2024-08-01T15:42:33.976Z"
   },
   {
    "duration": 8,
    "start_time": "2024-08-01T15:42:34.030Z"
   },
   {
    "duration": 15,
    "start_time": "2024-08-01T15:42:34.040Z"
   },
   {
    "duration": 60,
    "start_time": "2024-08-01T15:42:34.061Z"
   },
   {
    "duration": 13,
    "start_time": "2024-08-01T15:42:34.124Z"
   },
   {
    "duration": 1528,
    "start_time": "2024-08-01T15:42:34.141Z"
   },
   {
    "duration": 550,
    "start_time": "2024-08-01T15:42:35.672Z"
   },
   {
    "duration": 1150,
    "start_time": "2024-08-01T15:42:36.225Z"
   },
   {
    "duration": 247,
    "start_time": "2024-08-01T15:42:37.377Z"
   },
   {
    "duration": 143,
    "start_time": "2024-08-01T15:42:37.627Z"
   },
   {
    "duration": 59,
    "start_time": "2024-08-01T15:42:37.773Z"
   },
   {
    "duration": 4,
    "start_time": "2024-08-01T15:42:37.834Z"
   },
   {
    "duration": 6592,
    "start_time": "2024-08-01T15:42:37.841Z"
   },
   {
    "duration": 100,
    "start_time": "2024-08-01T15:42:44.515Z"
   },
   {
    "duration": 13,
    "start_time": "2024-08-01T15:42:44.621Z"
   },
   {
    "duration": 1625,
    "start_time": "2024-08-01T15:55:36.053Z"
   },
   {
    "duration": 34,
    "start_time": "2024-08-01T15:55:37.681Z"
   },
   {
    "duration": 19,
    "start_time": "2024-08-01T15:55:37.718Z"
   },
   {
    "duration": 22,
    "start_time": "2024-08-01T15:55:37.742Z"
   },
   {
    "duration": 47,
    "start_time": "2024-08-01T15:55:37.768Z"
   },
   {
    "duration": 12,
    "start_time": "2024-08-01T15:55:37.818Z"
   },
   {
    "duration": 18,
    "start_time": "2024-08-01T15:55:37.833Z"
   },
   {
    "duration": 9,
    "start_time": "2024-08-01T15:55:37.854Z"
   },
   {
    "duration": 59,
    "start_time": "2024-08-01T15:55:37.866Z"
   },
   {
    "duration": 18,
    "start_time": "2024-08-01T15:55:37.930Z"
   },
   {
    "duration": 11,
    "start_time": "2024-08-01T15:55:37.951Z"
   },
   {
    "duration": 1521,
    "start_time": "2024-08-01T15:55:37.965Z"
   },
   {
    "duration": 587,
    "start_time": "2024-08-01T15:55:39.489Z"
   },
   {
    "duration": 1215,
    "start_time": "2024-08-01T15:55:40.079Z"
   },
   {
    "duration": 240,
    "start_time": "2024-08-01T15:55:41.297Z"
   },
   {
    "duration": 144,
    "start_time": "2024-08-01T15:55:41.615Z"
   },
   {
    "duration": 22,
    "start_time": "2024-08-01T15:55:41.762Z"
   },
   {
    "duration": 5,
    "start_time": "2024-08-01T15:55:41.787Z"
   },
   {
    "duration": 516,
    "start_time": "2024-08-01T15:55:41.796Z"
   },
   {
    "duration": 0,
    "start_time": "2024-08-01T15:55:42.314Z"
   },
   {
    "duration": 0,
    "start_time": "2024-08-01T15:55:42.317Z"
   },
   {
    "duration": 0,
    "start_time": "2024-08-01T15:55:42.319Z"
   },
   {
    "duration": 0,
    "start_time": "2024-08-01T15:55:42.322Z"
   },
   {
    "duration": 0,
    "start_time": "2024-08-01T15:55:42.325Z"
   },
   {
    "duration": 0,
    "start_time": "2024-08-01T15:55:42.328Z"
   },
   {
    "duration": 1637,
    "start_time": "2024-08-01T15:58:19.738Z"
   },
   {
    "duration": 38,
    "start_time": "2024-08-01T15:58:21.380Z"
   },
   {
    "duration": 19,
    "start_time": "2024-08-01T15:58:21.421Z"
   },
   {
    "duration": 22,
    "start_time": "2024-08-01T15:58:21.443Z"
   },
   {
    "duration": 47,
    "start_time": "2024-08-01T15:58:21.470Z"
   },
   {
    "duration": 13,
    "start_time": "2024-08-01T15:58:21.521Z"
   },
   {
    "duration": 16,
    "start_time": "2024-08-01T15:58:21.537Z"
   },
   {
    "duration": 55,
    "start_time": "2024-08-01T15:58:21.557Z"
   },
   {
    "duration": 16,
    "start_time": "2024-08-01T15:58:21.615Z"
   },
   {
    "duration": 18,
    "start_time": "2024-08-01T15:58:21.634Z"
   },
   {
    "duration": 11,
    "start_time": "2024-08-01T15:58:21.654Z"
   },
   {
    "duration": 1518,
    "start_time": "2024-08-01T15:58:21.667Z"
   },
   {
    "duration": 636,
    "start_time": "2024-08-01T15:58:23.188Z"
   },
   {
    "duration": 1148,
    "start_time": "2024-08-01T15:58:23.831Z"
   },
   {
    "duration": 242,
    "start_time": "2024-08-01T15:58:24.982Z"
   },
   {
    "duration": 160,
    "start_time": "2024-08-01T15:58:25.227Z"
   },
   {
    "duration": 22,
    "start_time": "2024-08-01T15:58:25.414Z"
   },
   {
    "duration": 5,
    "start_time": "2024-08-01T15:58:25.439Z"
   },
   {
    "duration": 540,
    "start_time": "2024-08-01T15:58:25.447Z"
   },
   {
    "duration": 0,
    "start_time": "2024-08-01T15:58:25.989Z"
   },
   {
    "duration": 0,
    "start_time": "2024-08-01T15:58:25.994Z"
   },
   {
    "duration": 0,
    "start_time": "2024-08-01T15:58:25.996Z"
   },
   {
    "duration": 0,
    "start_time": "2024-08-01T15:58:26.012Z"
   },
   {
    "duration": 0,
    "start_time": "2024-08-01T15:58:26.015Z"
   },
   {
    "duration": 0,
    "start_time": "2024-08-01T15:58:26.018Z"
   },
   {
    "duration": 1647,
    "start_time": "2024-08-01T16:00:41.439Z"
   },
   {
    "duration": 39,
    "start_time": "2024-08-01T16:00:43.090Z"
   },
   {
    "duration": 19,
    "start_time": "2024-08-01T16:00:43.132Z"
   },
   {
    "duration": 21,
    "start_time": "2024-08-01T16:00:43.156Z"
   },
   {
    "duration": 50,
    "start_time": "2024-08-01T16:00:43.181Z"
   },
   {
    "duration": 14,
    "start_time": "2024-08-01T16:00:43.234Z"
   },
   {
    "duration": 20,
    "start_time": "2024-08-01T16:00:43.254Z"
   },
   {
    "duration": 44,
    "start_time": "2024-08-01T16:00:43.276Z"
   },
   {
    "duration": 15,
    "start_time": "2024-08-01T16:00:43.324Z"
   },
   {
    "duration": 18,
    "start_time": "2024-08-01T16:00:43.345Z"
   },
   {
    "duration": 55,
    "start_time": "2024-08-01T16:00:43.366Z"
   },
   {
    "duration": 1496,
    "start_time": "2024-08-01T16:00:43.425Z"
   },
   {
    "duration": 572,
    "start_time": "2024-08-01T16:00:44.924Z"
   },
   {
    "duration": 1173,
    "start_time": "2024-08-01T16:00:45.499Z"
   },
   {
    "duration": 250,
    "start_time": "2024-08-01T16:00:46.675Z"
   },
   {
    "duration": 153,
    "start_time": "2024-08-01T16:00:46.928Z"
   },
   {
    "duration": 50,
    "start_time": "2024-08-01T16:00:47.084Z"
   },
   {
    "duration": 5,
    "start_time": "2024-08-01T16:00:47.137Z"
   },
   {
    "duration": 542,
    "start_time": "2024-08-01T16:00:47.146Z"
   },
   {
    "duration": 0,
    "start_time": "2024-08-01T16:00:47.692Z"
   },
   {
    "duration": 0,
    "start_time": "2024-08-01T16:00:47.695Z"
   },
   {
    "duration": 0,
    "start_time": "2024-08-01T16:00:47.697Z"
   },
   {
    "duration": 0,
    "start_time": "2024-08-01T16:00:47.699Z"
   },
   {
    "duration": 0,
    "start_time": "2024-08-01T16:00:47.714Z"
   },
   {
    "duration": 0,
    "start_time": "2024-08-01T16:00:47.716Z"
   },
   {
    "duration": 1599,
    "start_time": "2024-08-01T16:02:14.866Z"
   },
   {
    "duration": 24,
    "start_time": "2024-08-01T16:02:16.468Z"
   },
   {
    "duration": 27,
    "start_time": "2024-08-01T16:02:16.495Z"
   },
   {
    "duration": 21,
    "start_time": "2024-08-01T16:02:16.526Z"
   },
   {
    "duration": 19,
    "start_time": "2024-08-01T16:02:16.550Z"
   },
   {
    "duration": 46,
    "start_time": "2024-08-01T16:02:16.572Z"
   },
   {
    "duration": 21,
    "start_time": "2024-08-01T16:02:16.621Z"
   },
   {
    "duration": 10,
    "start_time": "2024-08-01T16:02:16.646Z"
   },
   {
    "duration": 56,
    "start_time": "2024-08-01T16:02:16.659Z"
   },
   {
    "duration": 18,
    "start_time": "2024-08-01T16:02:16.721Z"
   },
   {
    "duration": 11,
    "start_time": "2024-08-01T16:02:16.742Z"
   },
   {
    "duration": 1517,
    "start_time": "2024-08-01T16:02:16.756Z"
   },
   {
    "duration": 540,
    "start_time": "2024-08-01T16:02:18.276Z"
   },
   {
    "duration": 1156,
    "start_time": "2024-08-01T16:02:18.820Z"
   },
   {
    "duration": 245,
    "start_time": "2024-08-01T16:02:19.980Z"
   },
   {
    "duration": 151,
    "start_time": "2024-08-01T16:02:20.228Z"
   },
   {
    "duration": 21,
    "start_time": "2024-08-01T16:02:20.413Z"
   },
   {
    "duration": 4,
    "start_time": "2024-08-01T16:02:20.437Z"
   },
   {
    "duration": 6171,
    "start_time": "2024-08-01T16:02:20.444Z"
   },
   {
    "duration": 1557,
    "start_time": "2024-08-01T16:07:01.321Z"
   },
   {
    "duration": 38,
    "start_time": "2024-08-01T16:07:02.882Z"
   },
   {
    "duration": 22,
    "start_time": "2024-08-01T16:07:02.923Z"
   },
   {
    "duration": 22,
    "start_time": "2024-08-01T16:07:02.950Z"
   },
   {
    "duration": 53,
    "start_time": "2024-08-01T16:07:02.977Z"
   },
   {
    "duration": 13,
    "start_time": "2024-08-01T16:07:03.032Z"
   },
   {
    "duration": 18,
    "start_time": "2024-08-01T16:07:03.047Z"
   },
   {
    "duration": 45,
    "start_time": "2024-08-01T16:07:03.068Z"
   },
   {
    "duration": 15,
    "start_time": "2024-08-01T16:07:03.117Z"
   },
   {
    "duration": 18,
    "start_time": "2024-08-01T16:07:03.138Z"
   },
   {
    "duration": 10,
    "start_time": "2024-08-01T16:07:03.158Z"
   },
   {
    "duration": 1506,
    "start_time": "2024-08-01T16:07:03.211Z"
   },
   {
    "duration": 596,
    "start_time": "2024-08-01T16:07:04.721Z"
   },
   {
    "duration": 1163,
    "start_time": "2024-08-01T16:07:05.320Z"
   },
   {
    "duration": 240,
    "start_time": "2024-08-01T16:07:06.485Z"
   },
   {
    "duration": 155,
    "start_time": "2024-08-01T16:07:06.728Z"
   },
   {
    "duration": 22,
    "start_time": "2024-08-01T16:07:06.914Z"
   },
   {
    "duration": 4,
    "start_time": "2024-08-01T16:07:06.939Z"
   },
   {
    "duration": 6180,
    "start_time": "2024-08-01T16:07:06.946Z"
   },
   {
    "duration": 1621,
    "start_time": "2024-08-01T16:16:51.923Z"
   },
   {
    "duration": 24,
    "start_time": "2024-08-01T16:16:53.548Z"
   },
   {
    "duration": 37,
    "start_time": "2024-08-01T16:16:53.575Z"
   },
   {
    "duration": 24,
    "start_time": "2024-08-01T16:16:53.616Z"
   },
   {
    "duration": 18,
    "start_time": "2024-08-01T16:16:53.643Z"
   },
   {
    "duration": 48,
    "start_time": "2024-08-01T16:16:53.666Z"
   },
   {
    "duration": 19,
    "start_time": "2024-08-01T16:16:53.718Z"
   },
   {
    "duration": 9,
    "start_time": "2024-08-01T16:16:53.740Z"
   },
   {
    "duration": 14,
    "start_time": "2024-08-01T16:16:53.753Z"
   },
   {
    "duration": 21,
    "start_time": "2024-08-01T16:16:53.811Z"
   },
   {
    "duration": 11,
    "start_time": "2024-08-01T16:16:53.836Z"
   },
   {
    "duration": 1534,
    "start_time": "2024-08-01T16:16:53.851Z"
   },
   {
    "duration": 586,
    "start_time": "2024-08-01T16:16:55.388Z"
   },
   {
    "duration": 1204,
    "start_time": "2024-08-01T16:16:55.977Z"
   },
   {
    "duration": 242,
    "start_time": "2024-08-01T16:16:57.183Z"
   },
   {
    "duration": 149,
    "start_time": "2024-08-01T16:16:57.428Z"
   },
   {
    "duration": 52,
    "start_time": "2024-08-01T16:16:57.581Z"
   },
   {
    "duration": 4,
    "start_time": "2024-08-01T16:16:57.637Z"
   },
   {
    "duration": 6176,
    "start_time": "2024-08-01T16:16:57.645Z"
   },
   {
    "duration": 1569,
    "start_time": "2024-08-01T16:18:49.043Z"
   },
   {
    "duration": 25,
    "start_time": "2024-08-01T16:18:50.615Z"
   },
   {
    "duration": 17,
    "start_time": "2024-08-01T16:18:50.643Z"
   },
   {
    "duration": 49,
    "start_time": "2024-08-01T16:18:50.664Z"
   },
   {
    "duration": 18,
    "start_time": "2024-08-01T16:18:50.716Z"
   },
   {
    "duration": 10,
    "start_time": "2024-08-01T16:18:50.737Z"
   },
   {
    "duration": 16,
    "start_time": "2024-08-01T16:18:50.750Z"
   },
   {
    "duration": 47,
    "start_time": "2024-08-01T16:18:50.769Z"
   },
   {
    "duration": 15,
    "start_time": "2024-08-01T16:18:50.819Z"
   },
   {
    "duration": 17,
    "start_time": "2024-08-01T16:18:50.839Z"
   },
   {
    "duration": 10,
    "start_time": "2024-08-01T16:18:50.858Z"
   },
   {
    "duration": 1452,
    "start_time": "2024-08-01T16:18:50.913Z"
   },
   {
    "duration": 537,
    "start_time": "2024-08-01T16:18:52.369Z"
   },
   {
    "duration": 1182,
    "start_time": "2024-08-01T16:18:52.914Z"
   },
   {
    "duration": 312,
    "start_time": "2024-08-01T16:18:54.100Z"
   },
   {
    "duration": 147,
    "start_time": "2024-08-01T16:18:54.416Z"
   },
   {
    "duration": 24,
    "start_time": "2024-08-01T16:18:54.566Z"
   },
   {
    "duration": 5,
    "start_time": "2024-08-01T16:18:54.593Z"
   },
   {
    "duration": 6032,
    "start_time": "2024-08-01T16:18:54.602Z"
   },
   {
    "duration": 1588,
    "start_time": "2024-08-01T16:21:44.291Z"
   },
   {
    "duration": 33,
    "start_time": "2024-08-01T16:21:45.882Z"
   },
   {
    "duration": 18,
    "start_time": "2024-08-01T16:21:45.918Z"
   },
   {
    "duration": 22,
    "start_time": "2024-08-01T16:21:45.938Z"
   },
   {
    "duration": 46,
    "start_time": "2024-08-01T16:21:45.966Z"
   },
   {
    "duration": 10,
    "start_time": "2024-08-01T16:21:46.015Z"
   },
   {
    "duration": 16,
    "start_time": "2024-08-01T16:21:46.028Z"
   },
   {
    "duration": 8,
    "start_time": "2024-08-01T16:21:46.047Z"
   },
   {
    "duration": 59,
    "start_time": "2024-08-01T16:21:46.059Z"
   },
   {
    "duration": 18,
    "start_time": "2024-08-01T16:21:46.121Z"
   },
   {
    "duration": 11,
    "start_time": "2024-08-01T16:21:46.142Z"
   },
   {
    "duration": 1513,
    "start_time": "2024-08-01T16:21:46.156Z"
   },
   {
    "duration": 572,
    "start_time": "2024-08-01T16:21:47.672Z"
   },
   {
    "duration": 1120,
    "start_time": "2024-08-01T16:21:48.250Z"
   },
   {
    "duration": 251,
    "start_time": "2024-08-01T16:21:49.373Z"
   },
   {
    "duration": 152,
    "start_time": "2024-08-01T16:21:49.627Z"
   },
   {
    "duration": 50,
    "start_time": "2024-08-01T16:21:49.782Z"
   },
   {
    "duration": 4,
    "start_time": "2024-08-01T16:21:49.835Z"
   },
   {
    "duration": 6171,
    "start_time": "2024-08-01T16:21:49.844Z"
   },
   {
    "duration": 1555,
    "start_time": "2024-08-01T16:28:07.257Z"
   },
   {
    "duration": 24,
    "start_time": "2024-08-01T16:28:08.817Z"
   },
   {
    "duration": 20,
    "start_time": "2024-08-01T16:28:08.844Z"
   },
   {
    "duration": 47,
    "start_time": "2024-08-01T16:28:08.868Z"
   },
   {
    "duration": 18,
    "start_time": "2024-08-01T16:28:08.918Z"
   },
   {
    "duration": 12,
    "start_time": "2024-08-01T16:28:08.940Z"
   },
   {
    "duration": 62,
    "start_time": "2024-08-01T16:28:08.956Z"
   },
   {
    "duration": 9,
    "start_time": "2024-08-01T16:28:09.021Z"
   },
   {
    "duration": 15,
    "start_time": "2024-08-01T16:28:09.034Z"
   },
   {
    "duration": 17,
    "start_time": "2024-08-01T16:28:09.054Z"
   },
   {
    "duration": 9,
    "start_time": "2024-08-01T16:28:09.114Z"
   },
   {
    "duration": 1495,
    "start_time": "2024-08-01T16:28:09.126Z"
   },
   {
    "duration": 586,
    "start_time": "2024-08-01T16:28:10.624Z"
   },
   {
    "duration": 1162,
    "start_time": "2024-08-01T16:28:11.213Z"
   },
   {
    "duration": 246,
    "start_time": "2024-08-01T16:28:12.378Z"
   },
   {
    "duration": 161,
    "start_time": "2024-08-01T16:28:12.627Z"
   },
   {
    "duration": 21,
    "start_time": "2024-08-01T16:28:12.812Z"
   },
   {
    "duration": 4,
    "start_time": "2024-08-01T16:28:12.836Z"
   },
   {
    "duration": 6090,
    "start_time": "2024-08-01T16:28:12.843Z"
   },
   {
    "duration": 1650,
    "start_time": "2024-08-01T16:35:47.719Z"
   },
   {
    "duration": 25,
    "start_time": "2024-08-01T16:35:49.373Z"
   },
   {
    "duration": 27,
    "start_time": "2024-08-01T16:35:49.401Z"
   },
   {
    "duration": 21,
    "start_time": "2024-08-01T16:35:49.431Z"
   },
   {
    "duration": 54,
    "start_time": "2024-08-01T16:35:49.458Z"
   },
   {
    "duration": 12,
    "start_time": "2024-08-01T16:35:49.516Z"
   },
   {
    "duration": 15,
    "start_time": "2024-08-01T16:35:49.532Z"
   },
   {
    "duration": 7,
    "start_time": "2024-08-01T16:35:49.551Z"
   },
   {
    "duration": 61,
    "start_time": "2024-08-01T16:35:49.561Z"
   },
   {
    "duration": 17,
    "start_time": "2024-08-01T16:35:49.626Z"
   },
   {
    "duration": 10,
    "start_time": "2024-08-01T16:35:49.646Z"
   },
   {
    "duration": 1530,
    "start_time": "2024-08-01T16:35:49.659Z"
   },
   {
    "duration": 604,
    "start_time": "2024-08-01T16:35:51.192Z"
   },
   {
    "duration": 1195,
    "start_time": "2024-08-01T16:35:51.801Z"
   },
   {
    "duration": 320,
    "start_time": "2024-08-01T16:35:52.999Z"
   },
   {
    "duration": 153,
    "start_time": "2024-08-01T16:35:53.322Z"
   },
   {
    "duration": 21,
    "start_time": "2024-08-01T16:35:53.478Z"
   },
   {
    "duration": 5,
    "start_time": "2024-08-01T16:35:53.502Z"
   },
   {
    "duration": 6115,
    "start_time": "2024-08-01T16:35:53.510Z"
   },
   {
    "duration": 1577,
    "start_time": "2024-08-01T16:37:31.230Z"
   },
   {
    "duration": 25,
    "start_time": "2024-08-01T16:37:32.810Z"
   },
   {
    "duration": 17,
    "start_time": "2024-08-01T16:37:32.838Z"
   },
   {
    "duration": 52,
    "start_time": "2024-08-01T16:37:32.860Z"
   },
   {
    "duration": 17,
    "start_time": "2024-08-01T16:37:32.916Z"
   },
   {
    "duration": 11,
    "start_time": "2024-08-01T16:37:32.936Z"
   },
   {
    "duration": 15,
    "start_time": "2024-08-01T16:37:32.950Z"
   },
   {
    "duration": 50,
    "start_time": "2024-08-01T16:37:32.968Z"
   },
   {
    "duration": 19,
    "start_time": "2024-08-01T16:37:33.021Z"
   },
   {
    "duration": 18,
    "start_time": "2024-08-01T16:37:33.046Z"
   },
   {
    "duration": 43,
    "start_time": "2024-08-01T16:37:33.070Z"
   },
   {
    "duration": 1462,
    "start_time": "2024-08-01T16:37:33.117Z"
   },
   {
    "duration": 573,
    "start_time": "2024-08-01T16:37:34.583Z"
   },
   {
    "duration": 1225,
    "start_time": "2024-08-01T16:37:35.159Z"
   },
   {
    "duration": 242,
    "start_time": "2024-08-01T16:37:36.387Z"
   },
   {
    "duration": 221,
    "start_time": "2024-08-01T16:37:36.633Z"
   },
   {
    "duration": 23,
    "start_time": "2024-08-01T16:37:36.857Z"
   },
   {
    "duration": 5,
    "start_time": "2024-08-01T16:37:36.882Z"
   },
   {
    "duration": 6036,
    "start_time": "2024-08-01T16:37:36.890Z"
   },
   {
    "duration": 1558,
    "start_time": "2024-08-01T16:39:14.848Z"
   },
   {
    "duration": 25,
    "start_time": "2024-08-01T16:39:16.411Z"
   },
   {
    "duration": 18,
    "start_time": "2024-08-01T16:39:16.439Z"
   },
   {
    "duration": 21,
    "start_time": "2024-08-01T16:39:16.460Z"
   },
   {
    "duration": 22,
    "start_time": "2024-08-01T16:39:16.517Z"
   },
   {
    "duration": 11,
    "start_time": "2024-08-01T16:39:16.543Z"
   },
   {
    "duration": 16,
    "start_time": "2024-08-01T16:39:16.557Z"
   },
   {
    "duration": 9,
    "start_time": "2024-08-01T16:39:16.612Z"
   },
   {
    "duration": 14,
    "start_time": "2024-08-01T16:39:16.624Z"
   },
   {
    "duration": 18,
    "start_time": "2024-08-01T16:39:16.641Z"
   },
   {
    "duration": 50,
    "start_time": "2024-08-01T16:39:16.662Z"
   },
   {
    "duration": 1449,
    "start_time": "2024-08-01T16:39:16.716Z"
   },
   {
    "duration": 540,
    "start_time": "2024-08-01T16:39:18.168Z"
   },
   {
    "duration": 1152,
    "start_time": "2024-08-01T16:39:18.717Z"
   },
   {
    "duration": 253,
    "start_time": "2024-08-01T16:39:19.872Z"
   },
   {
    "duration": 156,
    "start_time": "2024-08-01T16:39:20.128Z"
   },
   {
    "duration": 22,
    "start_time": "2024-08-01T16:39:20.313Z"
   },
   {
    "duration": 4,
    "start_time": "2024-08-01T16:39:20.338Z"
   },
   {
    "duration": 6270,
    "start_time": "2024-08-01T16:39:20.345Z"
   },
   {
    "duration": 1584,
    "start_time": "2024-08-01T16:52:36.920Z"
   },
   {
    "duration": 25,
    "start_time": "2024-08-01T16:52:38.512Z"
   },
   {
    "duration": 19,
    "start_time": "2024-08-01T16:52:38.540Z"
   },
   {
    "duration": 21,
    "start_time": "2024-08-01T16:52:38.563Z"
   },
   {
    "duration": 17,
    "start_time": "2024-08-01T16:52:38.612Z"
   },
   {
    "duration": 10,
    "start_time": "2024-08-01T16:52:38.634Z"
   },
   {
    "duration": 17,
    "start_time": "2024-08-01T16:52:38.647Z"
   },
   {
    "duration": 49,
    "start_time": "2024-08-01T16:52:38.667Z"
   },
   {
    "duration": 14,
    "start_time": "2024-08-01T16:52:38.719Z"
   },
   {
    "duration": 17,
    "start_time": "2024-08-01T16:52:38.738Z"
   },
   {
    "duration": 9,
    "start_time": "2024-08-01T16:52:38.758Z"
   },
   {
    "duration": 1521,
    "start_time": "2024-08-01T16:52:38.770Z"
   },
   {
    "duration": 610,
    "start_time": "2024-08-01T16:52:40.300Z"
   },
   {
    "duration": 1188,
    "start_time": "2024-08-01T16:52:40.914Z"
   },
   {
    "duration": 223,
    "start_time": "2024-08-01T16:52:42.111Z"
   },
   {
    "duration": 223,
    "start_time": "2024-08-01T16:52:42.336Z"
   },
   {
    "duration": 22,
    "start_time": "2024-08-01T16:52:42.562Z"
   },
   {
    "duration": 5,
    "start_time": "2024-08-01T16:52:42.587Z"
   },
   {
    "duration": 6139,
    "start_time": "2024-08-01T16:52:42.596Z"
   },
   {
    "duration": 1573,
    "start_time": "2024-08-01T16:53:28.008Z"
   },
   {
    "duration": 34,
    "start_time": "2024-08-01T16:53:29.586Z"
   },
   {
    "duration": 20,
    "start_time": "2024-08-01T16:53:29.622Z"
   },
   {
    "duration": 22,
    "start_time": "2024-08-01T16:53:29.646Z"
   },
   {
    "duration": 46,
    "start_time": "2024-08-01T16:53:29.671Z"
   },
   {
    "duration": 12,
    "start_time": "2024-08-01T16:53:29.721Z"
   },
   {
    "duration": 18,
    "start_time": "2024-08-01T16:53:29.736Z"
   },
   {
    "duration": 8,
    "start_time": "2024-08-01T16:53:29.757Z"
   },
   {
    "duration": 18,
    "start_time": "2024-08-01T16:53:29.814Z"
   },
   {
    "duration": 20,
    "start_time": "2024-08-01T16:53:29.838Z"
   },
   {
    "duration": 9,
    "start_time": "2024-08-01T16:53:29.860Z"
   },
   {
    "duration": 1525,
    "start_time": "2024-08-01T16:53:29.872Z"
   },
   {
    "duration": 625,
    "start_time": "2024-08-01T16:53:31.400Z"
   },
   {
    "duration": 1186,
    "start_time": "2024-08-01T16:53:32.028Z"
   },
   {
    "duration": 301,
    "start_time": "2024-08-01T16:53:33.219Z"
   },
   {
    "duration": 156,
    "start_time": "2024-08-01T16:53:33.523Z"
   },
   {
    "duration": 22,
    "start_time": "2024-08-01T16:53:33.684Z"
   },
   {
    "duration": 4,
    "start_time": "2024-08-01T16:53:33.709Z"
   },
   {
    "duration": 6019,
    "start_time": "2024-08-01T16:53:33.717Z"
   },
   {
    "duration": 1616,
    "start_time": "2024-08-01T16:55:40.862Z"
   },
   {
    "duration": 33,
    "start_time": "2024-08-01T16:55:42.482Z"
   },
   {
    "duration": 18,
    "start_time": "2024-08-01T16:55:42.517Z"
   },
   {
    "duration": 22,
    "start_time": "2024-08-01T16:55:42.538Z"
   },
   {
    "duration": 17,
    "start_time": "2024-08-01T16:55:42.565Z"
   },
   {
    "duration": 11,
    "start_time": "2024-08-01T16:55:42.614Z"
   },
   {
    "duration": 16,
    "start_time": "2024-08-01T16:55:42.629Z"
   },
   {
    "duration": 9,
    "start_time": "2024-08-01T16:55:42.647Z"
   },
   {
    "duration": 58,
    "start_time": "2024-08-01T16:55:42.659Z"
   },
   {
    "duration": 18,
    "start_time": "2024-08-01T16:55:42.720Z"
   },
   {
    "duration": 10,
    "start_time": "2024-08-01T16:55:42.741Z"
   },
   {
    "duration": 1539,
    "start_time": "2024-08-01T16:55:42.754Z"
   },
   {
    "duration": 601,
    "start_time": "2024-08-01T16:55:44.296Z"
   },
   {
    "duration": 1180,
    "start_time": "2024-08-01T16:55:44.903Z"
   },
   {
    "duration": 243,
    "start_time": "2024-08-01T16:55:46.087Z"
   },
   {
    "duration": 225,
    "start_time": "2024-08-01T16:55:46.334Z"
   },
   {
    "duration": 21,
    "start_time": "2024-08-01T16:55:46.562Z"
   },
   {
    "duration": 6329,
    "start_time": "2024-08-01T16:55:46.586Z"
   },
   {
    "duration": 1663,
    "start_time": "2024-08-01T16:58:32.146Z"
   },
   {
    "duration": 26,
    "start_time": "2024-08-01T16:58:33.813Z"
   },
   {
    "duration": 20,
    "start_time": "2024-08-01T16:58:33.842Z"
   },
   {
    "duration": 53,
    "start_time": "2024-08-01T16:58:33.867Z"
   },
   {
    "duration": 18,
    "start_time": "2024-08-01T16:58:33.922Z"
   },
   {
    "duration": 10,
    "start_time": "2024-08-01T16:58:33.943Z"
   },
   {
    "duration": 18,
    "start_time": "2024-08-01T16:58:33.956Z"
   },
   {
    "duration": 10,
    "start_time": "2024-08-01T16:58:34.011Z"
   },
   {
    "duration": 17,
    "start_time": "2024-08-01T16:58:34.025Z"
   },
   {
    "duration": 18,
    "start_time": "2024-08-01T16:58:34.047Z"
   },
   {
    "duration": 50,
    "start_time": "2024-08-01T16:58:34.068Z"
   },
   {
    "duration": 1464,
    "start_time": "2024-08-01T16:58:34.121Z"
   },
   {
    "duration": 572,
    "start_time": "2024-08-01T16:58:35.589Z"
   },
   {
    "duration": 1215,
    "start_time": "2024-08-01T16:58:36.164Z"
   },
   {
    "duration": 242,
    "start_time": "2024-08-01T16:58:37.382Z"
   },
   {
    "duration": 153,
    "start_time": "2024-08-01T16:58:37.627Z"
   },
   {
    "duration": 23,
    "start_time": "2024-08-01T16:58:37.813Z"
   },
   {
    "duration": 7192,
    "start_time": "2024-08-01T16:58:37.839Z"
   },
   {
    "duration": 1667,
    "start_time": "2024-08-01T17:00:43.133Z"
   },
   {
    "duration": 30,
    "start_time": "2024-08-01T17:00:44.803Z"
   },
   {
    "duration": 23,
    "start_time": "2024-08-01T17:00:44.836Z"
   },
   {
    "duration": 49,
    "start_time": "2024-08-01T17:00:44.863Z"
   },
   {
    "duration": 23,
    "start_time": "2024-08-01T17:00:44.916Z"
   },
   {
    "duration": 14,
    "start_time": "2024-08-01T17:00:44.943Z"
   },
   {
    "duration": 20,
    "start_time": "2024-08-01T17:00:44.960Z"
   },
   {
    "duration": 10,
    "start_time": "2024-08-01T17:00:45.014Z"
   },
   {
    "duration": 17,
    "start_time": "2024-08-01T17:00:45.027Z"
   },
   {
    "duration": 20,
    "start_time": "2024-08-01T17:00:45.050Z"
   },
   {
    "duration": 10,
    "start_time": "2024-08-01T17:00:45.115Z"
   },
   {
    "duration": 1548,
    "start_time": "2024-08-01T17:00:45.129Z"
   },
   {
    "duration": 570,
    "start_time": "2024-08-01T17:00:46.680Z"
   },
   {
    "duration": 1229,
    "start_time": "2024-08-01T17:00:47.254Z"
   },
   {
    "duration": 238,
    "start_time": "2024-08-01T17:00:48.486Z"
   },
   {
    "duration": 158,
    "start_time": "2024-08-01T17:00:48.727Z"
   },
   {
    "duration": 23,
    "start_time": "2024-08-01T17:00:48.912Z"
   },
   {
    "duration": 6184,
    "start_time": "2024-08-01T17:00:48.938Z"
   },
   {
    "duration": 1619,
    "start_time": "2024-08-01T17:05:57.089Z"
   },
   {
    "duration": 26,
    "start_time": "2024-08-01T17:05:58.711Z"
   },
   {
    "duration": 18,
    "start_time": "2024-08-01T17:05:58.740Z"
   },
   {
    "duration": 50,
    "start_time": "2024-08-01T17:05:58.763Z"
   },
   {
    "duration": 19,
    "start_time": "2024-08-01T17:05:58.816Z"
   },
   {
    "duration": 14,
    "start_time": "2024-08-01T17:05:58.838Z"
   },
   {
    "duration": 57,
    "start_time": "2024-08-01T17:05:58.857Z"
   },
   {
    "duration": 9,
    "start_time": "2024-08-01T17:05:58.917Z"
   },
   {
    "duration": 14,
    "start_time": "2024-08-01T17:05:58.930Z"
   },
   {
    "duration": 17,
    "start_time": "2024-08-01T17:05:58.950Z"
   },
   {
    "duration": 49,
    "start_time": "2024-08-01T17:05:58.970Z"
   },
   {
    "duration": 1452,
    "start_time": "2024-08-01T17:05:59.021Z"
   },
   {
    "duration": 561,
    "start_time": "2024-08-01T17:06:00.476Z"
   },
   {
    "duration": 1129,
    "start_time": "2024-08-01T17:06:01.041Z"
   },
   {
    "duration": 251,
    "start_time": "2024-08-01T17:06:02.173Z"
   },
   {
    "duration": 170,
    "start_time": "2024-08-01T17:06:02.427Z"
   },
   {
    "duration": 24,
    "start_time": "2024-08-01T17:06:02.600Z"
   },
   {
    "duration": 6197,
    "start_time": "2024-08-01T17:06:02.627Z"
   },
   {
    "duration": 1547,
    "start_time": "2024-08-01T17:08:16.865Z"
   },
   {
    "duration": 23,
    "start_time": "2024-08-01T17:08:18.416Z"
   },
   {
    "duration": 20,
    "start_time": "2024-08-01T17:08:18.442Z"
   },
   {
    "duration": 51,
    "start_time": "2024-08-01T17:08:18.467Z"
   },
   {
    "duration": 18,
    "start_time": "2024-08-01T17:08:18.521Z"
   },
   {
    "duration": 12,
    "start_time": "2024-08-01T17:08:18.542Z"
   },
   {
    "duration": 16,
    "start_time": "2024-08-01T17:08:18.557Z"
   },
   {
    "duration": 8,
    "start_time": "2024-08-01T17:08:18.614Z"
   },
   {
    "duration": 14,
    "start_time": "2024-08-01T17:08:18.625Z"
   },
   {
    "duration": 16,
    "start_time": "2024-08-01T17:08:18.644Z"
   },
   {
    "duration": 51,
    "start_time": "2024-08-01T17:08:18.663Z"
   },
   {
    "duration": 1456,
    "start_time": "2024-08-01T17:08:18.717Z"
   },
   {
    "duration": 588,
    "start_time": "2024-08-01T17:08:20.177Z"
   },
   {
    "duration": 1221,
    "start_time": "2024-08-01T17:08:20.768Z"
   },
   {
    "duration": 238,
    "start_time": "2024-08-01T17:08:21.993Z"
   },
   {
    "duration": 227,
    "start_time": "2024-08-01T17:08:22.234Z"
   },
   {
    "duration": 24,
    "start_time": "2024-08-01T17:08:22.464Z"
   },
   {
    "duration": 6128,
    "start_time": "2024-08-01T17:08:22.490Z"
   },
   {
    "duration": 1664,
    "start_time": "2024-08-01T17:09:02.918Z"
   },
   {
    "duration": 31,
    "start_time": "2024-08-01T17:09:04.585Z"
   },
   {
    "duration": 17,
    "start_time": "2024-08-01T17:09:04.619Z"
   },
   {
    "duration": 21,
    "start_time": "2024-08-01T17:09:04.640Z"
   },
   {
    "duration": 48,
    "start_time": "2024-08-01T17:09:04.664Z"
   },
   {
    "duration": 11,
    "start_time": "2024-08-01T17:09:04.715Z"
   },
   {
    "duration": 17,
    "start_time": "2024-08-01T17:09:04.730Z"
   },
   {
    "duration": 9,
    "start_time": "2024-08-01T17:09:04.749Z"
   },
   {
    "duration": 60,
    "start_time": "2024-08-01T17:09:04.761Z"
   },
   {
    "duration": 16,
    "start_time": "2024-08-01T17:09:04.826Z"
   },
   {
    "duration": 10,
    "start_time": "2024-08-01T17:09:04.845Z"
   },
   {
    "duration": 1540,
    "start_time": "2024-08-01T17:09:04.857Z"
   },
   {
    "duration": 582,
    "start_time": "2024-08-01T17:09:06.400Z"
   },
   {
    "duration": 1199,
    "start_time": "2024-08-01T17:09:06.986Z"
   },
   {
    "duration": 244,
    "start_time": "2024-08-01T17:09:08.189Z"
   },
   {
    "duration": 220,
    "start_time": "2024-08-01T17:09:08.436Z"
   },
   {
    "duration": 23,
    "start_time": "2024-08-01T17:09:08.659Z"
   },
   {
    "duration": 6136,
    "start_time": "2024-08-01T17:09:08.686Z"
   },
   {
    "duration": 11,
    "start_time": "2024-08-01T17:09:14.825Z"
   },
   {
    "duration": 98,
    "start_time": "2024-08-01T17:09:14.914Z"
   },
   {
    "duration": 521,
    "start_time": "2024-08-01T17:09:15.015Z"
   },
   {
    "duration": 0,
    "start_time": "2024-08-01T17:09:15.539Z"
   },
   {
    "duration": 0,
    "start_time": "2024-08-01T17:09:15.541Z"
   },
   {
    "duration": 0,
    "start_time": "2024-08-01T17:09:15.543Z"
   },
   {
    "duration": 1562,
    "start_time": "2024-08-01T17:09:27.557Z"
   },
   {
    "duration": 25,
    "start_time": "2024-08-01T17:09:29.122Z"
   },
   {
    "duration": 17,
    "start_time": "2024-08-01T17:09:29.150Z"
   },
   {
    "duration": 50,
    "start_time": "2024-08-01T17:09:29.171Z"
   },
   {
    "duration": 20,
    "start_time": "2024-08-01T17:09:29.225Z"
   },
   {
    "duration": 11,
    "start_time": "2024-08-01T17:09:29.249Z"
   },
   {
    "duration": 55,
    "start_time": "2024-08-01T17:09:29.263Z"
   },
   {
    "duration": 13,
    "start_time": "2024-08-01T17:09:29.321Z"
   },
   {
    "duration": 17,
    "start_time": "2024-08-01T17:09:29.337Z"
   },
   {
    "duration": 56,
    "start_time": "2024-08-01T17:09:29.361Z"
   },
   {
    "duration": 10,
    "start_time": "2024-08-01T17:09:29.420Z"
   },
   {
    "duration": 1548,
    "start_time": "2024-08-01T17:09:29.433Z"
   },
   {
    "duration": 601,
    "start_time": "2024-08-01T17:09:30.984Z"
   },
   {
    "duration": 1199,
    "start_time": "2024-08-01T17:09:31.588Z"
   },
   {
    "duration": 246,
    "start_time": "2024-08-01T17:09:32.791Z"
   },
   {
    "duration": 149,
    "start_time": "2024-08-01T17:09:33.114Z"
   },
   {
    "duration": 23,
    "start_time": "2024-08-01T17:09:33.266Z"
   },
   {
    "duration": 6841,
    "start_time": "2024-08-01T17:09:33.292Z"
   },
   {
    "duration": 8,
    "start_time": "2024-08-01T17:09:40.211Z"
   },
   {
    "duration": 1601,
    "start_time": "2024-08-01T17:11:16.067Z"
   },
   {
    "duration": 24,
    "start_time": "2024-08-01T17:11:17.671Z"
   },
   {
    "duration": 29,
    "start_time": "2024-08-01T17:11:17.698Z"
   },
   {
    "duration": 21,
    "start_time": "2024-08-01T17:11:17.731Z"
   },
   {
    "duration": 18,
    "start_time": "2024-08-01T17:11:17.755Z"
   },
   {
    "duration": 43,
    "start_time": "2024-08-01T17:11:17.777Z"
   },
   {
    "duration": 15,
    "start_time": "2024-08-01T17:11:17.823Z"
   },
   {
    "duration": 8,
    "start_time": "2024-08-01T17:11:17.841Z"
   },
   {
    "duration": 14,
    "start_time": "2024-08-01T17:11:17.853Z"
   },
   {
    "duration": 17,
    "start_time": "2024-08-01T17:11:17.915Z"
   },
   {
    "duration": 9,
    "start_time": "2024-08-01T17:11:17.935Z"
   },
   {
    "duration": 1538,
    "start_time": "2024-08-01T17:11:17.947Z"
   },
   {
    "duration": 566,
    "start_time": "2024-08-01T17:11:19.488Z"
   },
   {
    "duration": 1225,
    "start_time": "2024-08-01T17:11:20.058Z"
   },
   {
    "duration": 249,
    "start_time": "2024-08-01T17:11:21.287Z"
   },
   {
    "duration": 142,
    "start_time": "2024-08-01T17:11:21.613Z"
   },
   {
    "duration": 24,
    "start_time": "2024-08-01T17:11:21.758Z"
   },
   {
    "duration": 6232,
    "start_time": "2024-08-01T17:11:21.785Z"
   },
   {
    "duration": 8,
    "start_time": "2024-08-01T17:11:28.024Z"
   },
   {
    "duration": 598,
    "start_time": "2024-08-01T17:11:28.035Z"
   },
   {
    "duration": 0,
    "start_time": "2024-08-01T17:11:28.638Z"
   },
   {
    "duration": 0,
    "start_time": "2024-08-01T17:11:28.641Z"
   },
   {
    "duration": 0,
    "start_time": "2024-08-01T17:11:28.644Z"
   },
   {
    "duration": 0,
    "start_time": "2024-08-01T17:11:28.648Z"
   },
   {
    "duration": 0,
    "start_time": "2024-08-01T17:11:28.651Z"
   },
   {
    "duration": 1657,
    "start_time": "2024-08-01T17:14:30.220Z"
   },
   {
    "duration": 32,
    "start_time": "2024-08-01T17:14:31.880Z"
   },
   {
    "duration": 17,
    "start_time": "2024-08-01T17:14:31.915Z"
   },
   {
    "duration": 21,
    "start_time": "2024-08-01T17:14:31.935Z"
   },
   {
    "duration": 17,
    "start_time": "2024-08-01T17:14:31.961Z"
   },
   {
    "duration": 14,
    "start_time": "2024-08-01T17:14:32.013Z"
   },
   {
    "duration": 16,
    "start_time": "2024-08-01T17:14:32.030Z"
   },
   {
    "duration": 8,
    "start_time": "2024-08-01T17:14:32.049Z"
   },
   {
    "duration": 60,
    "start_time": "2024-08-01T17:14:32.059Z"
   },
   {
    "duration": 17,
    "start_time": "2024-08-01T17:14:32.122Z"
   },
   {
    "duration": 10,
    "start_time": "2024-08-01T17:14:32.142Z"
   },
   {
    "duration": 1550,
    "start_time": "2024-08-01T17:14:32.155Z"
   },
   {
    "duration": 578,
    "start_time": "2024-08-01T17:14:33.708Z"
   },
   {
    "duration": 1191,
    "start_time": "2024-08-01T17:14:34.291Z"
   },
   {
    "duration": 245,
    "start_time": "2024-08-01T17:14:35.485Z"
   },
   {
    "duration": 227,
    "start_time": "2024-08-01T17:14:35.733Z"
   },
   {
    "duration": 27,
    "start_time": "2024-08-01T17:14:35.963Z"
   },
   {
    "duration": 501,
    "start_time": "2024-08-01T17:14:35.994Z"
   },
   {
    "duration": 0,
    "start_time": "2024-08-01T17:14:36.498Z"
   },
   {
    "duration": 0,
    "start_time": "2024-08-01T17:14:36.499Z"
   },
   {
    "duration": 0,
    "start_time": "2024-08-01T17:14:36.501Z"
   },
   {
    "duration": 0,
    "start_time": "2024-08-01T17:14:36.512Z"
   },
   {
    "duration": 0,
    "start_time": "2024-08-01T17:14:36.513Z"
   },
   {
    "duration": 1532,
    "start_time": "2024-08-01T17:15:06.249Z"
   },
   {
    "duration": 32,
    "start_time": "2024-08-01T17:15:07.784Z"
   },
   {
    "duration": 18,
    "start_time": "2024-08-01T17:15:07.819Z"
   },
   {
    "duration": 23,
    "start_time": "2024-08-01T17:15:07.840Z"
   },
   {
    "duration": 46,
    "start_time": "2024-08-01T17:15:07.868Z"
   },
   {
    "duration": 11,
    "start_time": "2024-08-01T17:15:07.918Z"
   },
   {
    "duration": 16,
    "start_time": "2024-08-01T17:15:07.931Z"
   },
   {
    "duration": 9,
    "start_time": "2024-08-01T17:15:07.950Z"
   },
   {
    "duration": 59,
    "start_time": "2024-08-01T17:15:07.962Z"
   },
   {
    "duration": 17,
    "start_time": "2024-08-01T17:15:08.026Z"
   },
   {
    "duration": 10,
    "start_time": "2024-08-01T17:15:08.046Z"
   },
   {
    "duration": 1514,
    "start_time": "2024-08-01T17:15:08.059Z"
   },
   {
    "duration": 547,
    "start_time": "2024-08-01T17:15:09.576Z"
   },
   {
    "duration": 1174,
    "start_time": "2024-08-01T17:15:10.126Z"
   },
   {
    "duration": 310,
    "start_time": "2024-08-01T17:15:11.302Z"
   },
   {
    "duration": 145,
    "start_time": "2024-08-01T17:15:11.615Z"
   },
   {
    "duration": 23,
    "start_time": "2024-08-01T17:15:11.763Z"
   },
   {
    "duration": 6044,
    "start_time": "2024-08-01T17:15:11.789Z"
   },
   {
    "duration": 77,
    "start_time": "2024-08-01T17:15:17.836Z"
   },
   {
    "duration": 7,
    "start_time": "2024-08-01T17:15:17.916Z"
   },
   {
    "duration": 598,
    "start_time": "2024-08-01T17:15:17.926Z"
   },
   {
    "duration": 0,
    "start_time": "2024-08-01T17:15:18.527Z"
   },
   {
    "duration": 1622,
    "start_time": "2024-08-01T17:16:15.580Z"
   },
   {
    "duration": 26,
    "start_time": "2024-08-01T17:16:17.205Z"
   },
   {
    "duration": 18,
    "start_time": "2024-08-01T17:16:17.233Z"
   },
   {
    "duration": 21,
    "start_time": "2024-08-01T17:16:17.255Z"
   },
   {
    "duration": 47,
    "start_time": "2024-08-01T17:16:17.279Z"
   },
   {
    "duration": 11,
    "start_time": "2024-08-01T17:16:17.329Z"
   },
   {
    "duration": 17,
    "start_time": "2024-08-01T17:16:17.343Z"
   },
   {
    "duration": 50,
    "start_time": "2024-08-01T17:16:17.363Z"
   },
   {
    "duration": 16,
    "start_time": "2024-08-01T17:16:17.415Z"
   },
   {
    "duration": 18,
    "start_time": "2024-08-01T17:16:17.435Z"
   },
   {
    "duration": 10,
    "start_time": "2024-08-01T17:16:17.456Z"
   },
   {
    "duration": 1545,
    "start_time": "2024-08-01T17:16:17.468Z"
   },
   {
    "duration": 584,
    "start_time": "2024-08-01T17:16:19.016Z"
   },
   {
    "duration": 1170,
    "start_time": "2024-08-01T17:16:19.602Z"
   },
   {
    "duration": 261,
    "start_time": "2024-08-01T17:16:20.775Z"
   },
   {
    "duration": 153,
    "start_time": "2024-08-01T17:16:21.120Z"
   },
   {
    "duration": 23,
    "start_time": "2024-08-01T17:16:21.276Z"
   },
   {
    "duration": 6112,
    "start_time": "2024-08-01T17:16:21.302Z"
   },
   {
    "duration": 8,
    "start_time": "2024-08-01T17:16:27.418Z"
   },
   {
    "duration": 79,
    "start_time": "2024-08-01T17:16:27.434Z"
   },
   {
    "duration": 1606,
    "start_time": "2024-08-01T17:25:35.756Z"
   },
   {
    "duration": 25,
    "start_time": "2024-08-01T17:25:37.365Z"
   },
   {
    "duration": 31,
    "start_time": "2024-08-01T17:25:37.393Z"
   },
   {
    "duration": 21,
    "start_time": "2024-08-01T17:25:37.428Z"
   },
   {
    "duration": 17,
    "start_time": "2024-08-01T17:25:37.452Z"
   },
   {
    "duration": 44,
    "start_time": "2024-08-01T17:25:37.473Z"
   },
   {
    "duration": 16,
    "start_time": "2024-08-01T17:25:37.520Z"
   },
   {
    "duration": 9,
    "start_time": "2024-08-01T17:25:37.539Z"
   },
   {
    "duration": 16,
    "start_time": "2024-08-01T17:25:37.551Z"
   },
   {
    "duration": 18,
    "start_time": "2024-08-01T17:25:37.614Z"
   },
   {
    "duration": 10,
    "start_time": "2024-08-01T17:25:37.635Z"
   },
   {
    "duration": 1541,
    "start_time": "2024-08-01T17:25:37.648Z"
   },
   {
    "duration": 600,
    "start_time": "2024-08-01T17:25:39.193Z"
   },
   {
    "duration": 1179,
    "start_time": "2024-08-01T17:25:39.796Z"
   },
   {
    "duration": 247,
    "start_time": "2024-08-01T17:25:40.978Z"
   },
   {
    "duration": 149,
    "start_time": "2024-08-01T17:25:41.228Z"
   },
   {
    "duration": 53,
    "start_time": "2024-08-01T17:25:41.380Z"
   },
   {
    "duration": 6188,
    "start_time": "2024-08-01T17:25:41.436Z"
   },
   {
    "duration": 5174,
    "start_time": "2024-08-01T18:37:53.707Z"
   },
   {
    "duration": 32,
    "start_time": "2024-08-01T18:37:58.884Z"
   },
   {
    "duration": 18,
    "start_time": "2024-08-01T18:37:58.919Z"
   },
   {
    "duration": 21,
    "start_time": "2024-08-01T18:37:58.942Z"
   },
   {
    "duration": 18,
    "start_time": "2024-08-01T18:37:58.966Z"
   },
   {
    "duration": 11,
    "start_time": "2024-08-01T18:37:59.024Z"
   },
   {
    "duration": 15,
    "start_time": "2024-08-01T18:37:59.038Z"
   },
   {
    "duration": 9,
    "start_time": "2024-08-01T18:37:59.056Z"
   },
   {
    "duration": 56,
    "start_time": "2024-08-01T18:37:59.068Z"
   },
   {
    "duration": 17,
    "start_time": "2024-08-01T18:37:59.129Z"
   },
   {
    "duration": 10,
    "start_time": "2024-08-01T18:37:59.149Z"
   },
   {
    "duration": 1553,
    "start_time": "2024-08-01T18:37:59.162Z"
   },
   {
    "duration": 644,
    "start_time": "2024-08-01T18:38:00.719Z"
   },
   {
    "duration": 1122,
    "start_time": "2024-08-01T18:38:01.366Z"
   },
   {
    "duration": 244,
    "start_time": "2024-08-01T18:38:02.491Z"
   },
   {
    "duration": 158,
    "start_time": "2024-08-01T18:38:02.739Z"
   },
   {
    "duration": 19,
    "start_time": "2024-08-01T18:38:02.923Z"
   },
   {
    "duration": 1065,
    "start_time": "2024-08-01T18:38:02.945Z"
   },
   {
    "duration": 0,
    "start_time": "2024-08-01T18:38:04.013Z"
   },
   {
    "duration": 0,
    "start_time": "2024-08-01T18:38:04.022Z"
   },
   {
    "duration": 1626,
    "start_time": "2024-08-01T18:39:38.713Z"
   },
   {
    "duration": 25,
    "start_time": "2024-08-01T18:39:40.343Z"
   },
   {
    "duration": 18,
    "start_time": "2024-08-01T18:39:40.370Z"
   },
   {
    "duration": 49,
    "start_time": "2024-08-01T18:39:40.392Z"
   },
   {
    "duration": 22,
    "start_time": "2024-08-01T18:39:40.445Z"
   },
   {
    "duration": 12,
    "start_time": "2024-08-01T18:39:40.470Z"
   },
   {
    "duration": 53,
    "start_time": "2024-08-01T18:39:40.485Z"
   },
   {
    "duration": 9,
    "start_time": "2024-08-01T18:39:40.541Z"
   },
   {
    "duration": 15,
    "start_time": "2024-08-01T18:39:40.553Z"
   },
   {
    "duration": 58,
    "start_time": "2024-08-01T18:39:40.574Z"
   },
   {
    "duration": 9,
    "start_time": "2024-08-01T18:39:40.636Z"
   },
   {
    "duration": 1459,
    "start_time": "2024-08-01T18:39:40.648Z"
   },
   {
    "duration": 594,
    "start_time": "2024-08-01T18:39:42.110Z"
   },
   {
    "duration": 1184,
    "start_time": "2024-08-01T18:39:42.707Z"
   },
   {
    "duration": 248,
    "start_time": "2024-08-01T18:39:43.894Z"
   },
   {
    "duration": 227,
    "start_time": "2024-08-01T18:39:44.145Z"
   },
   {
    "duration": 18,
    "start_time": "2024-08-01T18:39:44.376Z"
   },
   {
    "duration": 4777,
    "start_time": "2024-08-01T18:39:44.397Z"
   },
   {
    "duration": 0,
    "start_time": "2024-08-01T18:39:49.178Z"
   },
   {
    "duration": 3,
    "start_time": "2024-08-01T18:40:13.610Z"
   },
   {
    "duration": 1514,
    "start_time": "2024-08-01T18:42:01.283Z"
   },
   {
    "duration": 29,
    "start_time": "2024-08-01T18:42:02.800Z"
   },
   {
    "duration": 18,
    "start_time": "2024-08-01T18:42:02.832Z"
   },
   {
    "duration": 23,
    "start_time": "2024-08-01T18:42:02.853Z"
   },
   {
    "duration": 46,
    "start_time": "2024-08-01T18:42:02.880Z"
   },
   {
    "duration": 12,
    "start_time": "2024-08-01T18:42:02.929Z"
   },
   {
    "duration": 17,
    "start_time": "2024-08-01T18:42:02.943Z"
   },
   {
    "duration": 9,
    "start_time": "2024-08-01T18:42:02.962Z"
   },
   {
    "duration": 59,
    "start_time": "2024-08-01T18:42:02.974Z"
   },
   {
    "duration": 17,
    "start_time": "2024-08-01T18:42:03.038Z"
   },
   {
    "duration": 9,
    "start_time": "2024-08-01T18:42:03.058Z"
   },
   {
    "duration": 1509,
    "start_time": "2024-08-01T18:42:03.070Z"
   },
   {
    "duration": 550,
    "start_time": "2024-08-01T18:42:04.582Z"
   },
   {
    "duration": 1150,
    "start_time": "2024-08-01T18:42:05.139Z"
   },
   {
    "duration": 251,
    "start_time": "2024-08-01T18:42:06.292Z"
   },
   {
    "duration": 222,
    "start_time": "2024-08-01T18:42:06.546Z"
   },
   {
    "duration": 17,
    "start_time": "2024-08-01T18:42:06.771Z"
   },
   {
    "duration": 4,
    "start_time": "2024-08-01T18:42:06.791Z"
   },
   {
    "duration": 3,
    "start_time": "2024-08-01T18:42:06.799Z"
   },
   {
    "duration": 4,
    "start_time": "2024-08-01T18:42:06.805Z"
   },
   {
    "duration": 1594,
    "start_time": "2024-08-01T18:43:02.898Z"
   },
   {
    "duration": 33,
    "start_time": "2024-08-01T18:43:04.495Z"
   },
   {
    "duration": 18,
    "start_time": "2024-08-01T18:43:04.530Z"
   },
   {
    "duration": 21,
    "start_time": "2024-08-01T18:43:04.553Z"
   },
   {
    "duration": 47,
    "start_time": "2024-08-01T18:43:04.577Z"
   },
   {
    "duration": 10,
    "start_time": "2024-08-01T18:43:04.628Z"
   },
   {
    "duration": 16,
    "start_time": "2024-08-01T18:43:04.641Z"
   },
   {
    "duration": 10,
    "start_time": "2024-08-01T18:43:04.660Z"
   },
   {
    "duration": 54,
    "start_time": "2024-08-01T18:43:04.674Z"
   },
   {
    "duration": 16,
    "start_time": "2024-08-01T18:43:04.734Z"
   },
   {
    "duration": 11,
    "start_time": "2024-08-01T18:43:04.753Z"
   },
   {
    "duration": 1521,
    "start_time": "2024-08-01T18:43:04.767Z"
   },
   {
    "duration": 553,
    "start_time": "2024-08-01T18:43:06.291Z"
   },
   {
    "duration": 1144,
    "start_time": "2024-08-01T18:43:06.847Z"
   },
   {
    "duration": 241,
    "start_time": "2024-08-01T18:43:07.994Z"
   },
   {
    "duration": 152,
    "start_time": "2024-08-01T18:43:08.238Z"
   },
   {
    "duration": 20,
    "start_time": "2024-08-01T18:43:08.425Z"
   },
   {
    "duration": 908,
    "start_time": "2024-08-01T18:43:08.448Z"
   },
   {
    "duration": 0,
    "start_time": "2024-08-01T18:43:09.359Z"
   },
   {
    "duration": 0,
    "start_time": "2024-08-01T18:43:09.361Z"
   },
   {
    "duration": 1599,
    "start_time": "2024-08-01T18:45:15.598Z"
   },
   {
    "duration": 28,
    "start_time": "2024-08-01T18:45:17.201Z"
   },
   {
    "duration": 18,
    "start_time": "2024-08-01T18:45:17.232Z"
   },
   {
    "duration": 22,
    "start_time": "2024-08-01T18:45:17.254Z"
   },
   {
    "duration": 47,
    "start_time": "2024-08-01T18:45:17.279Z"
   },
   {
    "duration": 12,
    "start_time": "2024-08-01T18:45:17.330Z"
   },
   {
    "duration": 19,
    "start_time": "2024-08-01T18:45:17.345Z"
   },
   {
    "duration": 10,
    "start_time": "2024-08-01T18:45:17.368Z"
   },
   {
    "duration": 56,
    "start_time": "2024-08-01T18:45:17.381Z"
   },
   {
    "duration": 17,
    "start_time": "2024-08-01T18:45:17.443Z"
   },
   {
    "duration": 10,
    "start_time": "2024-08-01T18:45:17.463Z"
   },
   {
    "duration": 1523,
    "start_time": "2024-08-01T18:45:17.476Z"
   },
   {
    "duration": 603,
    "start_time": "2024-08-01T18:45:19.003Z"
   },
   {
    "duration": 1189,
    "start_time": "2024-08-01T18:45:19.611Z"
   },
   {
    "duration": 236,
    "start_time": "2024-08-01T18:45:20.803Z"
   },
   {
    "duration": 222,
    "start_time": "2024-08-01T18:45:21.042Z"
   },
   {
    "duration": 18,
    "start_time": "2024-08-01T18:45:21.267Z"
   },
   {
    "duration": 4346,
    "start_time": "2024-08-01T18:45:21.288Z"
   },
   {
    "duration": 0,
    "start_time": "2024-08-01T18:45:25.636Z"
   },
   {
    "duration": 0,
    "start_time": "2024-08-01T18:45:25.638Z"
   },
   {
    "duration": 1555,
    "start_time": "2024-08-01T18:47:22.867Z"
   },
   {
    "duration": 25,
    "start_time": "2024-08-01T18:47:24.426Z"
   },
   {
    "duration": 19,
    "start_time": "2024-08-01T18:47:24.453Z"
   },
   {
    "duration": 51,
    "start_time": "2024-08-01T18:47:24.475Z"
   },
   {
    "duration": 18,
    "start_time": "2024-08-01T18:47:24.529Z"
   },
   {
    "duration": 11,
    "start_time": "2024-08-01T18:47:24.550Z"
   },
   {
    "duration": 16,
    "start_time": "2024-08-01T18:47:24.564Z"
   },
   {
    "duration": 8,
    "start_time": "2024-08-01T18:47:24.622Z"
   },
   {
    "duration": 15,
    "start_time": "2024-08-01T18:47:24.633Z"
   },
   {
    "duration": 19,
    "start_time": "2024-08-01T18:47:24.654Z"
   },
   {
    "duration": 51,
    "start_time": "2024-08-01T18:47:24.675Z"
   },
   {
    "duration": 1458,
    "start_time": "2024-08-01T18:47:24.729Z"
   },
   {
    "duration": 579,
    "start_time": "2024-08-01T18:47:26.190Z"
   },
   {
    "duration": 1253,
    "start_time": "2024-08-01T18:47:26.772Z"
   },
   {
    "duration": 295,
    "start_time": "2024-08-01T18:47:28.028Z"
   },
   {
    "duration": 144,
    "start_time": "2024-08-01T18:47:28.326Z"
   },
   {
    "duration": 18,
    "start_time": "2024-08-01T18:47:28.473Z"
   },
   {
    "duration": 5548,
    "start_time": "2024-08-01T18:47:28.495Z"
   },
   {
    "duration": 6,
    "start_time": "2024-08-01T18:47:34.122Z"
   },
   {
    "duration": 5,
    "start_time": "2024-08-01T18:47:34.134Z"
   },
   {
    "duration": 1549,
    "start_time": "2024-08-01T18:49:23.083Z"
   },
   {
    "duration": 24,
    "start_time": "2024-08-01T18:49:24.636Z"
   },
   {
    "duration": 18,
    "start_time": "2024-08-01T18:49:24.663Z"
   },
   {
    "duration": 49,
    "start_time": "2024-08-01T18:49:24.686Z"
   },
   {
    "duration": 18,
    "start_time": "2024-08-01T18:49:24.737Z"
   },
   {
    "duration": 11,
    "start_time": "2024-08-01T18:49:24.759Z"
   },
   {
    "duration": 52,
    "start_time": "2024-08-01T18:49:24.773Z"
   },
   {
    "duration": 9,
    "start_time": "2024-08-01T18:49:24.829Z"
   },
   {
    "duration": 14,
    "start_time": "2024-08-01T18:49:24.841Z"
   },
   {
    "duration": 18,
    "start_time": "2024-08-01T18:49:24.861Z"
   },
   {
    "duration": 48,
    "start_time": "2024-08-01T18:49:24.881Z"
   },
   {
    "duration": 1448,
    "start_time": "2024-08-01T18:49:24.932Z"
   },
   {
    "duration": 555,
    "start_time": "2024-08-01T18:49:26.383Z"
   },
   {
    "duration": 1149,
    "start_time": "2024-08-01T18:49:26.942Z"
   },
   {
    "duration": 240,
    "start_time": "2024-08-01T18:49:28.095Z"
   },
   {
    "duration": 158,
    "start_time": "2024-08-01T18:49:28.337Z"
   },
   {
    "duration": 18,
    "start_time": "2024-08-01T18:49:28.522Z"
   },
   {
    "duration": 5697,
    "start_time": "2024-08-01T18:49:28.543Z"
   },
   {
    "duration": 7051,
    "start_time": "2024-08-01T18:49:34.243Z"
   },
   {
    "duration": 4,
    "start_time": "2024-08-01T18:49:41.298Z"
   },
   {
    "duration": 1601,
    "start_time": "2024-08-01T18:50:29.599Z"
   },
   {
    "duration": 28,
    "start_time": "2024-08-01T18:50:31.203Z"
   },
   {
    "duration": 18,
    "start_time": "2024-08-01T18:50:31.234Z"
   },
   {
    "duration": 23,
    "start_time": "2024-08-01T18:50:31.256Z"
   },
   {
    "duration": 44,
    "start_time": "2024-08-01T18:50:31.281Z"
   },
   {
    "duration": 10,
    "start_time": "2024-08-01T18:50:31.328Z"
   },
   {
    "duration": 17,
    "start_time": "2024-08-01T18:50:31.341Z"
   },
   {
    "duration": 9,
    "start_time": "2024-08-01T18:50:31.361Z"
   },
   {
    "duration": 63,
    "start_time": "2024-08-01T18:50:31.373Z"
   },
   {
    "duration": 16,
    "start_time": "2024-08-01T18:50:31.441Z"
   },
   {
    "duration": 10,
    "start_time": "2024-08-01T18:50:31.460Z"
   },
   {
    "duration": 1510,
    "start_time": "2024-08-01T18:50:31.473Z"
   },
   {
    "duration": 681,
    "start_time": "2024-08-01T18:50:32.987Z"
   },
   {
    "duration": 1213,
    "start_time": "2024-08-01T18:50:33.671Z"
   },
   {
    "duration": 250,
    "start_time": "2024-08-01T18:50:34.887Z"
   },
   {
    "duration": 155,
    "start_time": "2024-08-01T18:50:35.141Z"
   },
   {
    "duration": 20,
    "start_time": "2024-08-01T18:50:35.324Z"
   },
   {
    "duration": 5883,
    "start_time": "2024-08-01T18:50:35.347Z"
   },
   {
    "duration": 7061,
    "start_time": "2024-08-01T18:50:41.233Z"
   },
   {
    "duration": 914,
    "start_time": "2024-08-01T18:50:48.297Z"
   },
   {
    "duration": 1626,
    "start_time": "2024-08-01T18:51:36.824Z"
   },
   {
    "duration": 25,
    "start_time": "2024-08-01T18:51:38.453Z"
   },
   {
    "duration": 18,
    "start_time": "2024-08-01T18:51:38.480Z"
   },
   {
    "duration": 21,
    "start_time": "2024-08-01T18:51:38.523Z"
   },
   {
    "duration": 21,
    "start_time": "2024-08-01T18:51:38.547Z"
   },
   {
    "duration": 12,
    "start_time": "2024-08-01T18:51:38.571Z"
   },
   {
    "duration": 15,
    "start_time": "2024-08-01T18:51:38.622Z"
   },
   {
    "duration": 8,
    "start_time": "2024-08-01T18:51:38.640Z"
   },
   {
    "duration": 16,
    "start_time": "2024-08-01T18:51:38.651Z"
   },
   {
    "duration": 57,
    "start_time": "2024-08-01T18:51:38.673Z"
   },
   {
    "duration": 10,
    "start_time": "2024-08-01T18:51:38.733Z"
   },
   {
    "duration": 1493,
    "start_time": "2024-08-01T18:51:38.746Z"
   },
   {
    "duration": 581,
    "start_time": "2024-08-01T18:51:40.243Z"
   },
   {
    "duration": 1158,
    "start_time": "2024-08-01T18:51:40.828Z"
   },
   {
    "duration": 245,
    "start_time": "2024-08-01T18:51:41.989Z"
   },
   {
    "duration": 161,
    "start_time": "2024-08-01T18:51:42.237Z"
   },
   {
    "duration": 39,
    "start_time": "2024-08-01T18:51:42.401Z"
   },
   {
    "duration": 3510,
    "start_time": "2024-08-01T18:51:42.443Z"
   },
   {
    "duration": 2169,
    "start_time": "2024-08-01T18:51:45.956Z"
   },
   {
    "duration": 7037,
    "start_time": "2024-08-01T18:51:48.128Z"
   },
   {
    "duration": 1030,
    "start_time": "2024-08-01T18:51:55.168Z"
   },
   {
    "duration": 1557,
    "start_time": "2024-08-01T18:54:16.165Z"
   },
   {
    "duration": 26,
    "start_time": "2024-08-01T18:54:17.725Z"
   },
   {
    "duration": 21,
    "start_time": "2024-08-01T18:54:17.754Z"
   },
   {
    "duration": 49,
    "start_time": "2024-08-01T18:54:17.781Z"
   },
   {
    "duration": 19,
    "start_time": "2024-08-01T18:54:17.832Z"
   },
   {
    "duration": 12,
    "start_time": "2024-08-01T18:54:17.853Z"
   },
   {
    "duration": 15,
    "start_time": "2024-08-01T18:54:17.868Z"
   },
   {
    "duration": 9,
    "start_time": "2024-08-01T18:54:17.923Z"
   },
   {
    "duration": 16,
    "start_time": "2024-08-01T18:54:17.935Z"
   },
   {
    "duration": 16,
    "start_time": "2024-08-01T18:54:17.957Z"
   },
   {
    "duration": 47,
    "start_time": "2024-08-01T18:54:17.976Z"
   },
   {
    "duration": 1456,
    "start_time": "2024-08-01T18:54:18.027Z"
   },
   {
    "duration": 559,
    "start_time": "2024-08-01T18:54:19.486Z"
   },
   {
    "duration": 1168,
    "start_time": "2024-08-01T18:54:20.048Z"
   },
   {
    "duration": 228,
    "start_time": "2024-08-01T18:54:21.218Z"
   },
   {
    "duration": 145,
    "start_time": "2024-08-01T18:54:21.526Z"
   },
   {
    "duration": 18,
    "start_time": "2024-08-01T18:54:21.677Z"
   },
   {
    "duration": 3667,
    "start_time": "2024-08-01T18:54:21.698Z"
   },
   {
    "duration": 1759,
    "start_time": "2024-08-01T18:54:25.368Z"
   },
   {
    "duration": 6981,
    "start_time": "2024-08-01T18:54:27.130Z"
   },
   {
    "duration": 848,
    "start_time": "2024-08-01T18:54:34.113Z"
   },
   {
    "duration": 151,
    "start_time": "2024-08-01T18:54:34.964Z"
   },
   {
    "duration": 260,
    "start_time": "2024-08-01T18:54:44.326Z"
   },
   {
    "duration": 5489,
    "start_time": "2024-08-02T14:22:21.380Z"
   },
   {
    "duration": 43,
    "start_time": "2024-08-02T14:22:26.875Z"
   },
   {
    "duration": 19,
    "start_time": "2024-08-02T14:22:26.921Z"
   },
   {
    "duration": 22,
    "start_time": "2024-08-02T14:22:26.946Z"
   },
   {
    "duration": 18,
    "start_time": "2024-08-02T14:22:26.972Z"
   },
   {
    "duration": 12,
    "start_time": "2024-08-02T14:22:27.026Z"
   },
   {
    "duration": 16,
    "start_time": "2024-08-02T14:22:27.042Z"
   },
   {
    "duration": 10,
    "start_time": "2024-08-02T14:22:27.062Z"
   },
   {
    "duration": 57,
    "start_time": "2024-08-02T14:22:27.075Z"
   },
   {
    "duration": 19,
    "start_time": "2024-08-02T14:22:27.139Z"
   },
   {
    "duration": 11,
    "start_time": "2024-08-02T14:22:27.161Z"
   },
   {
    "duration": 1611,
    "start_time": "2024-08-02T14:22:27.176Z"
   },
   {
    "duration": 555,
    "start_time": "2024-08-02T14:22:28.791Z"
   },
   {
    "duration": 5608,
    "start_time": "2024-08-02T17:09:13.261Z"
   },
   {
    "duration": 50,
    "start_time": "2024-08-02T17:09:18.874Z"
   },
   {
    "duration": 19,
    "start_time": "2024-08-02T17:09:18.927Z"
   },
   {
    "duration": 21,
    "start_time": "2024-08-02T17:09:18.949Z"
   },
   {
    "duration": 34,
    "start_time": "2024-08-02T17:09:18.976Z"
   },
   {
    "duration": 11,
    "start_time": "2024-08-02T17:09:19.013Z"
   },
   {
    "duration": 16,
    "start_time": "2024-08-02T17:09:19.027Z"
   },
   {
    "duration": 7,
    "start_time": "2024-08-02T17:09:19.047Z"
   },
   {
    "duration": 15,
    "start_time": "2024-08-02T17:09:19.090Z"
   },
   {
    "duration": 20,
    "start_time": "2024-08-02T17:09:19.107Z"
   },
   {
    "duration": 10,
    "start_time": "2024-08-02T17:09:19.130Z"
   },
   {
    "duration": 1509,
    "start_time": "2024-08-02T17:09:19.143Z"
   },
   {
    "duration": 576,
    "start_time": "2024-08-02T17:09:20.657Z"
   },
   {
    "duration": 1122,
    "start_time": "2024-08-02T17:09:21.240Z"
   },
   {
    "duration": 444,
    "start_time": "2024-08-02T17:09:22.365Z"
   },
   {
    "duration": 499,
    "start_time": "2024-08-02T17:09:22.812Z"
   },
   {
    "duration": 0,
    "start_time": "2024-08-02T17:09:23.313Z"
   },
   {
    "duration": 0,
    "start_time": "2024-08-02T17:09:23.315Z"
   },
   {
    "duration": 0,
    "start_time": "2024-08-02T17:09:23.316Z"
   },
   {
    "duration": 0,
    "start_time": "2024-08-02T17:09:23.317Z"
   },
   {
    "duration": 0,
    "start_time": "2024-08-02T17:09:23.319Z"
   },
   {
    "duration": 0,
    "start_time": "2024-08-02T17:09:23.322Z"
   },
   {
    "duration": 0,
    "start_time": "2024-08-02T17:09:23.324Z"
   },
   {
    "duration": 1582,
    "start_time": "2024-08-02T17:11:17.342Z"
   },
   {
    "duration": 24,
    "start_time": "2024-08-02T17:11:18.929Z"
   },
   {
    "duration": 18,
    "start_time": "2024-08-02T17:11:18.956Z"
   },
   {
    "duration": 23,
    "start_time": "2024-08-02T17:11:18.996Z"
   },
   {
    "duration": 18,
    "start_time": "2024-08-02T17:11:19.022Z"
   },
   {
    "duration": 12,
    "start_time": "2024-08-02T17:11:19.043Z"
   },
   {
    "duration": 48,
    "start_time": "2024-08-02T17:11:19.058Z"
   },
   {
    "duration": 10,
    "start_time": "2024-08-02T17:11:19.109Z"
   },
   {
    "duration": 16,
    "start_time": "2024-08-02T17:11:19.125Z"
   },
   {
    "duration": 53,
    "start_time": "2024-08-02T17:11:19.148Z"
   },
   {
    "duration": 14,
    "start_time": "2024-08-02T17:11:19.203Z"
   },
   {
    "duration": 1423,
    "start_time": "2024-08-02T17:11:19.220Z"
   },
   {
    "duration": 544,
    "start_time": "2024-08-02T17:11:20.647Z"
   },
   {
    "duration": 1147,
    "start_time": "2024-08-02T17:11:21.198Z"
   },
   {
    "duration": 286,
    "start_time": "2024-08-02T17:11:22.347Z"
   },
   {
    "duration": 580,
    "start_time": "2024-08-02T17:11:22.690Z"
   },
   {
    "duration": 0,
    "start_time": "2024-08-02T17:11:23.272Z"
   },
   {
    "duration": 0,
    "start_time": "2024-08-02T17:11:23.274Z"
   },
   {
    "duration": 0,
    "start_time": "2024-08-02T17:11:23.294Z"
   },
   {
    "duration": 0,
    "start_time": "2024-08-02T17:11:23.299Z"
   },
   {
    "duration": 0,
    "start_time": "2024-08-02T17:11:23.301Z"
   },
   {
    "duration": 0,
    "start_time": "2024-08-02T17:11:23.303Z"
   },
   {
    "duration": 0,
    "start_time": "2024-08-02T17:11:23.304Z"
   },
   {
    "duration": 1617,
    "start_time": "2024-08-02T17:12:05.676Z"
   },
   {
    "duration": 30,
    "start_time": "2024-08-02T17:12:07.297Z"
   },
   {
    "duration": 27,
    "start_time": "2024-08-02T17:12:07.330Z"
   },
   {
    "duration": 52,
    "start_time": "2024-08-02T17:12:07.363Z"
   },
   {
    "duration": 17,
    "start_time": "2024-08-02T17:12:07.418Z"
   },
   {
    "duration": 10,
    "start_time": "2024-08-02T17:12:07.439Z"
   },
   {
    "duration": 18,
    "start_time": "2024-08-02T17:12:07.452Z"
   },
   {
    "duration": 8,
    "start_time": "2024-08-02T17:12:07.491Z"
   },
   {
    "duration": 22,
    "start_time": "2024-08-02T17:12:07.502Z"
   },
   {
    "duration": 19,
    "start_time": "2024-08-02T17:12:07.530Z"
   },
   {
    "duration": 54,
    "start_time": "2024-08-02T17:12:07.551Z"
   },
   {
    "duration": 1428,
    "start_time": "2024-08-02T17:12:07.617Z"
   },
   {
    "duration": 552,
    "start_time": "2024-08-02T17:12:09.049Z"
   },
   {
    "duration": 1125,
    "start_time": "2024-08-02T17:12:09.615Z"
   },
   {
    "duration": 474,
    "start_time": "2024-08-02T17:12:10.743Z"
   },
   {
    "duration": 85,
    "start_time": "2024-08-02T17:12:11.236Z"
   },
   {
    "duration": 19,
    "start_time": "2024-08-02T17:12:11.324Z"
   },
   {
    "duration": 87,
    "start_time": "2024-08-02T17:12:11.346Z"
   },
   {
    "duration": 64,
    "start_time": "2024-08-02T17:12:11.436Z"
   },
   {
    "duration": 999,
    "start_time": "2024-08-02T17:12:11.504Z"
   },
   {
    "duration": 60,
    "start_time": "2024-08-02T17:12:12.505Z"
   },
   {
    "duration": 67,
    "start_time": "2024-08-02T17:12:12.569Z"
   },
   {
    "duration": 281,
    "start_time": "2024-08-02T17:12:12.639Z"
   },
   {
    "duration": 1809,
    "start_time": "2024-08-02T17:14:33.609Z"
   },
   {
    "duration": 26,
    "start_time": "2024-08-02T17:14:35.423Z"
   },
   {
    "duration": 19,
    "start_time": "2024-08-02T17:14:35.452Z"
   },
   {
    "duration": 21,
    "start_time": "2024-08-02T17:14:35.491Z"
   },
   {
    "duration": 19,
    "start_time": "2024-08-02T17:14:35.515Z"
   },
   {
    "duration": 11,
    "start_time": "2024-08-02T17:14:35.538Z"
   },
   {
    "duration": 61,
    "start_time": "2024-08-02T17:14:35.552Z"
   },
   {
    "duration": 9,
    "start_time": "2024-08-02T17:14:35.616Z"
   },
   {
    "duration": 16,
    "start_time": "2024-08-02T17:14:35.627Z"
   },
   {
    "duration": 52,
    "start_time": "2024-08-02T17:14:35.651Z"
   },
   {
    "duration": 13,
    "start_time": "2024-08-02T17:14:35.713Z"
   },
   {
    "duration": 1484,
    "start_time": "2024-08-02T17:14:35.729Z"
   },
   {
    "duration": 602,
    "start_time": "2024-08-02T17:14:37.217Z"
   },
   {
    "duration": 1178,
    "start_time": "2024-08-02T17:14:37.823Z"
   },
   {
    "duration": 316,
    "start_time": "2024-08-02T17:14:39.019Z"
   },
   {
    "duration": 37,
    "start_time": "2024-08-02T17:14:39.394Z"
   },
   {
    "duration": 59,
    "start_time": "2024-08-02T17:14:39.434Z"
   },
   {
    "duration": 40,
    "start_time": "2024-08-02T17:14:39.496Z"
   },
   {
    "duration": 353,
    "start_time": "2024-08-02T17:14:39.539Z"
   },
   {
    "duration": 1052,
    "start_time": "2024-08-02T17:14:39.895Z"
   },
   {
    "duration": 68,
    "start_time": "2024-08-02T17:14:40.951Z"
   },
   {
    "duration": 53,
    "start_time": "2024-08-02T17:14:41.022Z"
   },
   {
    "duration": 293,
    "start_time": "2024-08-02T17:14:41.091Z"
   },
   {
    "duration": 1595,
    "start_time": "2024-08-02T17:15:17.672Z"
   },
   {
    "duration": 46,
    "start_time": "2024-08-02T17:15:19.272Z"
   },
   {
    "duration": 19,
    "start_time": "2024-08-02T17:15:19.321Z"
   },
   {
    "duration": 23,
    "start_time": "2024-08-02T17:15:19.343Z"
   },
   {
    "duration": 36,
    "start_time": "2024-08-02T17:15:19.371Z"
   },
   {
    "duration": 17,
    "start_time": "2024-08-02T17:15:19.409Z"
   },
   {
    "duration": 20,
    "start_time": "2024-08-02T17:15:19.429Z"
   },
   {
    "duration": 8,
    "start_time": "2024-08-02T17:15:19.453Z"
   },
   {
    "duration": 13,
    "start_time": "2024-08-02T17:15:19.491Z"
   },
   {
    "duration": 26,
    "start_time": "2024-08-02T17:15:19.508Z"
   },
   {
    "duration": 10,
    "start_time": "2024-08-02T17:15:19.537Z"
   },
   {
    "duration": 1489,
    "start_time": "2024-08-02T17:15:19.550Z"
   },
   {
    "duration": 572,
    "start_time": "2024-08-02T17:15:21.043Z"
   },
   {
    "duration": 1158,
    "start_time": "2024-08-02T17:15:21.620Z"
   },
   {
    "duration": 357,
    "start_time": "2024-08-02T17:15:22.781Z"
   },
   {
    "duration": 29,
    "start_time": "2024-08-02T17:15:23.190Z"
   },
   {
    "duration": 78,
    "start_time": "2024-08-02T17:15:23.222Z"
   },
   {
    "duration": 38,
    "start_time": "2024-08-02T17:15:23.307Z"
   },
   {
    "duration": 75,
    "start_time": "2024-08-02T17:15:23.348Z"
   },
   {
    "duration": 1012,
    "start_time": "2024-08-02T17:15:23.426Z"
   },
   {
    "duration": 64,
    "start_time": "2024-08-02T17:15:24.441Z"
   },
   {
    "duration": 53,
    "start_time": "2024-08-02T17:15:24.507Z"
   },
   {
    "duration": 292,
    "start_time": "2024-08-02T17:15:24.564Z"
   },
   {
    "duration": 1621,
    "start_time": "2024-08-02T17:17:06.684Z"
   },
   {
    "duration": 27,
    "start_time": "2024-08-02T17:17:08.308Z"
   },
   {
    "duration": 17,
    "start_time": "2024-08-02T17:17:08.338Z"
   },
   {
    "duration": 39,
    "start_time": "2024-08-02T17:17:08.359Z"
   },
   {
    "duration": 22,
    "start_time": "2024-08-02T17:17:08.400Z"
   },
   {
    "duration": 11,
    "start_time": "2024-08-02T17:17:08.425Z"
   },
   {
    "duration": 16,
    "start_time": "2024-08-02T17:17:08.441Z"
   },
   {
    "duration": 32,
    "start_time": "2024-08-02T17:17:08.461Z"
   },
   {
    "duration": 28,
    "start_time": "2024-08-02T17:17:08.497Z"
   },
   {
    "duration": 20,
    "start_time": "2024-08-02T17:17:08.530Z"
   },
   {
    "duration": 45,
    "start_time": "2024-08-02T17:17:08.554Z"
   },
   {
    "duration": 1534,
    "start_time": "2024-08-02T17:17:08.609Z"
   },
   {
    "duration": 574,
    "start_time": "2024-08-02T17:17:10.146Z"
   },
   {
    "duration": 1135,
    "start_time": "2024-08-02T17:17:10.723Z"
   },
   {
    "duration": 460,
    "start_time": "2024-08-02T17:17:11.861Z"
   },
   {
    "duration": 80,
    "start_time": "2024-08-02T17:17:12.329Z"
   },
   {
    "duration": 18,
    "start_time": "2024-08-02T17:17:12.411Z"
   },
   {
    "duration": 61,
    "start_time": "2024-08-02T17:17:12.432Z"
   },
   {
    "duration": 105,
    "start_time": "2024-08-02T17:17:12.496Z"
   },
   {
    "duration": 1009,
    "start_time": "2024-08-02T17:17:12.605Z"
   },
   {
    "duration": 55,
    "start_time": "2024-08-02T17:17:13.622Z"
   },
   {
    "duration": 63,
    "start_time": "2024-08-02T17:17:13.681Z"
   },
   {
    "duration": 280,
    "start_time": "2024-08-02T17:17:13.748Z"
   },
   {
    "duration": 114,
    "start_time": "2024-08-02T17:18:21.657Z"
   },
   {
    "duration": 19,
    "start_time": "2024-08-02T17:19:01.214Z"
   },
   {
    "duration": 1743,
    "start_time": "2024-08-02T17:23:10.842Z"
   },
   {
    "duration": 58,
    "start_time": "2024-08-02T17:23:12.589Z"
   },
   {
    "duration": 21,
    "start_time": "2024-08-02T17:23:12.650Z"
   },
   {
    "duration": 39,
    "start_time": "2024-08-02T17:23:12.675Z"
   },
   {
    "duration": 39,
    "start_time": "2024-08-02T17:23:12.717Z"
   },
   {
    "duration": 14,
    "start_time": "2024-08-02T17:23:12.760Z"
   },
   {
    "duration": 23,
    "start_time": "2024-08-02T17:23:12.778Z"
   },
   {
    "duration": 19,
    "start_time": "2024-08-02T17:23:12.803Z"
   },
   {
    "duration": 28,
    "start_time": "2024-08-02T17:23:12.827Z"
   },
   {
    "duration": 21,
    "start_time": "2024-08-02T17:23:12.861Z"
   },
   {
    "duration": 14,
    "start_time": "2024-08-02T17:23:12.889Z"
   },
   {
    "duration": 1338,
    "start_time": "2024-08-02T17:23:12.905Z"
   },
   {
    "duration": 556,
    "start_time": "2024-08-02T17:23:14.247Z"
   },
   {
    "duration": 1133,
    "start_time": "2024-08-02T17:23:14.810Z"
   },
   {
    "duration": 676,
    "start_time": "2024-08-02T17:23:15.947Z"
   },
   {
    "duration": 149,
    "start_time": "2024-08-02T17:23:16.639Z"
   },
   {
    "duration": 26,
    "start_time": "2024-08-02T17:23:16.799Z"
   },
   {
    "duration": 3645,
    "start_time": "2024-08-02T17:23:16.827Z"
   },
   {
    "duration": 2635,
    "start_time": "2024-08-02T17:23:20.475Z"
   },
   {
    "duration": 7579,
    "start_time": "2024-08-02T17:23:23.122Z"
   },
   {
    "duration": 1158,
    "start_time": "2024-08-02T17:23:30.711Z"
   },
   {
    "duration": 158,
    "start_time": "2024-08-02T17:23:31.875Z"
   },
   {
    "duration": 292,
    "start_time": "2024-08-02T17:23:32.036Z"
   },
   {
    "duration": 1674,
    "start_time": "2024-08-02T17:24:11.131Z"
   },
   {
    "duration": 35,
    "start_time": "2024-08-02T17:24:12.810Z"
   },
   {
    "duration": 18,
    "start_time": "2024-08-02T17:24:12.848Z"
   },
   {
    "duration": 34,
    "start_time": "2024-08-02T17:24:12.872Z"
   },
   {
    "duration": 18,
    "start_time": "2024-08-02T17:24:12.910Z"
   },
   {
    "duration": 12,
    "start_time": "2024-08-02T17:24:12.931Z"
   },
   {
    "duration": 52,
    "start_time": "2024-08-02T17:24:12.948Z"
   },
   {
    "duration": 10,
    "start_time": "2024-08-02T17:24:13.003Z"
   },
   {
    "duration": 19,
    "start_time": "2024-08-02T17:24:13.016Z"
   },
   {
    "duration": 18,
    "start_time": "2024-08-02T17:24:13.041Z"
   },
   {
    "duration": 15,
    "start_time": "2024-08-02T17:24:13.090Z"
   },
   {
    "duration": 1444,
    "start_time": "2024-08-02T17:24:13.107Z"
   },
   {
    "duration": 566,
    "start_time": "2024-08-02T17:24:14.555Z"
   },
   {
    "duration": 1131,
    "start_time": "2024-08-02T17:24:15.131Z"
   },
   {
    "duration": 436,
    "start_time": "2024-08-02T17:24:16.266Z"
   },
   {
    "duration": 178,
    "start_time": "2024-08-02T17:24:16.704Z"
   },
   {
    "duration": 24,
    "start_time": "2024-08-02T17:24:16.885Z"
   },
   {
    "duration": 3591,
    "start_time": "2024-08-02T17:24:16.912Z"
   },
   {
    "duration": 2925,
    "start_time": "2024-08-02T17:24:20.507Z"
   },
   {
    "duration": 7457,
    "start_time": "2024-08-02T17:24:23.492Z"
   },
   {
    "duration": 1136,
    "start_time": "2024-08-02T17:24:30.952Z"
   },
   {
    "duration": 158,
    "start_time": "2024-08-02T17:24:32.093Z"
   },
   {
    "duration": 302,
    "start_time": "2024-08-02T17:24:32.254Z"
   },
   {
    "duration": 1615,
    "start_time": "2024-08-02T17:25:52.363Z"
   },
   {
    "duration": 40,
    "start_time": "2024-08-02T17:25:53.982Z"
   },
   {
    "duration": 19,
    "start_time": "2024-08-02T17:25:54.025Z"
   },
   {
    "duration": 23,
    "start_time": "2024-08-02T17:25:54.047Z"
   },
   {
    "duration": 26,
    "start_time": "2024-08-02T17:25:54.091Z"
   },
   {
    "duration": 12,
    "start_time": "2024-08-02T17:25:54.119Z"
   },
   {
    "duration": 17,
    "start_time": "2024-08-02T17:25:54.134Z"
   },
   {
    "duration": 5,
    "start_time": "2024-08-02T17:25:54.154Z"
   },
   {
    "duration": 54,
    "start_time": "2024-08-02T17:25:54.162Z"
   },
   {
    "duration": 17,
    "start_time": "2024-08-02T17:25:54.219Z"
   },
   {
    "duration": 11,
    "start_time": "2024-08-02T17:25:54.240Z"
   },
   {
    "duration": 1489,
    "start_time": "2024-08-02T17:25:54.254Z"
   },
   {
    "duration": 572,
    "start_time": "2024-08-02T17:25:55.746Z"
   },
   {
    "duration": 1131,
    "start_time": "2024-08-02T17:25:56.326Z"
   },
   {
    "duration": 370,
    "start_time": "2024-08-02T17:25:57.460Z"
   },
   {
    "duration": 188,
    "start_time": "2024-08-02T17:25:57.832Z"
   },
   {
    "duration": 18,
    "start_time": "2024-08-02T17:25:58.022Z"
   },
   {
    "duration": 3763,
    "start_time": "2024-08-02T17:25:58.043Z"
   },
   {
    "duration": 929,
    "start_time": "2024-08-02T17:26:01.810Z"
   },
   {
    "duration": 0,
    "start_time": "2024-08-02T17:26:02.742Z"
   },
   {
    "duration": 0,
    "start_time": "2024-08-02T17:26:02.744Z"
   },
   {
    "duration": 0,
    "start_time": "2024-08-02T17:26:02.746Z"
   },
   {
    "duration": 0,
    "start_time": "2024-08-02T17:26:02.748Z"
   },
   {
    "duration": 1583,
    "start_time": "2024-08-02T17:29:42.579Z"
   },
   {
    "duration": 52,
    "start_time": "2024-08-02T17:29:44.166Z"
   },
   {
    "duration": 19,
    "start_time": "2024-08-02T17:29:44.221Z"
   },
   {
    "duration": 22,
    "start_time": "2024-08-02T17:29:44.243Z"
   },
   {
    "duration": 33,
    "start_time": "2024-08-02T17:29:44.269Z"
   },
   {
    "duration": 10,
    "start_time": "2024-08-02T17:29:44.304Z"
   },
   {
    "duration": 16,
    "start_time": "2024-08-02T17:29:44.317Z"
   },
   {
    "duration": 6,
    "start_time": "2024-08-02T17:29:44.335Z"
   },
   {
    "duration": 16,
    "start_time": "2024-08-02T17:29:44.344Z"
   },
   {
    "duration": 18,
    "start_time": "2024-08-02T17:29:44.392Z"
   },
   {
    "duration": 9,
    "start_time": "2024-08-02T17:29:44.413Z"
   },
   {
    "duration": 1414,
    "start_time": "2024-08-02T17:29:44.425Z"
   },
   {
    "duration": 550,
    "start_time": "2024-08-02T17:29:45.843Z"
   },
   {
    "duration": 1157,
    "start_time": "2024-08-02T17:29:46.399Z"
   },
   {
    "duration": 432,
    "start_time": "2024-08-02T17:29:47.559Z"
   },
   {
    "duration": 223,
    "start_time": "2024-08-02T17:29:47.994Z"
   },
   {
    "duration": 18,
    "start_time": "2024-08-02T17:29:48.220Z"
   },
   {
    "duration": 3593,
    "start_time": "2024-08-02T17:29:48.243Z"
   },
   {
    "duration": 3060,
    "start_time": "2024-08-02T17:29:51.841Z"
   },
   {
    "duration": 7286,
    "start_time": "2024-08-02T17:29:54.916Z"
   },
   {
    "duration": 1177,
    "start_time": "2024-08-02T17:30:02.205Z"
   },
   {
    "duration": 155,
    "start_time": "2024-08-02T17:30:03.385Z"
   },
   {
    "duration": 286,
    "start_time": "2024-08-02T17:30:03.543Z"
   },
   {
    "duration": 5175,
    "start_time": "2024-08-03T18:58:51.915Z"
   },
   {
    "duration": 44,
    "start_time": "2024-08-03T18:58:57.094Z"
   },
   {
    "duration": 18,
    "start_time": "2024-08-03T18:58:57.141Z"
   },
   {
    "duration": 35,
    "start_time": "2024-08-03T18:58:57.163Z"
   },
   {
    "duration": 18,
    "start_time": "2024-08-03T18:58:57.201Z"
   },
   {
    "duration": 12,
    "start_time": "2024-08-03T18:58:57.222Z"
   },
   {
    "duration": 53,
    "start_time": "2024-08-03T18:58:57.237Z"
   },
   {
    "duration": 7,
    "start_time": "2024-08-03T18:58:57.293Z"
   },
   {
    "duration": 16,
    "start_time": "2024-08-03T18:58:57.302Z"
   },
   {
    "duration": 20,
    "start_time": "2024-08-03T18:58:57.323Z"
   },
   {
    "duration": 52,
    "start_time": "2024-08-03T18:58:57.346Z"
   },
   {
    "duration": 1574,
    "start_time": "2024-08-03T18:58:57.401Z"
   },
   {
    "duration": 603,
    "start_time": "2024-08-03T18:58:58.979Z"
   },
   {
    "duration": 1163,
    "start_time": "2024-08-03T18:58:59.591Z"
   },
   {
    "duration": 247,
    "start_time": "2024-08-03T18:59:00.757Z"
   },
   {
    "duration": 212,
    "start_time": "2024-08-03T18:59:01.006Z"
   },
   {
    "duration": 19,
    "start_time": "2024-08-03T18:59:01.221Z"
   },
   {
    "duration": 3577,
    "start_time": "2024-08-03T18:59:01.244Z"
   },
   {
    "duration": 1218,
    "start_time": "2024-08-03T18:59:04.825Z"
   },
   {
    "duration": 0,
    "start_time": "2024-08-03T18:59:06.047Z"
   },
   {
    "duration": 0,
    "start_time": "2024-08-03T18:59:06.048Z"
   },
   {
    "duration": 0,
    "start_time": "2024-08-03T18:59:06.050Z"
   },
   {
    "duration": 0,
    "start_time": "2024-08-03T18:59:06.053Z"
   },
   {
    "duration": 0,
    "start_time": "2024-08-03T18:59:06.055Z"
   },
   {
    "duration": 1578,
    "start_time": "2024-08-03T18:59:41.107Z"
   },
   {
    "duration": 26,
    "start_time": "2024-08-03T18:59:42.690Z"
   },
   {
    "duration": 18,
    "start_time": "2024-08-03T18:59:42.719Z"
   },
   {
    "duration": 61,
    "start_time": "2024-08-03T18:59:42.742Z"
   },
   {
    "duration": 20,
    "start_time": "2024-08-03T18:59:42.806Z"
   },
   {
    "duration": 12,
    "start_time": "2024-08-03T18:59:42.829Z"
   },
   {
    "duration": 49,
    "start_time": "2024-08-03T18:59:42.844Z"
   },
   {
    "duration": 8,
    "start_time": "2024-08-03T18:59:42.898Z"
   },
   {
    "duration": 15,
    "start_time": "2024-08-03T18:59:42.910Z"
   },
   {
    "duration": 62,
    "start_time": "2024-08-03T18:59:42.931Z"
   },
   {
    "duration": 10,
    "start_time": "2024-08-03T18:59:42.996Z"
   },
   {
    "duration": 1438,
    "start_time": "2024-08-03T18:59:43.009Z"
   },
   {
    "duration": 568,
    "start_time": "2024-08-03T18:59:44.450Z"
   },
   {
    "duration": 1138,
    "start_time": "2024-08-03T18:59:45.021Z"
   },
   {
    "duration": 237,
    "start_time": "2024-08-03T18:59:46.161Z"
   },
   {
    "duration": 156,
    "start_time": "2024-08-03T18:59:46.400Z"
   },
   {
    "duration": 19,
    "start_time": "2024-08-03T18:59:46.559Z"
   },
   {
    "duration": 3549,
    "start_time": "2024-08-03T18:59:46.581Z"
   },
   {
    "duration": 523,
    "start_time": "2024-08-03T18:59:50.133Z"
   },
   {
    "duration": 0,
    "start_time": "2024-08-03T18:59:50.660Z"
   },
   {
    "duration": 0,
    "start_time": "2024-08-03T18:59:50.663Z"
   },
   {
    "duration": 0,
    "start_time": "2024-08-03T18:59:50.667Z"
   },
   {
    "duration": 0,
    "start_time": "2024-08-03T18:59:50.670Z"
   },
   {
    "duration": 1644,
    "start_time": "2024-08-03T19:00:41.934Z"
   },
   {
    "duration": 27,
    "start_time": "2024-08-03T19:00:43.582Z"
   },
   {
    "duration": 17,
    "start_time": "2024-08-03T19:00:43.612Z"
   },
   {
    "duration": 24,
    "start_time": "2024-08-03T19:00:43.635Z"
   },
   {
    "duration": 24,
    "start_time": "2024-08-03T19:00:43.690Z"
   },
   {
    "duration": 13,
    "start_time": "2024-08-03T19:00:43.718Z"
   },
   {
    "duration": 58,
    "start_time": "2024-08-03T19:00:43.734Z"
   },
   {
    "duration": 6,
    "start_time": "2024-08-03T19:00:43.795Z"
   },
   {
    "duration": 19,
    "start_time": "2024-08-03T19:00:43.805Z"
   },
   {
    "duration": 27,
    "start_time": "2024-08-03T19:00:43.829Z"
   },
   {
    "duration": 10,
    "start_time": "2024-08-03T19:00:43.892Z"
   },
   {
    "duration": 1466,
    "start_time": "2024-08-03T19:00:43.905Z"
   },
   {
    "duration": 586,
    "start_time": "2024-08-03T19:00:45.374Z"
   },
   {
    "duration": 1190,
    "start_time": "2024-08-03T19:00:45.963Z"
   },
   {
    "duration": 246,
    "start_time": "2024-08-03T19:00:47.156Z"
   },
   {
    "duration": 185,
    "start_time": "2024-08-03T19:00:47.405Z"
   },
   {
    "duration": 19,
    "start_time": "2024-08-03T19:00:47.593Z"
   },
   {
    "duration": 3550,
    "start_time": "2024-08-03T19:00:47.615Z"
   },
   {
    "duration": 3238,
    "start_time": "2024-08-03T19:00:51.169Z"
   },
   {
    "duration": 7092,
    "start_time": "2024-08-03T19:00:54.489Z"
   },
   {
    "duration": 1151,
    "start_time": "2024-08-03T19:01:01.592Z"
   },
   {
    "duration": 159,
    "start_time": "2024-08-03T19:01:02.746Z"
   },
   {
    "duration": 283,
    "start_time": "2024-08-03T19:01:02.908Z"
   },
   {
    "duration": 23,
    "start_time": "2024-08-03T19:06:53.542Z"
   },
   {
    "duration": 4579,
    "start_time": "2024-08-03T19:08:13.818Z"
   },
   {
    "duration": 4632,
    "start_time": "2024-08-03T19:08:50.883Z"
   },
   {
    "duration": 1677,
    "start_time": "2024-08-03T19:09:26.631Z"
   },
   {
    "duration": 28,
    "start_time": "2024-08-03T19:09:28.312Z"
   },
   {
    "duration": 20,
    "start_time": "2024-08-03T19:09:28.344Z"
   },
   {
    "duration": 25,
    "start_time": "2024-08-03T19:09:28.390Z"
   },
   {
    "duration": 20,
    "start_time": "2024-08-03T19:09:28.420Z"
   },
   {
    "duration": 47,
    "start_time": "2024-08-03T19:09:28.444Z"
   },
   {
    "duration": 17,
    "start_time": "2024-08-03T19:09:28.494Z"
   },
   {
    "duration": 5,
    "start_time": "2024-08-03T19:09:28.514Z"
   },
   {
    "duration": 20,
    "start_time": "2024-08-03T19:09:28.523Z"
   },
   {
    "duration": 58,
    "start_time": "2024-08-03T19:09:28.546Z"
   },
   {
    "duration": 11,
    "start_time": "2024-08-03T19:09:28.608Z"
   },
   {
    "duration": 1536,
    "start_time": "2024-08-03T19:09:28.623Z"
   },
   {
    "duration": 594,
    "start_time": "2024-08-03T19:09:30.163Z"
   },
   {
    "duration": 1229,
    "start_time": "2024-08-03T19:09:30.765Z"
   },
   {
    "duration": 292,
    "start_time": "2024-08-03T19:09:31.999Z"
   },
   {
    "duration": 99,
    "start_time": "2024-08-03T19:09:32.294Z"
   },
   {
    "duration": 4663,
    "start_time": "2024-08-03T19:09:32.397Z"
   },
   {
    "duration": 3443,
    "start_time": "2024-08-03T19:09:37.064Z"
   },
   {
    "duration": 98,
    "start_time": "2024-08-03T19:09:40.511Z"
   },
   {
    "duration": 7747,
    "start_time": "2024-08-03T19:09:40.612Z"
   },
   {
    "duration": 1110,
    "start_time": "2024-08-03T19:09:48.362Z"
   },
   {
    "duration": 160,
    "start_time": "2024-08-03T19:09:49.475Z"
   },
   {
    "duration": 353,
    "start_time": "2024-08-03T19:09:49.638Z"
   },
   {
    "duration": 1624,
    "start_time": "2024-08-03T19:12:08.850Z"
   },
   {
    "duration": 29,
    "start_time": "2024-08-03T19:12:10.478Z"
   },
   {
    "duration": 18,
    "start_time": "2024-08-03T19:12:10.510Z"
   },
   {
    "duration": 23,
    "start_time": "2024-08-03T19:12:10.532Z"
   },
   {
    "duration": 49,
    "start_time": "2024-08-03T19:12:10.558Z"
   },
   {
    "duration": 12,
    "start_time": "2024-08-03T19:12:10.610Z"
   },
   {
    "duration": 16,
    "start_time": "2024-08-03T19:12:10.625Z"
   },
   {
    "duration": 5,
    "start_time": "2024-08-03T19:12:10.643Z"
   },
   {
    "duration": 55,
    "start_time": "2024-08-03T19:12:10.651Z"
   },
   {
    "duration": 19,
    "start_time": "2024-08-03T19:12:10.712Z"
   },
   {
    "duration": 10,
    "start_time": "2024-08-03T19:12:10.733Z"
   },
   {
    "duration": 1521,
    "start_time": "2024-08-03T19:12:10.746Z"
   },
   {
    "duration": 625,
    "start_time": "2024-08-03T19:12:12.270Z"
   },
   {
    "duration": 1171,
    "start_time": "2024-08-03T19:12:12.899Z"
   },
   {
    "duration": 236,
    "start_time": "2024-08-03T19:12:14.074Z"
   },
   {
    "duration": 101,
    "start_time": "2024-08-03T19:12:14.312Z"
   },
   {
    "duration": 4712,
    "start_time": "2024-08-03T19:12:14.492Z"
   },
   {
    "duration": 3791,
    "start_time": "2024-08-03T19:12:19.208Z"
   },
   {
    "duration": 119,
    "start_time": "2024-08-03T19:12:23.002Z"
   },
   {
    "duration": 8272,
    "start_time": "2024-08-03T19:12:23.125Z"
   },
   {
    "duration": 191,
    "start_time": "2024-08-03T19:12:31.400Z"
   },
   {
    "duration": 1178,
    "start_time": "2024-08-03T19:12:31.594Z"
   },
   {
    "duration": 568,
    "start_time": "2024-08-03T19:12:32.776Z"
   },
   {
    "duration": 0,
    "start_time": "2024-08-03T19:12:33.348Z"
   },
   {
    "duration": 1706,
    "start_time": "2024-08-03T19:23:32.202Z"
   },
   {
    "duration": 25,
    "start_time": "2024-08-03T19:23:33.913Z"
   },
   {
    "duration": 19,
    "start_time": "2024-08-03T19:23:33.941Z"
   },
   {
    "duration": 47,
    "start_time": "2024-08-03T19:23:33.963Z"
   },
   {
    "duration": 18,
    "start_time": "2024-08-03T19:23:34.014Z"
   },
   {
    "duration": 13,
    "start_time": "2024-08-03T19:23:34.035Z"
   },
   {
    "duration": 52,
    "start_time": "2024-08-03T19:23:34.051Z"
   },
   {
    "duration": 5,
    "start_time": "2024-08-03T19:23:34.107Z"
   },
   {
    "duration": 15,
    "start_time": "2024-08-03T19:23:34.115Z"
   },
   {
    "duration": 58,
    "start_time": "2024-08-03T19:23:34.133Z"
   },
   {
    "duration": 10,
    "start_time": "2024-08-03T19:23:34.194Z"
   },
   {
    "duration": 1436,
    "start_time": "2024-08-03T19:23:34.207Z"
   },
   {
    "duration": 560,
    "start_time": "2024-08-03T19:23:35.646Z"
   },
   {
    "duration": 1132,
    "start_time": "2024-08-03T19:23:36.212Z"
   },
   {
    "duration": 254,
    "start_time": "2024-08-03T19:23:37.348Z"
   },
   {
    "duration": 96,
    "start_time": "2024-08-03T19:23:37.605Z"
   },
   {
    "duration": 4729,
    "start_time": "2024-08-03T19:23:37.704Z"
   },
   {
    "duration": 3670,
    "start_time": "2024-08-03T19:23:42.435Z"
   },
   {
    "duration": 104,
    "start_time": "2024-08-03T19:23:46.108Z"
   },
   {
    "duration": 7768,
    "start_time": "2024-08-03T19:23:46.215Z"
   },
   {
    "duration": 158,
    "start_time": "2024-08-03T19:23:53.991Z"
   },
   {
    "duration": 528,
    "start_time": "2024-08-03T19:23:54.152Z"
   },
   {
    "duration": 0,
    "start_time": "2024-08-03T19:23:54.683Z"
   },
   {
    "duration": 0,
    "start_time": "2024-08-03T19:23:54.685Z"
   },
   {
    "duration": 0,
    "start_time": "2024-08-03T19:23:54.692Z"
   },
   {
    "duration": 0,
    "start_time": "2024-08-03T19:23:54.694Z"
   },
   {
    "duration": 1679,
    "start_time": "2024-08-03T19:26:14.582Z"
   },
   {
    "duration": 33,
    "start_time": "2024-08-03T19:26:16.264Z"
   },
   {
    "duration": 17,
    "start_time": "2024-08-03T19:26:16.300Z"
   },
   {
    "duration": 23,
    "start_time": "2024-08-03T19:26:16.321Z"
   },
   {
    "duration": 51,
    "start_time": "2024-08-03T19:26:16.347Z"
   },
   {
    "duration": 11,
    "start_time": "2024-08-03T19:26:16.406Z"
   },
   {
    "duration": 15,
    "start_time": "2024-08-03T19:26:16.423Z"
   },
   {
    "duration": 7,
    "start_time": "2024-08-03T19:26:16.441Z"
   },
   {
    "duration": 51,
    "start_time": "2024-08-03T19:26:16.450Z"
   },
   {
    "duration": 17,
    "start_time": "2024-08-03T19:26:16.507Z"
   },
   {
    "duration": 10,
    "start_time": "2024-08-03T19:26:16.527Z"
   },
   {
    "duration": 1519,
    "start_time": "2024-08-03T19:26:16.540Z"
   },
   {
    "duration": 581,
    "start_time": "2024-08-03T19:26:18.062Z"
   },
   {
    "duration": 1209,
    "start_time": "2024-08-03T19:26:18.646Z"
   },
   {
    "duration": 252,
    "start_time": "2024-08-03T19:26:19.858Z"
   },
   {
    "duration": 99,
    "start_time": "2024-08-03T19:26:20.114Z"
   },
   {
    "duration": 4661,
    "start_time": "2024-08-03T19:26:20.292Z"
   },
   {
    "duration": 3737,
    "start_time": "2024-08-03T19:26:24.957Z"
   },
   {
    "duration": 103,
    "start_time": "2024-08-03T19:26:28.703Z"
   },
   {
    "duration": 7835,
    "start_time": "2024-08-03T19:26:28.889Z"
   },
   {
    "duration": 182,
    "start_time": "2024-08-03T19:26:36.728Z"
   },
   {
    "duration": 542,
    "start_time": "2024-08-03T19:26:36.914Z"
   },
   {
    "duration": 0,
    "start_time": "2024-08-03T19:26:37.459Z"
   },
   {
    "duration": 0,
    "start_time": "2024-08-03T19:26:37.462Z"
   },
   {
    "duration": 0,
    "start_time": "2024-08-03T19:26:37.464Z"
   },
   {
    "duration": 0,
    "start_time": "2024-08-03T19:26:37.467Z"
   },
   {
    "duration": 0,
    "start_time": "2024-08-03T19:26:37.469Z"
   },
   {
    "duration": 32,
    "start_time": "2024-08-03T19:31:45.653Z"
   },
   {
    "duration": 27,
    "start_time": "2024-08-03T19:31:59.859Z"
   },
   {
    "duration": 1545,
    "start_time": "2024-08-03T19:32:06.838Z"
   },
   {
    "duration": 25,
    "start_time": "2024-08-03T19:32:08.390Z"
   },
   {
    "duration": 18,
    "start_time": "2024-08-03T19:32:08.418Z"
   },
   {
    "duration": 51,
    "start_time": "2024-08-03T19:32:08.442Z"
   },
   {
    "duration": 21,
    "start_time": "2024-08-03T19:32:08.495Z"
   },
   {
    "duration": 11,
    "start_time": "2024-08-03T19:32:08.519Z"
   },
   {
    "duration": 16,
    "start_time": "2024-08-03T19:32:08.533Z"
   },
   {
    "duration": 42,
    "start_time": "2024-08-03T19:32:08.551Z"
   },
   {
    "duration": 15,
    "start_time": "2024-08-03T19:32:08.597Z"
   },
   {
    "duration": 24,
    "start_time": "2024-08-03T19:32:08.621Z"
   },
   {
    "duration": 47,
    "start_time": "2024-08-03T19:32:08.648Z"
   },
   {
    "duration": 1461,
    "start_time": "2024-08-03T19:32:08.698Z"
   },
   {
    "duration": 582,
    "start_time": "2024-08-03T19:32:10.163Z"
   },
   {
    "duration": 1218,
    "start_time": "2024-08-03T19:32:10.748Z"
   },
   {
    "duration": 239,
    "start_time": "2024-08-03T19:32:11.969Z"
   },
   {
    "duration": 98,
    "start_time": "2024-08-03T19:32:12.210Z"
   },
   {
    "duration": 4747,
    "start_time": "2024-08-03T19:32:12.311Z"
   },
   {
    "duration": 3830,
    "start_time": "2024-08-03T19:32:17.061Z"
   },
   {
    "duration": 96,
    "start_time": "2024-08-03T19:32:20.895Z"
   },
   {
    "duration": 8358,
    "start_time": "2024-08-03T19:32:20.994Z"
   },
   {
    "duration": 185,
    "start_time": "2024-08-03T19:32:29.356Z"
   },
   {
    "duration": 577,
    "start_time": "2024-08-03T19:32:29.545Z"
   },
   {
    "duration": 0,
    "start_time": "2024-08-03T19:32:30.125Z"
   },
   {
    "duration": 0,
    "start_time": "2024-08-03T19:32:30.129Z"
   },
   {
    "duration": 0,
    "start_time": "2024-08-03T19:32:30.133Z"
   },
   {
    "duration": 1597,
    "start_time": "2024-08-03T19:33:50.370Z"
   },
   {
    "duration": 33,
    "start_time": "2024-08-03T19:33:51.970Z"
   },
   {
    "duration": 18,
    "start_time": "2024-08-03T19:33:52.005Z"
   },
   {
    "duration": 23,
    "start_time": "2024-08-03T19:33:52.028Z"
   },
   {
    "duration": 47,
    "start_time": "2024-08-03T19:33:52.054Z"
   },
   {
    "duration": 11,
    "start_time": "2024-08-03T19:33:52.104Z"
   },
   {
    "duration": 16,
    "start_time": "2024-08-03T19:33:52.117Z"
   },
   {
    "duration": 7,
    "start_time": "2024-08-03T19:33:52.136Z"
   },
   {
    "duration": 58,
    "start_time": "2024-08-03T19:33:52.145Z"
   },
   {
    "duration": 20,
    "start_time": "2024-08-03T19:33:52.208Z"
   },
   {
    "duration": 14,
    "start_time": "2024-08-03T19:33:52.231Z"
   },
   {
    "duration": 1526,
    "start_time": "2024-08-03T19:33:52.249Z"
   },
   {
    "duration": 593,
    "start_time": "2024-08-03T19:33:53.779Z"
   },
   {
    "duration": 1183,
    "start_time": "2024-08-03T19:33:54.375Z"
   },
   {
    "duration": 242,
    "start_time": "2024-08-03T19:33:55.561Z"
   },
   {
    "duration": 100,
    "start_time": "2024-08-03T19:33:55.805Z"
   },
   {
    "duration": 4724,
    "start_time": "2024-08-03T19:33:55.907Z"
   },
   {
    "duration": 3858,
    "start_time": "2024-08-03T19:34:00.635Z"
   },
   {
    "duration": 96,
    "start_time": "2024-08-03T19:34:04.496Z"
   },
   {
    "duration": 7782,
    "start_time": "2024-08-03T19:34:04.595Z"
   },
   {
    "duration": 181,
    "start_time": "2024-08-03T19:34:12.380Z"
   },
   {
    "duration": 165,
    "start_time": "2024-08-03T19:34:12.564Z"
   },
   {
    "duration": 1373,
    "start_time": "2024-08-03T19:34:12.732Z"
   },
   {
    "duration": 546,
    "start_time": "2024-08-03T19:34:14.108Z"
   },
   {
    "duration": 0,
    "start_time": "2024-08-03T19:34:14.657Z"
   },
   {
    "duration": 619,
    "start_time": "2024-08-03T19:34:40.803Z"
   },
   {
    "duration": 43,
    "start_time": "2024-08-03T19:34:55.065Z"
   },
   {
    "duration": 1607,
    "start_time": "2024-08-03T19:35:08.678Z"
   },
   {
    "duration": 26,
    "start_time": "2024-08-03T19:35:10.291Z"
   },
   {
    "duration": 20,
    "start_time": "2024-08-03T19:35:10.319Z"
   },
   {
    "duration": 49,
    "start_time": "2024-08-03T19:35:10.343Z"
   },
   {
    "duration": 18,
    "start_time": "2024-08-03T19:35:10.397Z"
   },
   {
    "duration": 11,
    "start_time": "2024-08-03T19:35:10.419Z"
   },
   {
    "duration": 16,
    "start_time": "2024-08-03T19:35:10.433Z"
   },
   {
    "duration": 42,
    "start_time": "2024-08-03T19:35:10.451Z"
   },
   {
    "duration": 15,
    "start_time": "2024-08-03T19:35:10.497Z"
   },
   {
    "duration": 17,
    "start_time": "2024-08-03T19:35:10.515Z"
   },
   {
    "duration": 56,
    "start_time": "2024-08-03T19:35:10.535Z"
   },
   {
    "duration": 1481,
    "start_time": "2024-08-03T19:35:10.594Z"
   },
   {
    "duration": 638,
    "start_time": "2024-08-03T19:35:12.078Z"
   },
   {
    "duration": 1162,
    "start_time": "2024-08-03T19:35:12.725Z"
   },
   {
    "duration": 296,
    "start_time": "2024-08-03T19:35:13.894Z"
   },
   {
    "duration": 97,
    "start_time": "2024-08-03T19:35:14.194Z"
   },
   {
    "duration": 4713,
    "start_time": "2024-08-03T19:35:14.294Z"
   },
   {
    "duration": 3584,
    "start_time": "2024-08-03T19:35:19.010Z"
   },
   {
    "duration": 109,
    "start_time": "2024-08-03T19:35:22.597Z"
   },
   {
    "duration": 8128,
    "start_time": "2024-08-03T19:35:22.719Z"
   },
   {
    "duration": 187,
    "start_time": "2024-08-03T19:35:30.851Z"
   },
   {
    "duration": 183,
    "start_time": "2024-08-03T19:35:31.041Z"
   },
   {
    "duration": 1399,
    "start_time": "2024-08-03T19:35:31.228Z"
   },
   {
    "duration": 613,
    "start_time": "2024-08-03T19:35:32.630Z"
   },
   {
    "duration": 56,
    "start_time": "2024-08-03T19:35:33.246Z"
   },
   {
    "duration": 545,
    "start_time": "2024-08-03T19:35:33.305Z"
   },
   {
    "duration": 0,
    "start_time": "2024-08-03T19:35:33.854Z"
   },
   {
    "duration": 30,
    "start_time": "2024-08-03T19:41:30.133Z"
   },
   {
    "duration": 1649,
    "start_time": "2024-08-03T19:41:35.581Z"
   },
   {
    "duration": 28,
    "start_time": "2024-08-03T19:41:37.233Z"
   },
   {
    "duration": 37,
    "start_time": "2024-08-03T19:41:37.264Z"
   },
   {
    "duration": 24,
    "start_time": "2024-08-03T19:41:37.304Z"
   },
   {
    "duration": 20,
    "start_time": "2024-08-03T19:41:37.334Z"
   },
   {
    "duration": 42,
    "start_time": "2024-08-03T19:41:37.359Z"
   },
   {
    "duration": 17,
    "start_time": "2024-08-03T19:41:37.404Z"
   },
   {
    "duration": 6,
    "start_time": "2024-08-03T19:41:37.424Z"
   },
   {
    "duration": 61,
    "start_time": "2024-08-03T19:41:37.433Z"
   },
   {
    "duration": 19,
    "start_time": "2024-08-03T19:41:37.497Z"
   },
   {
    "duration": 9,
    "start_time": "2024-08-03T19:41:37.519Z"
   },
   {
    "duration": 1523,
    "start_time": "2024-08-03T19:41:37.532Z"
   },
   {
    "duration": 562,
    "start_time": "2024-08-03T19:41:39.058Z"
   },
   {
    "duration": 1131,
    "start_time": "2024-08-03T19:41:39.626Z"
   },
   {
    "duration": 242,
    "start_time": "2024-08-03T19:41:40.761Z"
   },
   {
    "duration": 97,
    "start_time": "2024-08-03T19:41:41.006Z"
   },
   {
    "duration": 4685,
    "start_time": "2024-08-03T19:41:41.106Z"
   },
   {
    "duration": 3517,
    "start_time": "2024-08-03T19:41:45.795Z"
   },
   {
    "duration": 98,
    "start_time": "2024-08-03T19:41:49.393Z"
   },
   {
    "duration": 7801,
    "start_time": "2024-08-03T19:41:49.494Z"
   },
   {
    "duration": 159,
    "start_time": "2024-08-03T19:41:57.297Z"
   },
   {
    "duration": 161,
    "start_time": "2024-08-03T19:41:57.459Z"
   },
   {
    "duration": 1273,
    "start_time": "2024-08-03T19:41:57.623Z"
   },
   {
    "duration": 590,
    "start_time": "2024-08-03T19:41:58.899Z"
   },
   {
    "duration": 43,
    "start_time": "2024-08-03T19:41:59.492Z"
   },
   {
    "duration": 548,
    "start_time": "2024-08-03T19:41:59.538Z"
   },
   {
    "duration": 0,
    "start_time": "2024-08-03T19:42:00.088Z"
   },
   {
    "duration": 1695,
    "start_time": "2024-08-03T19:48:41.808Z"
   },
   {
    "duration": 27,
    "start_time": "2024-08-03T19:48:43.507Z"
   },
   {
    "duration": 19,
    "start_time": "2024-08-03T19:48:43.539Z"
   },
   {
    "duration": 48,
    "start_time": "2024-08-03T19:48:43.564Z"
   },
   {
    "duration": 20,
    "start_time": "2024-08-03T19:48:43.616Z"
   },
   {
    "duration": 13,
    "start_time": "2024-08-03T19:48:43.639Z"
   },
   {
    "duration": 19,
    "start_time": "2024-08-03T19:48:43.693Z"
   },
   {
    "duration": 6,
    "start_time": "2024-08-03T19:48:43.715Z"
   },
   {
    "duration": 15,
    "start_time": "2024-08-03T19:48:43.725Z"
   },
   {
    "duration": 57,
    "start_time": "2024-08-03T19:48:43.748Z"
   },
   {
    "duration": 10,
    "start_time": "2024-08-03T19:48:43.808Z"
   },
   {
    "duration": 1558,
    "start_time": "2024-08-03T19:48:43.821Z"
   },
   {
    "duration": 626,
    "start_time": "2024-08-03T19:48:45.382Z"
   },
   {
    "duration": 1170,
    "start_time": "2024-08-03T19:48:46.012Z"
   },
   {
    "duration": 227,
    "start_time": "2024-08-03T19:48:47.185Z"
   },
   {
    "duration": 97,
    "start_time": "2024-08-03T19:48:47.415Z"
   },
   {
    "duration": 4607,
    "start_time": "2024-08-03T19:48:47.592Z"
   },
   {
    "duration": 3790,
    "start_time": "2024-08-03T19:48:52.202Z"
   },
   {
    "duration": 99,
    "start_time": "2024-08-03T19:48:56.000Z"
   },
   {
    "duration": 7745,
    "start_time": "2024-08-03T19:48:56.108Z"
   },
   {
    "duration": 165,
    "start_time": "2024-08-03T19:49:03.856Z"
   },
   {
    "duration": 155,
    "start_time": "2024-08-03T19:49:04.024Z"
   },
   {
    "duration": 1275,
    "start_time": "2024-08-03T19:49:04.182Z"
   },
   {
    "duration": 589,
    "start_time": "2024-08-03T19:49:05.460Z"
   },
   {
    "duration": 54,
    "start_time": "2024-08-03T19:49:06.052Z"
   },
   {
    "duration": 510,
    "start_time": "2024-08-03T19:49:06.109Z"
   },
   {
    "duration": 5376,
    "start_time": "2024-08-05T18:29:14.233Z"
   },
   {
    "duration": 42,
    "start_time": "2024-08-05T18:29:19.613Z"
   },
   {
    "duration": 22,
    "start_time": "2024-08-05T18:29:19.658Z"
   },
   {
    "duration": 47,
    "start_time": "2024-08-05T18:29:19.685Z"
   },
   {
    "duration": 23,
    "start_time": "2024-08-05T18:29:19.735Z"
   },
   {
    "duration": 11,
    "start_time": "2024-08-05T18:29:19.760Z"
   },
   {
    "duration": 16,
    "start_time": "2024-08-05T18:29:19.774Z"
   },
   {
    "duration": 6,
    "start_time": "2024-08-05T18:29:19.833Z"
   },
   {
    "duration": 15,
    "start_time": "2024-08-05T18:29:19.842Z"
   },
   {
    "duration": 17,
    "start_time": "2024-08-05T18:29:19.862Z"
   },
   {
    "duration": 56,
    "start_time": "2024-08-05T18:29:19.882Z"
   },
   {
    "duration": 1579,
    "start_time": "2024-08-05T18:29:19.941Z"
   },
   {
    "duration": 615,
    "start_time": "2024-08-05T18:29:21.523Z"
   },
   {
    "duration": 1179,
    "start_time": "2024-08-05T18:29:22.141Z"
   },
   {
    "duration": 291,
    "start_time": "2024-08-05T18:29:23.341Z"
   },
   {
    "duration": 103,
    "start_time": "2024-08-05T18:29:23.635Z"
   },
   {
    "duration": 4614,
    "start_time": "2024-08-05T18:29:23.741Z"
   },
   {
    "duration": 3591,
    "start_time": "2024-08-05T18:29:28.359Z"
   },
   {
    "duration": 109,
    "start_time": "2024-08-05T18:29:31.959Z"
   },
   {
    "duration": 7441,
    "start_time": "2024-08-05T18:29:32.070Z"
   },
   {
    "duration": 167,
    "start_time": "2024-08-05T18:29:39.515Z"
   },
   {
    "duration": 152,
    "start_time": "2024-08-05T18:29:39.686Z"
   },
   {
    "duration": 1269,
    "start_time": "2024-08-05T18:29:39.841Z"
   },
   {
    "duration": 635,
    "start_time": "2024-08-05T18:29:41.113Z"
   },
   {
    "duration": 48,
    "start_time": "2024-08-05T18:29:41.753Z"
   },
   {
    "duration": 570,
    "start_time": "2024-08-05T18:29:41.807Z"
   },
   {
    "duration": 1528,
    "start_time": "2024-08-05T18:32:11.783Z"
   },
   {
    "duration": 31,
    "start_time": "2024-08-05T18:32:13.316Z"
   },
   {
    "duration": 21,
    "start_time": "2024-08-05T18:32:13.350Z"
   },
   {
    "duration": 24,
    "start_time": "2024-08-05T18:32:13.374Z"
   },
   {
    "duration": 45,
    "start_time": "2024-08-05T18:32:13.403Z"
   },
   {
    "duration": 11,
    "start_time": "2024-08-05T18:32:13.450Z"
   },
   {
    "duration": 15,
    "start_time": "2024-08-05T18:32:13.464Z"
   },
   {
    "duration": 5,
    "start_time": "2024-08-05T18:32:13.482Z"
   },
   {
    "duration": 14,
    "start_time": "2024-08-05T18:32:13.534Z"
   },
   {
    "duration": 18,
    "start_time": "2024-08-05T18:32:13.551Z"
   },
   {
    "duration": 10,
    "start_time": "2024-08-05T18:32:13.572Z"
   },
   {
    "duration": 1507,
    "start_time": "2024-08-05T18:32:13.585Z"
   },
   {
    "duration": 551,
    "start_time": "2024-08-05T18:32:15.095Z"
   },
   {
    "duration": 1140,
    "start_time": "2024-08-05T18:32:15.655Z"
   },
   {
    "duration": 249,
    "start_time": "2024-08-05T18:32:16.798Z"
   },
   {
    "duration": 101,
    "start_time": "2024-08-05T18:32:17.051Z"
   },
   {
    "duration": 4827,
    "start_time": "2024-08-05T18:32:17.155Z"
   },
   {
    "duration": 3253,
    "start_time": "2024-08-05T18:32:21.986Z"
   },
   {
    "duration": 94,
    "start_time": "2024-08-05T18:32:25.241Z"
   },
   {
    "duration": 7680,
    "start_time": "2024-08-05T18:32:25.338Z"
   },
   {
    "duration": 159,
    "start_time": "2024-08-05T18:32:33.021Z"
   },
   {
    "duration": 150,
    "start_time": "2024-08-05T18:32:33.183Z"
   },
   {
    "duration": 1242,
    "start_time": "2024-08-05T18:32:33.335Z"
   },
   {
    "duration": 653,
    "start_time": "2024-08-05T18:32:34.580Z"
   },
   {
    "duration": 47,
    "start_time": "2024-08-05T18:32:35.236Z"
   },
   {
    "duration": 547,
    "start_time": "2024-08-05T18:32:35.286Z"
   },
   {
    "duration": 0,
    "start_time": "2024-08-05T18:32:35.835Z"
   },
   {
    "duration": 0,
    "start_time": "2024-08-05T18:32:35.837Z"
   },
   {
    "duration": 1516,
    "start_time": "2024-08-05T18:35:44.093Z"
   },
   {
    "duration": 32,
    "start_time": "2024-08-05T18:35:45.613Z"
   },
   {
    "duration": 18,
    "start_time": "2024-08-05T18:35:45.649Z"
   },
   {
    "duration": 23,
    "start_time": "2024-08-05T18:35:45.671Z"
   },
   {
    "duration": 46,
    "start_time": "2024-08-05T18:35:45.696Z"
   },
   {
    "duration": 10,
    "start_time": "2024-08-05T18:35:45.746Z"
   },
   {
    "duration": 14,
    "start_time": "2024-08-05T18:35:45.759Z"
   },
   {
    "duration": 6,
    "start_time": "2024-08-05T18:35:45.776Z"
   },
   {
    "duration": 56,
    "start_time": "2024-08-05T18:35:45.786Z"
   },
   {
    "duration": 19,
    "start_time": "2024-08-05T18:35:45.848Z"
   },
   {
    "duration": 10,
    "start_time": "2024-08-05T18:35:45.869Z"
   },
   {
    "duration": 1524,
    "start_time": "2024-08-05T18:35:45.882Z"
   },
   {
    "duration": 577,
    "start_time": "2024-08-05T18:35:47.409Z"
   },
   {
    "duration": 1299,
    "start_time": "2024-08-05T18:35:47.994Z"
   },
   {
    "duration": 342,
    "start_time": "2024-08-05T18:35:49.296Z"
   },
   {
    "duration": 96,
    "start_time": "2024-08-05T18:35:49.640Z"
   },
   {
    "duration": 4783,
    "start_time": "2024-08-05T18:35:49.739Z"
   },
   {
    "duration": 3524,
    "start_time": "2024-08-05T18:35:54.525Z"
   },
   {
    "duration": 91,
    "start_time": "2024-08-05T18:35:58.052Z"
   },
   {
    "duration": 7544,
    "start_time": "2024-08-05T18:35:58.146Z"
   },
   {
    "duration": 158,
    "start_time": "2024-08-05T18:36:05.693Z"
   },
   {
    "duration": 148,
    "start_time": "2024-08-05T18:36:05.854Z"
   },
   {
    "duration": 1204,
    "start_time": "2024-08-05T18:36:06.005Z"
   },
   {
    "duration": 566,
    "start_time": "2024-08-05T18:36:07.213Z"
   },
   {
    "duration": 57,
    "start_time": "2024-08-05T18:36:07.783Z"
   },
   {
    "duration": 325,
    "start_time": "2024-08-05T18:36:07.843Z"
   },
   {
    "duration": 740,
    "start_time": "2024-08-05T18:36:08.171Z"
   },
   {
    "duration": 1574,
    "start_time": "2024-08-05T18:36:50.435Z"
   },
   {
    "duration": 34,
    "start_time": "2024-08-05T18:36:52.012Z"
   },
   {
    "duration": 17,
    "start_time": "2024-08-05T18:36:52.049Z"
   },
   {
    "duration": 25,
    "start_time": "2024-08-05T18:36:52.069Z"
   },
   {
    "duration": 45,
    "start_time": "2024-08-05T18:36:52.098Z"
   },
   {
    "duration": 12,
    "start_time": "2024-08-05T18:36:52.146Z"
   },
   {
    "duration": 15,
    "start_time": "2024-08-05T18:36:52.161Z"
   },
   {
    "duration": 6,
    "start_time": "2024-08-05T18:36:52.178Z"
   },
   {
    "duration": 59,
    "start_time": "2024-08-05T18:36:52.187Z"
   },
   {
    "duration": 18,
    "start_time": "2024-08-05T18:36:52.249Z"
   },
   {
    "duration": 9,
    "start_time": "2024-08-05T18:36:52.270Z"
   },
   {
    "duration": 1526,
    "start_time": "2024-08-05T18:36:52.283Z"
   },
   {
    "duration": 571,
    "start_time": "2024-08-05T18:36:53.812Z"
   },
   {
    "duration": 1214,
    "start_time": "2024-08-05T18:36:54.389Z"
   },
   {
    "duration": 244,
    "start_time": "2024-08-05T18:36:55.606Z"
   },
   {
    "duration": 95,
    "start_time": "2024-08-05T18:36:55.854Z"
   },
   {
    "duration": 4654,
    "start_time": "2024-08-05T18:36:55.952Z"
   },
   {
    "duration": 3233,
    "start_time": "2024-08-05T18:37:00.609Z"
   },
   {
    "duration": 93,
    "start_time": "2024-08-05T18:37:03.845Z"
   },
   {
    "duration": 7285,
    "start_time": "2024-08-05T18:37:03.940Z"
   },
   {
    "duration": 166,
    "start_time": "2024-08-05T18:37:11.233Z"
   },
   {
    "duration": 153,
    "start_time": "2024-08-05T18:37:11.401Z"
   },
   {
    "duration": 1574,
    "start_time": "2024-08-05T18:37:14.937Z"
   },
   {
    "duration": 30,
    "start_time": "2024-08-05T18:37:16.515Z"
   },
   {
    "duration": 18,
    "start_time": "2024-08-05T18:37:16.547Z"
   },
   {
    "duration": 23,
    "start_time": "2024-08-05T18:37:16.570Z"
   },
   {
    "duration": 49,
    "start_time": "2024-08-05T18:37:16.596Z"
   },
   {
    "duration": 11,
    "start_time": "2024-08-05T18:37:16.648Z"
   },
   {
    "duration": 15,
    "start_time": "2024-08-05T18:37:16.661Z"
   },
   {
    "duration": 6,
    "start_time": "2024-08-05T18:37:16.679Z"
   },
   {
    "duration": 55,
    "start_time": "2024-08-05T18:37:16.688Z"
   },
   {
    "duration": 16,
    "start_time": "2024-08-05T18:37:16.749Z"
   },
   {
    "duration": 10,
    "start_time": "2024-08-05T18:37:16.769Z"
   },
   {
    "duration": 1499,
    "start_time": "2024-08-05T18:37:16.782Z"
   },
   {
    "duration": 552,
    "start_time": "2024-08-05T18:37:18.285Z"
   },
   {
    "duration": 1152,
    "start_time": "2024-08-05T18:37:18.840Z"
   },
   {
    "duration": 250,
    "start_time": "2024-08-05T18:37:19.995Z"
   },
   {
    "duration": 95,
    "start_time": "2024-08-05T18:37:20.248Z"
   },
   {
    "duration": 4636,
    "start_time": "2024-08-05T18:37:20.346Z"
   },
   {
    "duration": 3256,
    "start_time": "2024-08-05T18:37:24.985Z"
   },
   {
    "duration": 102,
    "start_time": "2024-08-05T18:37:28.244Z"
   },
   {
    "duration": 7340,
    "start_time": "2024-08-05T18:37:28.349Z"
   },
   {
    "duration": 158,
    "start_time": "2024-08-05T18:37:35.692Z"
   },
   {
    "duration": 147,
    "start_time": "2024-08-05T18:37:35.853Z"
   },
   {
    "duration": 1187,
    "start_time": "2024-08-05T18:37:36.003Z"
   },
   {
    "duration": 567,
    "start_time": "2024-08-05T18:37:37.193Z"
   },
   {
    "duration": 42,
    "start_time": "2024-08-05T18:37:37.763Z"
   },
   {
    "duration": 304,
    "start_time": "2024-08-05T18:37:37.832Z"
   },
   {
    "duration": 235,
    "start_time": "2024-08-05T18:37:38.138Z"
   },
   {
    "duration": 5,
    "start_time": "2024-08-05T18:37:38.381Z"
   },
   {
    "duration": 1567,
    "start_time": "2024-08-05T18:42:47.719Z"
   },
   {
    "duration": 25,
    "start_time": "2024-08-05T18:42:49.290Z"
   },
   {
    "duration": 17,
    "start_time": "2024-08-05T18:42:49.332Z"
   },
   {
    "duration": 21,
    "start_time": "2024-08-05T18:42:49.352Z"
   },
   {
    "duration": 20,
    "start_time": "2024-08-05T18:42:49.377Z"
   },
   {
    "duration": 40,
    "start_time": "2024-08-05T18:42:49.400Z"
   },
   {
    "duration": 15,
    "start_time": "2024-08-05T18:42:49.443Z"
   },
   {
    "duration": 6,
    "start_time": "2024-08-05T18:42:49.461Z"
   },
   {
    "duration": 14,
    "start_time": "2024-08-05T18:42:49.470Z"
   },
   {
    "duration": 59,
    "start_time": "2024-08-05T18:42:49.487Z"
   },
   {
    "duration": 11,
    "start_time": "2024-08-05T18:42:49.550Z"
   },
   {
    "duration": 1537,
    "start_time": "2024-08-05T18:42:49.564Z"
   },
   {
    "duration": 586,
    "start_time": "2024-08-05T18:42:51.104Z"
   },
   {
    "duration": 1213,
    "start_time": "2024-08-05T18:42:51.696Z"
   },
   {
    "duration": 239,
    "start_time": "2024-08-05T18:42:52.912Z"
   },
   {
    "duration": 102,
    "start_time": "2024-08-05T18:42:53.153Z"
   },
   {
    "duration": 4681,
    "start_time": "2024-08-05T18:42:53.259Z"
   },
   {
    "duration": 3198,
    "start_time": "2024-08-05T18:42:57.943Z"
   },
   {
    "duration": 98,
    "start_time": "2024-08-05T18:43:01.147Z"
   },
   {
    "duration": 7324,
    "start_time": "2024-08-05T18:43:01.248Z"
   },
   {
    "duration": 153,
    "start_time": "2024-08-05T18:43:08.577Z"
   },
   {
    "duration": 146,
    "start_time": "2024-08-05T18:43:08.733Z"
   },
   {
    "duration": 1183,
    "start_time": "2024-08-05T18:43:08.882Z"
   },
   {
    "duration": 565,
    "start_time": "2024-08-05T18:43:10.068Z"
   },
   {
    "duration": 50,
    "start_time": "2024-08-05T18:43:10.635Z"
   },
   {
    "duration": 246,
    "start_time": "2024-08-05T18:43:10.689Z"
   },
   {
    "duration": 310,
    "start_time": "2024-08-05T18:43:10.939Z"
   },
   {
    "duration": 5,
    "start_time": "2024-08-05T18:43:11.252Z"
   },
   {
    "duration": 1602,
    "start_time": "2024-08-05T18:48:34.524Z"
   },
   {
    "duration": 24,
    "start_time": "2024-08-05T18:48:36.130Z"
   },
   {
    "duration": 18,
    "start_time": "2024-08-05T18:48:36.156Z"
   },
   {
    "duration": 23,
    "start_time": "2024-08-05T18:48:36.177Z"
   },
   {
    "duration": 17,
    "start_time": "2024-08-05T18:48:36.233Z"
   },
   {
    "duration": 10,
    "start_time": "2024-08-05T18:48:36.253Z"
   },
   {
    "duration": 17,
    "start_time": "2024-08-05T18:48:36.266Z"
   },
   {
    "duration": 4,
    "start_time": "2024-08-05T18:48:36.287Z"
   },
   {
    "duration": 52,
    "start_time": "2024-08-05T18:48:36.294Z"
   },
   {
    "duration": 17,
    "start_time": "2024-08-05T18:48:36.351Z"
   },
   {
    "duration": 11,
    "start_time": "2024-08-05T18:48:36.371Z"
   },
   {
    "duration": 1497,
    "start_time": "2024-08-05T18:48:36.384Z"
   },
   {
    "duration": 550,
    "start_time": "2024-08-05T18:48:37.885Z"
   },
   {
    "duration": 1150,
    "start_time": "2024-08-05T18:48:38.438Z"
   },
   {
    "duration": 253,
    "start_time": "2024-08-05T18:48:39.591Z"
   },
   {
    "duration": 94,
    "start_time": "2024-08-05T18:48:39.847Z"
   },
   {
    "duration": 4765,
    "start_time": "2024-08-05T18:48:39.944Z"
   },
   {
    "duration": 3227,
    "start_time": "2024-08-05T18:48:44.712Z"
   },
   {
    "duration": 94,
    "start_time": "2024-08-05T18:48:47.941Z"
   },
   {
    "duration": 7269,
    "start_time": "2024-08-05T18:48:48.038Z"
   },
   {
    "duration": 154,
    "start_time": "2024-08-05T18:48:55.310Z"
   },
   {
    "duration": 148,
    "start_time": "2024-08-05T18:48:55.467Z"
   },
   {
    "duration": 1164,
    "start_time": "2024-08-05T18:48:55.617Z"
   },
   {
    "duration": 568,
    "start_time": "2024-08-05T18:48:56.784Z"
   },
   {
    "duration": 43,
    "start_time": "2024-08-05T18:48:57.355Z"
   },
   {
    "duration": 5,
    "start_time": "2024-08-05T18:48:57.400Z"
   },
   {
    "duration": 211748,
    "start_time": "2024-08-05T18:48:57.432Z"
   },
   {
    "duration": 160059,
    "start_time": "2024-08-05T18:52:29.187Z"
   },
   {
    "duration": 255,
    "start_time": "2024-08-05T18:55:09.249Z"
   },
   {
    "duration": 694,
    "start_time": "2024-08-05T18:55:09.507Z"
   },
   {
    "duration": 0,
    "start_time": "2024-08-05T18:55:10.204Z"
   },
   {
    "duration": 1598,
    "start_time": "2024-08-05T18:56:26.521Z"
   },
   {
    "duration": 24,
    "start_time": "2024-08-05T18:56:28.123Z"
   },
   {
    "duration": 18,
    "start_time": "2024-08-05T18:56:28.151Z"
   },
   {
    "duration": 23,
    "start_time": "2024-08-05T18:56:28.171Z"
   },
   {
    "duration": 49,
    "start_time": "2024-08-05T18:56:28.198Z"
   },
   {
    "duration": 12,
    "start_time": "2024-08-05T18:56:28.250Z"
   },
   {
    "duration": 18,
    "start_time": "2024-08-05T18:56:28.265Z"
   },
   {
    "duration": 48,
    "start_time": "2024-08-05T18:56:28.286Z"
   },
   {
    "duration": 14,
    "start_time": "2024-08-05T18:56:28.337Z"
   },
   {
    "duration": 17,
    "start_time": "2024-08-05T18:56:28.354Z"
   },
   {
    "duration": 8,
    "start_time": "2024-08-05T18:56:28.374Z"
   },
   {
    "duration": 1511,
    "start_time": "2024-08-05T18:56:28.386Z"
   },
   {
    "duration": 553,
    "start_time": "2024-08-05T18:56:29.900Z"
   },
   {
    "duration": 1168,
    "start_time": "2024-08-05T18:56:30.459Z"
   },
   {
    "duration": 308,
    "start_time": "2024-08-05T18:56:31.633Z"
   },
   {
    "duration": 91,
    "start_time": "2024-08-05T18:56:31.950Z"
   },
   {
    "duration": 4583,
    "start_time": "2024-08-05T18:56:32.045Z"
   },
   {
    "duration": 3207,
    "start_time": "2024-08-05T18:56:36.631Z"
   },
   {
    "duration": 94,
    "start_time": "2024-08-05T18:56:39.842Z"
   },
   {
    "duration": 7346,
    "start_time": "2024-08-05T18:56:39.944Z"
   },
   {
    "duration": 169,
    "start_time": "2024-08-05T18:56:47.293Z"
   },
   {
    "duration": 147,
    "start_time": "2024-08-05T18:56:47.465Z"
   },
   {
    "duration": 1181,
    "start_time": "2024-08-05T18:56:47.615Z"
   },
   {
    "duration": 549,
    "start_time": "2024-08-05T18:56:48.799Z"
   },
   {
    "duration": 51,
    "start_time": "2024-08-05T18:56:49.352Z"
   },
   {
    "duration": 240,
    "start_time": "2024-08-05T18:56:49.408Z"
   },
   {
    "duration": 311,
    "start_time": "2024-08-05T18:56:49.651Z"
   },
   {
    "duration": 5,
    "start_time": "2024-08-05T19:03:22.632Z"
   },
   {
    "duration": 1523,
    "start_time": "2024-08-05T19:04:39.777Z"
   },
   {
    "duration": 30,
    "start_time": "2024-08-05T19:04:41.305Z"
   },
   {
    "duration": 24,
    "start_time": "2024-08-05T19:04:41.338Z"
   },
   {
    "duration": 22,
    "start_time": "2024-08-05T19:04:41.367Z"
   },
   {
    "duration": 52,
    "start_time": "2024-08-05T19:04:41.393Z"
   },
   {
    "duration": 10,
    "start_time": "2024-08-05T19:04:41.449Z"
   },
   {
    "duration": 16,
    "start_time": "2024-08-05T19:04:41.461Z"
   },
   {
    "duration": 6,
    "start_time": "2024-08-05T19:04:41.480Z"
   },
   {
    "duration": 57,
    "start_time": "2024-08-05T19:04:41.489Z"
   },
   {
    "duration": 17,
    "start_time": "2024-08-05T19:04:41.553Z"
   },
   {
    "duration": 11,
    "start_time": "2024-08-05T19:04:41.573Z"
   },
   {
    "duration": 1498,
    "start_time": "2024-08-05T19:04:41.587Z"
   },
   {
    "duration": 544,
    "start_time": "2024-08-05T19:04:43.088Z"
   },
   {
    "duration": 1160,
    "start_time": "2024-08-05T19:04:43.635Z"
   },
   {
    "duration": 255,
    "start_time": "2024-08-05T19:04:44.799Z"
   },
   {
    "duration": 100,
    "start_time": "2024-08-05T19:04:45.137Z"
   },
   {
    "duration": 4593,
    "start_time": "2024-08-05T19:04:45.240Z"
   },
   {
    "duration": 3199,
    "start_time": "2024-08-05T19:04:49.836Z"
   },
   {
    "duration": 101,
    "start_time": "2024-08-05T19:04:53.043Z"
   },
   {
    "duration": 7216,
    "start_time": "2024-08-05T19:04:53.152Z"
   },
   {
    "duration": 151,
    "start_time": "2024-08-05T19:05:00.370Z"
   },
   {
    "duration": 148,
    "start_time": "2024-08-05T19:05:00.524Z"
   },
   {
    "duration": 1203,
    "start_time": "2024-08-05T19:05:00.675Z"
   },
   {
    "duration": 564,
    "start_time": "2024-08-05T19:05:01.881Z"
   },
   {
    "duration": 44,
    "start_time": "2024-08-05T19:05:02.448Z"
   },
   {
    "duration": 5,
    "start_time": "2024-08-05T19:05:02.495Z"
   },
   {
    "duration": 106674,
    "start_time": "2024-08-05T19:05:02.532Z"
   },
   {
    "duration": 160971,
    "start_time": "2024-08-05T19:06:49.213Z"
   },
   {
    "duration": 608,
    "start_time": "2024-08-05T19:09:30.187Z"
   },
   {
    "duration": 0,
    "start_time": "2024-08-05T19:09:30.799Z"
   },
   {
    "duration": 0,
    "start_time": "2024-08-05T19:09:30.801Z"
   },
   {
    "duration": 26,
    "start_time": "2024-08-05T19:10:44.592Z"
   },
   {
    "duration": 1553,
    "start_time": "2024-08-05T19:11:02.243Z"
   },
   {
    "duration": 33,
    "start_time": "2024-08-05T19:11:03.800Z"
   },
   {
    "duration": 18,
    "start_time": "2024-08-05T19:11:03.836Z"
   },
   {
    "duration": 22,
    "start_time": "2024-08-05T19:11:03.858Z"
   },
   {
    "duration": 17,
    "start_time": "2024-08-05T19:11:03.883Z"
   },
   {
    "duration": 40,
    "start_time": "2024-08-05T19:11:03.902Z"
   },
   {
    "duration": 16,
    "start_time": "2024-08-05T19:11:03.945Z"
   },
   {
    "duration": 6,
    "start_time": "2024-08-05T19:11:03.964Z"
   },
   {
    "duration": 61,
    "start_time": "2024-08-05T19:11:03.973Z"
   },
   {
    "duration": 16,
    "start_time": "2024-08-05T19:11:04.040Z"
   },
   {
    "duration": 9,
    "start_time": "2024-08-05T19:11:04.060Z"
   },
   {
    "duration": 1544,
    "start_time": "2024-08-05T19:11:04.073Z"
   },
   {
    "duration": 591,
    "start_time": "2024-08-05T19:11:05.621Z"
   },
   {
    "duration": 1201,
    "start_time": "2024-08-05T19:11:06.216Z"
   },
   {
    "duration": 229,
    "start_time": "2024-08-05T19:11:07.421Z"
   },
   {
    "duration": 98,
    "start_time": "2024-08-05T19:11:07.654Z"
   },
   {
    "duration": 4669,
    "start_time": "2024-08-05T19:11:07.755Z"
   },
   {
    "duration": 3315,
    "start_time": "2024-08-05T19:11:12.426Z"
   },
   {
    "duration": 95,
    "start_time": "2024-08-05T19:11:15.744Z"
   },
   {
    "duration": 7303,
    "start_time": "2024-08-05T19:11:15.845Z"
   },
   {
    "duration": 160,
    "start_time": "2024-08-05T19:11:23.151Z"
   },
   {
    "duration": 154,
    "start_time": "2024-08-05T19:11:23.314Z"
   },
   {
    "duration": 1296,
    "start_time": "2024-08-05T19:11:23.471Z"
   },
   {
    "duration": 653,
    "start_time": "2024-08-05T19:11:24.770Z"
   },
   {
    "duration": 48,
    "start_time": "2024-08-05T19:11:25.426Z"
   },
   {
    "duration": 5,
    "start_time": "2024-08-05T19:11:25.477Z"
   },
   {
    "duration": 107828,
    "start_time": "2024-08-05T19:11:25.486Z"
   },
   {
    "duration": 160833,
    "start_time": "2024-08-05T19:13:13.321Z"
   },
   {
    "duration": 26,
    "start_time": "2024-08-05T19:15:54.158Z"
   },
   {
    "duration": 695,
    "start_time": "2024-08-05T19:15:54.187Z"
   },
   {
    "duration": 0,
    "start_time": "2024-08-05T19:15:54.885Z"
   },
   {
    "duration": 223,
    "start_time": "2024-08-05T19:18:07.287Z"
   },
   {
    "duration": 213,
    "start_time": "2024-08-05T19:18:18.485Z"
   },
   {
    "duration": 242,
    "start_time": "2024-08-05T19:18:43.738Z"
   },
   {
    "duration": 5170,
    "start_time": "2024-08-06T04:34:58.828Z"
   },
   {
    "duration": 41,
    "start_time": "2024-08-06T04:35:04.002Z"
   },
   {
    "duration": 17,
    "start_time": "2024-08-06T04:35:04.047Z"
   },
   {
    "duration": 21,
    "start_time": "2024-08-06T04:35:04.067Z"
   },
   {
    "duration": 41,
    "start_time": "2024-08-06T04:35:04.093Z"
   },
   {
    "duration": 11,
    "start_time": "2024-08-06T04:35:04.138Z"
   },
   {
    "duration": 17,
    "start_time": "2024-08-06T04:35:04.152Z"
   },
   {
    "duration": 5,
    "start_time": "2024-08-06T04:35:04.172Z"
   },
   {
    "duration": 59,
    "start_time": "2024-08-06T04:35:04.179Z"
   },
   {
    "duration": 19,
    "start_time": "2024-08-06T04:35:04.240Z"
   },
   {
    "duration": 10,
    "start_time": "2024-08-06T04:35:04.262Z"
   },
   {
    "duration": 1652,
    "start_time": "2024-08-06T04:35:04.275Z"
   },
   {
    "duration": 590,
    "start_time": "2024-08-06T04:35:05.930Z"
   },
   {
    "duration": 1175,
    "start_time": "2024-08-06T04:35:06.530Z"
   },
   {
    "duration": 242,
    "start_time": "2024-08-06T04:35:07.708Z"
   },
   {
    "duration": 94,
    "start_time": "2024-08-06T04:35:07.953Z"
   },
   {
    "duration": 4701,
    "start_time": "2024-08-06T04:35:08.050Z"
   },
   {
    "duration": 3185,
    "start_time": "2024-08-06T04:35:12.754Z"
   },
   {
    "duration": 99,
    "start_time": "2024-08-06T04:35:15.942Z"
   },
   {
    "duration": 7309,
    "start_time": "2024-08-06T04:35:16.044Z"
   },
   {
    "duration": 158,
    "start_time": "2024-08-06T04:35:23.355Z"
   },
   {
    "duration": 149,
    "start_time": "2024-08-06T04:35:23.517Z"
   },
   {
    "duration": 1320,
    "start_time": "2024-08-06T04:35:23.669Z"
   },
   {
    "duration": 603,
    "start_time": "2024-08-06T04:35:24.992Z"
   },
   {
    "duration": 62,
    "start_time": "2024-08-06T04:35:25.599Z"
   },
   {
    "duration": 5,
    "start_time": "2024-08-06T04:35:25.664Z"
   },
   {
    "duration": 106975,
    "start_time": "2024-08-06T04:35:25.671Z"
   },
   {
    "duration": 161485,
    "start_time": "2024-08-06T04:37:12.649Z"
   },
   {
    "duration": 29,
    "start_time": "2024-08-06T04:39:54.138Z"
   },
   {
    "duration": 240,
    "start_time": "2024-08-06T04:40:06.293Z"
   },
   {
    "duration": 26,
    "start_time": "2024-08-06T04:40:10.163Z"
   },
   {
    "duration": 47,
    "start_time": "2024-08-06T04:40:11.698Z"
   },
   {
    "duration": 32,
    "start_time": "2024-08-06T04:40:43.720Z"
   },
   {
    "duration": 8,
    "start_time": "2024-08-06T04:41:10.630Z"
   },
   {
    "duration": 7,
    "start_time": "2024-08-06T04:41:37.510Z"
   },
   {
    "duration": 26,
    "start_time": "2024-08-06T04:41:46.410Z"
   }
  ],
  "kernelspec": {
   "display_name": "Python 3 (ipykernel)",
   "language": "python",
   "name": "python3"
  },
  "language_info": {
   "codemirror_mode": {
    "name": "ipython",
    "version": 3
   },
   "file_extension": ".py",
   "mimetype": "text/x-python",
   "name": "python",
   "nbconvert_exporter": "python",
   "pygments_lexer": "ipython3",
   "version": "3.9.19"
  },
  "toc": {
   "base_numbering": 1,
   "nav_menu": {},
   "number_sections": true,
   "sideBar": true,
   "skip_h1_title": true,
   "title_cell": "Table of Contents",
   "title_sidebar": "Contents",
   "toc_cell": false,
   "toc_position": {
    "height": "calc(100% - 180px)",
    "left": "10px",
    "top": "150px",
    "width": "201px"
   },
   "toc_section_display": true,
   "toc_window_display": false
  }
 },
 "nbformat": 4,
 "nbformat_minor": 2
}
